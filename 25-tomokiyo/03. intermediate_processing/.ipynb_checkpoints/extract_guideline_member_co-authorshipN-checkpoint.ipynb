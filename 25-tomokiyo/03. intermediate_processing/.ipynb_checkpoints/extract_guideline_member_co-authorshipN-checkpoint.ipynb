{
 "cells": [
  {
   "cell_type": "markdown",
   "id": "5ed36672-866d-46ba-a9e1-066fbd809944",
   "metadata": {},
   "source": [
    "# 共著ネットワーク"
   ]
  },
  {
   "cell_type": "code",
   "execution_count": 12,
   "id": "08825433-d0db-4e2e-ab2c-366a9918919a",
   "metadata": {
    "execution": {
     "iopub.execute_input": "2025-01-11T14:17:44.081140Z",
     "iopub.status.busy": "2025-01-11T14:17:44.080633Z",
     "iopub.status.idle": "2025-01-11T14:17:45.536377Z",
     "shell.execute_reply": "2025-01-11T14:17:45.535798Z",
     "shell.execute_reply.started": "2025-01-11T14:17:44.081122Z"
    }
   },
   "outputs": [],
   "source": [
    "import pandas as pd\n",
    "import numpy as np\n",
    "import matplotlib.pyplot as plt\n",
    "pd.options.display.max_rows = 100\n",
    "pd.options.display.max_colwidth = None\n",
    "import pickle\n",
    "from tqdm import tqdm\n",
    "import seaborn as sns\n",
    "import os, sys, gc, random, itertools, math, pickle\n",
    "from itertools import combinations\n",
    "import networkx as nx\n"
   ]
  },
  {
   "cell_type": "code",
   "execution_count": 116,
   "id": "be4f511d-8fd3-4a5d-8780-7d1c97008584",
   "metadata": {
    "execution": {
     "iopub.execute_input": "2025-01-13T09:33:36.897551Z",
     "iopub.status.busy": "2025-01-13T09:33:36.897142Z",
     "iopub.status.idle": "2025-01-13T09:33:36.904942Z",
     "shell.execute_reply": "2025-01-13T09:33:36.904521Z",
     "shell.execute_reply.started": "2025-01-13T09:33:36.897533Z"
    }
   },
   "outputs": [],
   "source": [
    "authid_12 = np.load('/disks/qnap3/users/21-tomokiyo/masters_thesis/data/guideline_paper/member_data/2021/A1.2_who_guideline_development_group.npy')\n",
    "authid_13 = np.load('/disks/qnap3/users/21-tomokiyo/masters_thesis/data/guideline_paper/member_data/A1.3_who_systematic_review_team_revise.npy')\n",
    "#authid_13 = np.load('/disks/qnap3/users/21-tomokiyo/masters_thesis/data/guideline_paper/member_data/2021/A1.3_who_systematic_review_team.npy')\n",
    "\n",
    "authid_14 = np.load('/disks/qnap3/users/21-tomokiyo/masters_thesis/data/guideline_paper/member_data/2021/A1.4_who_external_methodologists.npy')\n",
    "# authid_15 = np.load('/disks/qnap3/users/21-tomokiyo/masters_thesis/data/guideline_paper/member_data/2021/A1.5_who_external_review_team.npy')\n",
    "authid_15 = np.load('//disks/qnap3/users/21-tomokiyo/masters_thesis/data/guideline_paper/member_data/A1.5_who_external_review_team_revise.npy')\n",
    "\n",
    "\n",
    "boardmember_authid = list(authid_12)+list(authid_13)+list(authid_14)+list(authid_15)"
   ]
  },
  {
   "cell_type": "code",
   "execution_count": 3,
   "id": "db739ac0-d9ea-424e-a70e-96741c38862a",
   "metadata": {
    "execution": {
     "iopub.execute_input": "2025-01-11T14:13:01.598646Z",
     "iopub.status.busy": "2025-01-11T14:13:01.593162Z",
     "iopub.status.idle": "2025-01-11T14:14:38.913035Z",
     "shell.execute_reply": "2025-01-11T14:14:38.912147Z",
     "shell.execute_reply.started": "2025-01-11T14:13:01.598151Z"
    }
   },
   "outputs": [],
   "source": [
    "authids_df = pd.read_pickle('/disks/qnap3/shared/scopus-24/data/paper/authids.pickle')\n",
    "authids_df = pd.DataFrame(authids_df)\n",
    "authids_df.reset_index(inplace=True)\n",
    "authids_df.rename(columns={'index':'eid'},inplace=True)"
   ]
  },
  {
   "cell_type": "code",
   "execution_count": 21,
   "id": "0816cb0d-421e-4689-93ac-50b3ff93e229",
   "metadata": {
    "execution": {
     "iopub.execute_input": "2025-01-11T14:28:02.279685Z",
     "iopub.status.busy": "2025-01-11T14:28:02.278419Z",
     "iopub.status.idle": "2025-01-11T14:28:05.449164Z",
     "shell.execute_reply": "2025-01-11T14:28:05.448137Z",
     "shell.execute_reply.started": "2025-01-11T14:28:02.279656Z"
    }
   },
   "outputs": [],
   "source": [
    "year_df = pd.read_pickle('/disks/qnap3/shared/scopus-24/data/paper/year.pickle')\n",
    "year_df = pd.DataFrame(year_df)\n",
    "year_df.reset_index(inplace=True)\n",
    "year_df.rename(columns={'index':'eid'},inplace=True)"
   ]
  },
  {
   "cell_type": "code",
   "execution_count": 4,
   "id": "264f8079-ea3f-428d-8be3-fc68dc229c4a",
   "metadata": {
    "execution": {
     "iopub.execute_input": "2025-01-11T14:14:38.914686Z",
     "iopub.status.busy": "2025-01-11T14:14:38.914459Z",
     "iopub.status.idle": "2025-01-11T14:15:25.183132Z",
     "shell.execute_reply": "2025-01-11T14:15:25.182448Z",
     "shell.execute_reply.started": "2025-01-11T14:14:38.914670Z"
    }
   },
   "outputs": [],
   "source": [
    "authids_explode_df = authids_df.explode('authids')\n"
   ]
  },
  {
   "cell_type": "code",
   "execution_count": 6,
   "id": "99f1ce49-0ec2-4785-b04f-a0101d8ff7fa",
   "metadata": {
    "execution": {
     "iopub.execute_input": "2025-01-11T14:15:32.658879Z",
     "iopub.status.busy": "2025-01-11T14:15:32.658466Z",
     "iopub.status.idle": "2025-01-11T14:15:50.920029Z",
     "shell.execute_reply": "2025-01-11T14:15:50.919400Z",
     "shell.execute_reply.started": "2025-01-11T14:15:32.658858Z"
    }
   },
   "outputs": [],
   "source": [
    "target_eid = authids_explode_df[authids_explode_df['authids'].isin(boradmember_authid)]['eid'].unique()"
   ]
  },
  {
   "cell_type": "code",
   "execution_count": 7,
   "id": "79e637ce-eeda-4248-b78d-a17ab8ae1ebf",
   "metadata": {
    "execution": {
     "iopub.execute_input": "2025-01-11T14:15:50.921231Z",
     "iopub.status.busy": "2025-01-11T14:15:50.921023Z",
     "iopub.status.idle": "2025-01-11T14:15:52.014946Z",
     "shell.execute_reply": "2025-01-11T14:15:52.014296Z",
     "shell.execute_reply.started": "2025-01-11T14:15:50.921217Z"
    }
   },
   "outputs": [],
   "source": [
    "target_authids_df = authids_df[authids_df['eid'].isin(target_eid)]"
   ]
  },
  {
   "cell_type": "code",
   "execution_count": 22,
   "id": "d53b22dd-2444-4544-a671-1b42361737f2",
   "metadata": {
    "execution": {
     "iopub.execute_input": "2025-01-11T14:28:50.515041Z",
     "iopub.status.busy": "2025-01-11T14:28:50.514608Z",
     "iopub.status.idle": "2025-01-11T14:29:18.801255Z",
     "shell.execute_reply": "2025-01-11T14:29:18.800556Z",
     "shell.execute_reply.started": "2025-01-11T14:28:50.515021Z"
    }
   },
   "outputs": [],
   "source": [
    "target_authids_df = pd.merge(target_authids_df, year_df, on='eid', how='left')"
   ]
  },
  {
   "cell_type": "code",
   "execution_count": 23,
   "id": "adae5b32-82ab-4757-be4c-a3d72332d4d1",
   "metadata": {
    "execution": {
     "iopub.execute_input": "2025-01-11T14:30:45.957069Z",
     "iopub.status.busy": "2025-01-11T14:30:45.956645Z",
     "iopub.status.idle": "2025-01-11T14:30:46.020323Z",
     "shell.execute_reply": "2025-01-11T14:30:46.019673Z",
     "shell.execute_reply.started": "2025-01-11T14:30:45.957050Z"
    }
   },
   "outputs": [],
   "source": [
    "# 値を置き換える関数を定義\n",
    "def replace_values(authid_list):\n",
    "    return [35780677200 if x == 7006806977 else 57206422848 if x == 54791745100  else 57219144066 if x == 55588756600  else 57219144066 if x == 57191727610  else 57219144066 if x == 14037485900 else x for x in authid_list]\n",
    "\n",
    "# authids列に適用\n",
    "target_authids_df['authids'] = target_authids_df['authids'].apply(replace_values)"
   ]
  },
  {
   "cell_type": "code",
   "execution_count": 24,
   "id": "df8269a7-5e9b-4079-a1eb-f417ce8721af",
   "metadata": {
    "execution": {
     "iopub.execute_input": "2025-01-11T14:30:47.005867Z",
     "iopub.status.busy": "2025-01-11T14:30:47.005475Z",
     "iopub.status.idle": "2025-01-11T14:30:47.014111Z",
     "shell.execute_reply": "2025-01-11T14:30:47.013638Z",
     "shell.execute_reply.started": "2025-01-11T14:30:47.005850Z"
    }
   },
   "outputs": [
    {
     "data": {
      "text/html": [
       "<div>\n",
       "<style scoped>\n",
       "    .dataframe tbody tr th:only-of-type {\n",
       "        vertical-align: middle;\n",
       "    }\n",
       "\n",
       "    .dataframe tbody tr th {\n",
       "        vertical-align: top;\n",
       "    }\n",
       "\n",
       "    .dataframe thead th {\n",
       "        text-align: right;\n",
       "    }\n",
       "</style>\n",
       "<table border=\"1\" class=\"dataframe\">\n",
       "  <thead>\n",
       "    <tr style=\"text-align: right;\">\n",
       "      <th></th>\n",
       "      <th>eid</th>\n",
       "      <th>authids</th>\n",
       "      <th>year</th>\n",
       "    </tr>\n",
       "  </thead>\n",
       "  <tbody>\n",
       "    <tr>\n",
       "      <th>0</th>\n",
       "      <td>107793</td>\n",
       "      <td>[7006131104, 7102294773, 7005693696, 55968390200, 56920788800]</td>\n",
       "      <td>2001</td>\n",
       "    </tr>\n",
       "    <tr>\n",
       "      <th>1</th>\n",
       "      <td>176024</td>\n",
       "      <td>[35207209200, 35207209200, 7410184308, 7410184308, 35301101400, 7404700014, 7005491937, 57197605067, 25930906600, 7201888912, 6507838545]</td>\n",
       "      <td>1999</td>\n",
       "    </tr>\n",
       "    <tr>\n",
       "      <th>2</th>\n",
       "      <td>238404</td>\n",
       "      <td>[35207209200, 35207209200, 7410184308, 7410184308, 35301101400, 7404700014, 7005491937, 57197605067, 25930906600, 7201888912, 6507838545]</td>\n",
       "      <td>1999</td>\n",
       "    </tr>\n",
       "    <tr>\n",
       "      <th>3</th>\n",
       "      <td>273101</td>\n",
       "      <td>[6604043025, 23047979300, 7410000833, 7202704991, 7202943455, 23046215400, 6701380218, 57206155893, 7102623710]</td>\n",
       "      <td>1977</td>\n",
       "    </tr>\n",
       "    <tr>\n",
       "      <th>4</th>\n",
       "      <td>332071</td>\n",
       "      <td>[15921073500, 7005586715, 7201804950, 6602731348, 6603940133]</td>\n",
       "      <td>1991</td>\n",
       "    </tr>\n",
       "  </tbody>\n",
       "</table>\n",
       "</div>"
      ],
      "text/plain": [
       "      eid  \\\n",
       "0  107793   \n",
       "1  176024   \n",
       "2  238404   \n",
       "3  273101   \n",
       "4  332071   \n",
       "\n",
       "                                                                                                                                     authids  \\\n",
       "0                                                                             [7006131104, 7102294773, 7005693696, 55968390200, 56920788800]   \n",
       "1  [35207209200, 35207209200, 7410184308, 7410184308, 35301101400, 7404700014, 7005491937, 57197605067, 25930906600, 7201888912, 6507838545]   \n",
       "2  [35207209200, 35207209200, 7410184308, 7410184308, 35301101400, 7404700014, 7005491937, 57197605067, 25930906600, 7201888912, 6507838545]   \n",
       "3                            [6604043025, 23047979300, 7410000833, 7202704991, 7202943455, 23046215400, 6701380218, 57206155893, 7102623710]   \n",
       "4                                                                              [15921073500, 7005586715, 7201804950, 6602731348, 6603940133]   \n",
       "\n",
       "   year  \n",
       "0  2001  \n",
       "1  1999  \n",
       "2  1999  \n",
       "3  1977  \n",
       "4  1991  "
      ]
     },
     "execution_count": 24,
     "metadata": {},
     "output_type": "execute_result"
    }
   ],
   "source": [
    "target_authids_df.head()"
   ]
  },
  {
   "cell_type": "code",
   "execution_count": 81,
   "id": "759ee0a8-afea-4aef-9d52-08451c5b19c2",
   "metadata": {
    "execution": {
     "iopub.execute_input": "2025-01-11T14:38:26.755683Z",
     "iopub.status.busy": "2025-01-11T14:38:26.755281Z",
     "iopub.status.idle": "2025-01-11T14:38:26.761969Z",
     "shell.execute_reply": "2025-01-11T14:38:26.761557Z",
     "shell.execute_reply.started": "2025-01-11T14:38:26.755664Z"
    }
   },
   "outputs": [],
   "source": [
    "year = 2022\n",
    "target_authids_df1 = target_authids_df[(target_authids_df['year']<=2021)]"
   ]
  },
  {
   "cell_type": "code",
   "execution_count": 82,
   "id": "f7be4ebd-a425-4f67-b381-3d7cb21069de",
   "metadata": {
    "execution": {
     "iopub.execute_input": "2025-01-11T14:38:28.290276Z",
     "iopub.status.busy": "2025-01-11T14:38:28.289924Z",
     "iopub.status.idle": "2025-01-11T14:39:31.805564Z",
     "shell.execute_reply": "2025-01-11T14:39:31.804942Z",
     "shell.execute_reply.started": "2025-01-11T14:38:28.290257Z"
    }
   },
   "outputs": [
    {
     "name": "stderr",
     "output_type": "stream",
     "text": [
      "100%|████████████████████████████████████| 15361/15361 [01:03<00:00, 241.87it/s]\n"
     ]
    }
   ],
   "source": [
    "# 共著ネットワークの作成\n",
    "G1 = nx.Graph()\n",
    "\n",
    "# 各論文に対して、共著者のペアを作成\n",
    "for _, row in tqdm(target_authids_df1.iterrows(), total=len(target_authids_df1)):\n",
    "    authids = row['authids']\n",
    "    # 2人の著者が共著の場合、ペアを作成してネットワークに追加\n",
    "    for auth1, auth2 in combinations(authids, 2):\n",
    "        if auth1 != auth2:\n",
    "            if G1.has_edge(auth1, auth2):\n",
    "                G1[auth1][auth2]['weight'] += 1  # 既にエッジがあれば、重みを増加\n",
    "            else:\n",
    "                G1.add_edge(auth1, auth2, weight=1)\n",
    "        else:\n",
    "            continue\n",
    "\n",
    "# Pickle形式で保存\n",
    "# with open(\"/disks/qnap3/users/21-tomokiyo/masters_thesis/data/guideline_paper/co-author_network_2021/2021_coauthor_network_G_revise.pkl\", \"wb\") as f:\n",
    "#     pickle.dump(G1, f)"
   ]
  },
  {
   "cell_type": "code",
   "execution_count": null,
   "id": "d1818646-df22-465b-99ed-b7b6f1d51da6",
   "metadata": {},
   "outputs": [],
   "source": []
  },
  {
   "cell_type": "code",
   "execution_count": 83,
   "id": "4ac47146-9b3e-4471-87fd-7134cc8b4471",
   "metadata": {
    "execution": {
     "iopub.execute_input": "2025-01-11T14:39:35.501982Z",
     "iopub.status.busy": "2025-01-11T14:39:35.501544Z",
     "iopub.status.idle": "2025-01-11T14:39:35.675958Z",
     "shell.execute_reply": "2025-01-11T14:39:35.675469Z",
     "shell.execute_reply.started": "2025-01-11T14:39:35.501957Z"
    }
   },
   "outputs": [],
   "source": [
    "remove_nodes = []\n",
    "\n",
    "for node in G1.nodes():\n",
    "    if node not in boradmember_authid:\n",
    "        remove_nodes.append(node)"
   ]
  },
  {
   "cell_type": "code",
   "execution_count": 84,
   "id": "b10a20e4-c5ab-4bbc-9ed1-91c1ea1b5ca7",
   "metadata": {
    "execution": {
     "iopub.execute_input": "2025-01-11T14:39:35.917934Z",
     "iopub.status.busy": "2025-01-11T14:39:35.917711Z",
     "iopub.status.idle": "2025-01-11T14:39:46.943342Z",
     "shell.execute_reply": "2025-01-11T14:39:46.942410Z",
     "shell.execute_reply.started": "2025-01-11T14:39:35.917919Z"
    }
   },
   "outputs": [],
   "source": [
    "G1.remove_nodes_from(remove_nodes)"
   ]
  },
  {
   "cell_type": "code",
   "execution_count": 85,
   "id": "a1e0eae4-5d10-44c6-8984-2127922291f9",
   "metadata": {
    "execution": {
     "iopub.execute_input": "2025-01-11T14:39:46.945458Z",
     "iopub.status.busy": "2025-01-11T14:39:46.945202Z",
     "iopub.status.idle": "2025-01-11T14:39:47.313269Z",
     "shell.execute_reply": "2025-01-11T14:39:47.312791Z",
     "shell.execute_reply.started": "2025-01-11T14:39:46.945441Z"
    }
   },
   "outputs": [
    {
     "data": {
      "image/png": "[encoded data removed]",
      "text/plain": [
       "<Figure size 600x600 with 1 Axes>"
      ]
     },
     "metadata": {},
     "output_type": "display_data"
    }
   ],
   "source": [
    "import networkx as nx\n",
    "import matplotlib.pyplot as plt\n",
    "import matplotlib.patches as mpatches\n",
    "\n",
    "import math\n",
    "\n",
    "# 最大連結成分を取得\n",
    "largest_cc = max(nx.connected_components(G1), key=len)\n",
    "subgraph = G1.subgraph(largest_cc)\n",
    "\n",
    "# Kamada-Kawaiレイアウトで最大連結成分の位置を計算\n",
    "pos = nx.kamada_kawai_layout(subgraph)\n",
    "\n",
    "# 孤立ノードを最大連結成分の外側に配置 (例: 円周上)\n",
    "\n",
    "# isolated_nodes = [n for n in G.nodes() if nx.is_isolate(G, n)]\n",
    "isolated_nodes = [n for n in G1.nodes() if n not in subgraph.nodes()]\n",
    "\n",
    "\n",
    "num_isolated = len(isolated_nodes)\n",
    "radius = 1.2  # 外側の円の半径\n",
    "for i, node in enumerate(isolated_nodes):\n",
    "    angle = 2 * math.pi * i / num_isolated  # 等間隔の角度を計算\n",
    "    x = radius * math.cos(angle)  # x座標\n",
    "    y = radius * math.sin(angle)  # y座標\n",
    "    pos[node] = (x, y)\n",
    "\n",
    "fig, ax = plt.subplots(figsize=(6, 6))\n",
    "\n",
    "\n",
    "node_colors = []\n",
    "for c in G1.nodes():\n",
    "    if c in authid_12:\n",
    "        node_colors.append('blue')\n",
    "    elif c in authid_13:\n",
    "        node_colors.append('green')\n",
    "    elif c in authid_14:\n",
    "        node_colors.append('brown')\n",
    "    elif c in authid_15:\n",
    "        node_colors.append('red')\n",
    "    else:\n",
    "        print(c)\n",
    "        node_colors.append('gray')\n",
    "\n",
    "\n",
    "# color_map = {\n",
    "#     'blue':'guideline development group',\n",
    "#     'green':'systematic review team',\n",
    "#     'brown':'external methodologists',\n",
    "#     'red':'external review group -individual experts'\n",
    "# }\n",
    "      \n",
    "\n",
    "\n",
    "# グラフを描画\n",
    "nx.draw(\n",
    "    G1, pos, node_color=node_colors, node_size=8, width=0.055,ax=ax\n",
    ")\n",
    "plt.title(f\"WHO guideline(2021) boardmember co-authorship network_only{year}\")\n",
    "\n",
    "# # 凡例を作成\n",
    "legend_patches = [mpatches.Patch(color='blue', label='guideline development group'),\n",
    "                  mpatches.Patch(color='green', label='systematic review team'),\n",
    "                  mpatches.Patch(color='brown', label='external methodologists'),\n",
    "                  mpatches.Patch(color='red', label='external review group')\n",
    "                  ]\n",
    "# plt.title('\"airborne particulate\"', x=0.5, y=-0.0025, fontsize=16)\n",
    "plt.legend(handles=legend_patches,  bbox_to_anchor=(0.95,0.95), fontsize=16, frameon=False)\n",
    "\n",
    "plt.show()"
   ]
  },
  {
   "cell_type": "code",
   "execution_count": 86,
   "id": "20483f25-99c3-4c4e-9d89-10d777358f3f",
   "metadata": {
    "execution": {
     "iopub.execute_input": "2025-01-11T14:39:48.171415Z",
     "iopub.status.busy": "2025-01-11T14:39:48.170970Z",
     "iopub.status.idle": "2025-01-11T14:39:48.183735Z",
     "shell.execute_reply": "2025-01-11T14:39:48.183273Z",
     "shell.execute_reply.started": "2025-01-11T14:39:48.171387Z"
    }
   },
   "outputs": [],
   "source": [
    "# # Pickle形式で保存\n",
    "# with open(f\"/disks/qnap3/users/21-tomokiyo/masters_thesis/data/guideline_paper/co-author_network_2021/revise_0111/only_co_author_network_G_before2021.pkl\", \"wb\") as f:\n",
    "#     pickle.dump(G1, f)"
   ]
  },
  {
   "cell_type": "code",
   "execution_count": null,
   "id": "6aedc6cc-8f18-451a-815c-d9943fad4eb7",
   "metadata": {},
   "outputs": [],
   "source": []
  },
  {
   "cell_type": "code",
   "execution_count": null,
   "id": "0b6cc54b-60b5-48d5-a537-178e9d11b326",
   "metadata": {},
   "outputs": [],
   "source": []
  },
  {
   "cell_type": "markdown",
   "id": "a5d6af05-881f-429b-a62e-36a63eac308e",
   "metadata": {},
   "source": [
    "### 共著者の共著ネットワーク"
   ]
  },
  {
   "cell_type": "code",
   "execution_count": 88,
   "id": "db648349-58e4-437f-bb06-3ad0db6f2444",
   "metadata": {
    "execution": {
     "iopub.execute_input": "2025-01-11T14:43:44.045432Z",
     "iopub.status.busy": "2025-01-11T14:43:44.045031Z",
     "iopub.status.idle": "2025-01-11T14:43:46.537305Z",
     "shell.execute_reply": "2025-01-11T14:43:46.536621Z",
     "shell.execute_reply.started": "2025-01-11T14:43:44.045414Z"
    }
   },
   "outputs": [],
   "source": [
    "coauthor_authids = authids_explode_df[authids_explode_df['eid'].isin(target_eid)]['authids'].unique()"
   ]
  },
  {
   "cell_type": "code",
   "execution_count": 90,
   "id": "57482496-2f1c-47f4-9e7e-164fd697baec",
   "metadata": {
    "execution": {
     "iopub.execute_input": "2025-01-11T14:43:51.540532Z",
     "iopub.status.busy": "2025-01-11T14:43:51.540077Z",
     "iopub.status.idle": "2025-01-11T14:43:51.544687Z",
     "shell.execute_reply": "2025-01-11T14:43:51.544197Z",
     "shell.execute_reply.started": "2025-01-11T14:43:51.540513Z"
    }
   },
   "outputs": [
    {
     "data": {
      "text/plain": [
       "72778"
      ]
     },
     "execution_count": 90,
     "metadata": {},
     "output_type": "execute_result"
    }
   ],
   "source": [
    "len(coauthor_authids)"
   ]
  },
  {
   "cell_type": "code",
   "execution_count": null,
   "id": "fe9809a6-8f1a-4e70-a8eb-e1a2db981c63",
   "metadata": {},
   "outputs": [],
   "source": []
  },
  {
   "cell_type": "code",
   "execution_count": 97,
   "id": "9c01e9c3-761e-46ba-a741-57176bc77d14",
   "metadata": {
    "execution": {
     "iopub.execute_input": "2025-01-13T04:31:00.480908Z",
     "iopub.status.busy": "2025-01-13T04:31:00.480457Z",
     "iopub.status.idle": "2025-01-13T04:31:26.479195Z",
     "shell.execute_reply": "2025-01-13T04:31:26.478368Z",
     "shell.execute_reply.started": "2025-01-13T04:31:00.480884Z"
    }
   },
   "outputs": [],
   "source": [
    "co_coauthor_eid = authids_explode_df[authids_explode_df['authids'].isin(coauthor_authids)]['eid'].unique()"
   ]
  },
  {
   "cell_type": "code",
   "execution_count": null,
   "id": "30133761-189c-4ffd-a364-6e67a1622817",
   "metadata": {},
   "outputs": [],
   "source": []
  },
  {
   "cell_type": "code",
   "execution_count": 98,
   "id": "808e91d9-607c-4d63-b095-1bdf7a6eaf22",
   "metadata": {
    "execution": {
     "iopub.execute_input": "2025-01-13T04:33:37.249762Z",
     "iopub.status.busy": "2025-01-13T04:33:37.249351Z",
     "iopub.status.idle": "2025-01-13T04:33:42.264680Z",
     "shell.execute_reply": "2025-01-13T04:33:42.263919Z",
     "shell.execute_reply.started": "2025-01-13T04:33:37.249744Z"
    }
   },
   "outputs": [],
   "source": [
    "df_auth_cocoauthors = authids_df[authids_df['eid'].isin(co_coauthor_eid)]"
   ]
  },
  {
   "cell_type": "code",
   "execution_count": 99,
   "id": "005bed3d-fabd-4371-a36b-4ca406024570",
   "metadata": {
    "execution": {
     "iopub.execute_input": "2025-01-13T04:33:42.266023Z",
     "iopub.status.busy": "2025-01-13T04:33:42.265807Z",
     "iopub.status.idle": "2025-01-13T04:33:42.269501Z",
     "shell.execute_reply": "2025-01-13T04:33:42.269090Z",
     "shell.execute_reply.started": "2025-01-13T04:33:42.266008Z"
    }
   },
   "outputs": [
    {
     "data": {
      "text/plain": [
       "(3441313, 2)"
      ]
     },
     "execution_count": 99,
     "metadata": {},
     "output_type": "execute_result"
    }
   ],
   "source": [
    "df_auth_cocoauthors.shape"
   ]
  },
  {
   "cell_type": "code",
   "execution_count": 100,
   "id": "292223a0-9beb-4851-8c0d-1b258a850a10",
   "metadata": {
    "execution": {
     "iopub.execute_input": "2025-01-13T04:34:21.230405Z",
     "iopub.status.busy": "2025-01-13T04:34:21.229979Z",
     "iopub.status.idle": "2025-01-13T04:34:28.846824Z",
     "shell.execute_reply": "2025-01-13T04:34:28.846267Z",
     "shell.execute_reply.started": "2025-01-13T04:34:21.230385Z"
    }
   },
   "outputs": [
    {
     "name": "stderr",
     "output_type": "stream",
     "text": [
      "/tmp/ipykernel_1975693/2134641590.py:6: SettingWithCopyWarning: \n",
      "A value is trying to be set on a copy of a slice from a DataFrame.\n",
      "Try using .loc[row_indexer,col_indexer] = value instead\n",
      "\n",
      "See the caveats in the documentation: https://pandas.pydata.org/pandas-docs/stable/user_guide/indexing.html#returning-a-view-versus-a-copy\n",
      "  df_auth_cocoauthors['authids'] = df_auth_cocoauthors['authids'].apply(replace_values)\n"
     ]
    }
   ],
   "source": [
    "# 値を置き換える関数を定義\n",
    "def replace_values(authid_list):\n",
    "    return [35780677200 if x == 7006806977 else 57206422848 if x == 54791745100  else 57219144066 if x == 55588756600  else 57219144066 if x == 57191727610  else 57219144066 if x == 14037485900 else x for x in authid_list]\n",
    "\n",
    "# authids列に適用\n",
    "df_auth_cocoauthors['authids'] = df_auth_cocoauthors['authids'].apply(replace_values)"
   ]
  },
  {
   "cell_type": "code",
   "execution_count": null,
   "id": "6e0dcc1c-4984-4b54-890e-eb30f6f53b71",
   "metadata": {
    "execution": {
     "iopub.execute_input": "2025-01-13T04:34:41.099084Z",
     "iopub.status.busy": "2025-01-13T04:34:41.098631Z"
    }
   },
   "outputs": [
    {
     "name": "stderr",
     "output_type": "stream",
     "text": [
      " 54%|████████████████▊              | 1866670/3441313 [51:17<24:51, 1055.68it/s]"
     ]
    }
   ],
   "source": [
    "# 共著ネットワークの作成\n",
    "G2 = nx.Graph()\n",
    "\n",
    "# 各論文に対して、共著者のペアを作成\n",
    "for _, row in tqdm(df_auth_cocoauthors.iterrows(), total=len(df_auth_cocoauthors)):\n",
    "    authids = row['authids']\n",
    "    # 2人の著者が共著の場合、ペアを作成してネットワークに追加\n",
    "    for auth1, auth2 in combinations(authids, 2):\n",
    "        if auth1 != auth2:\n",
    "            if G2.has_edge(auth1, auth2):\n",
    "                G2[auth1][auth2]['weight'] += 1  # 既にエッジがあれば、重みを増加\n",
    "            else:\n",
    "                G2.add_edge(auth1, auth2, weight=1)\n",
    "        else:\n",
    "            continue\n",
    "\n",
    "# Pickle形式で保存\n",
    "with open(\"/disks/qnap3/users/21-tomokiyo/masters_thesis/data/guideline_paper/co-author_network_2021/revise_0111/co_coauthorship/2021_co_coauthor_network_G_revise_correct_authids.pkl\", \"wb\") as f:\n",
    "    pickle.dump(G2, f)"
   ]
  },
  {
   "cell_type": "code",
   "execution_count": null,
   "id": "50a7857b-fad3-430d-a83c-5ea58d050a76",
   "metadata": {
    "execution": {
     "iopub.status.busy": "2025-01-13T09:30:52.521143Z",
     "iopub.status.idle": "2025-01-13T09:30:52.521391Z",
     "shell.execute_reply": "2025-01-13T09:30:52.521306Z",
     "shell.execute_reply.started": "2025-01-13T09:30:52.521297Z"
    }
   },
   "outputs": [],
   "source": [
    "len(G2.nodes())"
   ]
  },
  {
   "cell_type": "code",
   "execution_count": 103,
   "id": "5f159729-de93-420d-b07e-a871279b03e7",
   "metadata": {
    "execution": {
     "iopub.execute_input": "2025-01-13T09:31:01.998527Z",
     "iopub.status.busy": "2025-01-13T09:31:01.998119Z",
     "iopub.status.idle": "2025-01-13T09:31:02.002622Z",
     "shell.execute_reply": "2025-01-13T09:31:02.002218Z",
     "shell.execute_reply.started": "2025-01-13T09:31:01.998507Z"
    }
   },
   "outputs": [
    {
     "data": {
      "text/plain": [
       "4666087"
      ]
     },
     "execution_count": 103,
     "metadata": {},
     "output_type": "execute_result"
    }
   ],
   "source": [
    "len(G2.nodes())"
   ]
  },
  {
   "cell_type": "code",
   "execution_count": 102,
   "id": "802e0e20-827b-40e9-be56-98f4aa250381",
   "metadata": {
    "execution": {
     "iopub.execute_input": "2025-01-13T09:31:00.429336Z",
     "iopub.status.busy": "2025-01-13T09:31:00.428887Z",
     "iopub.status.idle": "2025-01-13T09:31:00.433529Z",
     "shell.execute_reply": "2025-01-13T09:31:00.433121Z",
     "shell.execute_reply.started": "2025-01-13T09:31:00.429317Z"
    }
   },
   "outputs": [
    {
     "data": {
      "text/plain": [
       "2"
      ]
     },
     "execution_count": 102,
     "metadata": {},
     "output_type": "execute_result"
    }
   ],
   "source": [
    "1+1"
   ]
  },
  {
   "cell_type": "code",
   "execution_count": null,
   "id": "3751919d-0e9d-4e8c-a39f-deff2eff11a8",
   "metadata": {
    "execution": {
     "iopub.execute_input": "2025-01-13T09:37:20.764726Z",
     "iopub.status.busy": "2025-01-13T09:37:20.764263Z"
    }
   },
   "outputs": [],
   "source": [
    "with open(\"/disks/qnap3/users/21-tomokiyo/masters_thesis/data/guideline_paper/co-author_network_2021/revise_0111/co_coauthorship/2021_co_coauthor_network_G_revise_correct_authids_resave.pkl\", \"wb\") as f:\n",
    "    pickle.dump(G2, f)"
   ]
  },
  {
   "cell_type": "code",
   "execution_count": null,
   "id": "39032809-1789-45f5-a94f-e805e4c251a6",
   "metadata": {},
   "outputs": [],
   "source": []
  },
  {
   "cell_type": "code",
   "execution_count": null,
   "id": "b13d74c0-6ebf-48c4-a589-3272f01fb48b",
   "metadata": {},
   "outputs": [],
   "source": []
  },
  {
   "cell_type": "markdown",
   "id": "3bf46f01-dfa2-45f8-982c-7ce0b82e0005",
   "metadata": {},
   "source": [
    "### 距離を見ようとしたら読み込めなかったので、こちらで実行"
   ]
  },
  {
   "cell_type": "code",
   "execution_count": null,
   "id": "8ae8940c-dd9a-4b24-9700-82905c725f51",
   "metadata": {},
   "outputs": [],
   "source": []
  },
  {
   "cell_type": "code",
   "execution_count": 106,
   "id": "d81b368f-e364-4ba6-b5c7-481b6f7fdd75",
   "metadata": {
    "execution": {
     "iopub.execute_input": "2025-01-13T09:33:08.403145Z",
     "iopub.status.busy": "2025-01-13T09:33:08.402746Z",
     "iopub.status.idle": "2025-01-13T09:33:08.441491Z",
     "shell.execute_reply": "2025-01-13T09:33:08.441076Z",
     "shell.execute_reply.started": "2025-01-13T09:33:08.403127Z"
    }
   },
   "outputs": [],
   "source": [
    "cited_eid = np.load('/disks/qnap3/users/21-tomokiyo/masters_thesis/data/guideline_paper/ref_data/2021/who_guideline_ref_eids.npy')"
   ]
  },
  {
   "cell_type": "code",
   "execution_count": 107,
   "id": "f46ee432-d11e-4456-9705-0be19d236817",
   "metadata": {
    "execution": {
     "iopub.execute_input": "2025-01-13T09:33:08.905824Z",
     "iopub.status.busy": "2025-01-13T09:33:08.905607Z",
     "iopub.status.idle": "2025-01-13T09:33:10.275648Z",
     "shell.execute_reply": "2025-01-13T09:33:10.274926Z",
     "shell.execute_reply.started": "2025-01-13T09:33:08.905811Z"
    }
   },
   "outputs": [],
   "source": [
    "cited_authids = authids_df[authids_df['eid'].isin(cited_eid)]"
   ]
  },
  {
   "cell_type": "code",
   "execution_count": 108,
   "id": "809dece7-16d3-4f06-a3e2-3c69317325fe",
   "metadata": {
    "execution": {
     "iopub.execute_input": "2025-01-13T09:33:10.277098Z",
     "iopub.status.busy": "2025-01-13T09:33:10.276830Z",
     "iopub.status.idle": "2025-01-13T09:33:10.284333Z",
     "shell.execute_reply": "2025-01-13T09:33:10.283798Z",
     "shell.execute_reply.started": "2025-01-13T09:33:10.277082Z"
    }
   },
   "outputs": [
    {
     "data": {
      "text/html": [
       "<div>\n",
       "<style scoped>\n",
       "    .dataframe tbody tr th:only-of-type {\n",
       "        vertical-align: middle;\n",
       "    }\n",
       "\n",
       "    .dataframe tbody tr th {\n",
       "        vertical-align: top;\n",
       "    }\n",
       "\n",
       "    .dataframe thead th {\n",
       "        text-align: right;\n",
       "    }\n",
       "</style>\n",
       "<table border=\"1\" class=\"dataframe\">\n",
       "  <thead>\n",
       "    <tr style=\"text-align: right;\">\n",
       "      <th></th>\n",
       "      <th>eid</th>\n",
       "      <th>authids</th>\n",
       "    </tr>\n",
       "  </thead>\n",
       "  <tbody>\n",
       "    <tr>\n",
       "      <th>12615369</th>\n",
       "      <td>27362097</td>\n",
       "      <td>[7004937075, 7004937075, 57193089483, 57193089483, 57193089483, 34868966600, 7102395742, 57202555597, 7102585610, 56974691900, 57208455828, 57208455828]</td>\n",
       "    </tr>\n",
       "    <tr>\n",
       "      <th>13858467</th>\n",
       "      <td>28802284</td>\n",
       "      <td>[7103362401, 57225397374, 57202615405, 7004665680, 7101950462, 7404060133, 10739972800, 7102627126, 6507180436, 57204337226, 35832825900, 7401650526]</td>\n",
       "    </tr>\n",
       "    <tr>\n",
       "      <th>17504810</th>\n",
       "      <td>33006078</td>\n",
       "      <td>[7005616584, 7102763785, 7005035331, 57110165500, 7003874846, 35380028700, 20236659700]</td>\n",
       "    </tr>\n",
       "    <tr>\n",
       "      <th>18162362</th>\n",
       "      <td>33791138</td>\n",
       "      <td>[7005035331, 18936140900, 56560727000, 10042846400, 7005616584]</td>\n",
       "    </tr>\n",
       "    <tr>\n",
       "      <th>20979105</th>\n",
       "      <td>37029043</td>\n",
       "      <td>[57193089483, 26643599300, 26643599300, 7006846858, 7005657669, 24565152100, 13606042300, 7102270013]</td>\n",
       "    </tr>\n",
       "  </tbody>\n",
       "</table>\n",
       "</div>"
      ],
      "text/plain": [
       "               eid  \\\n",
       "12615369  27362097   \n",
       "13858467  28802284   \n",
       "17504810  33006078   \n",
       "18162362  33791138   \n",
       "20979105  37029043   \n",
       "\n",
       "                                                                                                                                                           authids  \n",
       "12615369  [7004937075, 7004937075, 57193089483, 57193089483, 57193089483, 34868966600, 7102395742, 57202555597, 7102585610, 56974691900, 57208455828, 57208455828]  \n",
       "13858467     [7103362401, 57225397374, 57202615405, 7004665680, 7101950462, 7404060133, 10739972800, 7102627126, 6507180436, 57204337226, 35832825900, 7401650526]  \n",
       "17504810                                                                   [7005616584, 7102763785, 7005035331, 57110165500, 7003874846, 35380028700, 20236659700]  \n",
       "18162362                                                                                           [7005035331, 18936140900, 56560727000, 10042846400, 7005616584]  \n",
       "20979105                                                     [57193089483, 26643599300, 26643599300, 7006846858, 7005657669, 24565152100, 13606042300, 7102270013]  "
      ]
     },
     "execution_count": 108,
     "metadata": {},
     "output_type": "execute_result"
    }
   ],
   "source": [
    "cited_authids.head()"
   ]
  },
  {
   "cell_type": "code",
   "execution_count": 109,
   "id": "90e6630c-cafc-40d7-8d1e-c3f18d403333",
   "metadata": {
    "execution": {
     "iopub.execute_input": "2025-01-13T09:33:10.483030Z",
     "iopub.status.busy": "2025-01-13T09:33:10.482735Z",
     "iopub.status.idle": "2025-01-13T09:33:10.488329Z",
     "shell.execute_reply": "2025-01-13T09:33:10.487914Z",
     "shell.execute_reply.started": "2025-01-13T09:33:10.483016Z"
    }
   },
   "outputs": [
    {
     "name": "stderr",
     "output_type": "stream",
     "text": [
      "/tmp/ipykernel_1975693/512459076.py:6: SettingWithCopyWarning: \n",
      "A value is trying to be set on a copy of a slice from a DataFrame.\n",
      "Try using .loc[row_indexer,col_indexer] = value instead\n",
      "\n",
      "See the caveats in the documentation: https://pandas.pydata.org/pandas-docs/stable/user_guide/indexing.html#returning-a-view-versus-a-copy\n",
      "  cited_authids['authids'] = cited_authids['authids'].apply(replace_values)\n"
     ]
    }
   ],
   "source": [
    "# 値を置き換える関数を定義\n",
    "def replace_values(authid_list):\n",
    "    return [35780677200 if x == 7006806977 else 57206422848 if x == 54791745100  else 57219144066 if x == 55588756600  else 57219144066 if x == 57191727610  else 57219144066 if x == 14037485900 else x for x in authid_list]\n",
    "\n",
    "# authids列に適用\n",
    "cited_authids['authids'] = cited_authids['authids'].apply(replace_values)"
   ]
  },
  {
   "cell_type": "code",
   "execution_count": 110,
   "id": "b988b76e-1001-4963-a09a-7f4f9ad9fc79",
   "metadata": {
    "execution": {
     "iopub.execute_input": "2025-01-13T09:33:12.366276Z",
     "iopub.status.busy": "2025-01-13T09:33:12.365871Z",
     "iopub.status.idle": "2025-01-13T09:33:12.376318Z",
     "shell.execute_reply": "2025-01-13T09:33:12.375894Z",
     "shell.execute_reply.started": "2025-01-13T09:33:12.366256Z"
    }
   },
   "outputs": [
    {
     "data": {
      "text/html": [
       "<div>\n",
       "<style scoped>\n",
       "    .dataframe tbody tr th:only-of-type {\n",
       "        vertical-align: middle;\n",
       "    }\n",
       "\n",
       "    .dataframe tbody tr th {\n",
       "        vertical-align: top;\n",
       "    }\n",
       "\n",
       "    .dataframe thead th {\n",
       "        text-align: right;\n",
       "    }\n",
       "</style>\n",
       "<table border=\"1\" class=\"dataframe\">\n",
       "  <thead>\n",
       "    <tr style=\"text-align: right;\">\n",
       "      <th></th>\n",
       "      <th>eid</th>\n",
       "      <th>authids</th>\n",
       "    </tr>\n",
       "  </thead>\n",
       "  <tbody>\n",
       "    <tr>\n",
       "      <th>12615369</th>\n",
       "      <td>27362097</td>\n",
       "      <td>[7004937075, 7004937075, 57193089483, 57193089483, 57193089483, 34868966600, 7102395742, 57202555597, 7102585610, 56974691900, 57208455828, 57208455828]</td>\n",
       "    </tr>\n",
       "    <tr>\n",
       "      <th>13858467</th>\n",
       "      <td>28802284</td>\n",
       "      <td>[7103362401, 57225397374, 57202615405, 7004665680, 7101950462, 7404060133, 10739972800, 7102627126, 6507180436, 57204337226, 35832825900, 7401650526]</td>\n",
       "    </tr>\n",
       "    <tr>\n",
       "      <th>17504810</th>\n",
       "      <td>33006078</td>\n",
       "      <td>[7005616584, 7102763785, 7005035331, 57110165500, 7003874846, 35380028700, 20236659700]</td>\n",
       "    </tr>\n",
       "    <tr>\n",
       "      <th>18162362</th>\n",
       "      <td>33791138</td>\n",
       "      <td>[7005035331, 18936140900, 56560727000, 10042846400, 7005616584]</td>\n",
       "    </tr>\n",
       "    <tr>\n",
       "      <th>20979105</th>\n",
       "      <td>37029043</td>\n",
       "      <td>[57193089483, 26643599300, 26643599300, 7006846858, 7005657669, 24565152100, 13606042300, 7102270013]</td>\n",
       "    </tr>\n",
       "    <tr>\n",
       "      <th>...</th>\n",
       "      <td>...</td>\n",
       "      <td>...</td>\n",
       "    </tr>\n",
       "    <tr>\n",
       "      <th>75298685</th>\n",
       "      <td>85100907280</td>\n",
       "      <td>[57221999325, 55391429000, 7404276367, 55321144100, 55850540800, 6603779272]</td>\n",
       "    </tr>\n",
       "    <tr>\n",
       "      <th>75325775</th>\n",
       "      <td>85101026971</td>\n",
       "      <td>[55467335500, 6507497656, 23397309300, 24474775900, 55220462400]</td>\n",
       "    </tr>\n",
       "    <tr>\n",
       "      <th>75812867</th>\n",
       "      <td>85103370304</td>\n",
       "      <td>[56965928000, 56924046500, 55718473600, 55718473600, 6603755033, 6603755033, 35369331500, 35369331500, 27867865300, 55712472800, 55712472800, 7201486841, 7201486841, 7201486841, 7201486841, 36241249200, 35379363900, 15520780100, 15520780100, 57218422762, 57203284414, 57196247510, 57222599192, 57220208562, 57220208562, 57202657094, 57202657094, 14621909500, 14621909500, 49663431000, 16472432100, 6505781724, 14048330200, 14048330200, 36025877000, 57223432010, 57223432010, 6506999439, 7102046632, 56336538800, 55651293700, 9133723200, 36097134700, 36097134700, 37074818900, 7801628758, 57218261240, 57219144066, 57219144066, 57208274162, 57208274162, 57203050132, 53163239900, 37047803500, 37047803500, 7406307492, 7406307492, 57194647465, 57216631901, 7401466450, 6701354130, 7404276367, 7404815278, 24824407100, 24824407100, 24824407100, 7101602991, 7101602991, 7101602991]</td>\n",
       "    </tr>\n",
       "    <tr>\n",
       "      <th>75941471</th>\n",
       "      <td>85103991733</td>\n",
       "      <td>[56403611400, 24075260300, 24075260300, 55502832100, 13608072800, 6603755033, 6603755033, 35369331500, 35369331500, 55712472800, 7201486841, 7201486841, 7201486841, 7201486841, 15520780100, 15520780100, 21743142400, 57214113493, 7101602991, 7101602991, 16472432100, 16472432100, 16472432100, 6505781724, 6505781724, 14048330200, 14048330200, 56950382800, 7102046632, 56336538800, 9133723200, 9133723200, 8881942100, 8881942100, 37074818900, 7801628758, 57218261240, 57189224381, 57219144066, 57219144066, 57208274162, 57208274162, 57203050132, 53163239900, 37047803500, 37047803500, 7406307492, 7406307492, 56007317500, 57216631901, 27867865300, 6701354130, 7404276367, 7401466450, 24824407100, 24824407100, 24824407100, 36025877000]</td>\n",
       "    </tr>\n",
       "    <tr>\n",
       "      <th>77167385</th>\n",
       "      <td>85111303210</td>\n",
       "      <td>[7003533118, 7102252167]</td>\n",
       "    </tr>\n",
       "  </tbody>\n",
       "</table>\n",
       "<p>183 rows × 2 columns</p>\n",
       "</div>"
      ],
      "text/plain": [
       "                  eid  \\\n",
       "12615369     27362097   \n",
       "13858467     28802284   \n",
       "17504810     33006078   \n",
       "18162362     33791138   \n",
       "20979105     37029043   \n",
       "...               ...   \n",
       "75298685  85100907280   \n",
       "75325775  85101026971   \n",
       "75812867  85103370304   \n",
       "75941471  85103991733   \n",
       "77167385  85111303210   \n",
       "\n",
       "                                                                                                                                                                                                                                                                                                                                                                                                                                                                                                                                                                                                                                                                                                                                                                                                                                                                                                                authids  \n",
       "12615369                                                                                                                                                                                                                                                                                                                                                                                                                                                                                                                                                                                                                                                                                                                                                       [7004937075, 7004937075, 57193089483, 57193089483, 57193089483, 34868966600, 7102395742, 57202555597, 7102585610, 56974691900, 57208455828, 57208455828]  \n",
       "13858467                                                                                                                                                                                                                                                                                                                                                                                                                                                                                                                                                                                                                                                                                                                                                          [7103362401, 57225397374, 57202615405, 7004665680, 7101950462, 7404060133, 10739972800, 7102627126, 6507180436, 57204337226, 35832825900, 7401650526]  \n",
       "17504810                                                                                                                                                                                                                                                                                                                                                                                                                                                                                                                                                                                                                                                                                                                                                                                                                        [7005616584, 7102763785, 7005035331, 57110165500, 7003874846, 35380028700, 20236659700]  \n",
       "18162362                                                                                                                                                                                                                                                                                                                                                                                                                                                                                                                                                                                                                                                                                                                                                                                                                                                [7005035331, 18936140900, 56560727000, 10042846400, 7005616584]  \n",
       "20979105                                                                                                                                                                                                                                                                                                                                                                                                                                                                                                                                                                                                                                                                                                                                                                                                          [57193089483, 26643599300, 26643599300, 7006846858, 7005657669, 24565152100, 13606042300, 7102270013]  \n",
       "...                                                                                                                                                                                                                                                                                                                                                                                                                                                                                                                                                                                                                                                                                                                                                                                                                                                                                                                 ...  \n",
       "75298685                                                                                                                                                                                                                                                                                                                                                                                                                                                                                                                                                                                                                                                                                                                                                                                                                                   [57221999325, 55391429000, 7404276367, 55321144100, 55850540800, 6603779272]  \n",
       "75325775                                                                                                                                                                                                                                                                                                                                                                                                                                                                                                                                                                                                                                                                                                                                                                                                                                               [55467335500, 6507497656, 23397309300, 24474775900, 55220462400]  \n",
       "75812867  [56965928000, 56924046500, 55718473600, 55718473600, 6603755033, 6603755033, 35369331500, 35369331500, 27867865300, 55712472800, 55712472800, 7201486841, 7201486841, 7201486841, 7201486841, 36241249200, 35379363900, 15520780100, 15520780100, 57218422762, 57203284414, 57196247510, 57222599192, 57220208562, 57220208562, 57202657094, 57202657094, 14621909500, 14621909500, 49663431000, 16472432100, 6505781724, 14048330200, 14048330200, 36025877000, 57223432010, 57223432010, 6506999439, 7102046632, 56336538800, 55651293700, 9133723200, 36097134700, 36097134700, 37074818900, 7801628758, 57218261240, 57219144066, 57219144066, 57208274162, 57208274162, 57203050132, 53163239900, 37047803500, 37047803500, 7406307492, 7406307492, 57194647465, 57216631901, 7401466450, 6701354130, 7404276367, 7404815278, 24824407100, 24824407100, 24824407100, 7101602991, 7101602991, 7101602991]  \n",
       "75941471                                                                                                                                                  [56403611400, 24075260300, 24075260300, 55502832100, 13608072800, 6603755033, 6603755033, 35369331500, 35369331500, 55712472800, 7201486841, 7201486841, 7201486841, 7201486841, 15520780100, 15520780100, 21743142400, 57214113493, 7101602991, 7101602991, 16472432100, 16472432100, 16472432100, 6505781724, 6505781724, 14048330200, 14048330200, 56950382800, 7102046632, 56336538800, 9133723200, 9133723200, 8881942100, 8881942100, 37074818900, 7801628758, 57218261240, 57189224381, 57219144066, 57219144066, 57208274162, 57208274162, 57203050132, 53163239900, 37047803500, 37047803500, 7406307492, 7406307492, 56007317500, 57216631901, 27867865300, 6701354130, 7404276367, 7401466450, 24824407100, 24824407100, 24824407100, 36025877000]  \n",
       "77167385                                                                                                                                                                                                                                                                                                                                                                                                                                                                                                                                                                                                                                                                                                                                                                                                                                                                                       [7003533118, 7102252167]  \n",
       "\n",
       "[183 rows x 2 columns]"
      ]
     },
     "execution_count": 110,
     "metadata": {},
     "output_type": "execute_result"
    }
   ],
   "source": [
    "cited_authids"
   ]
  },
  {
   "cell_type": "code",
   "execution_count": 111,
   "id": "8d9d32b9-6edd-464e-8558-8a7bb4650da1",
   "metadata": {
    "execution": {
     "iopub.execute_input": "2025-01-13T09:33:16.833117Z",
     "iopub.status.busy": "2025-01-13T09:33:16.832695Z",
     "iopub.status.idle": "2025-01-13T09:33:16.838121Z",
     "shell.execute_reply": "2025-01-13T09:33:16.837626Z",
     "shell.execute_reply.started": "2025-01-13T09:33:16.833097Z"
    }
   },
   "outputs": [
    {
     "name": "stderr",
     "output_type": "stream",
     "text": [
      "/tmp/ipykernel_1975693/3576215859.py:1: SettingWithCopyWarning: \n",
      "A value is trying to be set on a copy of a slice from a DataFrame.\n",
      "Try using .loc[row_indexer,col_indexer] = value instead\n",
      "\n",
      "See the caveats in the documentation: https://pandas.pydata.org/pandas-docs/stable/user_guide/indexing.html#returning-a-view-versus-a-copy\n",
      "  cited_authids['author_len'] = cited_authids['authids'].apply(lambda x: len(x))\n"
     ]
    }
   ],
   "source": [
    "cited_authids['author_len'] = cited_authids['authids'].apply(lambda x: len(x))"
   ]
  },
  {
   "cell_type": "code",
   "execution_count": 112,
   "id": "c6a985a2-d48a-44ff-9e31-0f30a202232f",
   "metadata": {
    "execution": {
     "iopub.execute_input": "2025-01-13T09:33:18.318728Z",
     "iopub.status.busy": "2025-01-13T09:33:18.318211Z",
     "iopub.status.idle": "2025-01-13T09:33:18.326694Z",
     "shell.execute_reply": "2025-01-13T09:33:18.326279Z",
     "shell.execute_reply.started": "2025-01-13T09:33:18.318701Z"
    }
   },
   "outputs": [],
   "source": [
    "cited_paper_authids = cited_authids.explode('authids')['authids'].unique()"
   ]
  },
  {
   "cell_type": "code",
   "execution_count": 113,
   "id": "7220c08d-dc63-430f-adb9-64d3abea84c2",
   "metadata": {
    "execution": {
     "iopub.execute_input": "2025-01-13T09:33:19.294130Z",
     "iopub.status.busy": "2025-01-13T09:33:19.293437Z",
     "iopub.status.idle": "2025-01-13T09:33:19.304503Z",
     "shell.execute_reply": "2025-01-13T09:33:19.304062Z",
     "shell.execute_reply.started": "2025-01-13T09:33:19.294107Z"
    }
   },
   "outputs": [
    {
     "data": {
      "text/plain": [
       "2554"
      ]
     },
     "execution_count": 113,
     "metadata": {},
     "output_type": "execute_result"
    }
   ],
   "source": [
    "len(cited_paper_authids)"
   ]
  },
  {
   "cell_type": "code",
   "execution_count": 118,
   "id": "7d519698-931a-46b6-8398-8afe05b3deae",
   "metadata": {
    "execution": {
     "iopub.execute_input": "2025-01-13T09:33:48.312481Z",
     "iopub.status.busy": "2025-01-13T09:33:48.312072Z",
     "iopub.status.idle": "2025-01-13T09:36:13.618981Z",
     "shell.execute_reply": "2025-01-13T09:36:13.618374Z",
     "shell.execute_reply.started": "2025-01-13T09:33:48.312462Z"
    }
   },
   "outputs": [
    {
     "name": "stderr",
     "output_type": "stream",
     "text": [
      "100%|█████████████████████████████████████████| 183/183 [02:25<00:00,  1.26it/s]\n"
     ]
    }
   ],
   "source": [
    "\n",
    "min_distance_dict = {}\n",
    "\n",
    "# 進捗バーを1つにするために全体のループをまとめる\n",
    "for index, row in tqdm(cited_authids.iterrows(), total=len(cited_authids)):\n",
    "    target_authids = row['authids']\n",
    "    distance_ls = []\n",
    "    # 対象ノードがグラフ内に存在する場合のみ処理\n",
    "    valid_target_authids = [authid for authid in target_authids if authid in G2.nodes()]\n",
    "\n",
    "    shortest_distance = np.inf\n",
    "    for authid in valid_target_authids:\n",
    "        for guideline_authid in boardmember_authid:\n",
    "            # 対象ノードがグラフ内に存在する場合のみ処理\n",
    "            if guideline_authid in G2.nodes():\n",
    "                try:\n",
    "                    shortest_distance = nx.shortest_path_length(G2, source=authid, target=guideline_authid)\n",
    "                    distance_ls.append(shortest_distance)\n",
    "                    if shortest_distance == 0:\n",
    "                        break\n",
    "                except nx.NetworkXNoPath:\n",
    "                    pass\n",
    "        if shortest_distance == 0:\n",
    "            break\n",
    "\n",
    "    # 最小距離を保存（空リストの処理も含む）\n",
    "    if distance_ls:\n",
    "        min_distance = min(distance_ls)\n",
    "    else:\n",
    "        min_distance = None  # デフォルト値を設定\n",
    "    min_distance_dict[row['eid']] = min_distance\n"
   ]
  },
  {
   "cell_type": "code",
   "execution_count": null,
   "id": "bfb7d5ba-3ef2-4819-9869-1741fad923f7",
   "metadata": {},
   "outputs": [],
   "source": []
  },
  {
   "cell_type": "code",
   "execution_count": 119,
   "id": "25a57d11-f900-4399-9ad9-e01a9e089bb7",
   "metadata": {
    "execution": {
     "iopub.execute_input": "2025-01-13T09:36:22.237677Z",
     "iopub.status.busy": "2025-01-13T09:36:22.237215Z",
     "iopub.status.idle": "2025-01-13T09:36:22.242812Z",
     "shell.execute_reply": "2025-01-13T09:36:22.242400Z",
     "shell.execute_reply.started": "2025-01-13T09:36:22.237658Z"
    }
   },
   "outputs": [
    {
     "data": {
      "text/plain": [
       "array([0, 1, 1, 1, 0, 1, 2, 0, None, 0, 1, 2, 1, 2, 1, 2, 0, 0, 0, 2, 0,\n",
       "       0, 0, 0, 1, 0, 0, 0, 0, 0, 2, 2, 1, 1, 1, 1, 0, 0, 1, 0, 1, 1, 1,\n",
       "       1, 2, 0, 0, 1, None, 0, 0, 0, 2, 0, 2, 0, 1, 0, 1, 0, 1, 1, 2, 0,\n",
       "       0, 0, 0, 0, 0, 2, 1, 0, 1, 1, 0, 0, 2, 0, 1, 0, 0, 0, 0, 0, 1, 1,\n",
       "       0, 1, 0, 0, 1, 0, 1, 1, 1, 1, 0, 1, 0, 0, 0, None, 1, 0, 1, 1, 0,\n",
       "       1, 0, 0, 0, 1, 0, 0, 0, 0, 1, 1, 1, 0, 1, 0, 0, 0, 1, 1, 0, 0, 1,\n",
       "       1, 0, 0, 0, 1, 0, 1, 1, 1, 0, 1, 1, 0, 1, 2, 0, 0, 0, 0, 0, 1, 0,\n",
       "       0, 1, 1, 0, 0, 0, 0, 1, 0, 0, 0, 1, 1, 0, 1, 0, 0, 0, 1, 0, 0, 0,\n",
       "       1, 0, 0, 0, 0, 1, 0, 0, 0, 0], dtype=object)"
      ]
     },
     "execution_count": 119,
     "metadata": {},
     "output_type": "execute_result"
    }
   ],
   "source": [
    "distance_array = np.array(list(min_distance_dict.values()))\n",
    "\n",
    "distance_array"
   ]
  },
  {
   "cell_type": "code",
   "execution_count": 120,
   "id": "d922857e-ab73-4336-b295-0da9e7c37498",
   "metadata": {
    "execution": {
     "iopub.execute_input": "2025-01-13T09:36:22.700381Z",
     "iopub.status.busy": "2025-01-13T09:36:22.700156Z",
     "iopub.status.idle": "2025-01-13T09:36:22.702858Z",
     "shell.execute_reply": "2025-01-13T09:36:22.702431Z",
     "shell.execute_reply.started": "2025-01-13T09:36:22.700366Z"
    }
   },
   "outputs": [],
   "source": [
    "distance_array = distance_array.astype(str)"
   ]
  },
  {
   "cell_type": "code",
   "execution_count": 121,
   "id": "10469ff3-734e-45a3-9558-f98268d1e907",
   "metadata": {
    "execution": {
     "iopub.execute_input": "2025-01-13T09:36:23.091083Z",
     "iopub.status.busy": "2025-01-13T09:36:23.090614Z",
     "iopub.status.idle": "2025-01-13T09:36:23.096819Z",
     "shell.execute_reply": "2025-01-13T09:36:23.095462Z",
     "shell.execute_reply.started": "2025-01-13T09:36:23.091063Z"
    }
   },
   "outputs": [
    {
     "data": {
      "text/plain": [
       "(array(['0', '1', '2', 'None'], dtype='<U4'), array([101,  65,  14,   3]))"
      ]
     },
     "execution_count": 121,
     "metadata": {},
     "output_type": "execute_result"
    }
   ],
   "source": [
    "np.unique(distance_array, return_counts=True)"
   ]
  },
  {
   "cell_type": "code",
   "execution_count": null,
   "id": "06f49db8-81e6-4b12-b3f5-1f4996cd56ea",
   "metadata": {},
   "outputs": [],
   "source": []
  }
 ],
 "metadata": {
  "kernelspec": {
   "display_name": "Python 3 (ipykernel)",
   "language": "python",
   "name": "python3"
  },
  "language_info": {
   "codemirror_mode": {
    "name": "ipython",
    "version": 3
   },
   "file_extension": ".py",
   "mimetype": "text/x-python",
   "name": "python",
   "nbconvert_exporter": "python",
   "pygments_lexer": "ipython3",
   "version": "3.12.8"
  }
 },
 "nbformat": 4,
 "nbformat_minor": 5
}
