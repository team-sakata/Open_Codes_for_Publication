{
 "cells": [
  {
   "cell_type": "markdown",
   "id": "4e93b2e9-5add-4713-ad84-80f18f5b24c9",
   "metadata": {},
   "source": [
    "## Calculate the form of co-authorship within each group during the period."
   ]
  },
  {
   "cell_type": "code",
   "execution_count": 3,
   "id": "ad9bda6b-17b4-4bc5-af09-6187f9ce8c38",
   "metadata": {
    "execution": {
     "iopub.execute_input": "2025-03-31T09:31:30.113217Z",
     "iopub.status.busy": "2025-03-31T09:31:30.112962Z",
     "iopub.status.idle": "2025-03-31T09:31:30.117354Z",
     "shell.execute_reply": "2025-03-31T09:31:30.116469Z",
     "shell.execute_reply.started": "2025-03-31T09:31:30.113205Z"
    }
   },
   "outputs": [],
   "source": [
    "import pandas as pd\n",
    "import nltk\n",
    "import numpy as np\n",
    "import matplotlib.pyplot as plt\n",
    "pd.options.display.max_colwidth = None\n",
    "import pickle\n",
    "from tqdm import tqdm\n",
    "import seaborn as sns"
   ]
  },
  {
   "cell_type": "code",
   "execution_count": 4,
   "id": "456085b4-9426-4e33-8601-66c8e97eb6c7",
   "metadata": {
    "execution": {
     "iopub.execute_input": "2025-03-31T09:31:32.085257Z",
     "iopub.status.busy": "2025-03-31T09:31:32.084888Z",
     "iopub.status.idle": "2025-03-31T09:31:32.092425Z",
     "shell.execute_reply": "2025-03-31T09:31:32.091763Z",
     "shell.execute_reply.started": "2025-03-31T09:31:32.085231Z"
    }
   },
   "outputs": [],
   "source": [
    "authid_12 = np.load('/disks/qnap3/users/21-tomokiyo/masters_thesis/data/guideline_paper/member_data/2021/A1.2_who_guideline_development_group.npy')\n",
    "authid_13 = np.load('/disks/qnap3/users/21-tomokiyo/masters_thesis/data/guideline_paper/member_data/A1.3_who_systematic_review_team_revise.npy')\n",
    "authid_14 = np.load('/disks/qnap3/users/21-tomokiyo/masters_thesis/data/guideline_paper/member_data/2021/A1.4_who_external_methodologists.npy')\n",
    "authid_15 = np.load('/disks/qnap3/users/21-tomokiyo/masters_thesis/data/guideline_paper/member_data/A1.5_who_external_review_team_revise.npy')\n",
    "\n",
    "boradmember_authid = list(authid_12)+list(authid_13)+list(authid_14)+list(authid_15)"
   ]
  },
  {
   "cell_type": "code",
   "execution_count": 5,
   "id": "e9617da7-190f-42cd-a2c8-4120df819868",
   "metadata": {
    "execution": {
     "iopub.execute_input": "2025-03-31T09:31:32.611011Z",
     "iopub.status.busy": "2025-03-31T09:31:32.610680Z",
     "iopub.status.idle": "2025-03-31T09:31:32.616471Z",
     "shell.execute_reply": "2025-03-31T09:31:32.615777Z",
     "shell.execute_reply.started": "2025-03-31T09:31:32.610984Z"
    }
   },
   "outputs": [],
   "source": [
    "matched_data = pd.read_pickle('/disks/qnap3/users/21-tomokiyo/masters_thesis/data/guideline_paper/all_guideline_matching/matched_data.pickle')"
   ]
  },
  {
   "cell_type": "code",
   "execution_count": 6,
   "id": "64797c69-54c5-477b-a366-c91933ef36ef",
   "metadata": {
    "execution": {
     "iopub.execute_input": "2025-03-31T09:31:32.900612Z",
     "iopub.status.busy": "2025-03-31T09:31:32.900284Z",
     "iopub.status.idle": "2025-03-31T09:31:32.939191Z",
     "shell.execute_reply": "2025-03-31T09:31:32.938418Z",
     "shell.execute_reply.started": "2025-03-31T09:31:32.900585Z"
    }
   },
   "outputs": [
    {
     "data": {
      "text/html": [
       "<div>\n",
       "<style scoped>\n",
       "    .dataframe tbody tr th:only-of-type {\n",
       "        vertical-align: middle;\n",
       "    }\n",
       "\n",
       "    .dataframe tbody tr th {\n",
       "        vertical-align: top;\n",
       "    }\n",
       "\n",
       "    .dataframe thead th {\n",
       "        text-align: right;\n",
       "    }\n",
       "</style>\n",
       "<table border=\"1\" class=\"dataframe\">\n",
       "  <thead>\n",
       "    <tr style=\"text-align: right;\">\n",
       "      <th></th>\n",
       "      <th>paper_num_2015</th>\n",
       "      <th>academic_citation_2011</th>\n",
       "      <th>academic_citation_2012</th>\n",
       "      <th>academic_citation_2013</th>\n",
       "      <th>academic_citation_2014</th>\n",
       "      <th>academic_citation_2015</th>\n",
       "      <th>academic_citation_2016</th>\n",
       "      <th>academic_citation_2017</th>\n",
       "      <th>academic_citation_2018</th>\n",
       "      <th>academic_citation_2019</th>\n",
       "      <th>...</th>\n",
       "      <th>policy_citation_2015</th>\n",
       "      <th>policy_citation_2016</th>\n",
       "      <th>policy_citation_2017</th>\n",
       "      <th>policy_citation_2018</th>\n",
       "      <th>policy_citation_2019</th>\n",
       "      <th>policy_citation_2020</th>\n",
       "      <th>policy_citation_2021</th>\n",
       "      <th>policy_citation_2022</th>\n",
       "      <th>policy_citation_2023</th>\n",
       "      <th>guideline_member</th>\n",
       "    </tr>\n",
       "    <tr>\n",
       "      <th>authids</th>\n",
       "      <th></th>\n",
       "      <th></th>\n",
       "      <th></th>\n",
       "      <th></th>\n",
       "      <th></th>\n",
       "      <th></th>\n",
       "      <th></th>\n",
       "      <th></th>\n",
       "      <th></th>\n",
       "      <th></th>\n",
       "      <th></th>\n",
       "      <th></th>\n",
       "      <th></th>\n",
       "      <th></th>\n",
       "      <th></th>\n",
       "      <th></th>\n",
       "      <th></th>\n",
       "      <th></th>\n",
       "      <th></th>\n",
       "      <th></th>\n",
       "      <th></th>\n",
       "    </tr>\n",
       "  </thead>\n",
       "  <tbody>\n",
       "    <tr>\n",
       "      <th>35168055500</th>\n",
       "      <td>23.0</td>\n",
       "      <td>108.0</td>\n",
       "      <td>165.0</td>\n",
       "      <td>236.0</td>\n",
       "      <td>326.0</td>\n",
       "      <td>490.0</td>\n",
       "      <td>666.0</td>\n",
       "      <td>829.0</td>\n",
       "      <td>1049.0</td>\n",
       "      <td>1330.0</td>\n",
       "      <td>...</td>\n",
       "      <td>1.0</td>\n",
       "      <td>2.0</td>\n",
       "      <td>3.0</td>\n",
       "      <td>3.0</td>\n",
       "      <td>5.0</td>\n",
       "      <td>6.0</td>\n",
       "      <td>6.0</td>\n",
       "      <td>11.0</td>\n",
       "      <td>12.0</td>\n",
       "      <td>1</td>\n",
       "    </tr>\n",
       "    <tr>\n",
       "      <th>8729078200</th>\n",
       "      <td>112.0</td>\n",
       "      <td>1621.0</td>\n",
       "      <td>2235.0</td>\n",
       "      <td>2850.0</td>\n",
       "      <td>3593.0</td>\n",
       "      <td>4481.0</td>\n",
       "      <td>5611.0</td>\n",
       "      <td>6924.0</td>\n",
       "      <td>8717.0</td>\n",
       "      <td>10609.0</td>\n",
       "      <td>...</td>\n",
       "      <td>8.0</td>\n",
       "      <td>17.0</td>\n",
       "      <td>20.0</td>\n",
       "      <td>20.0</td>\n",
       "      <td>20.0</td>\n",
       "      <td>23.0</td>\n",
       "      <td>35.0</td>\n",
       "      <td>48.0</td>\n",
       "      <td>56.0</td>\n",
       "      <td>1</td>\n",
       "    </tr>\n",
       "    <tr>\n",
       "      <th>10339863000</th>\n",
       "      <td>21.0</td>\n",
       "      <td>110.0</td>\n",
       "      <td>151.0</td>\n",
       "      <td>197.0</td>\n",
       "      <td>256.0</td>\n",
       "      <td>320.0</td>\n",
       "      <td>400.0</td>\n",
       "      <td>508.0</td>\n",
       "      <td>625.0</td>\n",
       "      <td>750.0</td>\n",
       "      <td>...</td>\n",
       "      <td>1.0</td>\n",
       "      <td>2.0</td>\n",
       "      <td>2.0</td>\n",
       "      <td>3.0</td>\n",
       "      <td>3.0</td>\n",
       "      <td>3.0</td>\n",
       "      <td>4.0</td>\n",
       "      <td>5.0</td>\n",
       "      <td>5.0</td>\n",
       "      <td>1</td>\n",
       "    </tr>\n",
       "    <tr>\n",
       "      <th>55437181900</th>\n",
       "      <td>85.0</td>\n",
       "      <td>3110.0</td>\n",
       "      <td>3475.0</td>\n",
       "      <td>3896.0</td>\n",
       "      <td>4352.0</td>\n",
       "      <td>4840.0</td>\n",
       "      <td>5393.0</td>\n",
       "      <td>5974.0</td>\n",
       "      <td>6594.0</td>\n",
       "      <td>7217.0</td>\n",
       "      <td>...</td>\n",
       "      <td>57.0</td>\n",
       "      <td>69.0</td>\n",
       "      <td>73.0</td>\n",
       "      <td>78.0</td>\n",
       "      <td>94.0</td>\n",
       "      <td>100.0</td>\n",
       "      <td>131.0</td>\n",
       "      <td>134.0</td>\n",
       "      <td>136.0</td>\n",
       "      <td>1</td>\n",
       "    </tr>\n",
       "    <tr>\n",
       "      <th>35579376100</th>\n",
       "      <td>35.0</td>\n",
       "      <td>153.0</td>\n",
       "      <td>190.0</td>\n",
       "      <td>230.0</td>\n",
       "      <td>272.0</td>\n",
       "      <td>316.0</td>\n",
       "      <td>367.0</td>\n",
       "      <td>452.0</td>\n",
       "      <td>550.0</td>\n",
       "      <td>668.0</td>\n",
       "      <td>...</td>\n",
       "      <td>1.0</td>\n",
       "      <td>1.0</td>\n",
       "      <td>3.0</td>\n",
       "      <td>5.0</td>\n",
       "      <td>6.0</td>\n",
       "      <td>9.0</td>\n",
       "      <td>10.0</td>\n",
       "      <td>10.0</td>\n",
       "      <td>11.0</td>\n",
       "      <td>1</td>\n",
       "    </tr>\n",
       "    <tr>\n",
       "      <th>...</th>\n",
       "      <td>...</td>\n",
       "      <td>...</td>\n",
       "      <td>...</td>\n",
       "      <td>...</td>\n",
       "      <td>...</td>\n",
       "      <td>...</td>\n",
       "      <td>...</td>\n",
       "      <td>...</td>\n",
       "      <td>...</td>\n",
       "      <td>...</td>\n",
       "      <td>...</td>\n",
       "      <td>...</td>\n",
       "      <td>...</td>\n",
       "      <td>...</td>\n",
       "      <td>...</td>\n",
       "      <td>...</td>\n",
       "      <td>...</td>\n",
       "      <td>...</td>\n",
       "      <td>...</td>\n",
       "      <td>...</td>\n",
       "      <td>...</td>\n",
       "    </tr>\n",
       "    <tr>\n",
       "      <th>56230769900</th>\n",
       "      <td>1.0</td>\n",
       "      <td>0.0</td>\n",
       "      <td>0.0</td>\n",
       "      <td>0.0</td>\n",
       "      <td>1.0</td>\n",
       "      <td>1.0</td>\n",
       "      <td>1.0</td>\n",
       "      <td>1.0</td>\n",
       "      <td>1.0</td>\n",
       "      <td>3.0</td>\n",
       "      <td>...</td>\n",
       "      <td>0.0</td>\n",
       "      <td>0.0</td>\n",
       "      <td>0.0</td>\n",
       "      <td>0.0</td>\n",
       "      <td>0.0</td>\n",
       "      <td>0.0</td>\n",
       "      <td>0.0</td>\n",
       "      <td>0.0</td>\n",
       "      <td>0.0</td>\n",
       "      <td>0</td>\n",
       "    </tr>\n",
       "    <tr>\n",
       "      <th>56366081900</th>\n",
       "      <td>4.0</td>\n",
       "      <td>0.0</td>\n",
       "      <td>0.0</td>\n",
       "      <td>1.0</td>\n",
       "      <td>4.0</td>\n",
       "      <td>10.0</td>\n",
       "      <td>19.0</td>\n",
       "      <td>66.0</td>\n",
       "      <td>146.0</td>\n",
       "      <td>289.0</td>\n",
       "      <td>...</td>\n",
       "      <td>0.0</td>\n",
       "      <td>1.0</td>\n",
       "      <td>4.0</td>\n",
       "      <td>13.0</td>\n",
       "      <td>21.0</td>\n",
       "      <td>33.0</td>\n",
       "      <td>48.0</td>\n",
       "      <td>54.0</td>\n",
       "      <td>62.0</td>\n",
       "      <td>0</td>\n",
       "    </tr>\n",
       "    <tr>\n",
       "      <th>36771346500</th>\n",
       "      <td>38.0</td>\n",
       "      <td>113.0</td>\n",
       "      <td>177.0</td>\n",
       "      <td>257.0</td>\n",
       "      <td>354.0</td>\n",
       "      <td>476.0</td>\n",
       "      <td>651.0</td>\n",
       "      <td>947.0</td>\n",
       "      <td>1383.0</td>\n",
       "      <td>2231.0</td>\n",
       "      <td>...</td>\n",
       "      <td>3.0</td>\n",
       "      <td>3.0</td>\n",
       "      <td>4.0</td>\n",
       "      <td>4.0</td>\n",
       "      <td>11.0</td>\n",
       "      <td>14.0</td>\n",
       "      <td>18.0</td>\n",
       "      <td>25.0</td>\n",
       "      <td>32.0</td>\n",
       "      <td>0</td>\n",
       "    </tr>\n",
       "    <tr>\n",
       "      <th>37041233800</th>\n",
       "      <td>7.0</td>\n",
       "      <td>20.0</td>\n",
       "      <td>81.0</td>\n",
       "      <td>154.0</td>\n",
       "      <td>191.0</td>\n",
       "      <td>242.0</td>\n",
       "      <td>298.0</td>\n",
       "      <td>349.0</td>\n",
       "      <td>420.0</td>\n",
       "      <td>479.0</td>\n",
       "      <td>...</td>\n",
       "      <td>0.0</td>\n",
       "      <td>0.0</td>\n",
       "      <td>0.0</td>\n",
       "      <td>0.0</td>\n",
       "      <td>0.0</td>\n",
       "      <td>0.0</td>\n",
       "      <td>0.0</td>\n",
       "      <td>0.0</td>\n",
       "      <td>0.0</td>\n",
       "      <td>0</td>\n",
       "    </tr>\n",
       "    <tr>\n",
       "      <th>15030116800</th>\n",
       "      <td>11.0</td>\n",
       "      <td>15.0</td>\n",
       "      <td>20.0</td>\n",
       "      <td>35.0</td>\n",
       "      <td>56.0</td>\n",
       "      <td>91.0</td>\n",
       "      <td>150.0</td>\n",
       "      <td>227.0</td>\n",
       "      <td>298.0</td>\n",
       "      <td>416.0</td>\n",
       "      <td>...</td>\n",
       "      <td>0.0</td>\n",
       "      <td>0.0</td>\n",
       "      <td>0.0</td>\n",
       "      <td>0.0</td>\n",
       "      <td>0.0</td>\n",
       "      <td>0.0</td>\n",
       "      <td>1.0</td>\n",
       "      <td>1.0</td>\n",
       "      <td>1.0</td>\n",
       "      <td>0</td>\n",
       "    </tr>\n",
       "  </tbody>\n",
       "</table>\n",
       "<p>202 rows × 28 columns</p>\n",
       "</div>"
      ],
      "text/plain": [
       "             paper_num_2015  academic_citation_2011  academic_citation_2012  \\\n",
       "authids                                                                       \n",
       "35168055500            23.0                   108.0                   165.0   \n",
       "8729078200            112.0                  1621.0                  2235.0   \n",
       "10339863000            21.0                   110.0                   151.0   \n",
       "55437181900            85.0                  3110.0                  3475.0   \n",
       "35579376100            35.0                   153.0                   190.0   \n",
       "...                     ...                     ...                     ...   \n",
       "56230769900             1.0                     0.0                     0.0   \n",
       "56366081900             4.0                     0.0                     0.0   \n",
       "36771346500            38.0                   113.0                   177.0   \n",
       "37041233800             7.0                    20.0                    81.0   \n",
       "15030116800            11.0                    15.0                    20.0   \n",
       "\n",
       "             academic_citation_2013  academic_citation_2014  \\\n",
       "authids                                                       \n",
       "35168055500                   236.0                   326.0   \n",
       "8729078200                   2850.0                  3593.0   \n",
       "10339863000                   197.0                   256.0   \n",
       "55437181900                  3896.0                  4352.0   \n",
       "35579376100                   230.0                   272.0   \n",
       "...                             ...                     ...   \n",
       "56230769900                     0.0                     1.0   \n",
       "56366081900                     1.0                     4.0   \n",
       "36771346500                   257.0                   354.0   \n",
       "37041233800                   154.0                   191.0   \n",
       "15030116800                    35.0                    56.0   \n",
       "\n",
       "             academic_citation_2015  academic_citation_2016  \\\n",
       "authids                                                       \n",
       "35168055500                   490.0                   666.0   \n",
       "8729078200                   4481.0                  5611.0   \n",
       "10339863000                   320.0                   400.0   \n",
       "55437181900                  4840.0                  5393.0   \n",
       "35579376100                   316.0                   367.0   \n",
       "...                             ...                     ...   \n",
       "56230769900                     1.0                     1.0   \n",
       "56366081900                    10.0                    19.0   \n",
       "36771346500                   476.0                   651.0   \n",
       "37041233800                   242.0                   298.0   \n",
       "15030116800                    91.0                   150.0   \n",
       "\n",
       "             academic_citation_2017  academic_citation_2018  \\\n",
       "authids                                                       \n",
       "35168055500                   829.0                  1049.0   \n",
       "8729078200                   6924.0                  8717.0   \n",
       "10339863000                   508.0                   625.0   \n",
       "55437181900                  5974.0                  6594.0   \n",
       "35579376100                   452.0                   550.0   \n",
       "...                             ...                     ...   \n",
       "56230769900                     1.0                     1.0   \n",
       "56366081900                    66.0                   146.0   \n",
       "36771346500                   947.0                  1383.0   \n",
       "37041233800                   349.0                   420.0   \n",
       "15030116800                   227.0                   298.0   \n",
       "\n",
       "             academic_citation_2019  ...  policy_citation_2015  \\\n",
       "authids                              ...                         \n",
       "35168055500                  1330.0  ...                   1.0   \n",
       "8729078200                  10609.0  ...                   8.0   \n",
       "10339863000                   750.0  ...                   1.0   \n",
       "55437181900                  7217.0  ...                  57.0   \n",
       "35579376100                   668.0  ...                   1.0   \n",
       "...                             ...  ...                   ...   \n",
       "56230769900                     3.0  ...                   0.0   \n",
       "56366081900                   289.0  ...                   0.0   \n",
       "36771346500                  2231.0  ...                   3.0   \n",
       "37041233800                   479.0  ...                   0.0   \n",
       "15030116800                   416.0  ...                   0.0   \n",
       "\n",
       "             policy_citation_2016  policy_citation_2017  policy_citation_2018  \\\n",
       "authids                                                                         \n",
       "35168055500                   2.0                   3.0                   3.0   \n",
       "8729078200                   17.0                  20.0                  20.0   \n",
       "10339863000                   2.0                   2.0                   3.0   \n",
       "55437181900                  69.0                  73.0                  78.0   \n",
       "35579376100                   1.0                   3.0                   5.0   \n",
       "...                           ...                   ...                   ...   \n",
       "56230769900                   0.0                   0.0                   0.0   \n",
       "56366081900                   1.0                   4.0                  13.0   \n",
       "36771346500                   3.0                   4.0                   4.0   \n",
       "37041233800                   0.0                   0.0                   0.0   \n",
       "15030116800                   0.0                   0.0                   0.0   \n",
       "\n",
       "             policy_citation_2019  policy_citation_2020  policy_citation_2021  \\\n",
       "authids                                                                         \n",
       "35168055500                   5.0                   6.0                   6.0   \n",
       "8729078200                   20.0                  23.0                  35.0   \n",
       "10339863000                   3.0                   3.0                   4.0   \n",
       "55437181900                  94.0                 100.0                 131.0   \n",
       "35579376100                   6.0                   9.0                  10.0   \n",
       "...                           ...                   ...                   ...   \n",
       "56230769900                   0.0                   0.0                   0.0   \n",
       "56366081900                  21.0                  33.0                  48.0   \n",
       "36771346500                  11.0                  14.0                  18.0   \n",
       "37041233800                   0.0                   0.0                   0.0   \n",
       "15030116800                   0.0                   0.0                   1.0   \n",
       "\n",
       "             policy_citation_2022  policy_citation_2023  guideline_member  \n",
       "authids                                                                    \n",
       "35168055500                  11.0                  12.0                 1  \n",
       "8729078200                   48.0                  56.0                 1  \n",
       "10339863000                   5.0                   5.0                 1  \n",
       "55437181900                 134.0                 136.0                 1  \n",
       "35579376100                  10.0                  11.0                 1  \n",
       "...                           ...                   ...               ...  \n",
       "56230769900                   0.0                   0.0                 0  \n",
       "56366081900                  54.0                  62.0                 0  \n",
       "36771346500                  25.0                  32.0                 0  \n",
       "37041233800                   0.0                   0.0                 0  \n",
       "15030116800                   1.0                   1.0                 0  \n",
       "\n",
       "[202 rows x 28 columns]"
      ]
     },
     "execution_count": 6,
     "metadata": {},
     "output_type": "execute_result"
    }
   ],
   "source": [
    "matched_data"
   ]
  },
  {
   "cell_type": "code",
   "execution_count": 7,
   "id": "3d110c67-5e90-4259-b2fb-bfac1c24a594",
   "metadata": {
    "execution": {
     "iopub.execute_input": "2025-03-31T09:31:33.097282Z",
     "iopub.status.busy": "2025-03-31T09:31:33.096955Z",
     "iopub.status.idle": "2025-03-31T09:31:33.104293Z",
     "shell.execute_reply": "2025-03-31T09:31:33.103608Z",
     "shell.execute_reply.started": "2025-03-31T09:31:33.097256Z"
    }
   },
   "outputs": [
    {
     "data": {
      "text/plain": [
       "(101, 101)"
      ]
     },
     "execution_count": 7,
     "metadata": {},
     "output_type": "execute_result"
    }
   ],
   "source": [
    "treat_researchers = list(matched_data[matched_data['guideline_member']==1].index)\n",
    "\n",
    "control_researchers = list(matched_data[matched_data['guideline_member']==0].index)\n",
    "\n",
    "len(treat_researchers), len(control_researchers)"
   ]
  },
  {
   "cell_type": "code",
   "execution_count": 8,
   "id": "e3e1c89b-a532-4361-883a-9c1aa34c5e32",
   "metadata": {
    "execution": {
     "iopub.execute_input": "2025-03-31T09:31:33.315546Z",
     "iopub.status.busy": "2025-03-31T09:31:33.315211Z",
     "iopub.status.idle": "2025-03-31T09:32:09.268189Z",
     "shell.execute_reply": "2025-03-31T09:32:09.267507Z",
     "shell.execute_reply.started": "2025-03-31T09:31:33.315519Z"
    }
   },
   "outputs": [],
   "source": [
    "authids_df = pd.read_pickle('/disks/qnap3/shared/scopus-24/data/paper/authids.pickle')\n",
    "authids_df = pd.DataFrame(authids_df)\n",
    "authids_df.reset_index(inplace=True)\n",
    "authids_df.rename(columns={'index':'eid'},inplace=True)"
   ]
  },
  {
   "cell_type": "code",
   "execution_count": 9,
   "id": "325f2ead-6964-4d0b-a001-658b8e0bfea5",
   "metadata": {
    "execution": {
     "iopub.execute_input": "2025-03-31T09:32:09.269158Z",
     "iopub.status.busy": "2025-03-31T09:32:09.269044Z",
     "iopub.status.idle": "2025-03-31T09:32:09.274701Z",
     "shell.execute_reply": "2025-03-31T09:32:09.274109Z",
     "shell.execute_reply.started": "2025-03-31T09:32:09.269148Z"
    }
   },
   "outputs": [
    {
     "data": {
      "text/html": [
       "<div>\n",
       "<style scoped>\n",
       "    .dataframe tbody tr th:only-of-type {\n",
       "        vertical-align: middle;\n",
       "    }\n",
       "\n",
       "    .dataframe tbody tr th {\n",
       "        vertical-align: top;\n",
       "    }\n",
       "\n",
       "    .dataframe thead th {\n",
       "        text-align: right;\n",
       "    }\n",
       "</style>\n",
       "<table border=\"1\" class=\"dataframe\">\n",
       "  <thead>\n",
       "    <tr style=\"text-align: right;\">\n",
       "      <th></th>\n",
       "      <th>eid</th>\n",
       "      <th>authids</th>\n",
       "    </tr>\n",
       "  </thead>\n",
       "  <tbody>\n",
       "    <tr>\n",
       "      <th>0</th>\n",
       "      <td>107</td>\n",
       "      <td>[7004442182, 7004442182, 6603403884, 57203215073, 6602418637]</td>\n",
       "    </tr>\n",
       "    <tr>\n",
       "      <th>1</th>\n",
       "      <td>110</td>\n",
       "      <td>[7006050637, 6603697521, 6602703231]</td>\n",
       "    </tr>\n",
       "    <tr>\n",
       "      <th>2</th>\n",
       "      <td>116</td>\n",
       "      <td>[57218153744, 7402496690, 35351983100]</td>\n",
       "    </tr>\n",
       "    <tr>\n",
       "      <th>3</th>\n",
       "      <td>117</td>\n",
       "      <td>[7005148342, 7003508994]</td>\n",
       "    </tr>\n",
       "    <tr>\n",
       "      <th>4</th>\n",
       "      <td>118</td>\n",
       "      <td>[6603815313, 7004562485]</td>\n",
       "    </tr>\n",
       "  </tbody>\n",
       "</table>\n",
       "</div>"
      ],
      "text/plain": [
       "   eid                                                        authids\n",
       "0  107  [7004442182, 7004442182, 6603403884, 57203215073, 6602418637]\n",
       "1  110                           [7006050637, 6603697521, 6602703231]\n",
       "2  116                         [57218153744, 7402496690, 35351983100]\n",
       "3  117                                       [7005148342, 7003508994]\n",
       "4  118                                       [6603815313, 7004562485]"
      ]
     },
     "execution_count": 9,
     "metadata": {},
     "output_type": "execute_result"
    }
   ],
   "source": [
    "authids_df.head()"
   ]
  },
  {
   "cell_type": "code",
   "execution_count": 10,
   "id": "bb42c81c-a921-484e-a421-6914f3c8d0d8",
   "metadata": {
    "execution": {
     "iopub.execute_input": "2025-03-31T09:32:09.275561Z",
     "iopub.status.busy": "2025-03-31T09:32:09.275460Z",
     "iopub.status.idle": "2025-03-31T09:32:10.492559Z",
     "shell.execute_reply": "2025-03-31T09:32:10.491879Z",
     "shell.execute_reply.started": "2025-03-31T09:32:09.275551Z"
    }
   },
   "outputs": [],
   "source": [
    "year_df = pd.read_pickle('/disks/qnap3/shared/scopus-24/data/paper/year.pickle')\n",
    "year_df = pd.DataFrame(year_df)\n",
    "year_df.reset_index(inplace=True)\n",
    "year_df.rename(columns={'index':'eid'},inplace=True)"
   ]
  },
  {
   "cell_type": "code",
   "execution_count": 11,
   "id": "8c0a12bf-aea7-45cf-b35a-db3cbe4ca336",
   "metadata": {
    "execution": {
     "iopub.execute_input": "2025-03-31T09:32:10.493782Z",
     "iopub.status.busy": "2025-03-31T09:32:10.493654Z",
     "iopub.status.idle": "2025-03-31T09:32:10.998944Z",
     "shell.execute_reply": "2025-03-31T09:32:10.998271Z",
     "shell.execute_reply.started": "2025-03-31T09:32:10.493771Z"
    }
   },
   "outputs": [],
   "source": [
    "c2_df = pd.read_pickle('/disks/qnap3/shared/scopus-24/data/paper/num_cited_c2.pickle')\n",
    "c2_df = pd.DataFrame(c2_df)\n",
    "c2_df.reset_index(inplace=True)\n",
    "c2_df.rename(columns={'index':'eid'},inplace=True)"
   ]
  },
  {
   "cell_type": "code",
   "execution_count": 12,
   "id": "37901417-5d48-4997-8dd8-11724287cccd",
   "metadata": {
    "execution": {
     "iopub.execute_input": "2025-03-31T09:32:10.999621Z",
     "iopub.status.busy": "2025-03-31T09:32:10.999509Z",
     "iopub.status.idle": "2025-03-31T09:32:11.004495Z",
     "shell.execute_reply": "2025-03-31T09:32:11.004038Z",
     "shell.execute_reply.started": "2025-03-31T09:32:10.999609Z"
    }
   },
   "outputs": [
    {
     "data": {
      "text/html": [
       "<div>\n",
       "<style scoped>\n",
       "    .dataframe tbody tr th:only-of-type {\n",
       "        vertical-align: middle;\n",
       "    }\n",
       "\n",
       "    .dataframe tbody tr th {\n",
       "        vertical-align: top;\n",
       "    }\n",
       "\n",
       "    .dataframe thead th {\n",
       "        text-align: right;\n",
       "    }\n",
       "</style>\n",
       "<table border=\"1\" class=\"dataframe\">\n",
       "  <thead>\n",
       "    <tr style=\"text-align: right;\">\n",
       "      <th></th>\n",
       "      <th>eid</th>\n",
       "      <th>c2</th>\n",
       "    </tr>\n",
       "  </thead>\n",
       "  <tbody>\n",
       "    <tr>\n",
       "      <th>0</th>\n",
       "      <td>107</td>\n",
       "      <td>4.0</td>\n",
       "    </tr>\n",
       "    <tr>\n",
       "      <th>1</th>\n",
       "      <td>110</td>\n",
       "      <td>3.0</td>\n",
       "    </tr>\n",
       "    <tr>\n",
       "      <th>2</th>\n",
       "      <td>116</td>\n",
       "      <td>3.0</td>\n",
       "    </tr>\n",
       "    <tr>\n",
       "      <th>3</th>\n",
       "      <td>117</td>\n",
       "      <td>14.0</td>\n",
       "    </tr>\n",
       "    <tr>\n",
       "      <th>4</th>\n",
       "      <td>118</td>\n",
       "      <td>4.0</td>\n",
       "    </tr>\n",
       "  </tbody>\n",
       "</table>\n",
       "</div>"
      ],
      "text/plain": [
       "   eid    c2\n",
       "0  107   4.0\n",
       "1  110   3.0\n",
       "2  116   3.0\n",
       "3  117  14.0\n",
       "4  118   4.0"
      ]
     },
     "execution_count": 12,
     "metadata": {},
     "output_type": "execute_result"
    }
   ],
   "source": [
    "c2_df.head()"
   ]
  },
  {
   "cell_type": "code",
   "execution_count": 13,
   "id": "f7ddc901-9709-4e55-bc94-4918ee5ee7a2",
   "metadata": {
    "execution": {
     "iopub.execute_input": "2025-03-31T09:32:11.005174Z",
     "iopub.status.busy": "2025-03-31T09:32:11.005074Z",
     "iopub.status.idle": "2025-03-31T09:32:39.050739Z",
     "shell.execute_reply": "2025-03-31T09:32:39.050045Z",
     "shell.execute_reply.started": "2025-03-31T09:32:11.005165Z"
    }
   },
   "outputs": [],
   "source": [
    "authids_explode_df = authids_df.explode('authids')"
   ]
  },
  {
   "cell_type": "code",
   "execution_count": 14,
   "id": "641dd23a-b72b-4bbb-bc42-b50c57a0d0c5",
   "metadata": {
    "execution": {
     "iopub.execute_input": "2025-03-31T09:32:39.051535Z",
     "iopub.status.busy": "2025-03-31T09:32:39.051424Z",
     "iopub.status.idle": "2025-03-31T09:34:12.706939Z",
     "shell.execute_reply": "2025-03-31T09:34:12.706198Z",
     "shell.execute_reply.started": "2025-03-31T09:32:39.051524Z"
    }
   },
   "outputs": [
    {
     "name": "stderr",
     "output_type": "stream",
     "text": [
      "/tmp/ipykernel_1853816/688452820.py:1: FutureWarning: Downcasting behavior in `replace` is deprecated and will be removed in a future version. To retain the old behavior, explicitly call `result.infer_objects(copy=False)`. To opt-in to the future behavior, set `pd.set_option('future.no_silent_downcasting', True)`\n",
      "  authids_explode_df['authids'] = authids_explode_df['authids'].replace({7006806977: 35780677200, 54791745100: 57206422848, 55588756600:57219144066, 57191727610:57219144066, 14037485900:57219144066})\n"
     ]
    }
   ],
   "source": [
    "authids_explode_df['authids'] = authids_explode_df['authids'].replace({7006806977: 35780677200, 54791745100: 57206422848, 55588756600:57219144066, 57191727610:57219144066, 14037485900:57219144066})\n"
   ]
  },
  {
   "cell_type": "code",
   "execution_count": 15,
   "id": "cf02564e-d9a1-4e4b-b67f-20468e583925",
   "metadata": {
    "execution": {
     "iopub.execute_input": "2025-03-31T09:34:12.707872Z",
     "iopub.status.busy": "2025-03-31T09:34:12.707764Z",
     "iopub.status.idle": "2025-03-31T09:34:12.713360Z",
     "shell.execute_reply": "2025-03-31T09:34:12.712919Z",
     "shell.execute_reply.started": "2025-03-31T09:34:12.707861Z"
    }
   },
   "outputs": [
    {
     "data": {
      "text/html": [
       "<div>\n",
       "<style scoped>\n",
       "    .dataframe tbody tr th:only-of-type {\n",
       "        vertical-align: middle;\n",
       "    }\n",
       "\n",
       "    .dataframe tbody tr th {\n",
       "        vertical-align: top;\n",
       "    }\n",
       "\n",
       "    .dataframe thead th {\n",
       "        text-align: right;\n",
       "    }\n",
       "</style>\n",
       "<table border=\"1\" class=\"dataframe\">\n",
       "  <thead>\n",
       "    <tr style=\"text-align: right;\">\n",
       "      <th></th>\n",
       "      <th>eid</th>\n",
       "      <th>authids</th>\n",
       "    </tr>\n",
       "  </thead>\n",
       "  <tbody>\n",
       "    <tr>\n",
       "      <th>0</th>\n",
       "      <td>107</td>\n",
       "      <td>7.004442e+09</td>\n",
       "    </tr>\n",
       "    <tr>\n",
       "      <th>0</th>\n",
       "      <td>107</td>\n",
       "      <td>7.004442e+09</td>\n",
       "    </tr>\n",
       "    <tr>\n",
       "      <th>0</th>\n",
       "      <td>107</td>\n",
       "      <td>6.603404e+09</td>\n",
       "    </tr>\n",
       "    <tr>\n",
       "      <th>0</th>\n",
       "      <td>107</td>\n",
       "      <td>5.720322e+10</td>\n",
       "    </tr>\n",
       "    <tr>\n",
       "      <th>0</th>\n",
       "      <td>107</td>\n",
       "      <td>6.602419e+09</td>\n",
       "    </tr>\n",
       "  </tbody>\n",
       "</table>\n",
       "</div>"
      ],
      "text/plain": [
       "   eid       authids\n",
       "0  107  7.004442e+09\n",
       "0  107  7.004442e+09\n",
       "0  107  6.603404e+09\n",
       "0  107  5.720322e+10\n",
       "0  107  6.602419e+09"
      ]
     },
     "execution_count": 15,
     "metadata": {},
     "output_type": "execute_result"
    }
   ],
   "source": [
    "authids_explode_df.head()"
   ]
  },
  {
   "cell_type": "code",
   "execution_count": 16,
   "id": "8233633c-66c5-4f2e-9e07-64e45cec9cd9",
   "metadata": {
    "execution": {
     "iopub.execute_input": "2025-03-31T09:34:12.713839Z",
     "iopub.status.busy": "2025-03-31T09:34:12.713744Z",
     "iopub.status.idle": "2025-03-31T09:34:37.328529Z",
     "shell.execute_reply": "2025-03-31T09:34:37.327846Z",
     "shell.execute_reply.started": "2025-03-31T09:34:12.713830Z"
    }
   },
   "outputs": [],
   "source": [
    "target_eids = authids_explode_df[authids_explode_df['authids'].isin(control_researchers)]['eid'].unique()"
   ]
  },
  {
   "cell_type": "code",
   "execution_count": 17,
   "id": "d5733939-6aba-4022-a0f6-c1fda146654d",
   "metadata": {
    "execution": {
     "iopub.execute_input": "2025-03-31T09:34:37.329878Z",
     "iopub.status.busy": "2025-03-31T09:34:37.329763Z",
     "iopub.status.idle": "2025-03-31T09:34:37.333708Z",
     "shell.execute_reply": "2025-03-31T09:34:37.333176Z",
     "shell.execute_reply.started": "2025-03-31T09:34:37.329867Z"
    }
   },
   "outputs": [
    {
     "data": {
      "text/plain": [
       "array([      76443,       98084,      142576, ..., 85191391714,\n",
       "       85193378252, 85194547424])"
      ]
     },
     "execution_count": 17,
     "metadata": {},
     "output_type": "execute_result"
    }
   ],
   "source": [
    "target_eids"
   ]
  },
  {
   "cell_type": "code",
   "execution_count": 18,
   "id": "37ec722e-9f87-4c73-a8dc-7d89968f2350",
   "metadata": {
    "execution": {
     "iopub.execute_input": "2025-03-31T09:34:37.334485Z",
     "iopub.status.busy": "2025-03-31T09:34:37.334381Z",
     "iopub.status.idle": "2025-03-31T09:34:38.056719Z",
     "shell.execute_reply": "2025-03-31T09:34:38.056182Z",
     "shell.execute_reply.started": "2025-03-31T09:34:37.334476Z"
    }
   },
   "outputs": [],
   "source": [
    "target_authids1 = authids_df[authids_df['eid'].isin(target_eids)]"
   ]
  },
  {
   "cell_type": "code",
   "execution_count": 19,
   "id": "c845d82a-66b6-425e-b226-6e47f0b7ad0e",
   "metadata": {
    "execution": {
     "iopub.execute_input": "2025-03-31T09:34:38.057476Z",
     "iopub.status.busy": "2025-03-31T09:34:38.057342Z",
     "iopub.status.idle": "2025-03-31T09:34:38.062380Z",
     "shell.execute_reply": "2025-03-31T09:34:38.061925Z",
     "shell.execute_reply.started": "2025-03-31T09:34:38.057463Z"
    }
   },
   "outputs": [
    {
     "data": {
      "text/html": [
       "<div>\n",
       "<style scoped>\n",
       "    .dataframe tbody tr th:only-of-type {\n",
       "        vertical-align: middle;\n",
       "    }\n",
       "\n",
       "    .dataframe tbody tr th {\n",
       "        vertical-align: top;\n",
       "    }\n",
       "\n",
       "    .dataframe thead th {\n",
       "        text-align: right;\n",
       "    }\n",
       "</style>\n",
       "<table border=\"1\" class=\"dataframe\">\n",
       "  <thead>\n",
       "    <tr style=\"text-align: right;\">\n",
       "      <th></th>\n",
       "      <th>eid</th>\n",
       "      <th>authids</th>\n",
       "    </tr>\n",
       "  </thead>\n",
       "  <tbody>\n",
       "    <tr>\n",
       "      <th>23716</th>\n",
       "      <td>76443</td>\n",
       "      <td>[17036612300, 17036612300, 6602831296, 6603141860, 35508498300, 7101751628, 24311471900, 6507953283, 6603770370, 7005819827, 7402672944, 7005322431]</td>\n",
       "    </tr>\n",
       "    <tr>\n",
       "      <th>30559</th>\n",
       "      <td>98084</td>\n",
       "      <td>[7401649347]</td>\n",
       "    </tr>\n",
       "    <tr>\n",
       "      <th>44529</th>\n",
       "      <td>142576</td>\n",
       "      <td>[58457966000, 57216593661, 57203045933]</td>\n",
       "    </tr>\n",
       "    <tr>\n",
       "      <th>55107</th>\n",
       "      <td>176024</td>\n",
       "      <td>[35207209200, 35207209200, 7410184308, 7410184308, 35301101400, 7404700014, 7005491937, 57197605067, 25930906600, 7201888912, 6507838545]</td>\n",
       "    </tr>\n",
       "    <tr>\n",
       "      <th>64510</th>\n",
       "      <td>206391</td>\n",
       "      <td>[50162047900, 50162047900, 7006235747]</td>\n",
       "    </tr>\n",
       "  </tbody>\n",
       "</table>\n",
       "</div>"
      ],
      "text/plain": [
       "          eid  \\\n",
       "23716   76443   \n",
       "30559   98084   \n",
       "44529  142576   \n",
       "55107  176024   \n",
       "64510  206391   \n",
       "\n",
       "                                                                                                                                                    authids  \n",
       "23716  [17036612300, 17036612300, 6602831296, 6603141860, 35508498300, 7101751628, 24311471900, 6507953283, 6603770370, 7005819827, 7402672944, 7005322431]  \n",
       "30559                                                                                                                                          [7401649347]  \n",
       "44529                                                                                                               [58457966000, 57216593661, 57203045933]  \n",
       "55107             [35207209200, 35207209200, 7410184308, 7410184308, 35301101400, 7404700014, 7005491937, 57197605067, 25930906600, 7201888912, 6507838545]  \n",
       "64510                                                                                                                [50162047900, 50162047900, 7006235747]  "
      ]
     },
     "execution_count": 19,
     "metadata": {},
     "output_type": "execute_result"
    }
   ],
   "source": [
    "target_authids1.head()"
   ]
  },
  {
   "cell_type": "code",
   "execution_count": 20,
   "id": "197a20d2-a6c8-4054-86c6-ac39e68e50b5",
   "metadata": {
    "execution": {
     "iopub.execute_input": "2025-03-31T09:34:38.062946Z",
     "iopub.status.busy": "2025-03-31T09:34:38.062835Z",
     "iopub.status.idle": "2025-03-31T09:34:38.065227Z",
     "shell.execute_reply": "2025-03-31T09:34:38.064982Z",
     "shell.execute_reply.started": "2025-03-31T09:34:38.062936Z"
    }
   },
   "outputs": [
    {
     "data": {
      "text/plain": [
       "(15012, 2)"
      ]
     },
     "execution_count": 20,
     "metadata": {},
     "output_type": "execute_result"
    }
   ],
   "source": [
    "target_authids1.shape"
   ]
  },
  {
   "cell_type": "code",
   "execution_count": 21,
   "id": "24fce6aa-a5ac-4f3b-904d-6b9cb1b5278b",
   "metadata": {
    "execution": {
     "iopub.execute_input": "2025-03-31T09:34:38.065673Z",
     "iopub.status.busy": "2025-03-31T09:34:38.065578Z",
     "iopub.status.idle": "2025-03-31T09:34:39.000420Z",
     "shell.execute_reply": "2025-03-31T09:34:39.000076Z",
     "shell.execute_reply.started": "2025-03-31T09:34:38.065664Z"
    }
   },
   "outputs": [
    {
     "name": "stderr",
     "output_type": "stream",
     "text": [
      "/tmp/ipykernel_1853816/883114831.py:6: SettingWithCopyWarning: \n",
      "A value is trying to be set on a copy of a slice from a DataFrame.\n",
      "Try using .loc[row_indexer,col_indexer] = value instead\n",
      "\n",
      "See the caveats in the documentation: https://pandas.pydata.org/pandas-docs/stable/user_guide/indexing.html#returning-a-view-versus-a-copy\n",
      "  target_authids1['authids'] = target_authids1['authids'].apply(replace_values)\n"
     ]
    }
   ],
   "source": [
    "# 値を置き換える関数を定義\n",
    "def replace_values(authid_list):\n",
    "    return [35780677200 if x == 7006806977 else 57206422848 if x == 54791745100  else 57219144066 if x == 55588756600  else 57219144066 if x == 57191727610  else 57219144066 if x == 14037485900 else x for x in authid_list]\n",
    "\n",
    "# authids列に適用\n",
    "target_authids1['authids'] = target_authids1['authids'].apply(replace_values)"
   ]
  },
  {
   "cell_type": "code",
   "execution_count": 24,
   "id": "a031b1ca-6637-49bf-bc3c-57b2ad365b22",
   "metadata": {
    "execution": {
     "iopub.execute_input": "2025-03-31T09:39:37.933369Z",
     "iopub.status.busy": "2025-03-31T09:39:37.933200Z",
     "iopub.status.idle": "2025-03-31T09:39:38.299128Z",
     "shell.execute_reply": "2025-03-31T09:39:38.298730Z",
     "shell.execute_reply.started": "2025-03-31T09:39:37.933358Z"
    }
   },
   "outputs": [],
   "source": [
    "target_authids1 = pd.merge(target_authids1, year_df, on='eid', how='left')"
   ]
  },
  {
   "cell_type": "code",
   "execution_count": 25,
   "id": "47e91344-133e-4782-aa3e-fbc27cf99fff",
   "metadata": {
    "execution": {
     "iopub.execute_input": "2025-03-31T09:39:38.299841Z",
     "iopub.status.busy": "2025-03-31T09:39:38.299703Z",
     "iopub.status.idle": "2025-03-31T09:39:38.303848Z",
     "shell.execute_reply": "2025-03-31T09:39:38.303614Z",
     "shell.execute_reply.started": "2025-03-31T09:39:38.299830Z"
    }
   },
   "outputs": [
    {
     "data": {
      "text/html": [
       "<div>\n",
       "<style scoped>\n",
       "    .dataframe tbody tr th:only-of-type {\n",
       "        vertical-align: middle;\n",
       "    }\n",
       "\n",
       "    .dataframe tbody tr th {\n",
       "        vertical-align: top;\n",
       "    }\n",
       "\n",
       "    .dataframe thead th {\n",
       "        text-align: right;\n",
       "    }\n",
       "</style>\n",
       "<table border=\"1\" class=\"dataframe\">\n",
       "  <thead>\n",
       "    <tr style=\"text-align: right;\">\n",
       "      <th></th>\n",
       "      <th>eid</th>\n",
       "      <th>authids</th>\n",
       "      <th>year</th>\n",
       "    </tr>\n",
       "  </thead>\n",
       "  <tbody>\n",
       "    <tr>\n",
       "      <th>0</th>\n",
       "      <td>76443</td>\n",
       "      <td>[17036612300, 17036612300, 6602831296, 6603141860, 35508498300, 7101751628, 24311471900, 6507953283, 6603770370, 7005819827, 7402672944, 7005322431]</td>\n",
       "      <td>2000</td>\n",
       "    </tr>\n",
       "    <tr>\n",
       "      <th>1</th>\n",
       "      <td>98084</td>\n",
       "      <td>[7401649347]</td>\n",
       "      <td>1998</td>\n",
       "    </tr>\n",
       "    <tr>\n",
       "      <th>2</th>\n",
       "      <td>142576</td>\n",
       "      <td>[58457966000, 57216593661, 57203045933]</td>\n",
       "      <td>1988</td>\n",
       "    </tr>\n",
       "    <tr>\n",
       "      <th>3</th>\n",
       "      <td>176024</td>\n",
       "      <td>[35207209200, 35207209200, 7410184308, 7410184308, 35301101400, 7404700014, 7005491937, 57197605067, 25930906600, 7201888912, 6507838545]</td>\n",
       "      <td>1999</td>\n",
       "    </tr>\n",
       "    <tr>\n",
       "      <th>4</th>\n",
       "      <td>206391</td>\n",
       "      <td>[50162047900, 50162047900, 7006235747]</td>\n",
       "      <td>1996</td>\n",
       "    </tr>\n",
       "  </tbody>\n",
       "</table>\n",
       "</div>"
      ],
      "text/plain": [
       "      eid  \\\n",
       "0   76443   \n",
       "1   98084   \n",
       "2  142576   \n",
       "3  176024   \n",
       "4  206391   \n",
       "\n",
       "                                                                                                                                                authids  \\\n",
       "0  [17036612300, 17036612300, 6602831296, 6603141860, 35508498300, 7101751628, 24311471900, 6507953283, 6603770370, 7005819827, 7402672944, 7005322431]   \n",
       "1                                                                                                                                          [7401649347]   \n",
       "2                                                                                                               [58457966000, 57216593661, 57203045933]   \n",
       "3             [35207209200, 35207209200, 7410184308, 7410184308, 35301101400, 7404700014, 7005491937, 57197605067, 25930906600, 7201888912, 6507838545]   \n",
       "4                                                                                                                [50162047900, 50162047900, 7006235747]   \n",
       "\n",
       "   year  \n",
       "0  2000  \n",
       "1  1998  \n",
       "2  1988  \n",
       "3  1999  \n",
       "4  1996  "
      ]
     },
     "execution_count": 25,
     "metadata": {},
     "output_type": "execute_result"
    }
   ],
   "source": [
    "target_authids1.head()"
   ]
  },
  {
   "cell_type": "code",
   "execution_count": 26,
   "id": "fcecdb0d-1d53-4af4-8c5f-38a2f5883538",
   "metadata": {
    "execution": {
     "iopub.execute_input": "2025-03-31T09:39:38.393479Z",
     "iopub.status.busy": "2025-03-31T09:39:38.393226Z",
     "iopub.status.idle": "2025-03-31T09:39:38.649179Z",
     "shell.execute_reply": "2025-03-31T09:39:38.648789Z",
     "shell.execute_reply.started": "2025-03-31T09:39:38.393456Z"
    }
   },
   "outputs": [],
   "source": [
    "target_authids1 = pd.merge(target_authids1, c2_df, on='eid', how='left')"
   ]
  },
  {
   "cell_type": "code",
   "execution_count": 27,
   "id": "7b848b6e-0794-4f67-83d2-a2c190b41b36",
   "metadata": {
    "execution": {
     "iopub.execute_input": "2025-03-31T09:39:38.867904Z",
     "iopub.status.busy": "2025-03-31T09:39:38.867719Z",
     "iopub.status.idle": "2025-03-31T09:39:38.872491Z",
     "shell.execute_reply": "2025-03-31T09:39:38.872242Z",
     "shell.execute_reply.started": "2025-03-31T09:39:38.867893Z"
    }
   },
   "outputs": [
    {
     "data": {
      "text/html": [
       "<div>\n",
       "<style scoped>\n",
       "    .dataframe tbody tr th:only-of-type {\n",
       "        vertical-align: middle;\n",
       "    }\n",
       "\n",
       "    .dataframe tbody tr th {\n",
       "        vertical-align: top;\n",
       "    }\n",
       "\n",
       "    .dataframe thead th {\n",
       "        text-align: right;\n",
       "    }\n",
       "</style>\n",
       "<table border=\"1\" class=\"dataframe\">\n",
       "  <thead>\n",
       "    <tr style=\"text-align: right;\">\n",
       "      <th></th>\n",
       "      <th>eid</th>\n",
       "      <th>authids</th>\n",
       "      <th>year</th>\n",
       "      <th>c2</th>\n",
       "    </tr>\n",
       "  </thead>\n",
       "  <tbody>\n",
       "    <tr>\n",
       "      <th>0</th>\n",
       "      <td>76443</td>\n",
       "      <td>[17036612300, 17036612300, 6602831296, 6603141860, 35508498300, 7101751628, 24311471900, 6507953283, 6603770370, 7005819827, 7402672944, 7005322431]</td>\n",
       "      <td>2000</td>\n",
       "      <td>4.0</td>\n",
       "    </tr>\n",
       "    <tr>\n",
       "      <th>1</th>\n",
       "      <td>98084</td>\n",
       "      <td>[7401649347]</td>\n",
       "      <td>1998</td>\n",
       "      <td>7.0</td>\n",
       "    </tr>\n",
       "    <tr>\n",
       "      <th>2</th>\n",
       "      <td>142576</td>\n",
       "      <td>[58457966000, 57216593661, 57203045933]</td>\n",
       "      <td>1988</td>\n",
       "      <td>16.0</td>\n",
       "    </tr>\n",
       "    <tr>\n",
       "      <th>3</th>\n",
       "      <td>176024</td>\n",
       "      <td>[35207209200, 35207209200, 7410184308, 7410184308, 35301101400, 7404700014, 7005491937, 57197605067, 25930906600, 7201888912, 6507838545]</td>\n",
       "      <td>1999</td>\n",
       "      <td>2.0</td>\n",
       "    </tr>\n",
       "    <tr>\n",
       "      <th>4</th>\n",
       "      <td>206391</td>\n",
       "      <td>[50162047900, 50162047900, 7006235747]</td>\n",
       "      <td>1996</td>\n",
       "      <td>2.0</td>\n",
       "    </tr>\n",
       "  </tbody>\n",
       "</table>\n",
       "</div>"
      ],
      "text/plain": [
       "      eid  \\\n",
       "0   76443   \n",
       "1   98084   \n",
       "2  142576   \n",
       "3  176024   \n",
       "4  206391   \n",
       "\n",
       "                                                                                                                                                authids  \\\n",
       "0  [17036612300, 17036612300, 6602831296, 6603141860, 35508498300, 7101751628, 24311471900, 6507953283, 6603770370, 7005819827, 7402672944, 7005322431]   \n",
       "1                                                                                                                                          [7401649347]   \n",
       "2                                                                                                               [58457966000, 57216593661, 57203045933]   \n",
       "3             [35207209200, 35207209200, 7410184308, 7410184308, 35301101400, 7404700014, 7005491937, 57197605067, 25930906600, 7201888912, 6507838545]   \n",
       "4                                                                                                                [50162047900, 50162047900, 7006235747]   \n",
       "\n",
       "   year    c2  \n",
       "0  2000   4.0  \n",
       "1  1998   7.0  \n",
       "2  1988  16.0  \n",
       "3  1999   2.0  \n",
       "4  1996   2.0  "
      ]
     },
     "execution_count": 27,
     "metadata": {},
     "output_type": "execute_result"
    }
   ],
   "source": [
    "target_authids1.head()"
   ]
  },
  {
   "cell_type": "code",
   "execution_count": 28,
   "id": "51b8cfd4-e5e4-4cfd-9e44-4db3963cfce7",
   "metadata": {
    "execution": {
     "iopub.execute_input": "2025-03-31T09:39:39.195469Z",
     "iopub.status.busy": "2025-03-31T09:39:39.195190Z",
     "iopub.status.idle": "2025-03-31T09:39:39.197989Z",
     "shell.execute_reply": "2025-03-31T09:39:39.197691Z",
     "shell.execute_reply.started": "2025-03-31T09:39:39.195451Z"
    }
   },
   "outputs": [],
   "source": [
    "# target_authids1.to_pickle('/disks/qnap3/users/21-tomokiyo/masters_thesis/data/guideline_paper/guideline_member_paper/all_guideline_member_paper_revise.pickle')"
   ]
  },
  {
   "cell_type": "code",
   "execution_count": 29,
   "id": "239ffeef-0ed9-4646-a69d-c433361a57e1",
   "metadata": {
    "execution": {
     "iopub.execute_input": "2025-03-31T09:39:40.187595Z",
     "iopub.status.busy": "2025-03-31T09:39:40.187265Z",
     "iopub.status.idle": "2025-03-31T09:39:40.192478Z",
     "shell.execute_reply": "2025-03-31T09:39:40.192019Z",
     "shell.execute_reply.started": "2025-03-31T09:39:40.187569Z"
    }
   },
   "outputs": [],
   "source": [
    "target_authids2 = target_authids1[(target_authids1['year']>=2005) & (target_authids1['year']<= 2023)]\n",
    "\n"
   ]
  },
  {
   "cell_type": "code",
   "execution_count": 30,
   "id": "7a3d9436-b05e-422d-9ee5-1b458fe16e55",
   "metadata": {
    "execution": {
     "iopub.execute_input": "2025-03-31T09:39:41.057345Z",
     "iopub.status.busy": "2025-03-31T09:39:41.057175Z",
     "iopub.status.idle": "2025-03-31T09:39:41.561804Z",
     "shell.execute_reply": "2025-03-31T09:39:41.561474Z",
     "shell.execute_reply.started": "2025-03-31T09:39:41.057333Z"
    }
   },
   "outputs": [
    {
     "name": "stderr",
     "output_type": "stream",
     "text": [
      "100%|██████████████████████████████████| 12470/12470 [00:00<00:00, 24970.66it/s]\n"
     ]
    }
   ],
   "source": [
    "colab_dict = {}\n",
    "judge_eid_dict = {}\n",
    "processed_eids = set()\n",
    "colab_set_05_15 = set()\n",
    "colab_set_16_21 = set()\n",
    "colab_set_22_23 = set()\n",
    "\n",
    "colab_year_dict = {}\n",
    "\n",
    "colab_judge_dict = {}\n",
    "\n",
    "for index, row in tqdm(target_authids2.iterrows(), total=len(target_authids2)):\n",
    "    if row['eid'] in processed_eids:\n",
    "        continue  # すでに処理済みのEIDはスキップ\n",
    "\n",
    "    processed_eids.add(row['eid'])  # 処理済みとして記録\n",
    "    colab_tmp_ls = [author_id for author_id in row['authids'] if author_id in control_researchers]\n",
    "\n",
    "    if len(set(colab_tmp_ls)) < 2:  # 非コラボの場合\n",
    "        judge_eid_dict[row['eid']] = 'non_collab'\n",
    "        continue\n",
    "        \n",
    "\n",
    "    target_set = frozenset(colab_tmp_ls)  # 組み合わせを一意に表現\n",
    "\n",
    "    colab_judge_dict[row['eid']] = 'collab'\n",
    "\n",
    "\n",
    "    if (row['year'] >= 2016) & (row['year'] <= 2021):  # 2015年以前のコラボ形態を記録\n",
    "        if target_set in colab_set_05_15:\n",
    "            judge_eid_dict[row['eid']] = '2005-15_collab'\n",
    "        else:\n",
    "            judge_eid_dict[row['eid']] = '2016-21_collab'\n",
    "            colab_set_16_21.add(target_set)\n",
    "\n",
    "    elif row['year'] >= 2022:  # 2016年以降のコラボ形態を判定\n",
    "        if target_set in colab_set_05_15:\n",
    "            judge_eid_dict[row['eid']] = '2005-15_collab'\n",
    "        elif target_set in colab_set_16_21:\n",
    "            judge_eid_dict[row['eid']] = '2016-21_collab'\n",
    "        else:\n",
    "            judge_eid_dict[row['eid']] = '2022-23_collab'\n",
    "            colab_set_22_23.add(target_set)\n",
    "\n",
    "            \n",
    "    elif row['year']<=2015:\n",
    "        colab_set_05_15.add(target_set)\n",
    "        judge_eid_dict[row['eid']] = '2005-15_collab'"
   ]
  },
  {
   "cell_type": "code",
   "execution_count": null,
   "id": "87c96657-5e88-4cfc-9659-0741e4f0704b",
   "metadata": {},
   "outputs": [],
   "source": []
  },
  {
   "cell_type": "code",
   "execution_count": 31,
   "id": "55c32f55-dccf-4c89-8217-24f1f068571c",
   "metadata": {
    "execution": {
     "iopub.execute_input": "2025-03-31T09:39:43.290547Z",
     "iopub.status.busy": "2025-03-31T09:39:43.290379Z",
     "iopub.status.idle": "2025-03-31T09:39:43.297151Z",
     "shell.execute_reply": "2025-03-31T09:39:43.296889Z",
     "shell.execute_reply.started": "2025-03-31T09:39:43.290536Z"
    }
   },
   "outputs": [],
   "source": [
    "new_colab_df = pd.DataFrame()\n",
    "\n",
    "new_colab_df['eid'] = judge_eid_dict.keys()\n",
    "new_colab_df['collab'] = judge_eid_dict.values()"
   ]
  },
  {
   "cell_type": "code",
   "execution_count": 32,
   "id": "c6d011ba-ecfe-44d4-9fef-3a483c358adc",
   "metadata": {
    "execution": {
     "iopub.execute_input": "2025-03-31T09:39:43.564091Z",
     "iopub.status.busy": "2025-03-31T09:39:43.563856Z",
     "iopub.status.idle": "2025-03-31T09:39:43.952624Z",
     "shell.execute_reply": "2025-03-31T09:39:43.952227Z",
     "shell.execute_reply.started": "2025-03-31T09:39:43.564075Z"
    }
   },
   "outputs": [],
   "source": [
    "new_colab_df = pd.merge(new_colab_df, year_df, on='eid', how='left')"
   ]
  },
  {
   "cell_type": "code",
   "execution_count": 33,
   "id": "5ddfdaf9-5098-4812-9d05-8e88a7858e48",
   "metadata": {
    "execution": {
     "iopub.execute_input": "2025-03-31T09:39:43.953330Z",
     "iopub.status.busy": "2025-03-31T09:39:43.953224Z",
     "iopub.status.idle": "2025-03-31T09:39:43.957399Z",
     "shell.execute_reply": "2025-03-31T09:39:43.957153Z",
     "shell.execute_reply.started": "2025-03-31T09:39:43.953319Z"
    }
   },
   "outputs": [
    {
     "data": {
      "text/html": [
       "<div>\n",
       "<style scoped>\n",
       "    .dataframe tbody tr th:only-of-type {\n",
       "        vertical-align: middle;\n",
       "    }\n",
       "\n",
       "    .dataframe tbody tr th {\n",
       "        vertical-align: top;\n",
       "    }\n",
       "\n",
       "    .dataframe thead th {\n",
       "        text-align: right;\n",
       "    }\n",
       "</style>\n",
       "<table border=\"1\" class=\"dataframe\">\n",
       "  <thead>\n",
       "    <tr style=\"text-align: right;\">\n",
       "      <th></th>\n",
       "      <th>eid</th>\n",
       "      <th>collab</th>\n",
       "      <th>year</th>\n",
       "    </tr>\n",
       "  </thead>\n",
       "  <tbody>\n",
       "    <tr>\n",
       "      <th>0</th>\n",
       "      <td>10344256693</td>\n",
       "      <td>2005-15_collab</td>\n",
       "      <td>2005</td>\n",
       "    </tr>\n",
       "    <tr>\n",
       "      <th>1</th>\n",
       "      <td>10444241907</td>\n",
       "      <td>non_collab</td>\n",
       "      <td>2005</td>\n",
       "    </tr>\n",
       "    <tr>\n",
       "      <th>2</th>\n",
       "      <td>11144276535</td>\n",
       "      <td>non_collab</td>\n",
       "      <td>2005</td>\n",
       "    </tr>\n",
       "    <tr>\n",
       "      <th>3</th>\n",
       "      <td>11344273392</td>\n",
       "      <td>non_collab</td>\n",
       "      <td>2005</td>\n",
       "    </tr>\n",
       "    <tr>\n",
       "      <th>4</th>\n",
       "      <td>11844249333</td>\n",
       "      <td>non_collab</td>\n",
       "      <td>2005</td>\n",
       "    </tr>\n",
       "    <tr>\n",
       "      <th>...</th>\n",
       "      <td>...</td>\n",
       "      <td>...</td>\n",
       "      <td>...</td>\n",
       "    </tr>\n",
       "    <tr>\n",
       "      <th>12465</th>\n",
       "      <td>85191236793</td>\n",
       "      <td>non_collab</td>\n",
       "      <td>2023</td>\n",
       "    </tr>\n",
       "    <tr>\n",
       "      <th>12466</th>\n",
       "      <td>85191240193</td>\n",
       "      <td>non_collab</td>\n",
       "      <td>2023</td>\n",
       "    </tr>\n",
       "    <tr>\n",
       "      <th>12467</th>\n",
       "      <td>85191391714</td>\n",
       "      <td>non_collab</td>\n",
       "      <td>2023</td>\n",
       "    </tr>\n",
       "    <tr>\n",
       "      <th>12468</th>\n",
       "      <td>85193378252</td>\n",
       "      <td>non_collab</td>\n",
       "      <td>2020</td>\n",
       "    </tr>\n",
       "    <tr>\n",
       "      <th>12469</th>\n",
       "      <td>85194547424</td>\n",
       "      <td>non_collab</td>\n",
       "      <td>2023</td>\n",
       "    </tr>\n",
       "  </tbody>\n",
       "</table>\n",
       "<p>12470 rows × 3 columns</p>\n",
       "</div>"
      ],
      "text/plain": [
       "               eid          collab  year\n",
       "0      10344256693  2005-15_collab  2005\n",
       "1      10444241907      non_collab  2005\n",
       "2      11144276535      non_collab  2005\n",
       "3      11344273392      non_collab  2005\n",
       "4      11844249333      non_collab  2005\n",
       "...            ...             ...   ...\n",
       "12465  85191236793      non_collab  2023\n",
       "12466  85191240193      non_collab  2023\n",
       "12467  85191391714      non_collab  2023\n",
       "12468  85193378252      non_collab  2020\n",
       "12469  85194547424      non_collab  2023\n",
       "\n",
       "[12470 rows x 3 columns]"
      ]
     },
     "execution_count": 33,
     "metadata": {},
     "output_type": "execute_result"
    }
   ],
   "source": [
    "new_colab_df"
   ]
  },
  {
   "cell_type": "code",
   "execution_count": 34,
   "id": "715d8eae-a22c-4b19-8a5a-f9538598f1a2",
   "metadata": {
    "execution": {
     "iopub.execute_input": "2025-03-31T09:39:45.599292Z",
     "iopub.status.busy": "2025-03-31T09:39:45.598954Z",
     "iopub.status.idle": "2025-03-31T09:39:45.855304Z",
     "shell.execute_reply": "2025-03-31T09:39:45.854917Z",
     "shell.execute_reply.started": "2025-03-31T09:39:45.599266Z"
    }
   },
   "outputs": [],
   "source": [
    "new_colab_df = pd.merge(new_colab_df, c2_df, on='eid', how='left')"
   ]
  },
  {
   "cell_type": "code",
   "execution_count": 35,
   "id": "f40b19c0-4a33-4bbf-9877-c80de04b6f0e",
   "metadata": {
    "execution": {
     "iopub.execute_input": "2025-03-31T09:39:46.175975Z",
     "iopub.status.busy": "2025-03-31T09:39:46.175801Z",
     "iopub.status.idle": "2025-03-31T09:39:46.178298Z",
     "shell.execute_reply": "2025-03-31T09:39:46.178033Z",
     "shell.execute_reply.started": "2025-03-31T09:39:46.175960Z"
    }
   },
   "outputs": [],
   "source": [
    "new_colab_df['c2'] = new_colab_df['c2'].fillna(0)"
   ]
  },
  {
   "cell_type": "code",
   "execution_count": 36,
   "id": "4144a67d-4a78-4ccd-894a-aa059f1023f4",
   "metadata": {
    "execution": {
     "iopub.execute_input": "2025-03-31T09:39:48.244032Z",
     "iopub.status.busy": "2025-03-31T09:39:48.243857Z",
     "iopub.status.idle": "2025-03-31T09:39:48.246318Z",
     "shell.execute_reply": "2025-03-31T09:39:48.245898Z",
     "shell.execute_reply.started": "2025-03-31T09:39:48.244017Z"
    }
   },
   "outputs": [],
   "source": [
    "# new_colab_df.to_pickle('/disks/qnap3/users/21-tomokiyo/masters_thesis/data/guideline_paper/guideline_member_paper/all_guideline_member_paper_colab_label_revise.pickle')\n"
   ]
  },
  {
   "cell_type": "code",
   "execution_count": 37,
   "id": "7cb15915-f475-461b-b102-3e93e3eb3016",
   "metadata": {
    "execution": {
     "iopub.execute_input": "2025-03-31T09:39:50.919097Z",
     "iopub.status.busy": "2025-03-31T09:39:50.918770Z",
     "iopub.status.idle": "2025-03-31T09:39:50.922468Z",
     "shell.execute_reply": "2025-03-31T09:39:50.921868Z",
     "shell.execute_reply.started": "2025-03-31T09:39:50.919072Z"
    }
   },
   "outputs": [],
   "source": [
    "# new_colab_df = pd.read_pickle('/disks/qnap3/users/21-tomokiyo/masters_thesis/data/guideline_paper/guideline_member_paper/all_guideline_member_paper_colab_label_revise.pickle')"
   ]
  },
  {
   "cell_type": "code",
   "execution_count": 38,
   "id": "5bbf207e-a78b-487a-9958-2e4a36a3359b",
   "metadata": {
    "execution": {
     "iopub.execute_input": "2025-03-31T09:39:51.555400Z",
     "iopub.status.busy": "2025-03-31T09:39:51.555067Z",
     "iopub.status.idle": "2025-03-31T09:39:51.564898Z",
     "shell.execute_reply": "2025-03-31T09:39:51.564045Z",
     "shell.execute_reply.started": "2025-03-31T09:39:51.555374Z"
    }
   },
   "outputs": [
    {
     "data": {
      "text/html": [
       "<div>\n",
       "<style scoped>\n",
       "    .dataframe tbody tr th:only-of-type {\n",
       "        vertical-align: middle;\n",
       "    }\n",
       "\n",
       "    .dataframe tbody tr th {\n",
       "        vertical-align: top;\n",
       "    }\n",
       "\n",
       "    .dataframe thead th {\n",
       "        text-align: right;\n",
       "    }\n",
       "</style>\n",
       "<table border=\"1\" class=\"dataframe\">\n",
       "  <thead>\n",
       "    <tr style=\"text-align: right;\">\n",
       "      <th></th>\n",
       "      <th>eid</th>\n",
       "      <th>collab</th>\n",
       "      <th>year</th>\n",
       "      <th>c2</th>\n",
       "    </tr>\n",
       "  </thead>\n",
       "  <tbody>\n",
       "    <tr>\n",
       "      <th>0</th>\n",
       "      <td>10344256693</td>\n",
       "      <td>2005-15_collab</td>\n",
       "      <td>2005</td>\n",
       "      <td>2.0</td>\n",
       "    </tr>\n",
       "    <tr>\n",
       "      <th>1</th>\n",
       "      <td>10444241907</td>\n",
       "      <td>non_collab</td>\n",
       "      <td>2005</td>\n",
       "      <td>2.0</td>\n",
       "    </tr>\n",
       "    <tr>\n",
       "      <th>2</th>\n",
       "      <td>11144276535</td>\n",
       "      <td>non_collab</td>\n",
       "      <td>2005</td>\n",
       "      <td>0.0</td>\n",
       "    </tr>\n",
       "    <tr>\n",
       "      <th>3</th>\n",
       "      <td>11344273392</td>\n",
       "      <td>non_collab</td>\n",
       "      <td>2005</td>\n",
       "      <td>2.0</td>\n",
       "    </tr>\n",
       "    <tr>\n",
       "      <th>4</th>\n",
       "      <td>11844249333</td>\n",
       "      <td>non_collab</td>\n",
       "      <td>2005</td>\n",
       "      <td>7.0</td>\n",
       "    </tr>\n",
       "  </tbody>\n",
       "</table>\n",
       "</div>"
      ],
      "text/plain": [
       "           eid          collab  year   c2\n",
       "0  10344256693  2005-15_collab  2005  2.0\n",
       "1  10444241907      non_collab  2005  2.0\n",
       "2  11144276535      non_collab  2005  0.0\n",
       "3  11344273392      non_collab  2005  2.0\n",
       "4  11844249333      non_collab  2005  7.0"
      ]
     },
     "execution_count": 38,
     "metadata": {},
     "output_type": "execute_result"
    }
   ],
   "source": [
    "new_colab_df.head()"
   ]
  },
  {
   "cell_type": "code",
   "execution_count": 39,
   "id": "1ec09f05-b708-43c8-89a6-a421ae8161bf",
   "metadata": {
    "execution": {
     "iopub.execute_input": "2025-03-31T09:39:55.873206Z",
     "iopub.status.busy": "2025-03-31T09:39:55.872875Z",
     "iopub.status.idle": "2025-03-31T09:39:55.881788Z",
     "shell.execute_reply": "2025-03-31T09:39:55.881181Z",
     "shell.execute_reply.started": "2025-03-31T09:39:55.873180Z"
    }
   },
   "outputs": [],
   "source": [
    "new_colab_df1 = pd.DataFrame(new_colab_df.groupby(['year', 'collab']).size()).reset_index()"
   ]
  },
  {
   "cell_type": "code",
   "execution_count": 40,
   "id": "5c4b8129-3f86-409e-a9e9-000a6c5aa26b",
   "metadata": {
    "execution": {
     "iopub.execute_input": "2025-03-31T09:39:56.087492Z",
     "iopub.status.busy": "2025-03-31T09:39:56.087154Z",
     "iopub.status.idle": "2025-03-31T09:39:56.092450Z",
     "shell.execute_reply": "2025-03-31T09:39:56.091625Z",
     "shell.execute_reply.started": "2025-03-31T09:39:56.087466Z"
    }
   },
   "outputs": [],
   "source": [
    "new_colab_df1.rename(columns={0:'count'},inplace=True)"
   ]
  },
  {
   "cell_type": "code",
   "execution_count": 41,
   "id": "09f42f48-528e-433b-8988-2054c00d0991",
   "metadata": {
    "execution": {
     "iopub.execute_input": "2025-03-31T09:39:56.622866Z",
     "iopub.status.busy": "2025-03-31T09:39:56.622532Z",
     "iopub.status.idle": "2025-03-31T09:39:56.633416Z",
     "shell.execute_reply": "2025-03-31T09:39:56.632556Z",
     "shell.execute_reply.started": "2025-03-31T09:39:56.622840Z"
    }
   },
   "outputs": [
    {
     "data": {
      "text/html": [
       "<div>\n",
       "<style scoped>\n",
       "    .dataframe tbody tr th:only-of-type {\n",
       "        vertical-align: middle;\n",
       "    }\n",
       "\n",
       "    .dataframe tbody tr th {\n",
       "        vertical-align: top;\n",
       "    }\n",
       "\n",
       "    .dataframe thead th {\n",
       "        text-align: right;\n",
       "    }\n",
       "</style>\n",
       "<table border=\"1\" class=\"dataframe\">\n",
       "  <thead>\n",
       "    <tr style=\"text-align: right;\">\n",
       "      <th></th>\n",
       "      <th>year</th>\n",
       "      <th>collab</th>\n",
       "      <th>count</th>\n",
       "    </tr>\n",
       "  </thead>\n",
       "  <tbody>\n",
       "    <tr>\n",
       "      <th>0</th>\n",
       "      <td>2005</td>\n",
       "      <td>2005-15_collab</td>\n",
       "      <td>27</td>\n",
       "    </tr>\n",
       "    <tr>\n",
       "      <th>1</th>\n",
       "      <td>2005</td>\n",
       "      <td>non_collab</td>\n",
       "      <td>298</td>\n",
       "    </tr>\n",
       "    <tr>\n",
       "      <th>2</th>\n",
       "      <td>2006</td>\n",
       "      <td>2005-15_collab</td>\n",
       "      <td>24</td>\n",
       "    </tr>\n",
       "    <tr>\n",
       "      <th>3</th>\n",
       "      <td>2006</td>\n",
       "      <td>non_collab</td>\n",
       "      <td>369</td>\n",
       "    </tr>\n",
       "    <tr>\n",
       "      <th>4</th>\n",
       "      <td>2007</td>\n",
       "      <td>2005-15_collab</td>\n",
       "      <td>27</td>\n",
       "    </tr>\n",
       "    <tr>\n",
       "      <th>5</th>\n",
       "      <td>2007</td>\n",
       "      <td>non_collab</td>\n",
       "      <td>428</td>\n",
       "    </tr>\n",
       "    <tr>\n",
       "      <th>6</th>\n",
       "      <td>2008</td>\n",
       "      <td>2005-15_collab</td>\n",
       "      <td>29</td>\n",
       "    </tr>\n",
       "    <tr>\n",
       "      <th>7</th>\n",
       "      <td>2008</td>\n",
       "      <td>non_collab</td>\n",
       "      <td>406</td>\n",
       "    </tr>\n",
       "    <tr>\n",
       "      <th>8</th>\n",
       "      <td>2009</td>\n",
       "      <td>2005-15_collab</td>\n",
       "      <td>32</td>\n",
       "    </tr>\n",
       "    <tr>\n",
       "      <th>9</th>\n",
       "      <td>2009</td>\n",
       "      <td>non_collab</td>\n",
       "      <td>485</td>\n",
       "    </tr>\n",
       "    <tr>\n",
       "      <th>10</th>\n",
       "      <td>2010</td>\n",
       "      <td>2005-15_collab</td>\n",
       "      <td>19</td>\n",
       "    </tr>\n",
       "    <tr>\n",
       "      <th>11</th>\n",
       "      <td>2010</td>\n",
       "      <td>non_collab</td>\n",
       "      <td>477</td>\n",
       "    </tr>\n",
       "    <tr>\n",
       "      <th>12</th>\n",
       "      <td>2011</td>\n",
       "      <td>2005-15_collab</td>\n",
       "      <td>34</td>\n",
       "    </tr>\n",
       "    <tr>\n",
       "      <th>13</th>\n",
       "      <td>2011</td>\n",
       "      <td>non_collab</td>\n",
       "      <td>576</td>\n",
       "    </tr>\n",
       "    <tr>\n",
       "      <th>14</th>\n",
       "      <td>2012</td>\n",
       "      <td>2005-15_collab</td>\n",
       "      <td>34</td>\n",
       "    </tr>\n",
       "    <tr>\n",
       "      <th>15</th>\n",
       "      <td>2012</td>\n",
       "      <td>non_collab</td>\n",
       "      <td>642</td>\n",
       "    </tr>\n",
       "    <tr>\n",
       "      <th>16</th>\n",
       "      <td>2013</td>\n",
       "      <td>2005-15_collab</td>\n",
       "      <td>71</td>\n",
       "    </tr>\n",
       "    <tr>\n",
       "      <th>17</th>\n",
       "      <td>2013</td>\n",
       "      <td>non_collab</td>\n",
       "      <td>612</td>\n",
       "    </tr>\n",
       "    <tr>\n",
       "      <th>18</th>\n",
       "      <td>2014</td>\n",
       "      <td>2005-15_collab</td>\n",
       "      <td>82</td>\n",
       "    </tr>\n",
       "    <tr>\n",
       "      <th>19</th>\n",
       "      <td>2014</td>\n",
       "      <td>non_collab</td>\n",
       "      <td>676</td>\n",
       "    </tr>\n",
       "    <tr>\n",
       "      <th>20</th>\n",
       "      <td>2015</td>\n",
       "      <td>2005-15_collab</td>\n",
       "      <td>74</td>\n",
       "    </tr>\n",
       "    <tr>\n",
       "      <th>21</th>\n",
       "      <td>2015</td>\n",
       "      <td>non_collab</td>\n",
       "      <td>698</td>\n",
       "    </tr>\n",
       "    <tr>\n",
       "      <th>22</th>\n",
       "      <td>2016</td>\n",
       "      <td>2005-15_collab</td>\n",
       "      <td>49</td>\n",
       "    </tr>\n",
       "    <tr>\n",
       "      <th>23</th>\n",
       "      <td>2016</td>\n",
       "      <td>2016-21_collab</td>\n",
       "      <td>20</td>\n",
       "    </tr>\n",
       "    <tr>\n",
       "      <th>24</th>\n",
       "      <td>2016</td>\n",
       "      <td>non_collab</td>\n",
       "      <td>726</td>\n",
       "    </tr>\n",
       "    <tr>\n",
       "      <th>25</th>\n",
       "      <td>2017</td>\n",
       "      <td>2005-15_collab</td>\n",
       "      <td>58</td>\n",
       "    </tr>\n",
       "    <tr>\n",
       "      <th>26</th>\n",
       "      <td>2017</td>\n",
       "      <td>2016-21_collab</td>\n",
       "      <td>15</td>\n",
       "    </tr>\n",
       "    <tr>\n",
       "      <th>27</th>\n",
       "      <td>2017</td>\n",
       "      <td>non_collab</td>\n",
       "      <td>702</td>\n",
       "    </tr>\n",
       "    <tr>\n",
       "      <th>28</th>\n",
       "      <td>2018</td>\n",
       "      <td>2005-15_collab</td>\n",
       "      <td>44</td>\n",
       "    </tr>\n",
       "    <tr>\n",
       "      <th>29</th>\n",
       "      <td>2018</td>\n",
       "      <td>2016-21_collab</td>\n",
       "      <td>15</td>\n",
       "    </tr>\n",
       "    <tr>\n",
       "      <th>30</th>\n",
       "      <td>2018</td>\n",
       "      <td>non_collab</td>\n",
       "      <td>724</td>\n",
       "    </tr>\n",
       "    <tr>\n",
       "      <th>31</th>\n",
       "      <td>2019</td>\n",
       "      <td>2005-15_collab</td>\n",
       "      <td>41</td>\n",
       "    </tr>\n",
       "    <tr>\n",
       "      <th>32</th>\n",
       "      <td>2019</td>\n",
       "      <td>2016-21_collab</td>\n",
       "      <td>12</td>\n",
       "    </tr>\n",
       "    <tr>\n",
       "      <th>33</th>\n",
       "      <td>2019</td>\n",
       "      <td>non_collab</td>\n",
       "      <td>739</td>\n",
       "    </tr>\n",
       "    <tr>\n",
       "      <th>34</th>\n",
       "      <td>2020</td>\n",
       "      <td>2005-15_collab</td>\n",
       "      <td>26</td>\n",
       "    </tr>\n",
       "    <tr>\n",
       "      <th>35</th>\n",
       "      <td>2020</td>\n",
       "      <td>2016-21_collab</td>\n",
       "      <td>17</td>\n",
       "    </tr>\n",
       "    <tr>\n",
       "      <th>36</th>\n",
       "      <td>2020</td>\n",
       "      <td>non_collab</td>\n",
       "      <td>783</td>\n",
       "    </tr>\n",
       "    <tr>\n",
       "      <th>37</th>\n",
       "      <td>2021</td>\n",
       "      <td>2005-15_collab</td>\n",
       "      <td>19</td>\n",
       "    </tr>\n",
       "    <tr>\n",
       "      <th>38</th>\n",
       "      <td>2021</td>\n",
       "      <td>2016-21_collab</td>\n",
       "      <td>21</td>\n",
       "    </tr>\n",
       "    <tr>\n",
       "      <th>39</th>\n",
       "      <td>2021</td>\n",
       "      <td>non_collab</td>\n",
       "      <td>814</td>\n",
       "    </tr>\n",
       "    <tr>\n",
       "      <th>40</th>\n",
       "      <td>2022</td>\n",
       "      <td>2005-15_collab</td>\n",
       "      <td>13</td>\n",
       "    </tr>\n",
       "    <tr>\n",
       "      <th>41</th>\n",
       "      <td>2022</td>\n",
       "      <td>2016-21_collab</td>\n",
       "      <td>8</td>\n",
       "    </tr>\n",
       "    <tr>\n",
       "      <th>42</th>\n",
       "      <td>2022</td>\n",
       "      <td>2022-23_collab</td>\n",
       "      <td>12</td>\n",
       "    </tr>\n",
       "    <tr>\n",
       "      <th>43</th>\n",
       "      <td>2022</td>\n",
       "      <td>non_collab</td>\n",
       "      <td>804</td>\n",
       "    </tr>\n",
       "    <tr>\n",
       "      <th>44</th>\n",
       "      <td>2023</td>\n",
       "      <td>2005-15_collab</td>\n",
       "      <td>17</td>\n",
       "    </tr>\n",
       "    <tr>\n",
       "      <th>45</th>\n",
       "      <td>2023</td>\n",
       "      <td>2016-21_collab</td>\n",
       "      <td>7</td>\n",
       "    </tr>\n",
       "    <tr>\n",
       "      <th>46</th>\n",
       "      <td>2023</td>\n",
       "      <td>2022-23_collab</td>\n",
       "      <td>15</td>\n",
       "    </tr>\n",
       "    <tr>\n",
       "      <th>47</th>\n",
       "      <td>2023</td>\n",
       "      <td>non_collab</td>\n",
       "      <td>649</td>\n",
       "    </tr>\n",
       "  </tbody>\n",
       "</table>\n",
       "</div>"
      ],
      "text/plain": [
       "    year          collab  count\n",
       "0   2005  2005-15_collab     27\n",
       "1   2005      non_collab    298\n",
       "2   2006  2005-15_collab     24\n",
       "3   2006      non_collab    369\n",
       "4   2007  2005-15_collab     27\n",
       "5   2007      non_collab    428\n",
       "6   2008  2005-15_collab     29\n",
       "7   2008      non_collab    406\n",
       "8   2009  2005-15_collab     32\n",
       "9   2009      non_collab    485\n",
       "10  2010  2005-15_collab     19\n",
       "11  2010      non_collab    477\n",
       "12  2011  2005-15_collab     34\n",
       "13  2011      non_collab    576\n",
       "14  2012  2005-15_collab     34\n",
       "15  2012      non_collab    642\n",
       "16  2013  2005-15_collab     71\n",
       "17  2013      non_collab    612\n",
       "18  2014  2005-15_collab     82\n",
       "19  2014      non_collab    676\n",
       "20  2015  2005-15_collab     74\n",
       "21  2015      non_collab    698\n",
       "22  2016  2005-15_collab     49\n",
       "23  2016  2016-21_collab     20\n",
       "24  2016      non_collab    726\n",
       "25  2017  2005-15_collab     58\n",
       "26  2017  2016-21_collab     15\n",
       "27  2017      non_collab    702\n",
       "28  2018  2005-15_collab     44\n",
       "29  2018  2016-21_collab     15\n",
       "30  2018      non_collab    724\n",
       "31  2019  2005-15_collab     41\n",
       "32  2019  2016-21_collab     12\n",
       "33  2019      non_collab    739\n",
       "34  2020  2005-15_collab     26\n",
       "35  2020  2016-21_collab     17\n",
       "36  2020      non_collab    783\n",
       "37  2021  2005-15_collab     19\n",
       "38  2021  2016-21_collab     21\n",
       "39  2021      non_collab    814\n",
       "40  2022  2005-15_collab     13\n",
       "41  2022  2016-21_collab      8\n",
       "42  2022  2022-23_collab     12\n",
       "43  2022      non_collab    804\n",
       "44  2023  2005-15_collab     17\n",
       "45  2023  2016-21_collab      7\n",
       "46  2023  2022-23_collab     15\n",
       "47  2023      non_collab    649"
      ]
     },
     "execution_count": 41,
     "metadata": {},
     "output_type": "execute_result"
    }
   ],
   "source": [
    "new_colab_df1"
   ]
  },
  {
   "cell_type": "code",
   "execution_count": 42,
   "id": "26d1f8d9-d2d0-43a7-9454-dccae4a1f10f",
   "metadata": {
    "execution": {
     "iopub.execute_input": "2025-03-31T09:39:57.802275Z",
     "iopub.status.busy": "2025-03-31T09:39:57.801944Z",
     "iopub.status.idle": "2025-03-31T09:39:57.810555Z",
     "shell.execute_reply": "2025-03-31T09:39:57.809596Z",
     "shell.execute_reply.started": "2025-03-31T09:39:57.802250Z"
    }
   },
   "outputs": [
    {
     "data": {
      "text/plain": [
       "collab\n",
       "non_collab        11608\n",
       "2005-15_collab      720\n",
       "2016-21_collab      115\n",
       "2022-23_collab       27\n",
       "Name: count, dtype: int64"
      ]
     },
     "execution_count": 42,
     "metadata": {},
     "output_type": "execute_result"
    }
   ],
   "source": [
    "new_colab_df['collab'].value_counts()"
   ]
  },
  {
   "cell_type": "code",
   "execution_count": 43,
   "id": "d13fae5a-a318-4371-84d2-12c527b17148",
   "metadata": {
    "execution": {
     "iopub.execute_input": "2025-03-31T09:40:30.213529Z",
     "iopub.status.busy": "2025-03-31T09:40:30.213339Z",
     "iopub.status.idle": "2025-03-31T09:40:30.376993Z",
     "shell.execute_reply": "2025-03-31T09:40:30.376483Z",
     "shell.execute_reply.started": "2025-03-31T09:40:30.213517Z"
    }
   },
   "outputs": [
    {
     "data": {
      "image/png": "[encoded data removed]",
      "text/plain": [
       "<Figure size 600x600 with 1 Axes>"
      ]
     },
     "metadata": {},
     "output_type": "display_data"
    }
   ],
   "source": [
    "# Pivoting data to separate 'colab' categories and summing counts for stacked area plot\n",
    "df = new_colab_df1\n",
    "df_pivot = df.pivot(index='year', columns='collab', values='count').fillna(0)\n",
    "df_pivot['total'] = df_pivot['2005-15_collab'] + df_pivot['2016-21_collab'] + df_pivot['2022-23_collab'] + df_pivot['non_collab']\n",
    "\n",
    "# Creating the stacked area plot\n",
    "plt.figure(figsize=(6, 6))\n",
    "plt.stackplot(df_pivot.index, df_pivot['2005-15_collab'], df_pivot['2016-21_collab'],df_pivot['2022-23_collab'], df_pivot['non_collab'], labels=['2005-15_collab', '2016-21_collab', '2022-23_collab', 'non_collab'])\n",
    "plt.plot(df_pivot.index, df_pivot['total'], label='Total', color='gray', linewidth=2, linestyle='--')\n",
    "\n",
    "\n",
    "plt.axvline(x=2016, color='black', linestyle='--', linewidth=3, label='2015')\n",
    "plt.axvline(x=2021, color='black', linestyle='--', linewidth=3, label='2021')\n",
    "\n",
    "\n",
    "# Adding labels and title\n",
    "# plt.title('boardmember colab papers num', fontsize=16)\n",
    "plt.xlabel('Year', fontsize=12)\n",
    "plt.ylabel('Count', fontsize=12)\n",
    "plt.xticks([2005, 2010, 2013, 2016, 2019, 2021])\n",
    "# plt.spines[['right', 'top']].set_visible(False)\n",
    "plt.legend(loc='upper left', fontsize=11)\n",
    "plt.grid(linestyle='--', alpha=0.7)\n",
    "plt.tight_layout()\n",
    "\n",
    "# Display the plot\n",
    "plt.show()"
   ]
  },
  {
   "cell_type": "code",
   "execution_count": 44,
   "id": "899ad84f-7fa1-45a5-8f58-e4a11071f78a",
   "metadata": {
    "execution": {
     "iopub.execute_input": "2025-03-31T09:40:56.839345Z",
     "iopub.status.busy": "2025-03-31T09:40:56.839014Z",
     "iopub.status.idle": "2025-03-31T09:40:56.975830Z",
     "shell.execute_reply": "2025-03-31T09:40:56.975198Z",
     "shell.execute_reply.started": "2025-03-31T09:40:56.839319Z"
    }
   },
   "outputs": [
    {
     "data": {
      "image/png": "[encoded data removed]",
      "text/plain": [
       "<Figure size 600x600 with 1 Axes>"
      ]
     },
     "metadata": {},
     "output_type": "display_data"
    }
   ],
   "source": [
    "# Pivoting data to separate 'colab' categories and summing counts for stacked area plot\n",
    "df = new_colab_df1\n",
    "df_pivot = df.pivot(index='year', columns='collab', values='count').fillna(0)\n",
    "df_pivot['total'] = df_pivot['2005-15_collab'] + df_pivot['2016-21_collab'] + df_pivot['2022-23_collab'] \n",
    "\n",
    "# Creating the stacked area plot\n",
    "plt.figure(figsize=(6, 6))\n",
    "plt.stackplot(df_pivot.index, df_pivot['2005-15_collab'], df_pivot['2016-21_collab'],df_pivot['2022-23_collab'], labels=['2005-15_collab', '2016-21_collab', '2022-23_collab'])\n",
    "plt.plot(df_pivot.index, df_pivot['total'], label='Total', color='gray', linewidth=2, linestyle='--')\n",
    "\n",
    "\n",
    "plt.axvline(x=2016, color='black', linestyle='--', linewidth=3, label='2015')\n",
    "plt.axvline(x=2021, color='black', linestyle='--', linewidth=3, label='2021')\n",
    "\n",
    "\n",
    "# Adding labels and title\n",
    "plt.title('treatment member collab papers num each year', fontsize=16)\n",
    "plt.xlabel('Year', fontsize=12)\n",
    "plt.ylabel('Number of published papers', fontsize=12)\n",
    "plt.xticks([2005, 2010, 2016, 2020, 2022])\n",
    "plt.legend(loc='upper left', fontsize=11)\n",
    "plt.grid(linestyle='--', alpha=0.7)\n",
    "plt.tight_layout()\n",
    "\n",
    "# Display the plot\n",
    "plt.show()"
   ]
  },
  {
   "cell_type": "code",
   "execution_count": 45,
   "id": "c1b8fb00-f52b-40ad-8bda-8df514cc8a1a",
   "metadata": {
    "execution": {
     "iopub.execute_input": "2025-03-31T09:41:01.702520Z",
     "iopub.status.busy": "2025-03-31T09:41:01.702332Z",
     "iopub.status.idle": "2025-03-31T09:41:04.566655Z",
     "shell.execute_reply": "2025-03-31T09:41:04.566260Z",
     "shell.execute_reply.started": "2025-03-31T09:41:01.702508Z"
    }
   },
   "outputs": [],
   "source": [
    "D_score_df = pd.read_pickle('/disks/qnap3/shared/scopus-24/data/experimental/D.pickle')\n",
    "D_score_df = pd.DataFrame(D_score_df)\n",
    "D_score_df.reset_index(inplace=True)\n",
    "D_score_df.rename(columns={'index':'eid'},inplace=True)\n",
    "D_score_df.rename(columns={0:'eid', 1:'D_score'},inplace=True)"
   ]
  },
  {
   "cell_type": "code",
   "execution_count": 46,
   "id": "3bdff371-7868-49ff-b8ba-c081438d3ca1",
   "metadata": {
    "execution": {
     "iopub.execute_input": "2025-03-31T09:41:04.567420Z",
     "iopub.status.busy": "2025-03-31T09:41:04.567303Z",
     "iopub.status.idle": "2025-03-31T09:41:15.041330Z",
     "shell.execute_reply": "2025-03-31T09:41:15.040591Z",
     "shell.execute_reply.started": "2025-03-31T09:41:04.567410Z"
    }
   },
   "outputs": [],
   "source": [
    "new_colab_df = pd.merge(new_colab_df, D_score_df, on='eid', how='left')"
   ]
  },
  {
   "cell_type": "code",
   "execution_count": 47,
   "id": "f38d8419-c34e-4b4e-a65e-deae5fc7f53d",
   "metadata": {
    "execution": {
     "iopub.execute_input": "2025-03-31T09:41:15.042321Z",
     "iopub.status.busy": "2025-03-31T09:41:15.042209Z",
     "iopub.status.idle": "2025-03-31T09:41:15.044920Z",
     "shell.execute_reply": "2025-03-31T09:41:15.044429Z",
     "shell.execute_reply.started": "2025-03-31T09:41:15.042310Z"
    }
   },
   "outputs": [],
   "source": [
    "# new_colab_df.to_pickle('/disks/qnap3/users/21-tomokiyo/masters_thesis/data/guideline_paper/all_guideline_matching/control_menber_paper_collab_label.pickle')"
   ]
  },
  {
   "cell_type": "code",
   "execution_count": 48,
   "id": "20343838-eb2e-4a9e-8bc1-8d1676b51c1e",
   "metadata": {
    "execution": {
     "iopub.execute_input": "2025-03-31T09:41:16.595237Z",
     "iopub.status.busy": "2025-03-31T09:41:16.595063Z",
     "iopub.status.idle": "2025-03-31T09:41:16.598721Z",
     "shell.execute_reply": "2025-03-31T09:41:16.598018Z",
     "shell.execute_reply.started": "2025-03-31T09:41:16.595224Z"
    }
   },
   "outputs": [],
   "source": [
    "# new_colab_df.to_pickle('/disks/qnap3/users/21-tomokiyo/masters_thesis/data/guideline_paper/data_for_master_thesis/collaboration/control_paper_colab_label_revise_same_num_use_paper_num.pickle')"
   ]
  },
  {
   "cell_type": "code",
   "execution_count": 49,
   "id": "c9f11bad-89cc-4859-b82a-d15be0d9d2ee",
   "metadata": {
    "execution": {
     "iopub.execute_input": "2025-03-31T09:41:17.034859Z",
     "iopub.status.busy": "2025-03-31T09:41:17.034593Z",
     "iopub.status.idle": "2025-03-31T09:41:17.038344Z",
     "shell.execute_reply": "2025-03-31T09:41:17.037665Z",
     "shell.execute_reply.started": "2025-03-31T09:41:17.034842Z"
    }
   },
   "outputs": [],
   "source": [
    "# new_colab_df.to_pickle('/disks/qnap3/users/21-tomokiyo/masters_thesis/data/guideline_paper/control_matching_data/revise_treat_citation_D_score.pickle')"
   ]
  },
  {
   "cell_type": "code",
   "execution_count": null,
   "id": "97129953-1468-4506-ab47-ee06c1d7942a",
   "metadata": {},
   "outputs": [],
   "source": []
  }
 ],
 "metadata": {
  "kernelspec": {
   "display_name": "Python 3 (ipykernel)",
   "language": "python",
   "name": "python3"
  },
  "language_info": {
   "codemirror_mode": {
    "name": "ipython",
    "version": 3
   },
   "file_extension": ".py",
   "mimetype": "text/x-python",
   "name": "python",
   "nbconvert_exporter": "python",
   "pygments_lexer": "ipython3",
   "version": "3.12.8"
  }
 },
 "nbformat": 4,
 "nbformat_minor": 5
}
