{
 "cells": [
  {
   "cell_type": "markdown",
   "id": "ee2c79e9-f3e8-44b6-bb0c-479f713ef0c0",
   "metadata": {},
   "source": [
    "## Policy self-citation by period"
   ]
  },
  {
   "cell_type": "code",
   "execution_count": 1,
   "id": "5485b73c-f137-44f8-96d5-bf82c59fd283",
   "metadata": {
    "execution": {
     "iopub.execute_input": "2025-01-15T15:19:18.721806Z",
     "iopub.status.busy": "2025-01-15T15:19:18.718076Z",
     "iopub.status.idle": "2025-01-15T15:19:30.976533Z",
     "shell.execute_reply": "2025-01-15T15:19:30.956581Z",
     "shell.execute_reply.started": "2025-01-15T15:19:18.721626Z"
    }
   },
   "outputs": [],
   "source": [
    "import os, sys, gc, random, itertools, math, pickle\n",
    "\n",
    "import pandas as pd\n",
    "import numpy as np\n",
    "pd.options.display.max_columns = None\n",
    "pd.options.display.max_rows = 100\n",
    "pd.options.display.max_colwidth = None\n",
    "pd.options.display.float_format = '{:.3f}'.format\n",
    "\n",
    "\n",
    "import matplotlib.pyplot as plt\n",
    "import seaborn as sns\n",
    "from tqdm import tqdm\n",
    "from itertools import combinations\n"
   ]
  },
  {
   "cell_type": "code",
   "execution_count": 2,
   "id": "392e404b-329a-49f8-9411-c72f3ad62522",
   "metadata": {
    "execution": {
     "iopub.execute_input": "2025-01-15T15:19:31.001687Z",
     "iopub.status.busy": "2025-01-15T15:19:30.996827Z",
     "iopub.status.idle": "2025-01-15T15:19:35.237221Z",
     "shell.execute_reply": "2025-01-15T15:19:35.230621Z",
     "shell.execute_reply.started": "2025-01-15T15:19:31.001553Z"
    }
   },
   "outputs": [],
   "source": [
    "import pandas as pd\n",
    "import numpy as np\n",
    "import matplotlib.pyplot as plt\n",
    "import pickle\n",
    "import networkx as nx\n",
    "from ast import literal_eval\n",
    "import leidenalg as la\n",
    "import community as community_louvain\n",
    "import igraph as ig,leidenalg\n",
    "import random\n",
    "\n",
    "\n",
    "\n",
    "flatten2 = lambda l: [item for sublist in l if sublist == sublist for item in sublist]\n",
    "\n",
    "\n",
    "def kamada(G):\n",
    "    \n",
    "    g = ig.Graph.TupleList(pd.DataFrame(G.edges()).itertuples(index=False), directed=False)\n",
    "    \n",
    "    return {v['name']:p for v,p in zip(g.vs(),g.layout_kamada_kawai()) }\n",
    "\n",
    "\n",
    "def get_co_author_network(df,top_authors_):\n",
    "    df['authids'] = df.authids.apply(lambda x: set(x) & top_authors_)\n",
    "    \n",
    "    coAuthors = flatten2(df['authids'].apply(lambda x: [[l[0],l[1],1 / (len(x) * (len(x) -1 )) ]  for l in list(itertools.product(x,x)) if l[0]!=l[1]] ))\n",
    "    coAuthors = pd.DataFrame(coAuthors)\n",
    "    coAuthors.columns = ['s','t','weight']\n",
    "    coAuthors = coAuthors.groupby(['s','t']).count()['weight'].reset_index()\n",
    "\n",
    "\n",
    "    G = nx.from_pandas_edgelist(coAuthors.query('weight>=1'),source='s',target='t')\n",
    "    return G"
   ]
  },
  {
   "cell_type": "code",
   "execution_count": 3,
   "id": "b3135e6b-322d-4028-a82a-80e1097e5bed",
   "metadata": {
    "execution": {
     "iopub.execute_input": "2025-01-15T15:19:35.251804Z",
     "iopub.status.busy": "2025-01-15T15:19:35.247715Z",
     "iopub.status.idle": "2025-01-15T15:19:35.278296Z",
     "shell.execute_reply": "2025-01-15T15:19:35.277170Z",
     "shell.execute_reply.started": "2025-01-15T15:19:35.251748Z"
    }
   },
   "outputs": [],
   "source": [
    "import pandas as pd\n",
    "import numpy as np\n",
    "import matplotlib.pyplot as plt"
   ]
  },
  {
   "cell_type": "code",
   "execution_count": 4,
   "id": "d0f08896-3a1a-40c5-a297-9190b64b3633",
   "metadata": {
    "execution": {
     "iopub.execute_input": "2025-01-15T15:19:35.285317Z",
     "iopub.status.busy": "2025-01-15T15:19:35.284668Z",
     "iopub.status.idle": "2025-01-15T15:19:35.464266Z",
     "shell.execute_reply": "2025-01-15T15:19:35.444378Z",
     "shell.execute_reply.started": "2025-01-15T15:19:35.285251Z"
    }
   },
   "outputs": [],
   "source": [
    "authid_12 = np.load('/disks/qnap3/users/21-tomokiyo/masters_thesis/data/guideline_paper/member_data/2021/A1.2_who_guideline_development_group.npy')\n",
    "authid_13 = np.load('/disks/qnap3/users/21-tomokiyo/masters_thesis/data/guideline_paper/member_data/A1.3_who_systematic_review_team_revise.npy')\n",
    "authid_14 = np.load('/disks/qnap3/users/21-tomokiyo/masters_thesis/data/guideline_paper/member_data/2021/A1.4_who_external_methodologists.npy')\n",
    "authid_15 = np.load('//disks/qnap3/users/21-tomokiyo/masters_thesis/data/guideline_paper/member_data/A1.5_who_external_review_team_revise.npy')\n",
    "\n",
    "boradmember_authid = list(authid_12)+list(authid_13)+list(authid_14)+list(authid_15)"
   ]
  },
  {
   "cell_type": "code",
   "execution_count": 5,
   "id": "bbbe3654-d1ca-4dce-a796-094babd863aa",
   "metadata": {
    "execution": {
     "iopub.execute_input": "2025-01-15T15:19:35.485120Z",
     "iopub.status.busy": "2025-01-15T15:19:35.471499Z",
     "iopub.status.idle": "2025-01-15T15:19:35.588380Z",
     "shell.execute_reply": "2025-01-15T15:19:35.568422Z",
     "shell.execute_reply.started": "2025-01-15T15:19:35.485025Z"
    }
   },
   "outputs": [],
   "source": [
    "cited_eid = np.load('/disks/qnap3/users/21-tomokiyo/masters_thesis/data/guideline_paper/ref_data/2021/who_guideline_ref_eids.npy')"
   ]
  },
  {
   "cell_type": "code",
   "execution_count": 6,
   "id": "628b6c3d-e38b-4f0d-98d4-e530dc25c551",
   "metadata": {
    "execution": {
     "iopub.execute_input": "2025-01-15T15:19:35.614275Z",
     "iopub.status.busy": "2025-01-15T15:19:35.612554Z",
     "iopub.status.idle": "2025-01-15T15:19:36.161985Z",
     "shell.execute_reply": "2025-01-15T15:19:36.147634Z",
     "shell.execute_reply.started": "2025-01-15T15:19:35.614172Z"
    }
   },
   "outputs": [],
   "source": [
    "cited_eid_vector_df = pd.read_pickle('/disks/qnap3/users/21-tomokiyo/masters_thesis/data/guideline_paper/ref_data/2021/cited_eid_vector_181.pickle')\n"
   ]
  },
  {
   "cell_type": "code",
   "execution_count": 7,
   "id": "ce1327a3-df05-474b-9f40-55a925b83077",
   "metadata": {
    "execution": {
     "iopub.execute_input": "2025-01-15T15:19:36.170356Z",
     "iopub.status.busy": "2025-01-15T15:19:36.169478Z",
     "iopub.status.idle": "2025-01-15T15:19:36.277012Z",
     "shell.execute_reply": "2025-01-15T15:19:36.246416Z",
     "shell.execute_reply.started": "2025-01-15T15:19:36.170273Z"
    }
   },
   "outputs": [],
   "source": [
    "self_citation_eid = np.load('/disks/qnap3/users/21-tomokiyo/masters_thesis/data/guideline_paper/ref_data/2021/guideline_author_paper_eids.npy')\n"
   ]
  },
  {
   "cell_type": "code",
   "execution_count": 8,
   "id": "ff0c451b-dfda-46d1-94a6-8b66ff55b3d5",
   "metadata": {
    "execution": {
     "iopub.execute_input": "2025-01-15T15:20:24.220668Z",
     "iopub.status.busy": "2025-01-15T15:20:24.213485Z",
     "iopub.status.idle": "2025-01-15T15:21:45.486080Z",
     "shell.execute_reply": "2025-01-15T15:21:45.477395Z",
     "shell.execute_reply.started": "2025-01-15T15:20:24.220388Z"
    }
   },
   "outputs": [],
   "source": [
    "year_df = pd.read_pickle('/disks/qnap3/shared/scopus-24/data/paper/year.pickle')\n",
    "year_df = pd.DataFrame(year_df)\n",
    "year_df.reset_index(inplace=True)\n",
    "year_df.rename(columns={'index':'eid'},inplace=True)"
   ]
  },
  {
   "cell_type": "code",
   "execution_count": 9,
   "id": "e02d3d43-d5de-4916-a353-f60a502e2024",
   "metadata": {
    "execution": {
     "iopub.execute_input": "2025-01-15T15:22:08.159059Z",
     "iopub.status.busy": "2025-01-15T15:22:08.153580Z",
     "iopub.status.idle": "2025-01-15T15:22:13.900334Z",
     "shell.execute_reply": "2025-01-15T15:22:13.895875Z",
     "shell.execute_reply.started": "2025-01-15T15:22:08.158988Z"
    }
   },
   "outputs": [],
   "source": [
    "target_year_df = year_df[year_df['eid'].isin(cited_eid)]"
   ]
  },
  {
   "cell_type": "code",
   "execution_count": 10,
   "id": "e8cb34d2-874e-4453-9b5e-30397648f7f1",
   "metadata": {
    "execution": {
     "iopub.execute_input": "2025-01-15T15:22:13.909848Z",
     "iopub.status.busy": "2025-01-15T15:22:13.908593Z",
     "iopub.status.idle": "2025-01-15T15:22:14.001772Z",
     "shell.execute_reply": "2025-01-15T15:22:13.999813Z",
     "shell.execute_reply.started": "2025-01-15T15:22:13.909720Z"
    }
   },
   "outputs": [
    {
     "data": {
      "text/html": [
       "<div>\n",
       "<style scoped>\n",
       "    .dataframe tbody tr th:only-of-type {\n",
       "        vertical-align: middle;\n",
       "    }\n",
       "\n",
       "    .dataframe tbody tr th {\n",
       "        vertical-align: top;\n",
       "    }\n",
       "\n",
       "    .dataframe thead th {\n",
       "        text-align: right;\n",
       "    }\n",
       "</style>\n",
       "<table border=\"1\" class=\"dataframe\">\n",
       "  <thead>\n",
       "    <tr style=\"text-align: right;\">\n",
       "      <th></th>\n",
       "      <th>eid</th>\n",
       "      <th>year</th>\n",
       "    </tr>\n",
       "  </thead>\n",
       "  <tbody>\n",
       "    <tr>\n",
       "      <th>12615369</th>\n",
       "      <td>27362097</td>\n",
       "      <td>1993</td>\n",
       "    </tr>\n",
       "    <tr>\n",
       "      <th>13858467</th>\n",
       "      <td>28802284</td>\n",
       "      <td>1995</td>\n",
       "    </tr>\n",
       "    <tr>\n",
       "      <th>17504810</th>\n",
       "      <td>33006078</td>\n",
       "      <td>1999</td>\n",
       "    </tr>\n",
       "    <tr>\n",
       "      <th>18162362</th>\n",
       "      <td>33791138</td>\n",
       "      <td>2000</td>\n",
       "    </tr>\n",
       "    <tr>\n",
       "      <th>20979105</th>\n",
       "      <td>37029043</td>\n",
       "      <td>2002</td>\n",
       "    </tr>\n",
       "  </tbody>\n",
       "</table>\n",
       "</div>"
      ],
      "text/plain": [
       "               eid  year\n",
       "12615369  27362097  1993\n",
       "13858467  28802284  1995\n",
       "17504810  33006078  1999\n",
       "18162362  33791138  2000\n",
       "20979105  37029043  2002"
      ]
     },
     "execution_count": 10,
     "metadata": {},
     "output_type": "execute_result"
    }
   ],
   "source": [
    "target_year_df.head()"
   ]
  },
  {
   "cell_type": "code",
   "execution_count": 11,
   "id": "1db5c4c0-ad33-48c1-9618-15d6d1a436d4",
   "metadata": {
    "execution": {
     "iopub.execute_input": "2025-01-15T15:22:51.714165Z",
     "iopub.status.busy": "2025-01-15T15:22:51.711771Z",
     "iopub.status.idle": "2025-01-15T15:22:51.751526Z",
     "shell.execute_reply": "2025-01-15T15:22:51.750673Z",
     "shell.execute_reply.started": "2025-01-15T15:22:51.714039Z"
    }
   },
   "outputs": [
    {
     "name": "stderr",
     "output_type": "stream",
     "text": [
      "/tmp/ipykernel_640485/2442705609.py:1: SettingWithCopyWarning: \n",
      "A value is trying to be set on a copy of a slice from a DataFrame.\n",
      "Try using .loc[row_indexer,col_indexer] = value instead\n",
      "\n",
      "See the caveats in the documentation: https://pandas.pydata.org/pandas-docs/stable/user_guide/indexing.html#returning-a-view-versus-a-copy\n",
      "  target_year_df['self_citation'] = 0\n"
     ]
    }
   ],
   "source": [
    "target_year_df['self_citation'] = 0\n",
    "target_year_df.loc[target_year_df['eid'].isin(self_citation_eid), 'self_citation'] = 1"
   ]
  },
  {
   "cell_type": "code",
   "execution_count": 13,
   "id": "fd92cf72-13aa-47cf-a37c-52b419704c42",
   "metadata": {
    "execution": {
     "iopub.execute_input": "2025-01-15T15:23:24.120836Z",
     "iopub.status.busy": "2025-01-15T15:23:24.116147Z",
     "iopub.status.idle": "2025-01-15T15:23:24.191244Z",
     "shell.execute_reply": "2025-01-15T15:23:24.180097Z",
     "shell.execute_reply.started": "2025-01-15T15:23:24.120382Z"
    }
   },
   "outputs": [],
   "source": [
    "target_year_df1 = target_year_df[target_year_df['year']<=2015]\n",
    "target_year_df2 = target_year_df[target_year_df['year']>=2016]"
   ]
  },
  {
   "cell_type": "code",
   "execution_count": 15,
   "id": "7a88c6c2-2140-4ed7-af0c-f8dfb8dc7d9c",
   "metadata": {
    "execution": {
     "iopub.execute_input": "2025-01-15T15:23:42.139069Z",
     "iopub.status.busy": "2025-01-15T15:23:42.136660Z",
     "iopub.status.idle": "2025-01-15T15:23:42.192355Z",
     "shell.execute_reply": "2025-01-15T15:23:42.190367Z",
     "shell.execute_reply.started": "2025-01-15T15:23:42.138951Z"
    }
   },
   "outputs": [
    {
     "data": {
      "text/html": [
       "<div>\n",
       "<style scoped>\n",
       "    .dataframe tbody tr th:only-of-type {\n",
       "        vertical-align: middle;\n",
       "    }\n",
       "\n",
       "    .dataframe tbody tr th {\n",
       "        vertical-align: top;\n",
       "    }\n",
       "\n",
       "    .dataframe thead th {\n",
       "        text-align: right;\n",
       "    }\n",
       "</style>\n",
       "<table border=\"1\" class=\"dataframe\">\n",
       "  <thead>\n",
       "    <tr style=\"text-align: right;\">\n",
       "      <th></th>\n",
       "      <th>eid</th>\n",
       "      <th>year</th>\n",
       "    </tr>\n",
       "    <tr>\n",
       "      <th>self_citation</th>\n",
       "      <th></th>\n",
       "      <th></th>\n",
       "    </tr>\n",
       "  </thead>\n",
       "  <tbody>\n",
       "    <tr>\n",
       "      <th>0</th>\n",
       "      <td>42</td>\n",
       "      <td>42</td>\n",
       "    </tr>\n",
       "    <tr>\n",
       "      <th>1</th>\n",
       "      <td>40</td>\n",
       "      <td>40</td>\n",
       "    </tr>\n",
       "  </tbody>\n",
       "</table>\n",
       "</div>"
      ],
      "text/plain": [
       "               eid  year\n",
       "self_citation           \n",
       "0               42    42\n",
       "1               40    40"
      ]
     },
     "execution_count": 15,
     "metadata": {},
     "output_type": "execute_result"
    }
   ],
   "source": [
    "target_year_df1.groupby(['self_citation']).count()"
   ]
  },
  {
   "cell_type": "code",
   "execution_count": 16,
   "id": "01988acd-b2a5-465e-bd57-a1a91125e8c8",
   "metadata": {
    "execution": {
     "iopub.execute_input": "2025-01-15T15:23:47.011912Z",
     "iopub.status.busy": "2025-01-15T15:23:47.006871Z",
     "iopub.status.idle": "2025-01-15T15:23:47.047677Z",
     "shell.execute_reply": "2025-01-15T15:23:47.046553Z",
     "shell.execute_reply.started": "2025-01-15T15:23:47.011824Z"
    }
   },
   "outputs": [
    {
     "data": {
      "text/html": [
       "<div>\n",
       "<style scoped>\n",
       "    .dataframe tbody tr th:only-of-type {\n",
       "        vertical-align: middle;\n",
       "    }\n",
       "\n",
       "    .dataframe tbody tr th {\n",
       "        vertical-align: top;\n",
       "    }\n",
       "\n",
       "    .dataframe thead th {\n",
       "        text-align: right;\n",
       "    }\n",
       "</style>\n",
       "<table border=\"1\" class=\"dataframe\">\n",
       "  <thead>\n",
       "    <tr style=\"text-align: right;\">\n",
       "      <th></th>\n",
       "      <th>eid</th>\n",
       "      <th>year</th>\n",
       "    </tr>\n",
       "    <tr>\n",
       "      <th>self_citation</th>\n",
       "      <th></th>\n",
       "      <th></th>\n",
       "    </tr>\n",
       "  </thead>\n",
       "  <tbody>\n",
       "    <tr>\n",
       "      <th>0</th>\n",
       "      <td>40</td>\n",
       "      <td>40</td>\n",
       "    </tr>\n",
       "    <tr>\n",
       "      <th>1</th>\n",
       "      <td>61</td>\n",
       "      <td>61</td>\n",
       "    </tr>\n",
       "  </tbody>\n",
       "</table>\n",
       "</div>"
      ],
      "text/plain": [
       "               eid  year\n",
       "self_citation           \n",
       "0               40    40\n",
       "1               61    61"
      ]
     },
     "execution_count": 16,
     "metadata": {},
     "output_type": "execute_result"
    }
   ],
   "source": [
    "target_year_df2.groupby(['self_citation']).count()"
   ]
  },
  {
   "cell_type": "code",
   "execution_count": null,
   "id": "98c4f991-1cd3-4117-bea4-90c43983af7e",
   "metadata": {},
   "outputs": [],
   "source": [
    "\n",
    "2015年以前の論文82件中、self-citationが40件、非self-citationが42件\n",
    "2016年以降の論文101件中、self-citationが61件、非self-citationが40件\n"
   ]
  },
  {
   "cell_type": "code",
   "execution_count": 21,
   "id": "289accf0-4635-4fb9-a4c3-f0c4faefe69c",
   "metadata": {
    "execution": {
     "iopub.execute_input": "2025-01-15T15:29:50.936018Z",
     "iopub.status.busy": "2025-01-15T15:29:50.932982Z",
     "iopub.status.idle": "2025-01-15T15:29:50.954630Z",
     "shell.execute_reply": "2025-01-15T15:29:50.952232Z",
     "shell.execute_reply.started": "2025-01-15T15:29:50.935860Z"
    }
   },
   "outputs": [
    {
     "data": {
      "text/plain": [
       "51.22"
      ]
     },
     "execution_count": 21,
     "metadata": {},
     "output_type": "execute_result"
    }
   ],
   "source": [
    "round(100* 42 /82, 3)"
   ]
  },
  {
   "cell_type": "code",
   "execution_count": null,
   "id": "e7eca245-0c5a-41e0-8d8d-af9e1ded839c",
   "metadata": {},
   "outputs": [],
   "source": []
  }
 ],
 "metadata": {
  "kernelspec": {
   "display_name": "Python 3 (ipykernel)",
   "language": "python",
   "name": "python3"
  },
  "language_info": {
   "codemirror_mode": {
    "name": "ipython",
    "version": 3
   },
   "file_extension": ".py",
   "mimetype": "text/x-python",
   "name": "python",
   "nbconvert_exporter": "python",
   "pygments_lexer": "ipython3",
   "version": "3.12.8"
  }
 },
 "nbformat": 4,
 "nbformat_minor": 5
}
