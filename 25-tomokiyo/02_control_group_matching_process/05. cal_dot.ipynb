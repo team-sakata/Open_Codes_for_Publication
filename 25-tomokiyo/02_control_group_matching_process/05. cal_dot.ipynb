{
 "cells": [
  {
   "cell_type": "markdown",
   "id": "d5fda687",
   "metadata": {},
   "source": [
    "## Step1: Specialization Vector"
   ]
  },
  {
   "cell_type": "code",
   "execution_count": null,
   "id": "b598d317-f39b-4496-85fc-bacbb3001452",
   "metadata": {},
   "outputs": [],
   "source": [
    "## Take the dot product of the paper vector and the researcher's one-hot vector for creating the specialization vector"
   ]
  },
  {
   "cell_type": "code",
   "execution_count": 1,
   "id": "05bdc9d4-a54c-47f8-b09e-c75a2f3bb5a1",
   "metadata": {
    "execution": {
     "iopub.execute_input": "2025-04-08T11:31:35.762031Z",
     "iopub.status.busy": "2025-04-08T11:31:35.761205Z",
     "iopub.status.idle": "2025-04-08T11:31:36.248078Z",
     "shell.execute_reply": "2025-04-08T11:31:36.247153Z",
     "shell.execute_reply.started": "2025-04-08T11:31:35.761983Z"
    }
   },
   "outputs": [],
   "source": [
    "import pickle\n",
    "import pandas as pd\n",
    "import numpy as np\n",
    "from scipy.sparse import csr_matrix"
   ]
  },
  {
   "cell_type": "code",
   "execution_count": 2,
   "id": "baabc039-98d6-4ee2-9163-049c9032d40e",
   "metadata": {
    "execution": {
     "iopub.execute_input": "2025-04-08T11:31:37.167970Z",
     "iopub.status.busy": "2025-04-08T11:31:37.167546Z",
     "iopub.status.idle": "2025-04-08T11:35:59.493343Z",
     "shell.execute_reply": "2025-04-08T11:35:59.492640Z",
     "shell.execute_reply.started": "2025-04-08T11:31:37.167950Z"
    }
   },
   "outputs": [],
   "source": [
    "# dense_matrix: the matrix of the paper embedding vectors\n",
    "dense_matrix = np.load('/disks/qnap3/users/21-tomokiyo/masters_thesis/data/guideline_paper/all_guideline_matching/embedding_matrix_2011_15.npy')"
   ]
  },
  {
   "cell_type": "code",
   "execution_count": 3,
   "id": "b85e6ae6-71b4-4d3f-b3e9-ffcaf687aadf",
   "metadata": {
    "execution": {
     "iopub.execute_input": "2025-04-08T11:35:59.495192Z",
     "iopub.status.busy": "2025-04-08T11:35:59.494835Z",
     "iopub.status.idle": "2025-04-08T11:36:01.817831Z",
     "shell.execute_reply": "2025-04-08T11:36:01.817176Z",
     "shell.execute_reply.started": "2025-04-08T11:35:59.495168Z"
    }
   },
   "outputs": [],
   "source": [
    "file_path = \"/disks/qnap3/users/21-tomokiyo/masters_thesis/data/guideline_paper/all_guideline_matching/sparse_one_hot_matrix.npz\"\n",
    "loaded_data = np.load(file_path)\n",
    "# sparse_matrix: one-hot vector for each paper indicating whether or not each author wrote it\n",
    "sparse_matrix = csr_matrix((loaded_data[\"data\"], loaded_data[\"indices\"], loaded_data[\"indptr\"]),\n",
    "                           shape=loaded_data[\"shape\"])"
   ]
  },
  {
   "cell_type": "code",
   "execution_count": null,
   "id": "7ee6af83-7257-4ff2-afb6-a42918fe5b0b",
   "metadata": {
    "execution": {
     "iopub.execute_input": "2025-04-08T11:36:01.818765Z",
     "iopub.status.busy": "2025-04-08T11:36:01.818590Z"
    }
   },
   "outputs": [],
   "source": [
    "# Dot product\n",
    "result_matrix = sparse_matrix.dot(dense_matrix)  # (11289650, 1536)\n",
    "researcher_paper_counts = sparse_matrix.sum(axis=1)  # (11289650, 1)\n",
    "researcher_paper_counts = np.array(researcher_paper_counts).flatten()\n",
    "researcher_paper_counts[researcher_paper_counts == 0] = 1 \n",
    "average_researcher_vectors = result_matrix / researcher_paper_counts[:, None]  # (11289650, 1536)\n",
    "print(f\"Average Researcher Vectors Shape: {average_researcher_vectors.shape}\")  # (11289650, 1536)"
   ]
  },
  {
   "cell_type": "code",
   "execution_count": null,
   "id": "1a14edb1-b7b6-469c-8ded-7458d8aceb32",
   "metadata": {},
   "outputs": [],
   "source": [
    "# average_researcher_vectors: specialization vector for each researcher\n",
    "average_researcher_vectors.shape"
   ]
  },
  {
   "cell_type": "code",
   "execution_count": 8,
   "id": "8b9454fd-c863-4ff9-8b9b-4e928bcef78a",
   "metadata": {
    "execution": {
     "iopub.execute_input": "2025-02-02T16:20:15.392472Z",
     "iopub.status.busy": "2025-02-02T16:20:15.392090Z",
     "iopub.status.idle": "2025-02-02T16:24:54.960627Z",
     "shell.execute_reply": "2025-02-02T16:24:54.959724Z",
     "shell.execute_reply.started": "2025-02-02T16:20:15.392445Z"
    }
   },
   "outputs": [],
   "source": [
    "# np.save('/disks/qnap3/users/21-tomokiyo/masters_thesis/data/guideline_paper/all_guideline_matching/researcher_average_embedding_matrix_2011_15.npy', average_researcher_vectors)"
   ]
  }
 ],
 "metadata": {
  "kernelspec": {
   "display_name": "Python 3 (ipykernel)",
   "language": "python",
   "name": "python3"
  },
  "language_info": {
   "codemirror_mode": {
    "name": "ipython",
    "version": 3
   },
   "file_extension": ".py",
   "mimetype": "text/x-python",
   "name": "python",
   "nbconvert_exporter": "python",
   "pygments_lexer": "ipython3",
   "version": "3.12.8"
  }
 },
 "nbformat": 4,
 "nbformat_minor": 5
}
