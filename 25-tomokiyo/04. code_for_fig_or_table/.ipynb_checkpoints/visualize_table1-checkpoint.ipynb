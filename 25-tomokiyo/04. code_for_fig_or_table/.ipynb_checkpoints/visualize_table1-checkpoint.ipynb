{
 "cells": [
  {
   "cell_type": "markdown",
   "id": "8a14a5c8-8ef5-428f-962a-b819af74d782",
   "metadata": {},
   "source": [
    "# 参考文献と共著ネットワーク上の距離"
   ]
  },
  {
   "cell_type": "code",
   "execution_count": null,
   "id": "7ae56edf-b5a2-4808-b81c-89b4800eaba7",
   "metadata": {},
   "outputs": [],
   "source": []
  },
  {
   "cell_type": "code",
   "execution_count": 22,
   "id": "4246c361-1e64-45b8-832c-742c183e40b9",
   "metadata": {
    "execution": {
     "iopub.execute_input": "2025-01-13T09:03:06.906640Z",
     "iopub.status.busy": "2025-01-13T09:03:06.905518Z",
     "iopub.status.idle": "2025-01-13T09:03:06.916884Z",
     "shell.execute_reply": "2025-01-13T09:03:06.916096Z",
     "shell.execute_reply.started": "2025-01-13T09:03:06.906598Z"
    }
   },
   "outputs": [],
   "source": [
    "import os, sys, gc, random, itertools, math, pickle\n",
    "\n",
    "import pandas as pd\n",
    "import numpy as np\n",
    "pd.options.display.max_columns = None\n",
    "pd.options.display.max_rows = 100\n",
    "pd.options.display.max_colwidth = None\n",
    "pd.options.display.float_format = '{:.3f}'.format\n",
    "\n",
    "\n",
    "import matplotlib.pyplot as plt\n",
    "import seaborn as sns\n",
    "from tqdm import tqdm\n",
    "from itertools import combinations\n",
    "import networkx as nx"
   ]
  },
  {
   "cell_type": "code",
   "execution_count": 29,
   "id": "f6cffa75-73ea-4d63-9679-5e5a569ac728",
   "metadata": {
    "execution": {
     "iopub.execute_input": "2025-01-13T09:10:12.028289Z",
     "iopub.status.busy": "2025-01-13T09:10:12.028077Z",
     "iopub.status.idle": "2025-01-13T09:10:12.039374Z",
     "shell.execute_reply": "2025-01-13T09:10:12.038722Z",
     "shell.execute_reply.started": "2025-01-13T09:10:12.028275Z"
    }
   },
   "outputs": [],
   "source": [
    "authid_12 = np.load('/disks/qnap3/users/21-tomokiyo/masters_thesis/data/guideline_paper/member_data/2021/A1.2_who_guideline_development_group.npy')\n",
    "authid_13 = np.load('/disks/qnap3/users/21-tomokiyo/masters_thesis/data/guideline_paper/member_data/A1.3_who_systematic_review_team_revise.npy')\n",
    "authid_14 = np.load('/disks/qnap3/users/21-tomokiyo/masters_thesis/data/guideline_paper/member_data/2021/A1.4_who_external_methodologists.npy')\n",
    "authid_15 = np.load('//disks/qnap3/users/21-tomokiyo/masters_thesis/data/guideline_paper/member_data/A1.5_who_external_review_team_revise.npy')\n",
    "\n",
    "boardmember_authid = list(authid_12)+list(authid_13)+list(authid_14)+list(authid_15)"
   ]
  },
  {
   "cell_type": "code",
   "execution_count": 3,
   "id": "59063e0b-cd8b-41d6-8c9a-7fdd25b7e670",
   "metadata": {
    "execution": {
     "iopub.execute_input": "2025-01-13T05:33:57.699731Z",
     "iopub.status.busy": "2025-01-13T05:33:57.698466Z",
     "iopub.status.idle": "2025-01-13T05:33:57.712893Z",
     "shell.execute_reply": "2025-01-13T05:33:57.711830Z",
     "shell.execute_reply.started": "2025-01-13T05:33:57.699670Z"
    }
   },
   "outputs": [
    {
     "data": {
      "text/plain": [
       "113"
      ]
     },
     "execution_count": 3,
     "metadata": {},
     "output_type": "execute_result"
    }
   ],
   "source": [
    "len(boradmember_authid)"
   ]
  },
  {
   "cell_type": "code",
   "execution_count": 4,
   "id": "d07dd59e-444c-4955-a36a-10323bd502d3",
   "metadata": {
    "execution": {
     "iopub.execute_input": "2025-01-13T05:33:58.880871Z",
     "iopub.status.busy": "2025-01-13T05:33:58.879831Z",
     "iopub.status.idle": "2025-01-13T05:33:58.888258Z",
     "shell.execute_reply": "2025-01-13T05:33:58.886950Z",
     "shell.execute_reply.started": "2025-01-13T05:33:58.880816Z"
    }
   },
   "outputs": [],
   "source": [
    "cited_eid = np.load('/disks/qnap3/users/21-tomokiyo/masters_thesis/data/guideline_paper/ref_data/2021/who_guideline_ref_eids.npy')"
   ]
  },
  {
   "cell_type": "code",
   "execution_count": 5,
   "id": "1062b55c-1b27-4d4f-9fde-1286ef03a4f0",
   "metadata": {
    "execution": {
     "iopub.execute_input": "2025-01-13T05:34:05.828190Z",
     "iopub.status.busy": "2025-01-13T05:34:05.827698Z",
     "iopub.status.idle": "2025-01-13T05:35:02.623754Z",
     "shell.execute_reply": "2025-01-13T05:35:02.622251Z",
     "shell.execute_reply.started": "2025-01-13T05:34:05.828163Z"
    }
   },
   "outputs": [],
   "source": [
    "authids_df = pd.read_pickle('/disks/qnap3/shared/scopus-24/data/paper/authids.pickle')\n",
    "authids_df = pd.DataFrame(authids_df)\n",
    "authids_df.reset_index(inplace=True)\n",
    "authids_df.rename(columns={'index':'eid'},inplace=True)"
   ]
  },
  {
   "cell_type": "code",
   "execution_count": null,
   "id": "a11e0ab7-da95-4156-a8aa-dcad916d47a2",
   "metadata": {},
   "outputs": [],
   "source": []
  },
  {
   "cell_type": "code",
   "execution_count": 6,
   "id": "44c922cb-927e-4493-9bf5-a06b08e110c2",
   "metadata": {
    "execution": {
     "iopub.execute_input": "2025-01-13T05:35:02.626106Z",
     "iopub.status.busy": "2025-01-13T05:35:02.625892Z",
     "iopub.status.idle": "2025-01-13T05:35:04.166180Z",
     "shell.execute_reply": "2025-01-13T05:35:04.165261Z",
     "shell.execute_reply.started": "2025-01-13T05:35:02.626087Z"
    }
   },
   "outputs": [],
   "source": [
    "cited_authids = authids_df[authids_df['eid'].isin(cited_eid)]"
   ]
  },
  {
   "cell_type": "code",
   "execution_count": 7,
   "id": "33adc6aa-a652-42f9-a34a-6d4f686d0a0a",
   "metadata": {
    "execution": {
     "iopub.execute_input": "2025-01-13T05:35:04.167292Z",
     "iopub.status.busy": "2025-01-13T05:35:04.167134Z",
     "iopub.status.idle": "2025-01-13T05:35:04.178926Z",
     "shell.execute_reply": "2025-01-13T05:35:04.178338Z",
     "shell.execute_reply.started": "2025-01-13T05:35:04.167277Z"
    }
   },
   "outputs": [
    {
     "data": {
      "text/html": [
       "<div>\n",
       "<style scoped>\n",
       "    .dataframe tbody tr th:only-of-type {\n",
       "        vertical-align: middle;\n",
       "    }\n",
       "\n",
       "    .dataframe tbody tr th {\n",
       "        vertical-align: top;\n",
       "    }\n",
       "\n",
       "    .dataframe thead th {\n",
       "        text-align: right;\n",
       "    }\n",
       "</style>\n",
       "<table border=\"1\" class=\"dataframe\">\n",
       "  <thead>\n",
       "    <tr style=\"text-align: right;\">\n",
       "      <th></th>\n",
       "      <th>eid</th>\n",
       "      <th>authids</th>\n",
       "    </tr>\n",
       "  </thead>\n",
       "  <tbody>\n",
       "    <tr>\n",
       "      <th>12615369</th>\n",
       "      <td>27362097</td>\n",
       "      <td>[7004937075, 7004937075, 57193089483, 57193089483, 57193089483, 34868966600, 7102395742, 57202555597, 7102585610, 56974691900, 57208455828, 57208455828]</td>\n",
       "    </tr>\n",
       "    <tr>\n",
       "      <th>13858467</th>\n",
       "      <td>28802284</td>\n",
       "      <td>[7103362401, 57225397374, 57202615405, 7004665680, 7101950462, 7404060133, 10739972800, 7102627126, 6507180436, 57204337226, 35832825900, 7401650526]</td>\n",
       "    </tr>\n",
       "    <tr>\n",
       "      <th>17504810</th>\n",
       "      <td>33006078</td>\n",
       "      <td>[7005616584, 7102763785, 7005035331, 57110165500, 7003874846, 35380028700, 20236659700]</td>\n",
       "    </tr>\n",
       "    <tr>\n",
       "      <th>18162362</th>\n",
       "      <td>33791138</td>\n",
       "      <td>[7005035331, 18936140900, 56560727000, 10042846400, 7005616584]</td>\n",
       "    </tr>\n",
       "    <tr>\n",
       "      <th>20979105</th>\n",
       "      <td>37029043</td>\n",
       "      <td>[57193089483, 26643599300, 26643599300, 7006846858, 7005657669, 24565152100, 13606042300, 7102270013]</td>\n",
       "    </tr>\n",
       "  </tbody>\n",
       "</table>\n",
       "</div>"
      ],
      "text/plain": [
       "               eid  \\\n",
       "12615369  27362097   \n",
       "13858467  28802284   \n",
       "17504810  33006078   \n",
       "18162362  33791138   \n",
       "20979105  37029043   \n",
       "\n",
       "                                                                                                                                                           authids  \n",
       "12615369  [7004937075, 7004937075, 57193089483, 57193089483, 57193089483, 34868966600, 7102395742, 57202555597, 7102585610, 56974691900, 57208455828, 57208455828]  \n",
       "13858467     [7103362401, 57225397374, 57202615405, 7004665680, 7101950462, 7404060133, 10739972800, 7102627126, 6507180436, 57204337226, 35832825900, 7401650526]  \n",
       "17504810                                                                   [7005616584, 7102763785, 7005035331, 57110165500, 7003874846, 35380028700, 20236659700]  \n",
       "18162362                                                                                           [7005035331, 18936140900, 56560727000, 10042846400, 7005616584]  \n",
       "20979105                                                     [57193089483, 26643599300, 26643599300, 7006846858, 7005657669, 24565152100, 13606042300, 7102270013]  "
      ]
     },
     "execution_count": 7,
     "metadata": {},
     "output_type": "execute_result"
    }
   ],
   "source": [
    "cited_authids.head()"
   ]
  },
  {
   "cell_type": "code",
   "execution_count": 17,
   "id": "6abd9e9b-1e4d-4b80-b606-fd7c9a59f055",
   "metadata": {
    "execution": {
     "iopub.execute_input": "2025-01-13T08:56:28.208750Z",
     "iopub.status.busy": "2025-01-13T08:56:28.207950Z",
     "iopub.status.idle": "2025-01-13T08:56:28.296451Z",
     "shell.execute_reply": "2025-01-13T08:56:28.296052Z",
     "shell.execute_reply.started": "2025-01-13T08:56:28.208723Z"
    }
   },
   "outputs": [
    {
     "name": "stderr",
     "output_type": "stream",
     "text": [
      "/tmp/ipykernel_2521119/512459076.py:6: SettingWithCopyWarning: \n",
      "A value is trying to be set on a copy of a slice from a DataFrame.\n",
      "Try using .loc[row_indexer,col_indexer] = value instead\n",
      "\n",
      "See the caveats in the documentation: https://pandas.pydata.org/pandas-docs/stable/user_guide/indexing.html#returning-a-view-versus-a-copy\n",
      "  cited_authids['authids'] = cited_authids['authids'].apply(replace_values)\n"
     ]
    }
   ],
   "source": [
    "# 値を置き換える関数を定義\n",
    "def replace_values(authid_list):\n",
    "    return [35780677200 if x == 7006806977 else 57206422848 if x == 54791745100  else 57219144066 if x == 55588756600  else 57219144066 if x == 57191727610  else 57219144066 if x == 14037485900 else x for x in authid_list]\n",
    "\n",
    "# authids列に適用\n",
    "cited_authids['authids'] = cited_authids['authids'].apply(replace_values)"
   ]
  },
  {
   "cell_type": "code",
   "execution_count": null,
   "id": "5858947e-e910-4d2c-8f93-8bd36f0c58fb",
   "metadata": {},
   "outputs": [],
   "source": [
    "cited_authids"
   ]
  },
  {
   "cell_type": "code",
   "execution_count": 18,
   "id": "4099baa1-1a86-41ab-a836-10d58f086f7e",
   "metadata": {
    "execution": {
     "iopub.execute_input": "2025-01-13T08:56:32.032783Z",
     "iopub.status.busy": "2025-01-13T08:56:32.031242Z",
     "iopub.status.idle": "2025-01-13T08:56:32.039702Z",
     "shell.execute_reply": "2025-01-13T08:56:32.039209Z",
     "shell.execute_reply.started": "2025-01-13T08:56:32.032744Z"
    },
    "jupyter": {
     "source_hidden": true
    }
   },
   "outputs": [
    {
     "name": "stderr",
     "output_type": "stream",
     "text": [
      "/tmp/ipykernel_2521119/3576215859.py:1: SettingWithCopyWarning: \n",
      "A value is trying to be set on a copy of a slice from a DataFrame.\n",
      "Try using .loc[row_indexer,col_indexer] = value instead\n",
      "\n",
      "See the caveats in the documentation: https://pandas.pydata.org/pandas-docs/stable/user_guide/indexing.html#returning-a-view-versus-a-copy\n",
      "  cited_authids['author_len'] = cited_authids['authids'].apply(lambda x: len(x))\n"
     ]
    }
   ],
   "source": [
    "cited_authids['author_len'] = cited_authids['authids'].apply(lambda x: len(x))"
   ]
  },
  {
   "cell_type": "code",
   "execution_count": 19,
   "id": "24df8b8f-37c5-46c2-ac69-6f5941fa4b2f",
   "metadata": {
    "execution": {
     "iopub.execute_input": "2025-01-13T08:56:33.931489Z",
     "iopub.status.busy": "2025-01-13T08:56:33.930302Z",
     "iopub.status.idle": "2025-01-13T08:56:33.952227Z",
     "shell.execute_reply": "2025-01-13T08:56:33.951649Z",
     "shell.execute_reply.started": "2025-01-13T08:56:33.931436Z"
    }
   },
   "outputs": [
    {
     "data": {
      "text/plain": [
       "6883"
      ]
     },
     "execution_count": 19,
     "metadata": {},
     "output_type": "execute_result"
    }
   ],
   "source": [
    "cited_authids['author_len'].sum()"
   ]
  },
  {
   "cell_type": "code",
   "execution_count": null,
   "id": "439de3a9-9020-4cbe-8ae4-c3fd1bf1716c",
   "metadata": {},
   "outputs": [],
   "source": []
  },
  {
   "cell_type": "code",
   "execution_count": 10,
   "id": "ec67712c-5bff-47e6-8610-d09ca076457e",
   "metadata": {
    "execution": {
     "iopub.execute_input": "2025-01-13T05:35:04.191006Z",
     "iopub.status.busy": "2025-01-13T05:35:04.190893Z",
     "iopub.status.idle": "2025-01-13T05:35:04.201062Z",
     "shell.execute_reply": "2025-01-13T05:35:04.200447Z",
     "shell.execute_reply.started": "2025-01-13T05:35:04.190996Z"
    }
   },
   "outputs": [],
   "source": [
    "cited_authids_explode = cited_authids.explode('authids')"
   ]
  },
  {
   "cell_type": "code",
   "execution_count": 11,
   "id": "99d9d49d-5a7e-456c-afbf-fdefc9aad28f",
   "metadata": {
    "execution": {
     "iopub.execute_input": "2025-01-13T05:35:04.201734Z",
     "iopub.status.busy": "2025-01-13T05:35:04.201598Z",
     "iopub.status.idle": "2025-01-13T05:35:04.209292Z",
     "shell.execute_reply": "2025-01-13T05:35:04.208715Z",
     "shell.execute_reply.started": "2025-01-13T05:35:04.201722Z"
    }
   },
   "outputs": [
    {
     "data": {
      "text/html": [
       "<div>\n",
       "<style scoped>\n",
       "    .dataframe tbody tr th:only-of-type {\n",
       "        vertical-align: middle;\n",
       "    }\n",
       "\n",
       "    .dataframe tbody tr th {\n",
       "        vertical-align: top;\n",
       "    }\n",
       "\n",
       "    .dataframe thead th {\n",
       "        text-align: right;\n",
       "    }\n",
       "</style>\n",
       "<table border=\"1\" class=\"dataframe\">\n",
       "  <thead>\n",
       "    <tr style=\"text-align: right;\">\n",
       "      <th></th>\n",
       "      <th>eid</th>\n",
       "      <th>authids</th>\n",
       "      <th>author_len</th>\n",
       "    </tr>\n",
       "  </thead>\n",
       "  <tbody>\n",
       "    <tr>\n",
       "      <th>12615369</th>\n",
       "      <td>27362097</td>\n",
       "      <td>57193089483</td>\n",
       "      <td>12</td>\n",
       "    </tr>\n",
       "    <tr>\n",
       "      <th>20979105</th>\n",
       "      <td>37029043</td>\n",
       "      <td>57193089483</td>\n",
       "      <td>8</td>\n",
       "    </tr>\n",
       "    <tr>\n",
       "      <th>22378756</th>\n",
       "      <td>142029456</td>\n",
       "      <td>26643599300</td>\n",
       "      <td>9</td>\n",
       "    </tr>\n",
       "    <tr>\n",
       "      <th>24731988</th>\n",
       "      <td>8444235628</td>\n",
       "      <td>55437181900</td>\n",
       "      <td>16</td>\n",
       "    </tr>\n",
       "    <tr>\n",
       "      <th>30832266</th>\n",
       "      <td>34447271507</td>\n",
       "      <td>7004532767</td>\n",
       "      <td>10</td>\n",
       "    </tr>\n",
       "    <tr>\n",
       "      <th>...</th>\n",
       "      <td>...</td>\n",
       "      <td>...</td>\n",
       "      <td>...</td>\n",
       "    </tr>\n",
       "    <tr>\n",
       "      <th>75273567</th>\n",
       "      <td>85100799071</td>\n",
       "      <td>6507497656</td>\n",
       "      <td>3</td>\n",
       "    </tr>\n",
       "    <tr>\n",
       "      <th>75325775</th>\n",
       "      <td>85101026971</td>\n",
       "      <td>55467335500</td>\n",
       "      <td>5</td>\n",
       "    </tr>\n",
       "    <tr>\n",
       "      <th>75812867</th>\n",
       "      <td>85103370304</td>\n",
       "      <td>35379363900</td>\n",
       "      <td>69</td>\n",
       "    </tr>\n",
       "    <tr>\n",
       "      <th>75941471</th>\n",
       "      <td>85103991733</td>\n",
       "      <td>13608072800</td>\n",
       "      <td>58</td>\n",
       "    </tr>\n",
       "    <tr>\n",
       "      <th>77167385</th>\n",
       "      <td>85111303210</td>\n",
       "      <td>7003533118</td>\n",
       "      <td>2</td>\n",
       "    </tr>\n",
       "  </tbody>\n",
       "</table>\n",
       "<p>101 rows × 3 columns</p>\n",
       "</div>"
      ],
      "text/plain": [
       "                  eid      authids  author_len\n",
       "12615369     27362097  57193089483          12\n",
       "20979105     37029043  57193089483           8\n",
       "22378756    142029456  26643599300           9\n",
       "24731988   8444235628  55437181900          16\n",
       "30832266  34447271507   7004532767          10\n",
       "...               ...          ...         ...\n",
       "75273567  85100799071   6507497656           3\n",
       "75325775  85101026971  55467335500           5\n",
       "75812867  85103370304  35379363900          69\n",
       "75941471  85103991733  13608072800          58\n",
       "77167385  85111303210   7003533118           2\n",
       "\n",
       "[101 rows x 3 columns]"
      ]
     },
     "execution_count": 11,
     "metadata": {},
     "output_type": "execute_result"
    }
   ],
   "source": [
    "cited_authids_explode1 = cited_authids_explode[cited_authids_explode['authids'].isin(boradmember_authid)]\n",
    "cited_authids_explode1.drop_duplicates('eid')"
   ]
  },
  {
   "cell_type": "code",
   "execution_count": 12,
   "id": "3ed18289-a1fa-4999-ab4c-96e4d7ce8e9b",
   "metadata": {
    "execution": {
     "iopub.execute_input": "2025-01-13T05:35:04.209876Z",
     "iopub.status.busy": "2025-01-13T05:35:04.209760Z",
     "iopub.status.idle": "2025-01-13T05:35:04.213114Z",
     "shell.execute_reply": "2025-01-13T05:35:04.212544Z",
     "shell.execute_reply.started": "2025-01-13T05:35:04.209865Z"
    }
   },
   "outputs": [],
   "source": [
    "gap_eids = cited_authids_explode1['eid'].unique()\n",
    "\n",
    "# np.save('/disks/qnap3/users/21-tomokiyo/masters_thesis/data/guideline_paper/ref_data/guideline_author_paper_eids.npy', gap_eids)\n"
   ]
  },
  {
   "cell_type": "code",
   "execution_count": null,
   "id": "2293ccd0-df29-472c-b4e3-6845aad4d629",
   "metadata": {},
   "outputs": [],
   "source": []
  },
  {
   "cell_type": "markdown",
   "id": "b17bec82-3323-4a4c-b915-4537597984c3",
   "metadata": {},
   "source": [
    "### 共著ネットワーク上の距離"
   ]
  },
  {
   "cell_type": "code",
   "execution_count": 13,
   "id": "362bcf29-1039-4f2c-80f8-e0ebcbb06520",
   "metadata": {
    "execution": {
     "iopub.execute_input": "2025-01-13T05:35:04.213813Z",
     "iopub.status.busy": "2025-01-13T05:35:04.213688Z",
     "iopub.status.idle": "2025-01-13T05:35:04.218659Z",
     "shell.execute_reply": "2025-01-13T05:35:04.218338Z",
     "shell.execute_reply.started": "2025-01-13T05:35:04.213801Z"
    }
   },
   "outputs": [],
   "source": [
    "cited_paper_authids = cited_authids.explode('authids')['authids'].unique()"
   ]
  },
  {
   "cell_type": "code",
   "execution_count": 14,
   "id": "7cfbbb03-f58b-4891-8b5f-b8f82232e7a6",
   "metadata": {
    "execution": {
     "iopub.execute_input": "2025-01-13T05:35:04.219696Z",
     "iopub.status.busy": "2025-01-13T05:35:04.219561Z",
     "iopub.status.idle": "2025-01-13T05:35:04.222439Z",
     "shell.execute_reply": "2025-01-13T05:35:04.222128Z",
     "shell.execute_reply.started": "2025-01-13T05:35:04.219684Z"
    }
   },
   "outputs": [
    {
     "data": {
      "text/plain": [
       "2555"
      ]
     },
     "execution_count": 14,
     "metadata": {},
     "output_type": "execute_result"
    }
   ],
   "source": [
    "len(cited_paper_authids)"
   ]
  },
  {
   "cell_type": "code",
   "execution_count": 51,
   "id": "76f6c693-e9b7-45cf-bc28-fded197ff2ea",
   "metadata": {
    "execution": {
     "iopub.execute_input": "2025-01-13T09:21:00.438287Z",
     "iopub.status.busy": "2025-01-13T09:21:00.438017Z",
     "iopub.status.idle": "2025-01-13T09:27:51.146446Z",
     "shell.execute_reply": "2025-01-13T09:27:51.145690Z",
     "shell.execute_reply.started": "2025-01-13T09:21:00.438266Z"
    }
   },
   "outputs": [
    {
     "ename": "UnpicklingError",
     "evalue": "invalid load key, '\\x00'.",
     "output_type": "error",
     "traceback": [
      "\u001b[0;31m---------------------------------------------------------------------------\u001b[0m",
      "\u001b[0;31mUnpicklingError\u001b[0m                           Traceback (most recent call last)",
      "Cell \u001b[0;32mIn[51], line 3\u001b[0m\n\u001b[1;32m      1\u001b[0m \u001b[38;5;66;03m# Pickle形式で読み込\u001b[39;00m\n\u001b[1;32m      2\u001b[0m \u001b[38;5;28;01mwith\u001b[39;00m \u001b[38;5;28mopen\u001b[39m(\u001b[38;5;124m\"\u001b[39m\u001b[38;5;124m/disks/qnap3/users/21-tomokiyo/masters_thesis/data/guideline_paper/co-author_network_2021/revise_0111/co_coauthorship/2021_co_coauthor_network_G_revise_correct_authids.pkl\u001b[39m\u001b[38;5;124m\"\u001b[39m, \u001b[38;5;124m\"\u001b[39m\u001b[38;5;124mrb\u001b[39m\u001b[38;5;124m\"\u001b[39m) \u001b[38;5;28;01mas\u001b[39;00m f:\n\u001b[0;32m----> 3\u001b[0m     G \u001b[38;5;241m=\u001b[39m pickle\u001b[38;5;241m.\u001b[39mload(f)\n",
      "\u001b[0;31mUnpicklingError\u001b[0m: invalid load key, '\\x00'."
     ]
    }
   ],
   "source": [
    "# Pickle形式で読み込\n",
    "with open(\"/disks/qnap3/users/21-tomokiyo/masters_thesis/data/guideline_paper/co-author_network_2021/revise_0111/co_coauthorship/2021_co_coauthor_network_G_revise_correct_authids.pkl\", \"rb\") as f:\n",
    "    G = pickle.load(f)"
   ]
  },
  {
   "cell_type": "code",
   "execution_count": 16,
   "id": "23be676c-5d7e-4870-adb4-58cfb825618f",
   "metadata": {
    "execution": {
     "iopub.execute_input": "2025-01-13T08:22:52.009367Z",
     "iopub.status.busy": "2025-01-13T08:22:52.006802Z",
     "iopub.status.idle": "2025-01-13T08:22:52.064526Z",
     "shell.execute_reply": "2025-01-13T08:22:52.063899Z",
     "shell.execute_reply.started": "2025-01-13T08:22:52.009169Z"
    }
   },
   "outputs": [
    {
     "data": {
      "text/plain": [
       "4666092"
      ]
     },
     "execution_count": 16,
     "metadata": {},
     "output_type": "execute_result"
    }
   ],
   "source": [
    "len(G.nodes())"
   ]
  },
  {
   "cell_type": "code",
   "execution_count": null,
   "id": "9baa9d04-b47c-4224-9b8d-3b281dc0bf27",
   "metadata": {},
   "outputs": [],
   "source": [
    "try:\n",
    "    shortest_path = nx.shortest_path(G, source=source, target=target, weight=\"weight\")\n",
    "    shortest_distance = nx.shortest_path_length(G, source=source, target=target, weight=\"weight\")\n",
    "\n",
    "except nx.NetworkXNoPath:"
   ]
  },
  {
   "cell_type": "code",
   "execution_count": 32,
   "id": "10cea387-8d16-48a6-b202-988b2f46ed37",
   "metadata": {
    "execution": {
     "iopub.execute_input": "2025-01-13T09:14:59.431789Z",
     "iopub.status.busy": "2025-01-13T09:14:59.431556Z",
     "iopub.status.idle": "2025-01-13T09:17:15.124368Z",
     "shell.execute_reply": "2025-01-13T09:17:15.123631Z",
     "shell.execute_reply.started": "2025-01-13T09:14:59.431773Z"
    }
   },
   "outputs": [
    {
     "name": "stderr",
     "output_type": "stream",
     "text": [
      "100%|█████████████████████████████████████████| 183/183 [02:15<00:00,  1.35it/s]\n"
     ]
    }
   ],
   "source": [
    "\n",
    "min_distance_dict = {}\n",
    "\n",
    "# 進捗バーを1つにするために全体のループをまとめる\n",
    "for index, row in tqdm(cited_authids.iterrows(), total=len(cited_authids)):\n",
    "    target_authids = row['authids']\n",
    "    distance_ls = []\n",
    "    # 対象ノードがグラフ内に存在する場合のみ処理\n",
    "    valid_target_authids = [authid for authid in target_authids if authid in G.nodes()]\n",
    "\n",
    "    for authid in valid_target_authids:\n",
    "        for guideline_authid in boardmember_authid:\n",
    "            # 対象ノードがグラフ内に存在する場合のみ処理\n",
    "            if guideline_authid in G.nodes():\n",
    "                try:\n",
    "                    shortest_distance = nx.shortest_path_length(G, source=authid, target=guideline_authid)\n",
    "                    distance_ls.append(shortest_distance)\n",
    "                    if shortest_distance == 0:\n",
    "                        break\n",
    "                except nx.NetworkXNoPath:\n",
    "                    pass\n",
    "        if shortest_distance == 0:\n",
    "            break\n",
    "\n",
    "    # 最小距離を保存（空リストの処理も含む）\n",
    "    if distance_ls:\n",
    "        min_distance = min(distance_ls)\n",
    "    else:\n",
    "        min_distance = None  # デフォルト値を設定\n",
    "    min_distance_dict[row['eid']] = min_distance\n"
   ]
  },
  {
   "cell_type": "code",
   "execution_count": 25,
   "id": "a5f92244-29d2-4185-80fc-a05e0c9c89cc",
   "metadata": {
    "execution": {
     "iopub.execute_input": "2025-01-13T09:05:42.910258Z",
     "iopub.status.busy": "2025-01-13T09:05:42.909880Z",
     "iopub.status.idle": "2025-01-13T09:05:42.915685Z",
     "shell.execute_reply": "2025-01-13T09:05:42.914846Z",
     "shell.execute_reply.started": "2025-01-13T09:05:42.910243Z"
    }
   },
   "outputs": [
    {
     "data": {
      "text/plain": [
       "networkx.exception.NetworkXNoPath"
      ]
     },
     "execution_count": 25,
     "metadata": {},
     "output_type": "execute_result"
    }
   ],
   "source": [
    "nx.NetworkXNoPath"
   ]
  },
  {
   "cell_type": "code",
   "execution_count": 48,
   "id": "53c4a620-0e40-4359-958f-1a6ae4eb75d4",
   "metadata": {
    "execution": {
     "iopub.execute_input": "2025-01-13T09:20:25.357873Z",
     "iopub.status.busy": "2025-01-13T09:20:25.356638Z",
     "iopub.status.idle": "2025-01-13T09:20:25.371278Z",
     "shell.execute_reply": "2025-01-13T09:20:25.369873Z",
     "shell.execute_reply.started": "2025-01-13T09:20:25.357820Z"
    }
   },
   "outputs": [
    {
     "data": {
      "text/plain": [
       "array([0, 1, 1, 1, 0, 1, 2, 0, None, 0, 1, 2, 1, 2, 1, 2, 0, 0, 0, 2, 0,\n",
       "       0, 0, 0, 1, 0, 0, 0, 0, 0, 2, 2, 1, 1, 1, 1, 0, 0, 1, 0, 1, 1, 1,\n",
       "       1, 2, 0, 0, 1, None, 0, 0, 0, 2, 0, 2, 0, 1, 0, 1, 0, 1, 1, 2, 0,\n",
       "       0, 0, 0, 0, 0, 2, 1, 0, 1, 1, 0, 0, 2, 0, 1, 0, 0, 0, 0, 0, 1, 1,\n",
       "       0, 1, 0, 0, 1, 0, 1, 1, 1, 1, 0, 1, 0, 0, 0, None, 1, 0, 1, 1, 0,\n",
       "       1, 0, 0, 0, 1, 0, 0, 0, 0, 1, 1, 1, 0, 1, 0, 0, 0, 1, 1, 0, 0, 1,\n",
       "       1, 0, 0, 0, 1, 0, 1, 1, 1, 0, 1, 1, 0, 1, 2, 0, 0, 0, 0, 0, 1, 0,\n",
       "       0, 1, 1, 0, 0, 0, 0, 1, 0, 0, 0, 1, 1, 0, 1, 0, 0, 0, 1, 0, 0, 0,\n",
       "       1, 0, 0, 0, 0, 1, 0, 0, 0, 0], dtype=object)"
      ]
     },
     "execution_count": 48,
     "metadata": {},
     "output_type": "execute_result"
    }
   ],
   "source": [
    "distance_array = np.array(list(min_distance_dict.values()))\n",
    "\n",
    "distance_array"
   ]
  },
  {
   "cell_type": "code",
   "execution_count": 49,
   "id": "81dc2c65-e029-42ce-a75a-566eddeb9bfb",
   "metadata": {
    "execution": {
     "iopub.execute_input": "2025-01-13T09:20:27.808103Z",
     "iopub.status.busy": "2025-01-13T09:20:27.806900Z",
     "iopub.status.idle": "2025-01-13T09:20:27.813581Z",
     "shell.execute_reply": "2025-01-13T09:20:27.812376Z",
     "shell.execute_reply.started": "2025-01-13T09:20:27.808051Z"
    }
   },
   "outputs": [],
   "source": [
    "distance_array = distance_array.astype(str)"
   ]
  },
  {
   "cell_type": "code",
   "execution_count": 50,
   "id": "0eb183be-f5fb-45b0-818e-84f4ca40e000",
   "metadata": {
    "execution": {
     "iopub.execute_input": "2025-01-13T09:20:29.184395Z",
     "iopub.status.busy": "2025-01-13T09:20:29.183275Z",
     "iopub.status.idle": "2025-01-13T09:20:29.192405Z",
     "shell.execute_reply": "2025-01-13T09:20:29.192056Z",
     "shell.execute_reply.started": "2025-01-13T09:20:29.184341Z"
    }
   },
   "outputs": [
    {
     "data": {
      "text/plain": [
       "(array(['0', '1', '2', 'None'], dtype='<U4'), array([101,  65,  14,   3]))"
      ]
     },
     "execution_count": 50,
     "metadata": {},
     "output_type": "execute_result"
    }
   ],
   "source": [
    "np.unique(distance_array, return_counts=True)"
   ]
  },
  {
   "cell_type": "code",
   "execution_count": null,
   "id": "02c2920c-0dfd-43f7-bc20-3f7038e7d9c2",
   "metadata": {},
   "outputs": [],
   "source": []
  }
 ],
 "metadata": {
  "kernelspec": {
   "display_name": "Python 3 (ipykernel)",
   "language": "python",
   "name": "python3"
  },
  "language_info": {
   "codemirror_mode": {
    "name": "ipython",
    "version": 3
   },
   "file_extension": ".py",
   "mimetype": "text/x-python",
   "name": "python",
   "nbconvert_exporter": "python",
   "pygments_lexer": "ipython3",
   "version": "3.12.8"
  }
 },
 "nbformat": 4,
 "nbformat_minor": 5
}
