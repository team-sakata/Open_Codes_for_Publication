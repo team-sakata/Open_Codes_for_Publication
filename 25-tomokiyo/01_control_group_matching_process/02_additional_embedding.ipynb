{
 "cells": [
  {
   "cell_type": "markdown",
   "id": "49caccd6-d33d-413b-afe3-f1f8855ff7ea",
   "metadata": {},
   "source": [
    "## Step1: Specialization Vector"
   ]
  },
  {
   "cell_type": "code",
   "execution_count": null,
   "id": "3f8a299e",
   "metadata": {},
   "outputs": [],
   "source": [
    "## For data with eid in Scopus but with blank title or abstract, embedding was performed by checking the original paper"
   ]
  },
  {
   "cell_type": "code",
   "execution_count": 2,
   "id": "5b33cbfc-b934-4905-ac3e-66ff6617d54d",
   "metadata": {
    "execution": {
     "iopub.execute_input": "2025-02-02T16:06:03.715418Z",
     "iopub.status.busy": "2025-02-02T16:06:03.715096Z",
     "iopub.status.idle": "2025-02-02T16:06:04.048278Z",
     "shell.execute_reply": "2025-02-02T16:06:04.047810Z",
     "shell.execute_reply.started": "2025-02-02T16:06:03.715392Z"
    }
   },
   "outputs": [],
   "source": [
    "import pandas as pd"
   ]
  },
  {
   "cell_type": "code",
   "execution_count": 3,
   "id": "41af9ab6-2d89-4aeb-8af9-b0a7d1fc1bd9",
   "metadata": {
    "execution": {
     "iopub.execute_input": "2025-02-02T16:06:04.189757Z",
     "iopub.status.busy": "2025-02-02T16:06:04.189477Z",
     "iopub.status.idle": "2025-02-02T16:06:33.453738Z",
     "shell.execute_reply": "2025-02-02T16:06:33.453271Z",
     "shell.execute_reply.started": "2025-02-02T16:06:04.189735Z"
    }
   },
   "outputs": [],
   "source": [
    "title_df = pd.read_pickle('/disks/qnap3/shared/scopus-24/data/paper/title.pickle')\n",
    "title_df = pd.DataFrame(title_df)\n",
    "title_df.reset_index(inplace=True)\n",
    "title_df.rename(columns={'index':'eid'},inplace=True)"
   ]
  },
  {
   "cell_type": "code",
   "execution_count": 6,
   "id": "777e2576-19f2-4205-84ab-ecc82cb3edf1",
   "metadata": {
    "execution": {
     "iopub.execute_input": "2025-02-02T16:06:37.125867Z",
     "iopub.status.busy": "2025-02-02T16:06:37.125746Z",
     "iopub.status.idle": "2025-02-02T16:09:33.125437Z",
     "shell.execute_reply": "2025-02-02T16:09:33.125043Z",
     "shell.execute_reply.started": "2025-02-02T16:06:37.125855Z"
    }
   },
   "outputs": [],
   "source": [
    "abstract_df = pd.read_pickle('/disks/qnap3/shared/scopus-24/data/paper/abstract.pickle')\n",
    "abstract_df = pd.DataFrame(abstract_df)\n",
    "abstract_df.reset_index(inplace=True)\n",
    "abstract_df.rename(columns={'index':'eid'},inplace=True)"
   ]
  },
  {
   "cell_type": "code",
   "execution_count": 7,
   "id": "a03e5a1a-f1a2-4119-b975-71b4a0a1f22d",
   "metadata": {
    "execution": {
     "iopub.execute_input": "2025-02-02T16:09:33.126044Z",
     "iopub.status.busy": "2025-02-02T16:09:33.125926Z",
     "iopub.status.idle": "2025-02-02T16:09:33.162630Z",
     "shell.execute_reply": "2025-02-02T16:09:33.162370Z",
     "shell.execute_reply.started": "2025-02-02T16:09:33.126033Z"
    }
   },
   "outputs": [
    {
     "data": {
      "text/html": [
       "<div>\n",
       "<style scoped>\n",
       "    .dataframe tbody tr th:only-of-type {\n",
       "        vertical-align: middle;\n",
       "    }\n",
       "\n",
       "    .dataframe tbody tr th {\n",
       "        vertical-align: top;\n",
       "    }\n",
       "\n",
       "    .dataframe thead th {\n",
       "        text-align: right;\n",
       "    }\n",
       "</style>\n",
       "<table border=\"1\" class=\"dataframe\">\n",
       "  <thead>\n",
       "    <tr style=\"text-align: right;\">\n",
       "      <th></th>\n",
       "      <th>eid</th>\n",
       "      <th>abstract</th>\n",
       "    </tr>\n",
       "  </thead>\n",
       "  <tbody>\n",
       "    <tr>\n",
       "      <th>45358667</th>\n",
       "      <td>84875442265</td>\n",
       "      <td>NO ABSTRACT</td>\n",
       "    </tr>\n",
       "  </tbody>\n",
       "</table>\n",
       "</div>"
      ],
      "text/plain": [
       "                  eid     abstract\n",
       "45358667  84875442265  NO ABSTRACT"
      ]
     },
     "execution_count": 7,
     "metadata": {},
     "output_type": "execute_result"
    }
   ],
   "source": [
    "abstract_df[abstract_df['eid']==84875442265]"
   ]
  },
  {
   "cell_type": "markdown",
   "id": "c337e188-aa18-4608-8a2a-dd92b15f2bd6",
   "metadata": {},
   "source": [
    "- Patdu_Kaye\n",
    "    - \"Co-benefits: Taking a multidisciplinary approach\", 84875442265, NO ABSTRACT, 2013\n",
    "\n",
    "- Whaley_Paul\n",
    "  - \"Priorities for cancer prevention\", 84861568429, NO ABSTRACT, 2012\n",
    "  - \"Childhood obesity and the environment\", 85026817599, NO ABSTRACT, 2014\n",
    "\n"
   ]
  },
  {
   "cell_type": "code",
   "execution_count": 16,
   "id": "564cd585-8efe-41c7-8f5d-47ba7a383757",
   "metadata": {
    "execution": {
     "iopub.execute_input": "2025-02-02T14:46:47.057640Z",
     "iopub.status.busy": "2025-02-02T14:46:47.057341Z",
     "iopub.status.idle": "2025-02-02T14:46:47.065830Z",
     "shell.execute_reply": "2025-02-02T14:46:47.065316Z",
     "shell.execute_reply.started": "2025-02-02T14:46:47.057621Z"
    }
   },
   "outputs": [],
   "source": [
    "import pandas as pd, os\n",
    "import numpy as np\n",
    "import time\n",
    "from multiprocessing import Pool\n",
    "flatten2 = lambda l: [item for sublist in l if sublist == sublist for item in sublist]\n",
    "import os,time"
   ]
  },
  {
   "cell_type": "code",
   "execution_count": 30,
   "id": "d0739bac-321e-4506-995d-51e2a83d5691",
   "metadata": {
    "execution": {
     "iopub.execute_input": "2025-02-02T15:02:45.270771Z",
     "iopub.status.busy": "2025-02-02T15:02:45.270451Z",
     "iopub.status.idle": "2025-02-02T15:02:46.976221Z",
     "shell.execute_reply": "2025-02-02T15:02:46.975352Z",
     "shell.execute_reply.started": "2025-02-02T15:02:45.270743Z"
    }
   },
   "outputs": [],
   "source": [
    "import time\n",
    "import pandas as pd\n",
    "import numpy as np\n",
    "from openai import OpenAI\n",
    "\n",
    "# os.environ[\"OPENAI_API_KEY\"] = \"##\"\n",
    "\n",
    "client = OpenAI()\n",
    "\n",
    "def get_embeddings(texts, model=\"text-embedding-3-small\", dimensions=None):\n",
    "    try:\n",
    "        time.sleep(1)\n",
    "        texts = [text.replace(\"\\n\", \" \") for text in texts]\n",
    "        \n",
    "        if dimensions:\n",
    "            res = client.embeddings.create(input=texts, model=model, dimensions=dimensions)\n",
    "        else:\n",
    "            res = client.embeddings.create(input=texts, model=model)\n",
    "        \n",
    "        emb = [x.embedding for x in res.data]\n",
    "        df = pd.DataFrame(np.stack(emb))\n",
    "        return df\n",
    "    \n",
    "    except Exception as e:\n",
    "        print(f\"Error: {e}\")\n",
    "        return pd.DataFrame()\n",
    "\n",
    "title_abstract_ls = [\n",
    "    \"Co-benefits: Taking a multidisciplinary approach. Most environmental policies are meant to achieve a single goal such as reducing pollution, preserving ecosystems or mitigating climate change. Yet environmental issues are frequently interlinked and approaches that exploit these linkages can deliver more than one desirable outcome. The collection of benefits accruing to actions linking climate change and other development priorities (e.g., reducing local pollution) are known as ‘co-benefits’ Citation[1]. Over the past two decades, a growing number of studies have demonstrated that an integrated or co-benefits approach could prove more cost effective than managing climate and development issues in isolation, but policies reflecting this integration have tended to lag behind research. This article argues that a multidisciplinary approach will be needed to bring policies in line with research on co-benefits.\", \n",
    "    \"Priorities for cancer prevention. Bernard Stewart's Personal View1 in favour of lifestyle choices to prevent cancer seems to be based on the questionable premise that pollutants should be investigated individually for their ability to cause disease. This approach might work for tobacco smoke and other easily isolated causes with obvious effects that lend themselves well to epidemiological study. However, it is not suitable for variable inadvertent exposures to complex mixtures of substances for long periods. Our best understanding is that several carcinogenic exposures accumulate and the overall effect is what causes cancer in individuals and populations.\",\n",
    "    \"Childhood obesity and the environment. The rising rate of infant obesity presents the biggest challenge to diet- and lifestyle-based explanations for the obesity epidemic. Although the hypothesis that everyday exposure to chemicals may contribute to risk of obesity is controversial, there is pharmaceutical proof of concept from diabetes drugs in humans and diethylstilboestrol in a mouse model. Chemical exposure also complicates the role of obesity in the etiology of diabetes and cancer. Given that no chemical has been tested for obesogenicity before being brought to market, it is overly hasty to dismiss the obesogen hypothesis as a “green scare.\"\n",
    "]\n",
    "\n",
    "embedding_df = get_embeddings(title_abstract_ls)"
   ]
  },
  {
   "cell_type": "code",
   "execution_count": 31,
   "id": "c1fa8494-937a-4c15-b9d2-cde022f7c303",
   "metadata": {
    "execution": {
     "iopub.execute_input": "2025-02-02T15:02:59.490792Z",
     "iopub.status.busy": "2025-02-02T15:02:59.490469Z",
     "iopub.status.idle": "2025-02-02T15:02:59.497070Z",
     "shell.execute_reply": "2025-02-02T15:02:59.496203Z",
     "shell.execute_reply.started": "2025-02-02T15:02:59.490763Z"
    }
   },
   "outputs": [],
   "source": [
    "embedding_df['eid'] = [\"84875442265\",\"84861568429\",\"85026817599\"]"
   ]
  },
  {
   "cell_type": "code",
   "execution_count": 33,
   "id": "0610ebc8-9374-4074-8587-1a9315545437",
   "metadata": {
    "execution": {
     "iopub.execute_input": "2025-02-02T15:04:45.725491Z",
     "iopub.status.busy": "2025-02-02T15:04:45.725162Z",
     "iopub.status.idle": "2025-02-02T15:04:45.731591Z",
     "shell.execute_reply": "2025-02-02T15:04:45.730934Z",
     "shell.execute_reply.started": "2025-02-02T15:04:45.725464Z"
    }
   },
   "outputs": [],
   "source": [
    "# embedding_df.to_pickle('/disks/qnap3/users/21-tomokiyo/masters_thesis/data/guideline_paper/all_guideline_matching/additional_embedding_2011-2015.pickle')"
   ]
  },
  {
   "cell_type": "code",
   "execution_count": 34,
   "id": "cb4d6959-8adb-4b25-8f12-b9d057a60856",
   "metadata": {
    "execution": {
     "iopub.execute_input": "2025-02-02T15:05:25.369969Z",
     "iopub.status.busy": "2025-02-02T15:05:25.369644Z",
     "iopub.status.idle": "2025-02-02T15:05:25.388541Z",
     "shell.execute_reply": "2025-02-02T15:05:25.387940Z",
     "shell.execute_reply.started": "2025-02-02T15:05:25.369941Z"
    }
   },
   "outputs": [
    {
     "data": {
      "text/html": [
       "<div>\n",
       "<style scoped>\n",
       "    .dataframe tbody tr th:only-of-type {\n",
       "        vertical-align: middle;\n",
       "    }\n",
       "\n",
       "    .dataframe tbody tr th {\n",
       "        vertical-align: top;\n",
       "    }\n",
       "\n",
       "    .dataframe thead th {\n",
       "        text-align: right;\n",
       "    }\n",
       "</style>\n",
       "<table border=\"1\" class=\"dataframe\">\n",
       "  <thead>\n",
       "    <tr style=\"text-align: right;\">\n",
       "      <th></th>\n",
       "      <th>0</th>\n",
       "      <th>1</th>\n",
       "      <th>2</th>\n",
       "      <th>3</th>\n",
       "      <th>4</th>\n",
       "      <th>5</th>\n",
       "      <th>6</th>\n",
       "      <th>7</th>\n",
       "      <th>8</th>\n",
       "      <th>9</th>\n",
       "      <th>...</th>\n",
       "      <th>1527</th>\n",
       "      <th>1528</th>\n",
       "      <th>1529</th>\n",
       "      <th>1530</th>\n",
       "      <th>1531</th>\n",
       "      <th>1532</th>\n",
       "      <th>1533</th>\n",
       "      <th>1534</th>\n",
       "      <th>1535</th>\n",
       "      <th>eid</th>\n",
       "    </tr>\n",
       "  </thead>\n",
       "  <tbody>\n",
       "    <tr>\n",
       "      <th>0</th>\n",
       "      <td>0.021997</td>\n",
       "      <td>-0.026548</td>\n",
       "      <td>0.128373</td>\n",
       "      <td>0.060310</td>\n",
       "      <td>-0.005398</td>\n",
       "      <td>0.053538</td>\n",
       "      <td>0.009042</td>\n",
       "      <td>0.039577</td>\n",
       "      <td>0.015298</td>\n",
       "      <td>0.029026</td>\n",
       "      <td>...</td>\n",
       "      <td>0.010501</td>\n",
       "      <td>-0.029272</td>\n",
       "      <td>0.007349</td>\n",
       "      <td>-0.011532</td>\n",
       "      <td>0.015188</td>\n",
       "      <td>0.039160</td>\n",
       "      <td>-0.012250</td>\n",
       "      <td>0.002279</td>\n",
       "      <td>0.034400</td>\n",
       "      <td>84875442265</td>\n",
       "    </tr>\n",
       "    <tr>\n",
       "      <th>1</th>\n",
       "      <td>0.012565</td>\n",
       "      <td>-0.021415</td>\n",
       "      <td>0.013894</td>\n",
       "      <td>0.034342</td>\n",
       "      <td>-0.049152</td>\n",
       "      <td>0.001824</td>\n",
       "      <td>0.004831</td>\n",
       "      <td>0.017713</td>\n",
       "      <td>-0.048868</td>\n",
       "      <td>0.026808</td>\n",
       "      <td>...</td>\n",
       "      <td>-0.003870</td>\n",
       "      <td>-0.002540</td>\n",
       "      <td>0.007328</td>\n",
       "      <td>-0.040380</td>\n",
       "      <td>-0.012972</td>\n",
       "      <td>0.036406</td>\n",
       "      <td>0.013352</td>\n",
       "      <td>-0.030575</td>\n",
       "      <td>0.010592</td>\n",
       "      <td>84861568429</td>\n",
       "    </tr>\n",
       "    <tr>\n",
       "      <th>2</th>\n",
       "      <td>0.022098</td>\n",
       "      <td>-0.005272</td>\n",
       "      <td>0.010640</td>\n",
       "      <td>0.072465</td>\n",
       "      <td>-0.012541</td>\n",
       "      <td>-0.003696</td>\n",
       "      <td>0.044309</td>\n",
       "      <td>0.061741</td>\n",
       "      <td>-0.016052</td>\n",
       "      <td>-0.027169</td>\n",
       "      <td>...</td>\n",
       "      <td>-0.019047</td>\n",
       "      <td>-0.026541</td>\n",
       "      <td>0.002574</td>\n",
       "      <td>-0.034931</td>\n",
       "      <td>-0.011375</td>\n",
       "      <td>-0.004899</td>\n",
       "      <td>-0.009776</td>\n",
       "      <td>-0.016871</td>\n",
       "      <td>-0.003180</td>\n",
       "      <td>85026817599</td>\n",
       "    </tr>\n",
       "  </tbody>\n",
       "</table>\n",
       "<p>3 rows × 1537 columns</p>\n",
       "</div>"
      ],
      "text/plain": [
       "          0         1         2         3         4         5         6  \\\n",
       "0  0.021997 -0.026548  0.128373  0.060310 -0.005398  0.053538  0.009042   \n",
       "1  0.012565 -0.021415  0.013894  0.034342 -0.049152  0.001824  0.004831   \n",
       "2  0.022098 -0.005272  0.010640  0.072465 -0.012541 -0.003696  0.044309   \n",
       "\n",
       "          7         8         9  ...      1527      1528      1529      1530  \\\n",
       "0  0.039577  0.015298  0.029026  ...  0.010501 -0.029272  0.007349 -0.011532   \n",
       "1  0.017713 -0.048868  0.026808  ... -0.003870 -0.002540  0.007328 -0.040380   \n",
       "2  0.061741 -0.016052 -0.027169  ... -0.019047 -0.026541  0.002574 -0.034931   \n",
       "\n",
       "       1531      1532      1533      1534      1535          eid  \n",
       "0  0.015188  0.039160 -0.012250  0.002279  0.034400  84875442265  \n",
       "1 -0.012972  0.036406  0.013352 -0.030575  0.010592  84861568429  \n",
       "2 -0.011375 -0.004899 -0.009776 -0.016871 -0.003180  85026817599  \n",
       "\n",
       "[3 rows x 1537 columns]"
      ]
     },
     "execution_count": 34,
     "metadata": {},
     "output_type": "execute_result"
    }
   ],
   "source": [
    "embedding_df"
   ]
  }
 ],
 "metadata": {
  "kernelspec": {
   "display_name": "Python 3 (ipykernel)",
   "language": "python",
   "name": "python3"
  },
  "language_info": {
   "codemirror_mode": {
    "name": "ipython",
    "version": 3
   },
   "file_extension": ".py",
   "mimetype": "text/x-python",
   "name": "python",
   "nbconvert_exporter": "python",
   "pygments_lexer": "ipython3",
   "version": "3.12.8"
  }
 },
 "nbformat": 4,
 "nbformat_minor": 5
}
