{
 "cells": [
  {
   "cell_type": "markdown",
   "id": "21b7667e",
   "metadata": {},
   "source": [
    "## Step1: Specialization Vector"
   ]
  },
  {
   "cell_type": "code",
   "execution_count": null,
   "id": "b598d317-f39b-4496-85fc-bacbb3001452",
   "metadata": {},
   "outputs": [],
   "source": [
    "## Tramsform embedding dataframe to ndarray"
   ]
  },
  {
   "cell_type": "code",
   "execution_count": 1,
   "id": "05bdc9d4-a54c-47f8-b09e-c75a2f3bb5a1",
   "metadata": {
    "execution": {
     "iopub.execute_input": "2025-04-08T11:30:38.462845Z",
     "iopub.status.busy": "2025-04-08T11:30:38.461976Z",
     "iopub.status.idle": "2025-04-08T11:30:39.468340Z",
     "shell.execute_reply": "2025-04-08T11:30:39.467588Z",
     "shell.execute_reply.started": "2025-04-08T11:30:38.462801Z"
    }
   },
   "outputs": [],
   "source": [
    "import pickle\n",
    "import pandas as pd\n",
    "import numpy as np"
   ]
  },
  {
   "cell_type": "code",
   "execution_count": 2,
   "id": "7c380e87-4031-4aed-9f82-9c687df39cd5",
   "metadata": {
    "execution": {
     "iopub.execute_input": "2025-04-08T11:30:41.474597Z",
     "iopub.status.busy": "2025-04-08T11:30:41.474241Z",
     "iopub.status.idle": "2025-04-08T11:43:37.199237Z",
     "shell.execute_reply": "2025-04-08T11:43:37.198336Z",
     "shell.execute_reply.started": "2025-04-08T11:30:41.474577Z"
    }
   },
   "outputs": [],
   "source": [
    "embedding_df = pd.read_pickle('/disks/qnap3/users/21-tomokiyo/masters_thesis/data/guideline_paper/scopus/who_scopus_candidate_embedding_2011_2015.pickle')"
   ]
  },
  {
   "cell_type": "code",
   "execution_count": 3,
   "id": "40063c74-f117-479e-b1cb-acd64406c598",
   "metadata": {
    "execution": {
     "iopub.execute_input": "2025-04-08T11:43:37.200795Z",
     "iopub.status.busy": "2025-04-08T11:43:37.200597Z",
     "iopub.status.idle": "2025-04-08T11:43:37.227149Z",
     "shell.execute_reply": "2025-04-08T11:43:37.226612Z",
     "shell.execute_reply.started": "2025-04-08T11:43:37.200779Z"
    }
   },
   "outputs": [
    {
     "data": {
      "text/html": [
       "<div>\n",
       "<style scoped>\n",
       "    .dataframe tbody tr th:only-of-type {\n",
       "        vertical-align: middle;\n",
       "    }\n",
       "\n",
       "    .dataframe tbody tr th {\n",
       "        vertical-align: top;\n",
       "    }\n",
       "\n",
       "    .dataframe thead th {\n",
       "        text-align: right;\n",
       "    }\n",
       "</style>\n",
       "<table border=\"1\" class=\"dataframe\">\n",
       "  <thead>\n",
       "    <tr style=\"text-align: right;\">\n",
       "      <th></th>\n",
       "      <th>eid</th>\n",
       "      <th>0</th>\n",
       "      <th>1</th>\n",
       "      <th>2</th>\n",
       "      <th>3</th>\n",
       "      <th>4</th>\n",
       "      <th>5</th>\n",
       "      <th>6</th>\n",
       "      <th>7</th>\n",
       "      <th>8</th>\n",
       "      <th>...</th>\n",
       "      <th>1526</th>\n",
       "      <th>1527</th>\n",
       "      <th>1528</th>\n",
       "      <th>1529</th>\n",
       "      <th>1530</th>\n",
       "      <th>1531</th>\n",
       "      <th>1532</th>\n",
       "      <th>1533</th>\n",
       "      <th>1534</th>\n",
       "      <th>1535</th>\n",
       "    </tr>\n",
       "  </thead>\n",
       "  <tbody>\n",
       "    <tr>\n",
       "      <th>5958094</th>\n",
       "      <td>3914978</td>\n",
       "      <td>0.024877</td>\n",
       "      <td>0.020455</td>\n",
       "      <td>0.002267</td>\n",
       "      <td>0.020134</td>\n",
       "      <td>0.048890</td>\n",
       "      <td>0.063984</td>\n",
       "      <td>0.020937</td>\n",
       "      <td>-0.000780</td>\n",
       "      <td>-0.042343</td>\n",
       "      <td>...</td>\n",
       "      <td>-0.045901</td>\n",
       "      <td>0.008634</td>\n",
       "      <td>-0.002875</td>\n",
       "      <td>0.000903</td>\n",
       "      <td>0.015626</td>\n",
       "      <td>0.024358</td>\n",
       "      <td>0.027570</td>\n",
       "      <td>-0.005370</td>\n",
       "      <td>0.004833</td>\n",
       "      <td>0.016688</td>\n",
       "    </tr>\n",
       "    <tr>\n",
       "      <th>5958095</th>\n",
       "      <td>5238092</td>\n",
       "      <td>0.041480</td>\n",
       "      <td>0.018669</td>\n",
       "      <td>0.081892</td>\n",
       "      <td>0.041186</td>\n",
       "      <td>0.012121</td>\n",
       "      <td>0.005025</td>\n",
       "      <td>0.026687</td>\n",
       "      <td>0.009949</td>\n",
       "      <td>-0.017346</td>\n",
       "      <td>...</td>\n",
       "      <td>-0.020059</td>\n",
       "      <td>0.045917</td>\n",
       "      <td>-0.014179</td>\n",
       "      <td>0.013831</td>\n",
       "      <td>-0.042710</td>\n",
       "      <td>0.004620</td>\n",
       "      <td>0.021061</td>\n",
       "      <td>-0.004507</td>\n",
       "      <td>0.043031</td>\n",
       "      <td>-0.009862</td>\n",
       "    </tr>\n",
       "  </tbody>\n",
       "</table>\n",
       "<p>2 rows × 1537 columns</p>\n",
       "</div>"
      ],
      "text/plain": [
       "             eid         0         1         2         3         4         5  \\\n",
       "5958094  3914978  0.024877  0.020455  0.002267  0.020134  0.048890  0.063984   \n",
       "5958095  5238092  0.041480  0.018669  0.081892  0.041186  0.012121  0.005025   \n",
       "\n",
       "                6         7         8  ...      1526      1527      1528  \\\n",
       "5958094  0.020937 -0.000780 -0.042343  ... -0.045901  0.008634 -0.002875   \n",
       "5958095  0.026687  0.009949 -0.017346  ... -0.020059  0.045917 -0.014179   \n",
       "\n",
       "             1529      1530      1531      1532      1533      1534      1535  \n",
       "5958094  0.000903  0.015626  0.024358  0.027570 -0.005370  0.004833  0.016688  \n",
       "5958095  0.013831 -0.042710  0.004620  0.021061 -0.004507  0.043031 -0.009862  \n",
       "\n",
       "[2 rows x 1537 columns]"
      ]
     },
     "execution_count": 3,
     "metadata": {},
     "output_type": "execute_result"
    }
   ],
   "source": [
    "embedding_df.head(2)"
   ]
  },
  {
   "cell_type": "code",
   "execution_count": 4,
   "id": "dde699ab-cff0-4d26-844f-48a275c51ebf",
   "metadata": {
    "execution": {
     "iopub.execute_input": "2025-04-08T11:43:37.227868Z",
     "iopub.status.busy": "2025-04-08T11:43:37.227714Z",
     "iopub.status.idle": "2025-04-08T11:43:37.385960Z",
     "shell.execute_reply": "2025-04-08T11:43:37.385264Z",
     "shell.execute_reply.started": "2025-04-08T11:43:37.227854Z"
    }
   },
   "outputs": [],
   "source": [
    "additional_embedding_df = pd.read_pickle('/disks/qnap3/users/21-tomokiyo/masters_thesis/data/guideline_paper/all_guideline_matching/additional_embedding_2011-2015.pickle')"
   ]
  },
  {
   "cell_type": "code",
   "execution_count": 5,
   "id": "625ab113-0525-499f-9948-315862957081",
   "metadata": {
    "execution": {
     "iopub.execute_input": "2025-04-08T11:43:37.387190Z",
     "iopub.status.busy": "2025-04-08T11:43:37.386984Z",
     "iopub.status.idle": "2025-04-08T11:43:37.399831Z",
     "shell.execute_reply": "2025-04-08T11:43:37.399297Z",
     "shell.execute_reply.started": "2025-04-08T11:43:37.387175Z"
    }
   },
   "outputs": [
    {
     "data": {
      "text/html": [
       "<div>\n",
       "<style scoped>\n",
       "    .dataframe tbody tr th:only-of-type {\n",
       "        vertical-align: middle;\n",
       "    }\n",
       "\n",
       "    .dataframe tbody tr th {\n",
       "        vertical-align: top;\n",
       "    }\n",
       "\n",
       "    .dataframe thead th {\n",
       "        text-align: right;\n",
       "    }\n",
       "</style>\n",
       "<table border=\"1\" class=\"dataframe\">\n",
       "  <thead>\n",
       "    <tr style=\"text-align: right;\">\n",
       "      <th></th>\n",
       "      <th>0</th>\n",
       "      <th>1</th>\n",
       "      <th>2</th>\n",
       "      <th>3</th>\n",
       "      <th>4</th>\n",
       "      <th>5</th>\n",
       "      <th>6</th>\n",
       "      <th>7</th>\n",
       "      <th>8</th>\n",
       "      <th>9</th>\n",
       "      <th>...</th>\n",
       "      <th>1527</th>\n",
       "      <th>1528</th>\n",
       "      <th>1529</th>\n",
       "      <th>1530</th>\n",
       "      <th>1531</th>\n",
       "      <th>1532</th>\n",
       "      <th>1533</th>\n",
       "      <th>1534</th>\n",
       "      <th>1535</th>\n",
       "      <th>eid</th>\n",
       "    </tr>\n",
       "  </thead>\n",
       "  <tbody>\n",
       "    <tr>\n",
       "      <th>0</th>\n",
       "      <td>0.021997</td>\n",
       "      <td>-0.026548</td>\n",
       "      <td>0.128373</td>\n",
       "      <td>0.060310</td>\n",
       "      <td>-0.005398</td>\n",
       "      <td>0.053538</td>\n",
       "      <td>0.009042</td>\n",
       "      <td>0.039577</td>\n",
       "      <td>0.015298</td>\n",
       "      <td>0.029026</td>\n",
       "      <td>...</td>\n",
       "      <td>0.010501</td>\n",
       "      <td>-0.029272</td>\n",
       "      <td>0.007349</td>\n",
       "      <td>-0.011532</td>\n",
       "      <td>0.015188</td>\n",
       "      <td>0.039160</td>\n",
       "      <td>-0.012250</td>\n",
       "      <td>0.002279</td>\n",
       "      <td>0.034400</td>\n",
       "      <td>84875442265</td>\n",
       "    </tr>\n",
       "    <tr>\n",
       "      <th>1</th>\n",
       "      <td>0.012565</td>\n",
       "      <td>-0.021415</td>\n",
       "      <td>0.013894</td>\n",
       "      <td>0.034342</td>\n",
       "      <td>-0.049152</td>\n",
       "      <td>0.001824</td>\n",
       "      <td>0.004831</td>\n",
       "      <td>0.017713</td>\n",
       "      <td>-0.048868</td>\n",
       "      <td>0.026808</td>\n",
       "      <td>...</td>\n",
       "      <td>-0.003870</td>\n",
       "      <td>-0.002540</td>\n",
       "      <td>0.007328</td>\n",
       "      <td>-0.040380</td>\n",
       "      <td>-0.012972</td>\n",
       "      <td>0.036406</td>\n",
       "      <td>0.013352</td>\n",
       "      <td>-0.030575</td>\n",
       "      <td>0.010592</td>\n",
       "      <td>84861568429</td>\n",
       "    </tr>\n",
       "  </tbody>\n",
       "</table>\n",
       "<p>2 rows × 1537 columns</p>\n",
       "</div>"
      ],
      "text/plain": [
       "          0         1         2         3         4         5         6  \\\n",
       "0  0.021997 -0.026548  0.128373  0.060310 -0.005398  0.053538  0.009042   \n",
       "1  0.012565 -0.021415  0.013894  0.034342 -0.049152  0.001824  0.004831   \n",
       "\n",
       "          7         8         9  ...      1527      1528      1529      1530  \\\n",
       "0  0.039577  0.015298  0.029026  ...  0.010501 -0.029272  0.007349 -0.011532   \n",
       "1  0.017713 -0.048868  0.026808  ... -0.003870 -0.002540  0.007328 -0.040380   \n",
       "\n",
       "       1531      1532      1533      1534      1535          eid  \n",
       "0  0.015188  0.039160 -0.012250  0.002279  0.034400  84875442265  \n",
       "1 -0.012972  0.036406  0.013352 -0.030575  0.010592  84861568429  \n",
       "\n",
       "[2 rows x 1537 columns]"
      ]
     },
     "execution_count": 5,
     "metadata": {},
     "output_type": "execute_result"
    }
   ],
   "source": [
    "additional_embedding_df.head(2)"
   ]
  },
  {
   "cell_type": "code",
   "execution_count": 6,
   "id": "c1baa23c-d290-4bad-9f53-c8cdf5feaea9",
   "metadata": {
    "execution": {
     "iopub.execute_input": "2025-04-08T11:43:37.400562Z",
     "iopub.status.busy": "2025-04-08T11:43:37.400412Z",
     "iopub.status.idle": "2025-04-08T11:44:47.360085Z",
     "shell.execute_reply": "2025-04-08T11:44:47.359085Z",
     "shell.execute_reply.started": "2025-04-08T11:43:37.400548Z"
    }
   },
   "outputs": [],
   "source": [
    "embedding_df = pd.concat([embedding_df, additional_embedding_df])"
   ]
  },
  {
   "cell_type": "code",
   "execution_count": 7,
   "id": "64fc7265-9f49-47dc-a30d-f32f42a37592",
   "metadata": {
    "execution": {
     "iopub.execute_input": "2025-04-08T11:44:47.361177Z",
     "iopub.status.busy": "2025-04-08T11:44:47.361003Z",
     "iopub.status.idle": "2025-04-08T11:44:47.365207Z",
     "shell.execute_reply": "2025-04-08T11:44:47.364635Z",
     "shell.execute_reply.started": "2025-04-08T11:44:47.361161Z"
    }
   },
   "outputs": [],
   "source": [
    "embedding_df.reset_index(drop=True, inplace=True)"
   ]
  },
  {
   "cell_type": "code",
   "execution_count": 8,
   "id": "bb6cc584-168a-4890-a743-c5dd0503e9ea",
   "metadata": {
    "execution": {
     "iopub.execute_input": "2025-04-08T11:44:47.365931Z",
     "iopub.status.busy": "2025-04-08T11:44:47.365784Z",
     "iopub.status.idle": "2025-04-08T11:44:47.381632Z",
     "shell.execute_reply": "2025-04-08T11:44:47.381064Z",
     "shell.execute_reply.started": "2025-04-08T11:44:47.365917Z"
    }
   },
   "outputs": [
    {
     "data": {
      "text/html": [
       "<div>\n",
       "<style scoped>\n",
       "    .dataframe tbody tr th:only-of-type {\n",
       "        vertical-align: middle;\n",
       "    }\n",
       "\n",
       "    .dataframe tbody tr th {\n",
       "        vertical-align: top;\n",
       "    }\n",
       "\n",
       "    .dataframe thead th {\n",
       "        text-align: right;\n",
       "    }\n",
       "</style>\n",
       "<table border=\"1\" class=\"dataframe\">\n",
       "  <thead>\n",
       "    <tr style=\"text-align: right;\">\n",
       "      <th></th>\n",
       "      <th>eid</th>\n",
       "      <th>0</th>\n",
       "      <th>1</th>\n",
       "      <th>2</th>\n",
       "      <th>3</th>\n",
       "      <th>4</th>\n",
       "      <th>5</th>\n",
       "      <th>6</th>\n",
       "      <th>7</th>\n",
       "      <th>8</th>\n",
       "      <th>...</th>\n",
       "      <th>1526</th>\n",
       "      <th>1527</th>\n",
       "      <th>1528</th>\n",
       "      <th>1529</th>\n",
       "      <th>1530</th>\n",
       "      <th>1531</th>\n",
       "      <th>1532</th>\n",
       "      <th>1533</th>\n",
       "      <th>1534</th>\n",
       "      <th>1535</th>\n",
       "    </tr>\n",
       "  </thead>\n",
       "  <tbody>\n",
       "    <tr>\n",
       "      <th>0</th>\n",
       "      <td>3914978</td>\n",
       "      <td>0.024877</td>\n",
       "      <td>0.020455</td>\n",
       "      <td>0.002267</td>\n",
       "      <td>0.020134</td>\n",
       "      <td>0.04889</td>\n",
       "      <td>0.063984</td>\n",
       "      <td>0.020937</td>\n",
       "      <td>-0.00078</td>\n",
       "      <td>-0.042343</td>\n",
       "      <td>...</td>\n",
       "      <td>-0.045901</td>\n",
       "      <td>0.008634</td>\n",
       "      <td>-0.002875</td>\n",
       "      <td>0.000903</td>\n",
       "      <td>0.015626</td>\n",
       "      <td>0.024358</td>\n",
       "      <td>0.02757</td>\n",
       "      <td>-0.00537</td>\n",
       "      <td>0.004833</td>\n",
       "      <td>0.016688</td>\n",
       "    </tr>\n",
       "  </tbody>\n",
       "</table>\n",
       "<p>1 rows × 1537 columns</p>\n",
       "</div>"
      ],
      "text/plain": [
       "       eid         0         1         2         3        4         5  \\\n",
       "0  3914978  0.024877  0.020455  0.002267  0.020134  0.04889  0.063984   \n",
       "\n",
       "          6        7         8  ...      1526      1527      1528      1529  \\\n",
       "0  0.020937 -0.00078 -0.042343  ... -0.045901  0.008634 -0.002875  0.000903   \n",
       "\n",
       "       1530      1531     1532     1533      1534      1535  \n",
       "0  0.015626  0.024358  0.02757 -0.00537  0.004833  0.016688  \n",
       "\n",
       "[1 rows x 1537 columns]"
      ]
     },
     "execution_count": 8,
     "metadata": {},
     "output_type": "execute_result"
    }
   ],
   "source": [
    "embedding_df.head(1)"
   ]
  },
  {
   "cell_type": "code",
   "execution_count": 9,
   "id": "e7dede6a-8498-4b43-8d1f-59f4c9f836b3",
   "metadata": {
    "execution": {
     "iopub.execute_input": "2025-04-08T11:44:47.382383Z",
     "iopub.status.busy": "2025-04-08T11:44:47.382238Z",
     "iopub.status.idle": "2025-04-08T11:46:27.293393Z",
     "shell.execute_reply": "2025-04-08T11:46:27.292648Z",
     "shell.execute_reply.started": "2025-04-08T11:44:47.382370Z"
    }
   },
   "outputs": [],
   "source": [
    "embedding_df.drop(columns=['eid'],inplace=True)"
   ]
  },
  {
   "cell_type": "code",
   "execution_count": 17,
   "id": "b5e16e9e-75ba-4071-933b-6e45a13b25b1",
   "metadata": {
    "execution": {
     "iopub.execute_input": "2025-04-08T16:20:44.318637Z",
     "iopub.status.busy": "2025-04-08T16:20:44.318438Z",
     "iopub.status.idle": "2025-04-08T16:20:44.322179Z",
     "shell.execute_reply": "2025-04-08T16:20:44.321609Z",
     "shell.execute_reply.started": "2025-04-08T16:20:44.318621Z"
    }
   },
   "outputs": [],
   "source": [
    "dense_matrix = embedding_df.values "
   ]
  },
  {
   "cell_type": "code",
   "execution_count": 18,
   "id": "b84b2934",
   "metadata": {
    "execution": {
     "iopub.execute_input": "2025-04-08T16:20:46.126047Z",
     "iopub.status.busy": "2025-04-08T16:20:46.125291Z",
     "iopub.status.idle": "2025-04-08T16:20:46.131258Z",
     "shell.execute_reply": "2025-04-08T16:20:46.130458Z",
     "shell.execute_reply.started": "2025-04-08T16:20:46.126017Z"
    }
   },
   "outputs": [
    {
     "data": {
      "text/plain": [
       "(12237176, 1536)"
      ]
     },
     "execution_count": 18,
     "metadata": {},
     "output_type": "execute_result"
    }
   ],
   "source": [
    "dense_matrix.shape"
   ]
  },
  {
   "cell_type": "code",
   "execution_count": 20,
   "id": "6fce4427-ac95-4df0-a32a-b82a9d6ce9a5",
   "metadata": {
    "execution": {
     "iopub.execute_input": "2025-02-02T15:47:03.245913Z",
     "iopub.status.busy": "2025-02-02T15:47:03.245590Z",
     "iopub.status.idle": "2025-02-02T15:51:32.130485Z",
     "shell.execute_reply": "2025-02-02T15:51:32.129644Z",
     "shell.execute_reply.started": "2025-02-02T15:47:03.245887Z"
    }
   },
   "outputs": [],
   "source": [
    "# np.save('/disks/qnap3/users/21-tomokiyo/masters_thesis/data/guideline_paper/all_guideline_matching/embedding_matrix_2011_15.npy', dense_matrix)"
   ]
  }
 ],
 "metadata": {
  "kernelspec": {
   "display_name": "Python 3 (ipykernel)",
   "language": "python",
   "name": "python3"
  },
  "language_info": {
   "codemirror_mode": {
    "name": "ipython",
    "version": 3
   },
   "file_extension": ".py",
   "mimetype": "text/x-python",
   "name": "python",
   "nbconvert_exporter": "python",
   "pygments_lexer": "ipython3",
   "version": "3.12.8"
  }
 },
 "nbformat": 4,
 "nbformat_minor": 5
}
