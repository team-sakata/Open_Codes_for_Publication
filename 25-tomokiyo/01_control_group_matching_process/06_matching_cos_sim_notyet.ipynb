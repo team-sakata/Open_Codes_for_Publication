{
 "cells": [
  {
   "cell_type": "markdown",
   "id": "75c81d49-b66e-41ff-9e9c-2041a0dc4cd6",
   "metadata": {},
   "source": [
    "## Step2: Specialization Similarity Ranking"
   ]
  },
  {
   "cell_type": "code",
   "execution_count": 4,
   "id": "b5b12175-13a8-454f-a52d-feab3528083a",
   "metadata": {
    "execution": {
     "iopub.execute_input": "2025-04-09T03:33:56.479274Z",
     "iopub.status.busy": "2025-04-09T03:33:56.478425Z",
     "iopub.status.idle": "2025-04-09T03:33:57.261241Z",
     "shell.execute_reply": "2025-04-09T03:33:57.260347Z",
     "shell.execute_reply.started": "2025-04-09T03:33:56.479222Z"
    }
   },
   "outputs": [],
   "source": [
    "import pickle\n",
    "import pandas as pd\n",
    "import numpy as np\n",
    "from scipy.sparse import csr_matrix\n",
    "from sklearn.metrics.pairwise import cosine_similarity"
   ]
  },
  {
   "cell_type": "code",
   "execution_count": 5,
   "id": "44c37782-1bf6-486c-a370-e75e026d537e",
   "metadata": {
    "execution": {
     "iopub.execute_input": "2025-04-09T03:33:59.980202Z",
     "iopub.status.busy": "2025-04-09T03:33:59.979709Z",
     "iopub.status.idle": "2025-04-09T03:33:59.987507Z",
     "shell.execute_reply": "2025-04-09T03:33:59.986715Z",
     "shell.execute_reply.started": "2025-04-09T03:33:59.980178Z"
    }
   },
   "outputs": [],
   "source": [
    "authid_12 = np.load('/disks/qnap3/users/21-tomokiyo/masters_thesis/data/guideline_paper/member_data/2021/A1.2_who_guideline_development_group.npy')\n",
    "authid_13 = np.load('/disks/qnap3/users/21-tomokiyo/masters_thesis/data/guideline_paper/member_data/A1.3_who_systematic_review_team_revise.npy')\n",
    "authid_14 = np.load('/disks/qnap3/users/21-tomokiyo/masters_thesis/data/guideline_paper/member_data/2021/A1.4_who_external_methodologists.npy')\n",
    "authid_15 = np.load('/disks/qnap3/users/21-tomokiyo/masters_thesis/data/guideline_paper/member_data/A1.5_who_external_review_team_revise.npy')\n",
    "\n",
    "boradmember_authid = list(authid_12)+list(authid_13)+list(authid_14)+list(authid_15)\n",
    "boradmember_authid1 = set(boradmember_authid)"
   ]
  },
  {
   "cell_type": "code",
   "execution_count": 6,
   "id": "293fe9ce-eb0a-4328-a7d8-4ca2d6b3ffd4",
   "metadata": {
    "execution": {
     "iopub.execute_input": "2025-04-09T03:34:01.333359Z",
     "iopub.status.busy": "2025-04-09T03:34:01.332368Z",
     "iopub.status.idle": "2025-04-09T03:34:01.348253Z",
     "shell.execute_reply": "2025-04-09T03:34:01.347138Z",
     "shell.execute_reply.started": "2025-04-09T03:34:01.333314Z"
    }
   },
   "outputs": [
    {
     "data": {
      "text/plain": [
       "113"
      ]
     },
     "execution_count": 6,
     "metadata": {},
     "output_type": "execute_result"
    }
   ],
   "source": [
    "len(boradmember_authid)"
   ]
  },
  {
   "cell_type": "code",
   "execution_count": 7,
   "id": "7b5cf445-99d7-482c-b0a7-2ab314b30000",
   "metadata": {
    "execution": {
     "iopub.execute_input": "2025-04-09T03:36:30.069013Z",
     "iopub.status.busy": "2025-04-09T03:36:30.067991Z",
     "iopub.status.idle": "2025-04-09T03:36:30.073144Z",
     "shell.execute_reply": "2025-04-09T03:36:30.072246Z",
     "shell.execute_reply.started": "2025-04-09T03:36:30.068969Z"
    }
   },
   "outputs": [],
   "source": [
    "authid_list = boradmember_authid"
   ]
  },
  {
   "cell_type": "code",
   "execution_count": 8,
   "id": "62ab7aa8-f0e4-4b8c-b523-71ffbc18cf6d",
   "metadata": {
    "execution": {
     "iopub.execute_input": "2025-04-09T03:36:31.147196Z",
     "iopub.status.busy": "2025-04-09T03:36:31.146537Z",
     "iopub.status.idle": "2025-04-09T03:36:31.152591Z",
     "shell.execute_reply": "2025-04-09T03:36:31.151703Z",
     "shell.execute_reply.started": "2025-04-09T03:36:31.147154Z"
    }
   },
   "outputs": [],
   "source": [
    "authid_list1 = [35780677200 if x == 7006806977 else 57206422848 if x == 54791745100  else 57219144066 if x == 55588756600  else 57219144066 if x == 57191727610  else 57219144066 if x == 14037485900 else x for x in authid_list]\n",
    "treatment_authids = list(set(authid_list1))"
   ]
  },
  {
   "cell_type": "code",
   "execution_count": 9,
   "id": "af3ce465-e2b3-4233-b391-3936c3e1b350",
   "metadata": {
    "execution": {
     "iopub.execute_input": "2025-04-09T03:36:31.951561Z",
     "iopub.status.busy": "2025-04-09T03:36:31.950806Z",
     "iopub.status.idle": "2025-04-09T03:36:31.957314Z",
     "shell.execute_reply": "2025-04-09T03:36:31.956448Z",
     "shell.execute_reply.started": "2025-04-09T03:36:31.951520Z"
    }
   },
   "outputs": [
    {
     "data": {
      "text/plain": [
       "108"
      ]
     },
     "execution_count": 9,
     "metadata": {},
     "output_type": "execute_result"
    }
   ],
   "source": [
    "len(treatment_authids)"
   ]
  },
  {
   "cell_type": "code",
   "execution_count": 10,
   "id": "9f6fec9e-ce75-4204-a6b9-d9d70b85c786",
   "metadata": {
    "execution": {
     "iopub.execute_input": "2025-04-09T03:37:04.766387Z",
     "iopub.status.busy": "2025-04-09T03:37:04.765373Z",
     "iopub.status.idle": "2025-04-09T03:42:47.228301Z",
     "shell.execute_reply": "2025-04-09T03:42:47.226550Z",
     "shell.execute_reply.started": "2025-04-09T03:37:04.766342Z"
    }
   },
   "outputs": [],
   "source": [
    "average_researcher_vectors = np.load('/disks/qnap3/users/21-tomokiyo/masters_thesis/data/guideline_paper/all_guideline_matching/researcher_average_embedding_matrix_2011_15.npy')"
   ]
  },
  {
   "cell_type": "code",
   "execution_count": 11,
   "id": "a101be82-a069-4ef1-86f1-1080cecc8f66",
   "metadata": {
    "execution": {
     "iopub.execute_input": "2025-04-09T03:52:39.480101Z",
     "iopub.status.busy": "2025-04-09T03:52:39.479102Z",
     "iopub.status.idle": "2025-04-09T03:52:49.408431Z",
     "shell.execute_reply": "2025-04-09T03:52:49.407512Z",
     "shell.execute_reply.started": "2025-04-09T03:52:39.480042Z"
    }
   },
   "outputs": [],
   "source": [
    "file_path = f'/disks/qnap3/users/21-tomokiyo/masters_thesis/data/guideline_paper/all_guideline_matching/sparse_one_hot_authids_idx.pkl'\n",
    "with open(file_path, 'rb') as f:\n",
    "    authid_to_idx = pickle.load(f)"
   ]
  },
  {
   "cell_type": "code",
   "execution_count": 13,
   "id": "00e4ba1e-9d8f-4b17-b041-e837e9ea9227",
   "metadata": {
    "execution": {
     "iopub.execute_input": "2025-04-09T03:53:15.756985Z",
     "iopub.status.busy": "2025-04-09T03:53:15.756655Z",
     "iopub.status.idle": "2025-04-09T03:59:40.695206Z",
     "shell.execute_reply": "2025-04-09T03:59:40.694512Z",
     "shell.execute_reply.started": "2025-04-09T03:53:15.756966Z"
    }
   },
   "outputs": [],
   "source": [
    "import numpy as np\n",
    "from scipy.spatial.distance import cdist\n",
    "\n",
    "\n",
    "# Get the author indices of the treatment group\n",
    "treatment_indices = np.array([authid_to_idx[aid] for aid in treatment_authids if aid in authid_to_idx.keys()])\n",
    "\n",
    "# Get the specialization vectors of the treatment group\n",
    "treatment_vectors = average_researcher_vectors[treatment_indices]  # (108, 1536)\n",
    "\n",
    "# Get the author indices of the researchers except the treatment group\n",
    "non_treatment_authids = set(authid_to_idx.keys()) - set(treatment_authids)\n",
    "non_treatment_authids = set(authid_to_idx.keys())\n",
    "non_treatment_indices = np.array([authid_to_idx[aid] for aid in non_treatment_authids])\n",
    "\n",
    "# Get the specialization vectors of the researchers except the treatment group\n",
    "non_treatment_vectors = average_researcher_vectors[non_treatment_indices]  # (num_researchers - 108, 1536)\n",
    "\n",
    "# Calculate COS similarities\n",
    "cosine_similarities = cosine_similarity(treatment_vectors, non_treatment_vectors)  # (108, num_researchers - 108)\n",
    "\n",
    "# Top 40 most similar researchers with each researcher\n",
    "top_k = 40 # top_k includes \n",
    "top_k_indices = np.argsort(cosine_similarities, axis=1)[:, :top_k:-1]\n",
    "sorted_similarities = np.sort(cosine_similarities, axis=1)[:, :top_k:-1]"
   ]
  },
  {
   "cell_type": "code",
   "execution_count": 14,
   "id": "8a569d11-2946-4b8d-8610-f077e1bd3a12",
   "metadata": {
    "execution": {
     "iopub.execute_input": "2025-04-09T04:04:47.022137Z",
     "iopub.status.busy": "2025-04-09T04:04:47.021745Z",
     "iopub.status.idle": "2025-04-09T04:04:47.026749Z",
     "shell.execute_reply": "2025-04-09T04:04:47.026119Z",
     "shell.execute_reply.started": "2025-04-09T04:04:47.022116Z"
    }
   },
   "outputs": [],
   "source": [
    "import numpy as np\n",
    "from scipy.spatial.distance import cdist\n",
    "\n",
    "\n",
    "# Get the author indices of the treatment group\n",
    "treatment_indices = np.array([authid_to_idx[aid] for aid in treatment_authids if aid in authid_to_idx.keys()])\n",
    "\n",
    "# Get the specialization vectors of the treatment group\n",
    "treatment_vectors = average_researcher_vectors[treatment_indices]  # (108, 1536)"
   ]
  },
  {
   "cell_type": "code",
   "execution_count": 15,
   "id": "5591d50d-e7f3-4b61-b872-776515e9052f",
   "metadata": {
    "execution": {
     "iopub.execute_input": "2025-04-09T04:04:52.563535Z",
     "iopub.status.busy": "2025-04-09T04:04:52.562984Z",
     "iopub.status.idle": "2025-04-09T04:04:52.569686Z",
     "shell.execute_reply": "2025-04-09T04:04:52.568761Z",
     "shell.execute_reply.started": "2025-04-09T04:04:52.563498Z"
    }
   },
   "outputs": [],
   "source": [
    "treatment_auhids = np.array([aid for aid in treatment_authids if aid in authid_to_idx.keys()])\n",
    "\n",
    "treatment_indices_new_idx_to_authid = {}\n",
    "for index, aid in enumerate(treatment_auhids):\n",
    "    treatment_indices_new_idx_to_authid[index] = authid_to_idx[aid]"
   ]
  },
  {
   "cell_type": "code",
   "execution_count": 16,
   "id": "06dbb9b1-bbab-42b4-b146-d34550c94403",
   "metadata": {
    "execution": {
     "iopub.execute_input": "2025-04-09T04:04:56.297254Z",
     "iopub.status.busy": "2025-04-09T04:04:56.296275Z",
     "iopub.status.idle": "2025-04-09T04:07:20.717851Z",
     "shell.execute_reply": "2025-04-09T04:07:20.716896Z",
     "shell.execute_reply.started": "2025-04-09T04:04:56.297211Z"
    }
   },
   "outputs": [],
   "source": [
    "# Calculate COS similarities\n",
    "cosine_similarities = cosine_similarity(treatment_vectors, average_researcher_vectors)  # (108, num_researchers)"
   ]
  },
  {
   "cell_type": "code",
   "execution_count": 17,
   "id": "9dec62b2-9ca6-445c-9602-c5c8282910d2",
   "metadata": {
    "execution": {
     "iopub.execute_input": "2025-04-09T04:07:38.234670Z",
     "iopub.status.busy": "2025-04-09T04:07:38.234338Z",
     "iopub.status.idle": "2025-04-09T04:10:02.185139Z",
     "shell.execute_reply": "2025-04-09T04:10:02.184463Z",
     "shell.execute_reply.started": "2025-04-09T04:07:38.234651Z"
    }
   },
   "outputs": [],
   "source": [
    "top_indices = np.argsort(-cosine_similarities, axis=1)\n",
    "sorted_similarities = np.sort(-cosine_similarities, axis=1)"
   ]
  },
  {
   "cell_type": "code",
   "execution_count": 18,
   "id": "f0994644-d200-40d7-8613-4197b9c6375e",
   "metadata": {
    "execution": {
     "iopub.execute_input": "2025-04-09T06:31:34.796991Z",
     "iopub.status.busy": "2025-04-09T06:31:34.796150Z",
     "iopub.status.idle": "2025-04-09T06:31:34.801772Z",
     "shell.execute_reply": "2025-04-09T06:31:34.801037Z",
     "shell.execute_reply.started": "2025-04-09T06:31:34.796946Z"
    }
   },
   "outputs": [],
   "source": [
    "top_k_indice = top_indices[:, 1:top_k+1]"
   ]
  },
  {
   "cell_type": "code",
   "execution_count": 19,
   "id": "02c60f5f-7313-4fc4-ab0b-ff1d83bfed5d",
   "metadata": {
    "execution": {
     "iopub.execute_input": "2025-04-09T06:31:34.813030Z",
     "iopub.status.busy": "2025-04-09T06:31:34.812423Z",
     "iopub.status.idle": "2025-04-09T06:31:34.816422Z",
     "shell.execute_reply": "2025-04-09T06:31:34.815704Z",
     "shell.execute_reply.started": "2025-04-09T06:31:34.812992Z"
    }
   },
   "outputs": [],
   "source": [
    "sorted_k_similarities = sorted_similarities[:, 1:top_k+1]"
   ]
  },
  {
   "cell_type": "code",
   "execution_count": 20,
   "id": "83fe1e36-6989-479c-9cd4-829e6dbe08d8",
   "metadata": {
    "execution": {
     "iopub.execute_input": "2025-04-09T06:31:37.145576Z",
     "iopub.status.busy": "2025-04-09T06:31:37.145069Z",
     "iopub.status.idle": "2025-04-09T06:32:00.447139Z",
     "shell.execute_reply": "2025-04-09T06:32:00.446450Z",
     "shell.execute_reply.started": "2025-04-09T06:31:37.145553Z"
    },
    "scrolled": true
   },
   "outputs": [],
   "source": [
    "from collections import defaultdict\n",
    "\n",
    "def invert_dict(d):\n",
    "    inverted = defaultdict(list)\n",
    "    for k, v in d.items():\n",
    "        inverted[v].append(k)\n",
    "    return inverted\n",
    "\n",
    "idx_to_authid = invert_dict(authid_to_idx)"
   ]
  },
  {
   "cell_type": "code",
   "execution_count": 21,
   "id": "fa362922-25f4-4780-8baa-16e06dbd070e",
   "metadata": {
    "execution": {
     "iopub.execute_input": "2025-04-09T06:32:00.448493Z",
     "iopub.status.busy": "2025-04-09T06:32:00.448293Z",
     "iopub.status.idle": "2025-04-09T06:32:00.455718Z",
     "shell.execute_reply": "2025-04-09T06:32:00.455372Z",
     "shell.execute_reply.started": "2025-04-09T06:32:00.448474Z"
    }
   },
   "outputs": [],
   "source": [
    "top_k_authids = []\n",
    "for indice in top_k_indice:\n",
    "    tmp = []\n",
    "    for index in indice:\n",
    "        tmp_num = idx_to_authid[index][0]\n",
    "        tmp.append(tmp_num)\n",
    "    top_k_authids.append(tmp)"
   ]
  },
  {
   "cell_type": "code",
   "execution_count": 22,
   "id": "50b84f6e-afea-47da-bc17-72a9b0293fcc",
   "metadata": {
    "execution": {
     "iopub.execute_input": "2025-04-09T06:32:01.917530Z",
     "iopub.status.busy": "2025-04-09T06:32:01.917219Z",
     "iopub.status.idle": "2025-04-09T06:32:01.920509Z",
     "shell.execute_reply": "2025-04-09T06:32:01.920009Z",
     "shell.execute_reply.started": "2025-04-09T06:32:01.917511Z"
    }
   },
   "outputs": [],
   "source": [
    "top_k_cossim_authid_dict = {}\n",
    "for index,top_authids in enumerate(top_k_authids):\n",
    "    top_k_cossim_authid_dict[treatment_auhids[index]] = top_authids\n",
    "    "
   ]
  },
  {
   "cell_type": "code",
   "execution_count": 99,
   "id": "3d55d685-dc97-49e8-9342-4e646937f050",
   "metadata": {
    "execution": {
     "iopub.execute_input": "2025-02-03T13:08:43.892029Z",
     "iopub.status.busy": "2025-02-03T13:08:43.891663Z",
     "iopub.status.idle": "2025-02-03T13:08:43.910655Z",
     "shell.execute_reply": "2025-02-03T13:08:43.909983Z",
     "shell.execute_reply.started": "2025-02-03T13:08:43.892002Z"
    }
   },
   "outputs": [],
   "source": [
    "# save the result\n",
    "# np.save(\"/disks/qnap3/users/21-tomokiyo/masters_thesis/data/guideline_paper/all_guideline_matching/top_k_similar_authids.npy\", top_k_cossim_authid_dict)"
   ]
  }
 ],
 "metadata": {
  "kernelspec": {
   "display_name": "Python 3 (ipykernel)",
   "language": "python",
   "name": "python3"
  },
  "language_info": {
   "codemirror_mode": {
    "name": "ipython",
    "version": 3
   },
   "file_extension": ".py",
   "mimetype": "text/x-python",
   "name": "python",
   "nbconvert_exporter": "python",
   "pygments_lexer": "ipython3",
   "version": "3.12.8"
  }
 },
 "nbformat": 4,
 "nbformat_minor": 5
}
