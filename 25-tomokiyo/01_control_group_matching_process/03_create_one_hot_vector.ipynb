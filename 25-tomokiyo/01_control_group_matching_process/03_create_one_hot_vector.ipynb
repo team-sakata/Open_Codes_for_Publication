{
 "cells": [
  {
   "cell_type": "markdown",
   "id": "2d927178",
   "metadata": {},
   "source": [
    "## Step1: Specialization Vector"
   ]
  },
  {
   "cell_type": "code",
   "execution_count": null,
   "id": "4bdd5e01-bf25-4eaf-91d8-e6f17cc933a1",
   "metadata": {},
   "outputs": [],
   "source": [
    "## Create a one-hot vector for each paper indicating whether or not each author wrote it\n",
    "## This one-hot vector is used for creating specialization vectors of authors"
   ]
  },
  {
   "cell_type": "code",
   "execution_count": 1,
   "id": "b03f22db-1589-452a-be74-d87da9f1e1d4",
   "metadata": {
    "execution": {
     "iopub.execute_input": "2025-02-02T16:04:19.984952Z",
     "iopub.status.busy": "2025-02-02T16:04:19.984784Z",
     "iopub.status.idle": "2025-02-02T16:04:19.987195Z",
     "shell.execute_reply": "2025-02-02T16:04:19.986931Z",
     "shell.execute_reply.started": "2025-02-02T16:04:19.984937Z"
    }
   },
   "outputs": [],
   "source": [
    "import pickle\n",
    "import pandas as pd\n",
    "import numpy as np"
   ]
  },
  {
   "cell_type": "code",
   "execution_count": 2,
   "id": "e4f8308a-25d7-47d6-9d4f-17d5844c1729",
   "metadata": {
    "execution": {
     "iopub.execute_input": "2025-02-02T16:04:21.306038Z",
     "iopub.status.busy": "2025-02-02T16:04:21.305721Z",
     "iopub.status.idle": "2025-02-02T16:04:21.368903Z",
     "shell.execute_reply": "2025-02-02T16:04:21.368156Z",
     "shell.execute_reply.started": "2025-02-02T16:04:21.306013Z"
    }
   },
   "outputs": [],
   "source": [
    "# Read authids in each section of the guideline\n",
    "authid_12 = np.load('/disks/qnap3/users/21-tomokiyo/masters_thesis/data/guideline_paper/member_data/2021/A1.2_who_guideline_development_group.npy')\n",
    "authid_13 = np.load('/disks/qnap3/users/21-tomokiyo/masters_thesis/data/guideline_paper/member_data/A1.3_who_systematic_review_team_revise.npy')\n",
    "authid_14 = np.load('/disks/qnap3/users/21-tomokiyo/masters_thesis/data/guideline_paper/member_data/2021/A1.4_who_external_methodologists.npy')\n",
    "authid_15 = np.load('/disks/qnap3/users/21-tomokiyo/masters_thesis/data/guideline_paper/member_data/A1.5_who_external_review_team_revise.npy')\n",
    "\n",
    "boradmember_authid = list(authid_12)+list(authid_13)+list(authid_14)+list(authid_15)"
   ]
  },
  {
   "cell_type": "code",
   "execution_count": 3,
   "id": "5a15501a-2372-4687-8f9c-4fbd5e6524dc",
   "metadata": {
    "execution": {
     "iopub.execute_input": "2025-02-02T16:04:22.131137Z",
     "iopub.status.busy": "2025-02-02T16:04:22.130825Z",
     "iopub.status.idle": "2025-02-02T16:04:22.151169Z",
     "shell.execute_reply": "2025-02-02T16:04:22.150493Z",
     "shell.execute_reply.started": "2025-02-02T16:04:22.131111Z"
    }
   },
   "outputs": [
    {
     "data": {
      "text/plain": [
       "array([84875442265, 84861568429, 85026817599])"
      ]
     },
     "execution_count": 3,
     "metadata": {},
     "output_type": "execute_result"
    }
   ],
   "source": [
    "additional_embedding_df = pd.read_pickle('/disks/qnap3/users/21-tomokiyo/masters_thesis/data/guideline_paper/all_guideline_matching/additional_embedding_2011-2015.pickle')\n",
    "additonal_embedding_eid = additional_embedding_df['eid'].values\n",
    "additonal_embedding_eid = additonal_embedding_eid.astype(int)\n",
    "additonal_embedding_eid"
   ]
  },
  {
   "cell_type": "code",
   "execution_count": 4,
   "id": "5677bc2f-a25c-49ac-9c69-e0b5d9903818",
   "metadata": {
    "execution": {
     "iopub.execute_input": "2025-02-02T15:43:51.247135Z",
     "iopub.status.busy": "2025-02-02T15:43:51.246814Z",
     "iopub.status.idle": "2025-02-02T15:43:51.251628Z",
     "shell.execute_reply": "2025-02-02T15:43:51.251001Z",
     "shell.execute_reply.started": "2025-02-02T15:43:51.247108Z"
    }
   },
   "outputs": [],
   "source": [
    "authid_list = [35780677200 if x == 7006806977 else 57206422848 if x == 54791745100  else 57219144066 if x == 55588756600  else 57219144066 if x == 57191727610  else 57219144066 if x == 14037485900 else x for x in boradmember_authid]"
   ]
  },
  {
   "cell_type": "code",
   "execution_count": 5,
   "id": "92dc0b9f-d1e6-485e-b884-17e3954ff076",
   "metadata": {
    "execution": {
     "iopub.execute_input": "2025-02-02T15:43:51.921167Z",
     "iopub.status.busy": "2025-02-02T15:43:51.920850Z",
     "iopub.status.idle": "2025-02-02T15:43:52.570251Z",
     "shell.execute_reply": "2025-02-02T15:43:52.569548Z",
     "shell.execute_reply.started": "2025-02-02T15:43:51.921142Z"
    }
   },
   "outputs": [],
   "source": [
    "embedding_eid_ls = np.load('/disks/qnap3/users/21-tomokiyo/masters_thesis/data/guideline_paper/all_guideline_matching/embedding_eid_ls.npy')\n",
    "embedding_eid_ls1 = list(embedding_eid_ls) + list(additonal_embedding_eid)"
   ]
  },
  {
   "cell_type": "code",
   "execution_count": 6,
   "id": "c85595f5-7ed9-40a1-98be-46a9b95c2e74",
   "metadata": {
    "execution": {
     "iopub.execute_input": "2025-02-01T18:22:58.236786Z",
     "iopub.status.busy": "2025-02-01T18:22:58.236592Z",
     "iopub.status.idle": "2025-02-01T18:23:29.263063Z",
     "shell.execute_reply": "2025-02-01T18:23:29.262687Z",
     "shell.execute_reply.started": "2025-02-01T18:22:58.236772Z"
    }
   },
   "outputs": [],
   "source": [
    "author_paperlist_df = pd.read_pickle('/disks/qnap3/shared/scopus-24/data/author/author_paperlist.pickle')\n",
    "author_paperlist_df = pd.DataFrame(author_paperlist_df)"
   ]
  },
  {
   "cell_type": "code",
   "execution_count": 7,
   "id": "346b10e9-f683-4064-b487-4e4d51cee84d",
   "metadata": {
    "execution": {
     "iopub.execute_input": "2025-02-02T15:09:37.625282Z",
     "iopub.status.busy": "2025-02-02T15:09:37.624666Z",
     "iopub.status.idle": "2025-02-02T15:09:37.630865Z",
     "shell.execute_reply": "2025-02-02T15:09:37.630431Z",
     "shell.execute_reply.started": "2025-02-02T15:09:37.625268Z"
    }
   },
   "outputs": [
    {
     "data": {
      "text/html": [
       "<div>\n",
       "<style scoped>\n",
       "    .dataframe tbody tr th:only-of-type {\n",
       "        vertical-align: middle;\n",
       "    }\n",
       "\n",
       "    .dataframe tbody tr th {\n",
       "        vertical-align: top;\n",
       "    }\n",
       "\n",
       "    .dataframe thead th {\n",
       "        text-align: right;\n",
       "    }\n",
       "</style>\n",
       "<table border=\"1\" class=\"dataframe\">\n",
       "  <thead>\n",
       "    <tr style=\"text-align: right;\">\n",
       "      <th></th>\n",
       "      <th>author_paperlist</th>\n",
       "    </tr>\n",
       "    <tr>\n",
       "      <th>authids</th>\n",
       "      <th></th>\n",
       "    </tr>\n",
       "  </thead>\n",
       "  <tbody>\n",
       "    <tr>\n",
       "      <th>1</th>\n",
       "      <td>[14881442, 14881430, 14881456, 14881394, 14881...</td>\n",
       "    </tr>\n",
       "    <tr>\n",
       "      <th>2</th>\n",
       "      <td>[58149416836, 33744754941, 58149416551, 157474...</td>\n",
       "    </tr>\n",
       "    <tr>\n",
       "      <th>4</th>\n",
       "      <td>[17858319, 19206542, 19982084, 24229822, 84886...</td>\n",
       "    </tr>\n",
       "    <tr>\n",
       "      <th>6</th>\n",
       "      <td>[17644442848, 16023755, 84916826692, 851127286...</td>\n",
       "    </tr>\n",
       "    <tr>\n",
       "      <th>8</th>\n",
       "      <td>[77956986345, 15661038, 17414010, 19533239, 21...</td>\n",
       "    </tr>\n",
       "  </tbody>\n",
       "</table>\n",
       "</div>"
      ],
      "text/plain": [
       "                                          author_paperlist\n",
       "authids                                                   \n",
       "1        [14881442, 14881430, 14881456, 14881394, 14881...\n",
       "2        [58149416836, 33744754941, 58149416551, 157474...\n",
       "4        [17858319, 19206542, 19982084, 24229822, 84886...\n",
       "6        [17644442848, 16023755, 84916826692, 851127286...\n",
       "8        [77956986345, 15661038, 17414010, 19533239, 21..."
      ]
     },
     "execution_count": 7,
     "metadata": {},
     "output_type": "execute_result"
    }
   ],
   "source": [
    "author_paperlist_df.head()"
   ]
  },
  {
   "cell_type": "code",
   "execution_count": 8,
   "id": "c16d1542-ae00-4725-9174-ec6e4fed9912",
   "metadata": {
    "execution": {
     "iopub.execute_input": "2025-02-01T18:24:29.593813Z",
     "iopub.status.busy": "2025-02-01T18:24:29.593523Z",
     "iopub.status.idle": "2025-02-01T18:24:48.728652Z",
     "shell.execute_reply": "2025-02-01T18:24:48.728237Z",
     "shell.execute_reply.started": "2025-02-01T18:24:29.593795Z"
    }
   },
   "outputs": [],
   "source": [
    "author_paperlist_df_explode = author_paperlist_df.explode('author_paperlist')"
   ]
  },
  {
   "cell_type": "code",
   "execution_count": 9,
   "id": "32092de2-f712-493b-8b6f-dd06963bf012",
   "metadata": {
    "execution": {
     "iopub.execute_input": "2025-02-01T18:27:05.919450Z",
     "iopub.status.busy": "2025-02-01T18:27:05.919350Z",
     "iopub.status.idle": "2025-02-01T18:27:05.921806Z",
     "shell.execute_reply": "2025-02-01T18:27:05.921528Z",
     "shell.execute_reply.started": "2025-02-01T18:27:05.919440Z"
    }
   },
   "outputs": [],
   "source": [
    "author_paperlist_df_explode.rename(columns={'author_paperlist':'eid'},inplace=True)"
   ]
  },
  {
   "cell_type": "code",
   "execution_count": 10,
   "id": "00cfebb6-2d4a-4c6a-8edb-a8342d334566",
   "metadata": {
    "execution": {
     "iopub.execute_input": "2025-02-01T20:44:55.794154Z",
     "iopub.status.busy": "2025-02-01T20:44:55.793829Z",
     "iopub.status.idle": "2025-02-01T20:44:56.098159Z",
     "shell.execute_reply": "2025-02-01T20:44:56.097479Z",
     "shell.execute_reply.started": "2025-02-01T20:44:55.794128Z"
    }
   },
   "outputs": [],
   "source": [
    "author_paperlist_df_explode.reset_index(inplace=True)"
   ]
  },
  {
   "cell_type": "code",
   "execution_count": 12,
   "id": "8046c182-5b96-4ddd-aced-94c3eca3b734",
   "metadata": {
    "execution": {
     "iopub.execute_input": "2025-02-02T15:25:41.376356Z",
     "iopub.status.busy": "2025-02-02T15:25:41.376122Z",
     "iopub.status.idle": "2025-02-02T15:29:05.892280Z",
     "shell.execute_reply": "2025-02-02T15:29:05.891871Z",
     "shell.execute_reply.started": "2025-02-02T15:25:41.376339Z"
    }
   },
   "outputs": [],
   "source": [
    "author_paperlist_df_explode1_1 = author_paperlist_df_explode[author_paperlist_df_explode['eid'].isin(embedding_eid_ls1)]"
   ]
  },
  {
   "cell_type": "code",
   "execution_count": 13,
   "id": "c6fd6087-3079-489b-a1cf-c6b1d86add7d",
   "metadata": {
    "execution": {
     "iopub.execute_input": "2025-02-02T15:14:30.446533Z",
     "iopub.status.busy": "2025-02-02T15:14:30.446209Z",
     "iopub.status.idle": "2025-02-02T15:14:30.452551Z",
     "shell.execute_reply": "2025-02-02T15:14:30.451768Z",
     "shell.execute_reply.started": "2025-02-02T15:14:30.446507Z"
    }
   },
   "outputs": [
    {
     "data": {
      "text/plain": [
       "108"
      ]
     },
     "execution_count": 13,
     "metadata": {},
     "output_type": "execute_result"
    }
   ],
   "source": [
    "authid_list = [35780677200 if x == 7006806977 else 57206422848 if x == 54791745100  else 57219144066 if x == 55588756600  else 57219144066 if x == 57191727610  else 57219144066 if x == 14037485900 else x for x in boradmember_authid]\n",
    "authid_list = list(set(authid_list))\n",
    "len(authid_list)"
   ]
  },
  {
   "cell_type": "code",
   "execution_count": 14,
   "id": "b1549be7-107f-4ee3-8e58-8bc838766a52",
   "metadata": {
    "execution": {
     "iopub.execute_input": "2025-02-02T15:29:52.441208Z",
     "iopub.status.busy": "2025-02-02T15:29:52.441032Z",
     "iopub.status.idle": "2025-02-02T15:30:10.630785Z",
     "shell.execute_reply": "2025-02-02T15:30:10.630271Z",
     "shell.execute_reply.started": "2025-02-02T15:29:52.441197Z"
    }
   },
   "outputs": [
    {
     "name": "stderr",
     "output_type": "stream",
     "text": [
      "/tmp/ipykernel_942534/2342031312.py:1: FutureWarning: Downcasting behavior in `replace` is deprecated and will be removed in a future version. To retain the old behavior, explicitly call `result.infer_objects(copy=False)`. To opt-in to the future behavior, set `pd.set_option('future.no_silent_downcasting', True)`\n",
      "  author_paperlist_df_explode1_1.replace({7006806977:35780677200, 54791745100:57206422848, 55588756600:57219144066, 57191727610:57219144066, 14037485900:57219144066},inplace=True)\n",
      "/tmp/ipykernel_942534/2342031312.py:1: SettingWithCopyWarning: \n",
      "A value is trying to be set on a copy of a slice from a DataFrame\n",
      "\n",
      "See the caveats in the documentation: https://pandas.pydata.org/pandas-docs/stable/user_guide/indexing.html#returning-a-view-versus-a-copy\n",
      "  author_paperlist_df_explode1_1.replace({7006806977:35780677200, 54791745100:57206422848, 55588756600:57219144066, 57191727610:57219144066, 14037485900:57219144066},inplace=True)\n"
     ]
    }
   ],
   "source": [
    "author_paperlist_df_explode1_1.replace({7006806977:35780677200, 54791745100:57206422848, 55588756600:57219144066, 57191727610:57219144066, 14037485900:57219144066},inplace=True)"
   ]
  },
  {
   "cell_type": "code",
   "execution_count": 163,
   "id": "1f302a5d-06d9-4647-8ff5-c0cb3025a00a",
   "metadata": {
    "execution": {
     "iopub.execute_input": "2025-02-02T15:30:10.659740Z",
     "iopub.status.busy": "2025-02-02T15:30:10.659630Z",
     "iopub.status.idle": "2025-02-02T15:30:10.661318Z",
     "shell.execute_reply": "2025-02-02T15:30:10.661073Z",
     "shell.execute_reply.started": "2025-02-02T15:30:10.659729Z"
    }
   },
   "outputs": [],
   "source": [
    "# author_paperlist_df_explode1.head(50).to_csv('create_one_hot_for_gpt.csv')"
   ]
  },
  {
   "cell_type": "code",
   "execution_count": 16,
   "id": "22447da3-5056-41f7-b2bf-9ca845f0b4f7",
   "metadata": {
    "execution": {
     "iopub.execute_input": "2025-02-02T15:30:10.661753Z",
     "iopub.status.busy": "2025-02-02T15:30:10.661655Z",
     "iopub.status.idle": "2025-02-02T15:30:12.356380Z",
     "shell.execute_reply": "2025-02-02T15:30:12.356026Z",
     "shell.execute_reply.started": "2025-02-02T15:30:10.661743Z"
    }
   },
   "outputs": [],
   "source": [
    "author_ls = author_paperlist_df_explode1_1.authids.unique()"
   ]
  },
  {
   "cell_type": "code",
   "execution_count": 17,
   "id": "cf308b87-3bae-4e71-83ce-511585040f52",
   "metadata": {
    "execution": {
     "iopub.execute_input": "2025-02-02T15:30:28.346701Z",
     "iopub.status.busy": "2025-02-02T15:30:28.346523Z",
     "iopub.status.idle": "2025-02-02T15:31:24.659076Z",
     "shell.execute_reply": "2025-02-02T15:31:24.658711Z",
     "shell.execute_reply.started": "2025-02-02T15:30:28.346688Z"
    }
   },
   "outputs": [],
   "source": [
    "import pandas as pd\n",
    "import numpy as np\n",
    "from scipy.sparse import csr_matrix\n",
    "\n",
    "df = author_paperlist_df_explode1_1\n",
    "unique_authids = df[\"authids\"].unique()\n",
    "unique_eids = embedding_eid_ls1\n",
    "\n",
    "authid_to_idx = {authid: idx for idx, authid in enumerate(unique_authids)}\n",
    "eid_to_idx = {eid: idx for idx, eid in enumerate(unique_eids)}\n",
    "\n",
    "row_indices = df[\"authids\"].map(authid_to_idx).values\n",
    "col_indices = df[\"eid\"].map(eid_to_idx).values\n",
    "\n",
    "# sparse_matrix: one-hot encoding that represents the presence of each authid in each eid\n",
    "sparse_matrix = csr_matrix((np.ones(len(df), dtype=np.int8), (row_indices, col_indices)), \n",
    "                           shape=(len(unique_authids), len(unique_eids)))\n",
    "\n",
    "# Save file\n",
    "# output_file = \"/disks/qnap3/users/21-tomokiyo/masters_thesis/data/guideline_paper/all_guideline_matching/sparse_one_hot_matrix.npz\"\n",
    "#np.savez_compressed(output_file, data=sparse_matrix.data, indices=sparse_matrix.indices, indptr=sparse_matrix.indptr, shape=sparse_matrix.shape)\n",
    "#print(f\"Sparse Matrix Shape: {sparse_matrix.shape}\")\n",
    "#print(f\"Non-zero Elements: {sparse_matrix.nnz}\")\n",
    "#print(f\"Saved File Path: {output_file}\")\n"
   ]
  }
 ],
 "metadata": {
  "kernelspec": {
   "display_name": "Python 3 (ipykernel)",
   "language": "python",
   "name": "python3"
  },
  "language_info": {
   "codemirror_mode": {
    "name": "ipython",
    "version": 3
   },
   "file_extension": ".py",
   "mimetype": "text/x-python",
   "name": "python",
   "nbconvert_exporter": "python",
   "pygments_lexer": "ipython3",
   "version": "3.12.8"
  }
 },
 "nbformat": 4,
 "nbformat_minor": 5
}
