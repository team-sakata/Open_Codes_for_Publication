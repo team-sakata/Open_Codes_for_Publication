{
 "cells": [
  {
   "cell_type": "markdown",
   "id": "4ea66fff-46f5-4909-b72b-cc361b12c913",
   "metadata": {},
   "source": [
    "# Linking guideline researchers to authids in Scopus"
   ]
  },
  {
   "cell_type": "code",
   "execution_count": 1,
   "id": "81baf4a5-ad47-405b-909c-43347f9005f2",
   "metadata": {
    "execution": {
     "iopub.execute_input": "2025-01-10T16:57:09.314545Z",
     "iopub.status.busy": "2025-01-10T16:57:09.314128Z",
     "iopub.status.idle": "2025-01-10T16:57:09.611055Z",
     "shell.execute_reply": "2025-01-10T16:57:09.610072Z",
     "shell.execute_reply.started": "2025-01-10T16:57:09.314519Z"
    }
   },
   "outputs": [],
   "source": [
    "# This code is for manually linking \"guide line researchers\" to authids in Scopus.\n",
    "import pandas as pd\n",
    "import numpy as np\n",
    "from tqdm import tqdm\n",
    "pd.options.display.max_colwidth = None\n",
    "pd.options.display.max_rows = 100\n"
   ]
  },
  {
   "cell_type": "code",
   "execution_count": 2,
   "id": "32b0c934-1ed5-4d45-a76f-90623093455e",
   "metadata": {
    "execution": {
     "iopub.execute_input": "2024-12-19T16:31:10.298015Z",
     "iopub.status.busy": "2024-12-19T16:31:10.297395Z",
     "iopub.status.idle": "2024-12-19T16:31:23.962754Z",
     "shell.execute_reply": "2024-12-19T16:31:23.961456Z",
     "shell.execute_reply.started": "2024-12-19T16:31:10.297967Z"
    }
   },
   "outputs": [],
   "source": [
    "df = pd.read_pickle('/disks/qnap3/users/21-tomokiyo/complex_networks_2024_tomokiyo/data/PM2_5_with_scopus.pickle')"
   ]
  },
  {
   "cell_type": "code",
   "execution_count": 3,
   "id": "1af53722-92e0-45f2-977b-d5239f2e0647",
   "metadata": {
    "execution": {
     "iopub.execute_input": "2024-12-19T16:31:23.964460Z",
     "iopub.status.busy": "2024-12-19T16:31:23.963922Z",
     "iopub.status.idle": "2024-12-19T16:31:23.988035Z",
     "shell.execute_reply": "2024-12-19T16:31:23.987168Z",
     "shell.execute_reply.started": "2024-12-19T16:31:23.964443Z"
    }
   },
   "outputs": [
    {
     "data": {
      "text/html": [
       "<div>\n",
       "<style scoped>\n",
       "    .dataframe tbody tr th:only-of-type {\n",
       "        vertical-align: middle;\n",
       "    }\n",
       "\n",
       "    .dataframe tbody tr th {\n",
       "        vertical-align: top;\n",
       "    }\n",
       "\n",
       "    .dataframe thead th {\n",
       "        text-align: right;\n",
       "    }\n",
       "</style>\n",
       "<table border=\"1\" class=\"dataframe\">\n",
       "  <thead>\n",
       "    <tr style=\"text-align: right;\">\n",
       "      <th></th>\n",
       "      <th>Citing document identifier</th>\n",
       "      <th>Source of citing document</th>\n",
       "      <th>Source type of citing document</th>\n",
       "      <th>Source subtype of citing document</th>\n",
       "      <th>Source country of citing document</th>\n",
       "      <th>Published on date of citing document</th>\n",
       "      <th>Title of citing document</th>\n",
       "      <th>Type of citation</th>\n",
       "      <th>doi</th>\n",
       "      <th>Cited title</th>\n",
       "      <th>...</th>\n",
       "      <th>Cited source country</th>\n",
       "      <th>Cited published on date</th>\n",
       "      <th>eid</th>\n",
       "      <th>cl_no</th>\n",
       "      <th>scl_no</th>\n",
       "      <th>sscl_no</th>\n",
       "      <th>title</th>\n",
       "      <th>year</th>\n",
       "      <th>authids</th>\n",
       "      <th>Published on year of citing document</th>\n",
       "    </tr>\n",
       "  </thead>\n",
       "  <tbody>\n",
       "    <tr>\n",
       "      <th>0</th>\n",
       "      <td>governmentofcanada-9a50a1932ec206edf493143f658fdd71</td>\n",
       "      <td>Government of Canada</td>\n",
       "      <td>government</td>\n",
       "      <td>NaN</td>\n",
       "      <td>Canada</td>\n",
       "      <td>1995-01-01</td>\n",
       "      <td>Agriculture nutrient pathways / prepared by P.E. Brisbin and G.G. Runka.</td>\n",
       "      <td>scholarly</td>\n",
       "      <td>10.2134/jeq1994.00472425002300030006x</td>\n",
       "      <td>Managing Agricultural Phosphorus for Protection of Surface Waters: Issues and Options</td>\n",
       "      <td>...</td>\n",
       "      <td>NaN</td>\n",
       "      <td>1994-1-1</td>\n",
       "      <td>2.843707e+07</td>\n",
       "      <td>5.0</td>\n",
       "      <td>1.0</td>\n",
       "      <td>5.0</td>\n",
       "      <td>Managing agricultural phosphorus for protection of surface waters: Issues and options</td>\n",
       "      <td>1994.0</td>\n",
       "      <td>[57203270083, 7003344459, 11539084700, 7202122580, 7201676998, 7402391007]</td>\n",
       "      <td>1995</td>\n",
       "    </tr>\n",
       "    <tr>\n",
       "      <th>1</th>\n",
       "      <td>unitednations-aeb4b322b7e0a4209455942cda3ba211</td>\n",
       "      <td>United Nations</td>\n",
       "      <td>igo</td>\n",
       "      <td>NaN</td>\n",
       "      <td>IGO</td>\n",
       "      <td>1996-01-01</td>\n",
       "      <td>Climate change 1995 :the science of climate change : summary for policymakers and technical summary of the WG.I report</td>\n",
       "      <td>scholarly</td>\n",
       "      <td>10.1351/pac199567081377</td>\n",
       "      <td>Units for use in atmospheric chemistry (IUPAC Recommendations 1995)</td>\n",
       "      <td>...</td>\n",
       "      <td>NaN</td>\n",
       "      <td>1995-1-1</td>\n",
       "      <td>4.917380e+05</td>\n",
       "      <td>5.0</td>\n",
       "      <td>4.0</td>\n",
       "      <td>8.0</td>\n",
       "      <td>Units for use in atmospheric chemistry (IUPAC recommendations 1995)</td>\n",
       "      <td>1995.0</td>\n",
       "      <td>[55207447000, 56261285600]</td>\n",
       "      <td>1996</td>\n",
       "    </tr>\n",
       "    <tr>\n",
       "      <th>2</th>\n",
       "      <td>unitednations-aeb4b322b7e0a4209455942cda3ba211</td>\n",
       "      <td>United Nations</td>\n",
       "      <td>igo</td>\n",
       "      <td>NaN</td>\n",
       "      <td>IGO</td>\n",
       "      <td>1996-01-01</td>\n",
       "      <td>Climate change 1995 :the science of climate change : summary for policymakers and technical summary of the WG.I report</td>\n",
       "      <td>scholarly</td>\n",
       "      <td>10.1017/cbo9781107415324.004</td>\n",
       "      <td>Summary for Policymakers</td>\n",
       "      <td>...</td>\n",
       "      <td>NaN</td>\n",
       "      <td>2014-6-9</td>\n",
       "      <td>NaN</td>\n",
       "      <td>NaN</td>\n",
       "      <td>NaN</td>\n",
       "      <td>NaN</td>\n",
       "      <td>NaN</td>\n",
       "      <td>NaN</td>\n",
       "      <td>NaN</td>\n",
       "      <td>1996</td>\n",
       "    </tr>\n",
       "    <tr>\n",
       "      <th>3</th>\n",
       "      <td>unitednations-aeb4b322b7e0a4209455942cda3ba211</td>\n",
       "      <td>United Nations</td>\n",
       "      <td>igo</td>\n",
       "      <td>NaN</td>\n",
       "      <td>IGO</td>\n",
       "      <td>1996-01-01</td>\n",
       "      <td>Climate change 1995 :the science of climate change : summary for policymakers and technical summary of the WG.I report</td>\n",
       "      <td>scholarly</td>\n",
       "      <td>10.1038/nature08823</td>\n",
       "      <td>The next generation of scenarios for climate change research and assessment</td>\n",
       "      <td>...</td>\n",
       "      <td>NaN</td>\n",
       "      <td>2010-2-11</td>\n",
       "      <td>7.674910e+10</td>\n",
       "      <td>5.0</td>\n",
       "      <td>0.0</td>\n",
       "      <td>1.0</td>\n",
       "      <td>The next generation of scenarios for climate change research and assessment</td>\n",
       "      <td>2010.0</td>\n",
       "      <td>[35474341000, 57225389374, 57203368107, 7202099342, 15825990000, 7003501910, 57196403192, 8979277400, 7006513458, 6701727436, 7006518289, 7406514318, 56014503100, 56014503100, 6602435618, 57193073844, 7101632204, 7403717763, 7003413782, 6701860531]</td>\n",
       "      <td>1996</td>\n",
       "    </tr>\n",
       "    <tr>\n",
       "      <th>4</th>\n",
       "      <td>unitednations-aeb4b322b7e0a4209455942cda3ba211</td>\n",
       "      <td>United Nations</td>\n",
       "      <td>igo</td>\n",
       "      <td>NaN</td>\n",
       "      <td>IGO</td>\n",
       "      <td>1996-01-01</td>\n",
       "      <td>Climate change 1995 :the science of climate change : summary for policymakers and technical summary of the WG.I report</td>\n",
       "      <td>scholarly</td>\n",
       "      <td>10.1017/cbo9781107415324.005</td>\n",
       "      <td>Technical Summary</td>\n",
       "      <td>...</td>\n",
       "      <td>NaN</td>\n",
       "      <td>2014-6-9</td>\n",
       "      <td>NaN</td>\n",
       "      <td>NaN</td>\n",
       "      <td>NaN</td>\n",
       "      <td>NaN</td>\n",
       "      <td>NaN</td>\n",
       "      <td>NaN</td>\n",
       "      <td>NaN</td>\n",
       "      <td>1996</td>\n",
       "    </tr>\n",
       "  </tbody>\n",
       "</table>\n",
       "<p>5 rows × 23 columns</p>\n",
       "</div>"
      ],
      "text/plain": [
       "                            Citing document identifier  \\\n",
       "0  governmentofcanada-9a50a1932ec206edf493143f658fdd71   \n",
       "1       unitednations-aeb4b322b7e0a4209455942cda3ba211   \n",
       "2       unitednations-aeb4b322b7e0a4209455942cda3ba211   \n",
       "3       unitednations-aeb4b322b7e0a4209455942cda3ba211   \n",
       "4       unitednations-aeb4b322b7e0a4209455942cda3ba211   \n",
       "\n",
       "  Source of citing document Source type of citing document  \\\n",
       "0      Government of Canada                     government   \n",
       "1            United Nations                            igo   \n",
       "2            United Nations                            igo   \n",
       "3            United Nations                            igo   \n",
       "4            United Nations                            igo   \n",
       "\n",
       "  Source subtype of citing document Source country of citing document  \\\n",
       "0                               NaN                            Canada   \n",
       "1                               NaN                               IGO   \n",
       "2                               NaN                               IGO   \n",
       "3                               NaN                               IGO   \n",
       "4                               NaN                               IGO   \n",
       "\n",
       "  Published on date of citing document  \\\n",
       "0                           1995-01-01   \n",
       "1                           1996-01-01   \n",
       "2                           1996-01-01   \n",
       "3                           1996-01-01   \n",
       "4                           1996-01-01   \n",
       "\n",
       "                                                                                                 Title of citing document  \\\n",
       "0                                                Agriculture nutrient pathways / prepared by P.E. Brisbin and G.G. Runka.   \n",
       "1  Climate change 1995 :the science of climate change : summary for policymakers and technical summary of the WG.I report   \n",
       "2  Climate change 1995 :the science of climate change : summary for policymakers and technical summary of the WG.I report   \n",
       "3  Climate change 1995 :the science of climate change : summary for policymakers and technical summary of the WG.I report   \n",
       "4  Climate change 1995 :the science of climate change : summary for policymakers and technical summary of the WG.I report   \n",
       "\n",
       "  Type of citation                                    doi  \\\n",
       "0        scholarly  10.2134/jeq1994.00472425002300030006x   \n",
       "1        scholarly                10.1351/pac199567081377   \n",
       "2        scholarly           10.1017/cbo9781107415324.004   \n",
       "3        scholarly                    10.1038/nature08823   \n",
       "4        scholarly           10.1017/cbo9781107415324.005   \n",
       "\n",
       "                                                                             Cited title  \\\n",
       "0  Managing Agricultural Phosphorus for Protection of Surface Waters: Issues and Options   \n",
       "1                    Units for use in atmospheric chemistry (IUPAC Recommendations 1995)   \n",
       "2                                                               Summary for Policymakers   \n",
       "3            The next generation of scenarios for climate change research and assessment   \n",
       "4                                                                      Technical Summary   \n",
       "\n",
       "   ... Cited source country Cited published on date           eid cl_no  \\\n",
       "0  ...                  NaN                1994-1-1  2.843707e+07   5.0   \n",
       "1  ...                  NaN                1995-1-1  4.917380e+05   5.0   \n",
       "2  ...                  NaN                2014-6-9           NaN   NaN   \n",
       "3  ...                  NaN               2010-2-11  7.674910e+10   5.0   \n",
       "4  ...                  NaN                2014-6-9           NaN   NaN   \n",
       "\n",
       "  scl_no  sscl_no  \\\n",
       "0    1.0      5.0   \n",
       "1    4.0      8.0   \n",
       "2    NaN      NaN   \n",
       "3    0.0      1.0   \n",
       "4    NaN      NaN   \n",
       "\n",
       "                                                                                   title  \\\n",
       "0  Managing agricultural phosphorus for protection of surface waters: Issues and options   \n",
       "1                    Units for use in atmospheric chemistry (IUPAC recommendations 1995)   \n",
       "2                                                                                    NaN   \n",
       "3            The next generation of scenarios for climate change research and assessment   \n",
       "4                                                                                    NaN   \n",
       "\n",
       "     year  \\\n",
       "0  1994.0   \n",
       "1  1995.0   \n",
       "2     NaN   \n",
       "3  2010.0   \n",
       "4     NaN   \n",
       "\n",
       "                                                                                                                                                                                                                                                    authids  \\\n",
       "0                                                                                                                                                                                [57203270083, 7003344459, 11539084700, 7202122580, 7201676998, 7402391007]   \n",
       "1                                                                                                                                                                                                                                [55207447000, 56261285600]   \n",
       "2                                                                                                                                                                                                                                                       NaN   \n",
       "3  [35474341000, 57225389374, 57203368107, 7202099342, 15825990000, 7003501910, 57196403192, 8979277400, 7006513458, 6701727436, 7006518289, 7406514318, 56014503100, 56014503100, 6602435618, 57193073844, 7101632204, 7403717763, 7003413782, 6701860531]   \n",
       "4                                                                                                                                                                                                                                                       NaN   \n",
       "\n",
       "  Published on year of citing document  \n",
       "0                                 1995  \n",
       "1                                 1996  \n",
       "2                                 1996  \n",
       "3                                 1996  \n",
       "4                                 1996  \n",
       "\n",
       "[5 rows x 23 columns]"
      ]
     },
     "execution_count": 3,
     "metadata": {},
     "output_type": "execute_result"
    }
   ],
   "source": [
    "df.head()"
   ]
  },
  {
   "cell_type": "code",
   "execution_count": 4,
   "id": "a33e8c0f-a0e6-4f16-baaa-cc6b0c72a39a",
   "metadata": {
    "execution": {
     "iopub.execute_input": "2024-12-19T16:31:24.042914Z",
     "iopub.status.busy": "2024-12-19T16:31:24.042726Z",
     "iopub.status.idle": "2024-12-19T16:33:08.782947Z",
     "shell.execute_reply": "2024-12-19T16:33:08.782108Z",
     "shell.execute_reply.started": "2024-12-19T16:31:24.042901Z"
    }
   },
   "outputs": [],
   "source": [
    "doi_df = pd.read_pickle('/disks/qnap3/shared/scopus-24/data/paper/doi.pickle')\n",
    "doi_df = pd.DataFrame(doi_df)\n",
    "doi_df.reset_index(inplace=True)\n",
    "doi_df.rename(columns={'index':'eid'},inplace=True)"
   ]
  },
  {
   "cell_type": "code",
   "execution_count": 5,
   "id": "fe4a7d3b-d932-4dcb-9eab-54c1ab4c9d0e",
   "metadata": {
    "execution": {
     "iopub.execute_input": "2024-12-19T16:33:08.783945Z",
     "iopub.status.busy": "2024-12-19T16:33:08.783764Z",
     "iopub.status.idle": "2024-12-19T16:33:08.790997Z",
     "shell.execute_reply": "2024-12-19T16:33:08.790163Z",
     "shell.execute_reply.started": "2024-12-19T16:33:08.783930Z"
    }
   },
   "outputs": [
    {
     "data": {
      "text/html": [
       "<div>\n",
       "<style scoped>\n",
       "    .dataframe tbody tr th:only-of-type {\n",
       "        vertical-align: middle;\n",
       "    }\n",
       "\n",
       "    .dataframe tbody tr th {\n",
       "        vertical-align: top;\n",
       "    }\n",
       "\n",
       "    .dataframe thead th {\n",
       "        text-align: right;\n",
       "    }\n",
       "</style>\n",
       "<table border=\"1\" class=\"dataframe\">\n",
       "  <thead>\n",
       "    <tr style=\"text-align: right;\">\n",
       "      <th></th>\n",
       "      <th>eid</th>\n",
       "      <th>doi</th>\n",
       "    </tr>\n",
       "  </thead>\n",
       "  <tbody>\n",
       "    <tr>\n",
       "      <th>0</th>\n",
       "      <td>107</td>\n",
       "      <td>10.1175/1520-0442(1997)010&lt;2184:ASAIUF&gt;2.0.CO;2</td>\n",
       "    </tr>\n",
       "    <tr>\n",
       "      <th>1</th>\n",
       "      <td>110</td>\n",
       "      <td>10.1063/1.1285965</td>\n",
       "    </tr>\n",
       "    <tr>\n",
       "      <th>2</th>\n",
       "      <td>116</td>\n",
       "      <td>10.1103/PhysRevE.56.623</td>\n",
       "    </tr>\n",
       "    <tr>\n",
       "      <th>3</th>\n",
       "      <td>117</td>\n",
       "      <td>10.1086/304826</td>\n",
       "    </tr>\n",
       "    <tr>\n",
       "      <th>4</th>\n",
       "      <td>118</td>\n",
       "      <td>10.1002/(SICI)1521-4109(199907)11:9&lt;623::AID-ELAN623&gt;3.0.CO;2-A</td>\n",
       "    </tr>\n",
       "    <tr>\n",
       "      <th>5</th>\n",
       "      <td>119</td>\n",
       "      <td>10.1080/10412905.1999.9701227</td>\n",
       "    </tr>\n",
       "    <tr>\n",
       "      <th>6</th>\n",
       "      <td>121</td>\n",
       "      <td>10.1016/S0020-1693(00)87769-5</td>\n",
       "    </tr>\n",
       "    <tr>\n",
       "      <th>7</th>\n",
       "      <td>122</td>\n",
       "      <td>10.1088/0953-8984/11/29/302</td>\n",
       "    </tr>\n",
       "    <tr>\n",
       "      <th>8</th>\n",
       "      <td>124</td>\n",
       "      <td>10.1021/jo00287a026</td>\n",
       "    </tr>\n",
       "    <tr>\n",
       "      <th>9</th>\n",
       "      <td>125</td>\n",
       "      <td>10.1021/ja00294a044</td>\n",
       "    </tr>\n",
       "    <tr>\n",
       "      <th>10</th>\n",
       "      <td>129</td>\n",
       "      <td>10.1103/PhysRevB.51.10591</td>\n",
       "    </tr>\n",
       "    <tr>\n",
       "      <th>11</th>\n",
       "      <td>130</td>\n",
       "      <td>10.1103/PhysRevA.57.4130</td>\n",
       "    </tr>\n",
       "    <tr>\n",
       "      <th>12</th>\n",
       "      <td>134</td>\n",
       "      <td>10.1039/F19888401517</td>\n",
       "    </tr>\n",
       "    <tr>\n",
       "      <th>13</th>\n",
       "      <td>137</td>\n",
       "      <td>10.1103/PhysRevB.57.4670</td>\n",
       "    </tr>\n",
       "    <tr>\n",
       "      <th>14</th>\n",
       "      <td>138</td>\n",
       "      <td>10.1366/0003702934067847</td>\n",
       "    </tr>\n",
       "    <tr>\n",
       "      <th>15</th>\n",
       "      <td>140</td>\n",
       "      <td>10.1103/PhysRevC.47.1091</td>\n",
       "    </tr>\n",
       "    <tr>\n",
       "      <th>16</th>\n",
       "      <td>146</td>\n",
       "      <td>10.1021/ma00128a032</td>\n",
       "    </tr>\n",
       "    <tr>\n",
       "      <th>17</th>\n",
       "      <td>153</td>\n",
       "      <td>10.1107/S0108767397018849</td>\n",
       "    </tr>\n",
       "    <tr>\n",
       "      <th>18</th>\n",
       "      <td>157</td>\n",
       "      <td>10.1021/jp9822945</td>\n",
       "    </tr>\n",
       "    <tr>\n",
       "      <th>19</th>\n",
       "      <td>170</td>\n",
       "      <td>10.1021/jf00019a010</td>\n",
       "    </tr>\n",
       "  </tbody>\n",
       "</table>\n",
       "</div>"
      ],
      "text/plain": [
       "    eid                                                              doi\n",
       "0   107                  10.1175/1520-0442(1997)010<2184:ASAIUF>2.0.CO;2\n",
       "1   110                                                10.1063/1.1285965\n",
       "2   116                                          10.1103/PhysRevE.56.623\n",
       "3   117                                                   10.1086/304826\n",
       "4   118  10.1002/(SICI)1521-4109(199907)11:9<623::AID-ELAN623>3.0.CO;2-A\n",
       "5   119                                    10.1080/10412905.1999.9701227\n",
       "6   121                                    10.1016/S0020-1693(00)87769-5\n",
       "7   122                                      10.1088/0953-8984/11/29/302\n",
       "8   124                                              10.1021/jo00287a026\n",
       "9   125                                              10.1021/ja00294a044\n",
       "10  129                                        10.1103/PhysRevB.51.10591\n",
       "11  130                                         10.1103/PhysRevA.57.4130\n",
       "12  134                                             10.1039/F19888401517\n",
       "13  137                                         10.1103/PhysRevB.57.4670\n",
       "14  138                                         10.1366/0003702934067847\n",
       "15  140                                         10.1103/PhysRevC.47.1091\n",
       "16  146                                              10.1021/ma00128a032\n",
       "17  153                                        10.1107/S0108767397018849\n",
       "18  157                                                10.1021/jp9822945\n",
       "19  170                                              10.1021/jf00019a010"
      ]
     },
     "execution_count": 5,
     "metadata": {},
     "output_type": "execute_result"
    }
   ],
   "source": [
    "doi_df.head(20)"
   ]
  },
  {
   "cell_type": "code",
   "execution_count": 15,
   "id": "8c8b3145-851a-491f-a944-df85c5593ce6",
   "metadata": {
    "execution": {
     "iopub.execute_input": "2024-12-19T16:33:23.617571Z",
     "iopub.status.busy": "2024-12-19T16:33:23.616895Z",
     "iopub.status.idle": "2024-12-19T16:33:23.627268Z",
     "shell.execute_reply": "2024-12-19T16:33:23.626162Z",
     "shell.execute_reply.started": "2024-12-19T16:33:23.617525Z"
    }
   },
   "outputs": [
    {
     "data": {
      "text/plain": [
       "['10.1164/ajrccm.159.2.9806020',\n",
       " '10.1016/S2542-5196(19)30046-4',\n",
       " '10.1007/s11157-012-9282-y',\n",
       " '10.1016/j.buildenv.2019.106441',\n",
       " '10.1175/BAMS-D-14-00026.1',\n",
       " '10.1016/j.envint.2017.09.005',\n",
       " '10.1016/j.atmosenv.2013.01.042',\n",
       " '10.1289/ehp.10767',\n",
       " '10.1016/S0140-6736(13)62158-3',\n",
       " '10.1161/CIRCULATIONAHA.109.851113',\n",
       " '10.1007/s00038-014-0608-0',\n",
       " '10.1016/j.envint.2015.08.006',\n",
       " '10.1006/rtph.1995.1084',\n",
       " '10.1002/jgrd.50171',\n",
       " '10.1007/s40572-017-0161-0',\n",
       " '10.1016/S2542-5196(18)30140-2',\n",
       " '10.1021/es2025752',\n",
       " '10.1021/acs.est.5b03709',\n",
       " '10.1039/c7em00261k',\n",
       " '10.1289/ehp.1307049',\n",
       " '10.1073/pnas.1803222115',\n",
       " '10.1002/14651858',\n",
       " '10.1016/j.envint.2017.11.030',\n",
       " '10.1164/rccm.201210-1758OC',\n",
       " '10.1007/s00038-019-01324-y',\n",
       " '10.1289/ehp.1205862',\n",
       " '10.5194/gmd-12-955-2019',\n",
       " '10.5281/zenodo.3972106',\n",
       " '10.1016/j.envint.2020.105974',\n",
       " '10.1016/S2542-5196(21)00026-7',\n",
       " '10.1164/rccm.201609-1862OC',\n",
       " '10.1016/j.scitotenv.2016.07.064',\n",
       " '10.1080/15287390903091756',\n",
       " '10.1016/S0140-6736(02)11281-5',\n",
       " '10.1016/S0140-6736(17)30505-6',\n",
       " '10.1016/j.envpol.2014.08.015',\n",
       " '10.1289/ehp.1409276',\n",
       " '10.1016/j.envres.2016.07.005',\n",
       " '10.1016/j.envint.2018.07.036',\n",
       " '10.1016/j.envint.2019.05.021',\n",
       " '10.1007/s00484-012-0541-y',\n",
       " '10.1016/j.envint.2016.12.004',\n",
       " '10.1161/STROKEAHA.116.014242',\n",
       " '10.1056/NEJMoa1702747',\n",
       " '10.1001/jama.2017.17923',\n",
       " '10.1164/rccm.201310-1777OC',\n",
       " '10.1097/EDE.0000000000001034',\n",
       " '10.1056/NEJM199312093292401',\n",
       " '10.1016/j.ufug.2017.02.010',\n",
       " '10.1080/08958370500240413',\n",
       " '10.1016/j.atmosenv.2007.04.047',\n",
       " '10.1016/j.envint.2018.12.060',\n",
       " '10.1007/s00038-020-01479-z',\n",
       " '10.1183/09031936.00114713',\n",
       " '10.1136/oem.2004.014746',\n",
       " '10.1289/ehp.1408254',\n",
       " '10.1016/j.scitotenv.2019.135778',\n",
       " '10.1016/j.envint.2021.106790',\n",
       " '10.1016/S0140-6736(17)32366-8',\n",
       " '10.1016/S0140-6736(20)30752-2',\n",
       " '10.1289/ehp.1409567',\n",
       " '10.1016/j.envint.2013.10.011',\n",
       " '10.1164/rccm.200403-333OC',\n",
       " '10.1021/acs.est.0c01764',\n",
       " '10.1016/j.envint.2019.02.044',\n",
       " '10.1136/thoraxjnl-2015-207111',\n",
       " '10.1164/rccm.200912-1903OC',\n",
       " '10.1097/EDE.0b013e31829d5dae',\n",
       " '10.1186/s12940-015-0027-6',\n",
       " '10.1161/JAHA.116.003947',\n",
       " '10.1265/jjh.65.413',\n",
       " '10.1136/oemed-2012-100876',\n",
       " '10.1016/j.atmosenv.2008.05.057',\n",
       " '10.1080/15287391003684789',\n",
       " '10.1016/j.envint.2020.105998',\n",
       " '10.1016/j.jclinepi.2017.05.006',\n",
       " '10.1016/j.envint.2018.12.010',\n",
       " '10.1289/ehp.1002976',\n",
       " '10.1136/bmjopen-2015-010247',\n",
       " '10.1002/14651858',\n",
       " '10.1016/j.atmosenv.2020.117300',\n",
       " '10.1289/ehp.11533',\n",
       " '10.1111/j.1477-8947.2008.00176.x',\n",
       " '10.1016/j.envint.2012.06.012',\n",
       " '10.1021/es100008x',\n",
       " '10.2188/jea.je20100098',\n",
       " '10.3390/ijerph17051625',\n",
       " '10.1038/s41370-019-0135-4',\n",
       " '10.1016/j.envint.2016.11.012',\n",
       " '10.3390/ijerph14101103',\n",
       " '10.1016/j.envint.2019.105341',\n",
       " '10.1016/j.envres.2014.09.011',\n",
       " '10.1080/15287390306424',\n",
       " '10.1007/00038-017-0952-y',\n",
       " '10.1164/rccm.200503-443OC',\n",
       " '10.1021/acs.est.7b01148',\n",
       " '10.1016/j.envint.2020.105901',\n",
       " '10.1186/s12940-019-0544-9',\n",
       " '10.1289/ehp.1104660',\n",
       " '10.1164/rccm.201806-1161OC',\n",
       " '10.1016/S0140-6736(12)61766-8',\n",
       " '10.1016/j.atmosenv.2005.09.027',\n",
       " '10.1164/rccm.201012-2082OC',\n",
       " '10.1056/NEJMoa181736',\n",
       " '10.2495/AIR180011',\n",
       " '10.1016/j.envint.2017.07.005',\n",
       " '10.1016/j.envres.2017.06.028',\n",
       " '10.1080/01621459.2018.1529598',\n",
       " '10.1038/sj.jea.7500095',\n",
       " '10.1136/bmj.n534',\n",
       " '10.3390/su9061053',\n",
       " '10.1016/j.aeolia.2016.12.001',\n",
       " '10.1136/bmjopen-2015-010751',\n",
       " '10.1016/j.atmosenv.2008.07.050',\n",
       " '10.1016/j.envint.2016.01.004',\n",
       " '10.1016/j.envint.2018.11.004',\n",
       " '10.1016/S1352-2310(03)00535-1',\n",
       " '10.3390/ijerph17103733',\n",
       " '10.1016/j.geoderma.2003.11.012',\n",
       " '10.1021/es103578x',\n",
       " '10.1007/s00038-019-01202-7',\n",
       " '10.1016/j.envint.2021.106434',\n",
       " '10.1016/j.envint.2020.105876',\n",
       " '10.1289/ehp.1408565',\n",
       " '10.1016/j.yrtph.2017.05.014',\n",
       " '10.1289/EHP5204',\n",
       " '10.1161/CIRCULATIONAHA.117.029376',\n",
       " '10.1146/annurev-publhealth-040218-044058',\n",
       " '10.1136/oem.2010.063990',\n",
       " '10.3233/JAD-180631',\n",
       " '10.5194/acp-13-8365-2013',\n",
       " '10.5194/acp-13-1395-2013',\n",
       " '10.1186/s12940-016-0111-6',\n",
       " '10.1016/j.envres.2017.08.037',\n",
       " '10.1056/NEJMsa0805646',\n",
       " '10.1001/jama.287.9.1132',\n",
       " '10.1093/aje/kwn232',\n",
       " '10.1289/ehp.1002921',\n",
       " '10.1016/j.atmosenv.2009.06.013',\n",
       " '10.1016/j.scitotenv.2019.05.349',\n",
       " '10.1016/j.envint.2019.05.061',\n",
       " '10.5194/acp11-6663-2011',\n",
       " '10.1016/S2542-5196(19)30215-3',\n",
       " '10.1097/EDE.0b013e31815c1921',\n",
       " '10.1097/EDE.0000000000000876',\n",
       " '10.3390/atmos11050516',\n",
       " '10.1289/ehp.11345',\n",
       " '10.1186/s12940-017-0296-3',\n",
       " '10.1016/j.ufug.2016.04.010',\n",
       " '10.1021/acs.est.8b02864',\n",
       " '10.1016/j.envint.2016.02.016',\n",
       " '10.1289/EHP6980',\n",
       " '10.1016/j.gloplacha.2006.02.002',\n",
       " '10.1289/ehp.1509676',\n",
       " '10.1289/ehp.1509777',\n",
       " '10.1183/13993003.00419-2016',\n",
       " '10.1097/EDE.0000000000001255',\n",
       " '10.1136/bmjopen-2019-029876',\n",
       " '10.1097/01.EE9.0000610424.75648.58',\n",
       " '10.1093/eurheartj/ehs480',\n",
       " '10.1080/15287394.2012.641202',\n",
       " '10.1186/s12889-015-2272-6',\n",
       " '10.1093/aje/kwu275',\n",
       " '10.1164/rccm.201508-1633OC',\n",
       " '10.5551/jat.9506',\n",
       " '10.1007/s11869-010-0131-2',\n",
       " '10.1080/15287390801997708',\n",
       " '10.1136/bmj.m108',\n",
       " '10.1097/EDE.0000000000000294',\n",
       " '10.1016/j.envres.2021.110754',\n",
       " '10.1289/EHP5975',\n",
       " '10.1038/s41598-017-16770-y',\n",
       " '10.1289/ehp.1307277',\n",
       " '10.1289/ehp.11257',\n",
       " '10.1377/hlthaff.2010.1219',\n",
       " '10.1016/j.envres.2019.108817',\n",
       " '10.1016/j.ufug.2004.09.001',\n",
       " '10.1016/j.envint.2020.105927',\n",
       " '10.1016/j.envint.2020.105589',\n",
       " '10.1016/j.envint.2018.04.034',\n",
       " '10.1289/EHP1673',\n",
       " '10.1016/j.scitotenv.2012.10.088',\n",
       " '10.1038/nature21712',\n",
       " '10.3390/atmos7120158',\n",
       " '10.1016/j.envint.2021.106435',\n",
       " '10.1016/j.envpol.2013.11.010']"
      ]
     },
     "execution_count": 15,
     "metadata": {},
     "output_type": "execute_result"
    }
   ],
   "source": [
    "# DOIs of papers cited by the guideline \n",
    "who_doi_df = pd.read_csv(\"/disks/qnap3/users/21-tomokiyo/masters_thesis/data/guideline_paper/ref_data/2021/who_guideline2021_ref_extract_doi.csv\",index_col=0)\n",
    "doi_ls = who_doi_df.index.tolist()\n",
    "doi_ls"
   ]
  },
  {
   "cell_type": "code",
   "execution_count": 16,
   "id": "a9812bfe-ebd4-496c-8e18-1417dca438fe",
   "metadata": {
    "execution": {
     "iopub.execute_input": "2024-12-19T16:33:25.137488Z",
     "iopub.status.busy": "2024-12-19T16:33:25.136657Z",
     "iopub.status.idle": "2024-12-19T16:33:25.146797Z",
     "shell.execute_reply": "2024-12-19T16:33:25.145329Z",
     "shell.execute_reply.started": "2024-12-19T16:33:25.137417Z"
    }
   },
   "outputs": [
    {
     "data": {
      "text/plain": [
       "186"
      ]
     },
     "execution_count": 16,
     "metadata": {},
     "output_type": "execute_result"
    }
   ],
   "source": [
    "len(doi_ls)"
   ]
  },
  {
   "cell_type": "code",
   "execution_count": 17,
   "id": "3f9bcd92-ede3-4341-852e-b17086eb590c",
   "metadata": {
    "execution": {
     "iopub.execute_input": "2024-12-19T16:33:25.462421Z",
     "iopub.status.busy": "2024-12-19T16:33:25.461746Z",
     "iopub.status.idle": "2024-12-19T16:33:30.651037Z",
     "shell.execute_reply": "2024-12-19T16:33:30.650166Z",
     "shell.execute_reply.started": "2024-12-19T16:33:25.462368Z"
    }
   },
   "outputs": [],
   "source": [
    "doi_df1 = doi_df[doi_df['doi'].isin(doi_ls)]"
   ]
  },
  {
   "cell_type": "code",
   "execution_count": 18,
   "id": "7c927e21-fa6e-4960-8411-c2a353fd88ef",
   "metadata": {
    "execution": {
     "iopub.execute_input": "2024-12-19T16:33:30.652552Z",
     "iopub.status.busy": "2024-12-19T16:33:30.652018Z",
     "iopub.status.idle": "2024-12-19T16:33:30.659449Z",
     "shell.execute_reply": "2024-12-19T16:33:30.658403Z",
     "shell.execute_reply.started": "2024-12-19T16:33:30.652535Z"
    }
   },
   "outputs": [
    {
     "data": {
      "text/html": [
       "<div>\n",
       "<style scoped>\n",
       "    .dataframe tbody tr th:only-of-type {\n",
       "        vertical-align: middle;\n",
       "    }\n",
       "\n",
       "    .dataframe tbody tr th {\n",
       "        vertical-align: top;\n",
       "    }\n",
       "\n",
       "    .dataframe thead th {\n",
       "        text-align: right;\n",
       "    }\n",
       "</style>\n",
       "<table border=\"1\" class=\"dataframe\">\n",
       "  <thead>\n",
       "    <tr style=\"text-align: right;\">\n",
       "      <th></th>\n",
       "      <th>eid</th>\n",
       "      <th>doi</th>\n",
       "    </tr>\n",
       "  </thead>\n",
       "  <tbody>\n",
       "    <tr>\n",
       "      <th>12615369</th>\n",
       "      <td>27362097</td>\n",
       "      <td>10.1056/NEJM199312093292401</td>\n",
       "    </tr>\n",
       "    <tr>\n",
       "      <th>13858467</th>\n",
       "      <td>28802284</td>\n",
       "      <td>10.1006/rtph.1995.1084</td>\n",
       "    </tr>\n",
       "    <tr>\n",
       "      <th>17504810</th>\n",
       "      <td>33006078</td>\n",
       "      <td>10.1164/ajrccm.159.2.9806020</td>\n",
       "    </tr>\n",
       "    <tr>\n",
       "      <th>18162362</th>\n",
       "      <td>33791138</td>\n",
       "      <td>10.1038/sj.jea.7500095</td>\n",
       "    </tr>\n",
       "    <tr>\n",
       "      <th>20979105</th>\n",
       "      <td>37029043</td>\n",
       "      <td>10.1001/jama.287.9.1132</td>\n",
       "    </tr>\n",
       "  </tbody>\n",
       "</table>\n",
       "</div>"
      ],
      "text/plain": [
       "               eid                           doi\n",
       "12615369  27362097   10.1056/NEJM199312093292401\n",
       "13858467  28802284        10.1006/rtph.1995.1084\n",
       "17504810  33006078  10.1164/ajrccm.159.2.9806020\n",
       "18162362  33791138        10.1038/sj.jea.7500095\n",
       "20979105  37029043       10.1001/jama.287.9.1132"
      ]
     },
     "execution_count": 18,
     "metadata": {},
     "output_type": "execute_result"
    }
   ],
   "source": [
    "doi_df1.head()"
   ]
  },
  {
   "cell_type": "code",
   "execution_count": 19,
   "id": "39124ef1-79f9-4f89-9944-58b0a762142c",
   "metadata": {
    "execution": {
     "iopub.execute_input": "2024-12-19T16:33:30.660309Z",
     "iopub.status.busy": "2024-12-19T16:33:30.660153Z",
     "iopub.status.idle": "2024-12-19T16:33:30.663710Z",
     "shell.execute_reply": "2024-12-19T16:33:30.663066Z",
     "shell.execute_reply.started": "2024-12-19T16:33:30.660295Z"
    }
   },
   "outputs": [],
   "source": [
    "matched_doi = doi_df1['doi'].tolist()\n",
    "not_matched_doi = []\n",
    "\n",
    "for i in doi_ls:\n",
    "    if i not in matched_doi:\n",
    "        not_matched_doi.append(i)"
   ]
  },
  {
   "cell_type": "code",
   "execution_count": 20,
   "id": "1cd87f63-dc3c-44a7-9704-022eda63bad8",
   "metadata": {
    "execution": {
     "iopub.execute_input": "2024-12-19T16:33:31.421152Z",
     "iopub.status.busy": "2024-12-19T16:33:31.420501Z",
     "iopub.status.idle": "2024-12-19T16:33:31.429972Z",
     "shell.execute_reply": "2024-12-19T16:33:31.428758Z",
     "shell.execute_reply.started": "2024-12-19T16:33:31.421103Z"
    }
   },
   "outputs": [
    {
     "data": {
      "text/plain": [
       "7"
      ]
     },
     "execution_count": 20,
     "metadata": {},
     "output_type": "execute_result"
    }
   ],
   "source": [
    "# not_matched_doi: DOIs unmatched with Scopus\n",
    "len(not_matched_doi)"
   ]
  },
  {
   "cell_type": "code",
   "execution_count": 21,
   "id": "faceee45-feb0-4fbb-b1d5-8c6dc756d080",
   "metadata": {
    "execution": {
     "iopub.execute_input": "2025-01-10T16:58:43.982517Z",
     "iopub.status.busy": "2025-01-10T16:58:43.982162Z",
     "iopub.status.idle": "2025-01-10T17:02:59.344081Z",
     "shell.execute_reply": "2025-01-10T17:02:59.343153Z",
     "shell.execute_reply.started": "2025-01-10T16:58:43.982499Z"
    }
   },
   "outputs": [],
   "source": [
    "title_df = pd.read_pickle('/disks/qnap3/shared/scopus-24/data/paper/title.pickle')\n",
    "title_df = pd.DataFrame(title_df)\n",
    "title_df.reset_index(inplace=True)\n",
    "title_df.rename(columns={'index':'eid'},inplace=True)"
   ]
  },
  {
   "cell_type": "code",
   "execution_count": 22,
   "id": "8f337d2f-bf4d-4dac-aaf3-cb2b01b3c36a",
   "metadata": {},
   "outputs": [
    {
     "data": {
      "text/html": [
       "<div>\n",
       "<style scoped>\n",
       "    .dataframe tbody tr th:only-of-type {\n",
       "        vertical-align: middle;\n",
       "    }\n",
       "\n",
       "    .dataframe tbody tr th {\n",
       "        vertical-align: top;\n",
       "    }\n",
       "\n",
       "    .dataframe thead th {\n",
       "        text-align: right;\n",
       "    }\n",
       "</style>\n",
       "<table border=\"1\" class=\"dataframe\">\n",
       "  <thead>\n",
       "    <tr style=\"text-align: right;\">\n",
       "      <th></th>\n",
       "      <th>eid</th>\n",
       "      <th>title</th>\n",
       "    </tr>\n",
       "  </thead>\n",
       "  <tbody>\n",
       "    <tr>\n",
       "      <th>0</th>\n",
       "      <td>107</td>\n",
       "      <td>Assessing surface-atmosphere interactions using former Soviet Union standard meteorological network data. Part II: Cloud and snow cover effects</td>\n",
       "    </tr>\n",
       "    <tr>\n",
       "      <th>1</th>\n",
       "      <td>110</td>\n",
       "      <td>Symmetry of quantum phase space in a degenerate Hamiltonian system</td>\n",
       "    </tr>\n",
       "    <tr>\n",
       "      <th>2</th>\n",
       "      <td>116</td>\n",
       "      <td>Friction in strongly confined polymer melts: Effect of polymer bridges</td>\n",
       "    </tr>\n",
       "    <tr>\n",
       "      <th>3</th>\n",
       "      <td>117</td>\n",
       "      <td>Nearby young dwarf galaxies: Primordial gas and Lyα emission</td>\n",
       "    </tr>\n",
       "    <tr>\n",
       "      <th>4</th>\n",
       "      <td>118</td>\n",
       "      <td>Determination of iodate in salt samples with amperometric detection at a molybdenum oxide modified electrode</td>\n",
       "    </tr>\n",
       "  </tbody>\n",
       "</table>\n",
       "</div>"
      ],
      "text/plain": [
       "   eid  \\\n",
       "0  107   \n",
       "1  110   \n",
       "2  116   \n",
       "3  117   \n",
       "4  118   \n",
       "\n",
       "                                                                                                                                             title  \n",
       "0  Assessing surface-atmosphere interactions using former Soviet Union standard meteorological network data. Part II: Cloud and snow cover effects  \n",
       "1                                                                               Symmetry of quantum phase space in a degenerate Hamiltonian system  \n",
       "2                                                                           Friction in strongly confined polymer melts: Effect of polymer bridges  \n",
       "3                                                                                     Nearby young dwarf galaxies: Primordial gas and Lyα emission  \n",
       "4                                     Determination of iodate in salt samples with amperometric detection at a molybdenum oxide modified electrode  "
      ]
     },
     "execution_count": 22,
     "metadata": {},
     "output_type": "execute_result"
    }
   ],
   "source": [
    "title_df.head()"
   ]
  },
  {
   "cell_type": "markdown",
   "id": "4af084a7-eb85-4ced-99ef-f5e5bf850ce3",
   "metadata": {
    "execution": {
     "iopub.status.busy": "2024-12-19T16:33:09.142123Z",
     "iopub.status.idle": "2024-12-19T16:33:09.142304Z",
     "shell.execute_reply": "2024-12-19T16:33:09.142216Z",
     "shell.execute_reply.started": "2024-12-19T16:33:09.142208Z"
    }
   },
   "source": [
    "Unmatched papers\n",
    "\n",
    "- None　10.5281/zenodo.3972106\n",
    "- 85000866393 ( '10.1136/bmjopen-2015-010247')\n",
    "- 79953077407 (jea.je20100098)\n",
    "- 85014015881 (10.1007/00038-017-0952-y)\n",
    "- None 10.1056/NEJMoa181736\n",
    "- 79960308455 (10.5194/acp11-6663-2011)\n",
    "- None　10.1097/01.EE9.0000610424.75648.58'\n"
   ]
  },
  {
   "cell_type": "code",
   "execution_count": 23,
   "id": "9d63ca1c-1d2b-4c64-bff2-dc7ecc41f188",
   "metadata": {
    "execution": {
     "iopub.status.busy": "2024-12-19T16:33:09.142778Z",
     "iopub.status.idle": "2024-12-19T16:33:09.142948Z",
     "shell.execute_reply": "2024-12-19T16:33:09.142872Z",
     "shell.execute_reply.started": "2024-12-19T16:33:09.142864Z"
    }
   },
   "outputs": [],
   "source": [
    "target_eids = []\n",
    "target_eids = doi_df1['eid'].tolist() + [85000866393, 79953077407, 85014015881, 79960308455]"
   ]
  },
  {
   "cell_type": "code",
   "execution_count": 24,
   "id": "4b039080-a7c1-455d-b96e-82abd5427ceb",
   "metadata": {
    "execution": {
     "iopub.status.busy": "2024-12-19T16:33:09.143342Z",
     "iopub.status.idle": "2024-12-19T16:33:09.143510Z",
     "shell.execute_reply": "2024-12-19T16:33:09.143434Z",
     "shell.execute_reply.started": "2024-12-19T16:33:09.143425Z"
    }
   },
   "outputs": [
    {
     "data": {
      "text/plain": [
       "183"
      ]
     },
     "execution_count": 24,
     "metadata": {},
     "output_type": "execute_result"
    }
   ],
   "source": [
    "len(target_eids)"
   ]
  },
  {
   "cell_type": "markdown",
   "id": "41d08530",
   "metadata": {},
   "source": [
    "# The following part is for matching members of each section in the WHO guideline to authids on Scopus"
   ]
  },
  {
   "cell_type": "markdown",
   "id": "aa8b7aeb-75ed-4dc5-b95a-9ed258c2342a",
   "metadata": {},
   "source": [
    "### Matching board members"
   ]
  },
  {
   "cell_type": "code",
   "execution_count": 26,
   "id": "f96e4035-b961-42f5-9968-47c67bcd81b2",
   "metadata": {
    "execution": {
     "iopub.execute_input": "2024-12-19T16:36:02.817869Z",
     "iopub.status.busy": "2024-12-19T16:36:02.817271Z",
     "iopub.status.idle": "2024-12-19T16:36:02.828086Z",
     "shell.execute_reply": "2024-12-19T16:36:02.826817Z",
     "shell.execute_reply.started": "2024-12-19T16:36:02.817819Z"
    }
   },
   "outputs": [],
   "source": [
    "member_df = pd.read_csv('/disks/qnap3/users/21-tomokiyo/masters_thesis/data/guideline_paper/ref_data/2021/tableA1.2_complete_with_missing_use.csv')"
   ]
  },
  {
   "cell_type": "code",
   "execution_count": 27,
   "id": "3306c5c0-8428-4a53-967f-5aef1465d23e",
   "metadata": {
    "execution": {
     "iopub.execute_input": "2024-12-19T16:36:03.087865Z",
     "iopub.status.busy": "2024-12-19T16:36:03.087278Z",
     "iopub.status.idle": "2024-12-19T16:36:03.106930Z",
     "shell.execute_reply": "2024-12-19T16:36:03.105839Z",
     "shell.execute_reply.started": "2024-12-19T16:36:03.087818Z"
    }
   },
   "outputs": [
    {
     "data": {
      "text/html": [
       "<div>\n",
       "<style scoped>\n",
       "    .dataframe tbody tr th:only-of-type {\n",
       "        vertical-align: middle;\n",
       "    }\n",
       "\n",
       "    .dataframe tbody tr th {\n",
       "        vertical-align: top;\n",
       "    }\n",
       "\n",
       "    .dataframe thead th {\n",
       "        text-align: right;\n",
       "    }\n",
       "</style>\n",
       "<table border=\"1\" class=\"dataframe\">\n",
       "  <thead>\n",
       "    <tr style=\"text-align: right;\">\n",
       "      <th></th>\n",
       "      <th>Name</th>\n",
       "      <th>Membership period</th>\n",
       "      <th>Position</th>\n",
       "      <th>Affiliation</th>\n",
       "      <th>Affiliation country</th>\n",
       "      <th>Affiliation city</th>\n",
       "      <th>Sex</th>\n",
       "      <th>Area of expertise specifically sought for guidelines</th>\n",
       "    </tr>\n",
       "  </thead>\n",
       "  <tbody>\n",
       "    <tr>\n",
       "      <th>0</th>\n",
       "      <td>Marwan Al-Dimashki</td>\n",
       "      <td>2016–2021</td>\n",
       "      <td>Chief Environmental Consultant</td>\n",
       "      <td>Kuwait Environment Public Authority</td>\n",
       "      <td>Kuwait</td>\n",
       "      <td>Safat</td>\n",
       "      <td>M</td>\n",
       "      <td>3, 6</td>\n",
       "    </tr>\n",
       "    <tr>\n",
       "      <th>1</th>\n",
       "      <td>Emmanuel K.-E. Appoh</td>\n",
       "      <td>2016–2021</td>\n",
       "      <td>Head, Environmental Quality Department</td>\n",
       "      <td>Environmental Protection Agency</td>\n",
       "      <td>Ghana</td>\n",
       "      <td>Accra</td>\n",
       "      <td>M</td>\n",
       "      <td>5, 6</td>\n",
       "    </tr>\n",
       "    <tr>\n",
       "      <th>2</th>\n",
       "      <td>Kalpana Balakrishnan</td>\n",
       "      <td>2016–2021</td>\n",
       "      <td>Associate Dean (Research) and Director</td>\n",
       "      <td>WHO Collaborating Centre for Occupational and Environmental Health, Sri Ramachandra University</td>\n",
       "      <td>India</td>\n",
       "      <td>Chennai</td>\n",
       "      <td>F</td>\n",
       "      <td>5, 6</td>\n",
       "    </tr>\n",
       "    <tr>\n",
       "      <th>3</th>\n",
       "      <td>Michael Brauer</td>\n",
       "      <td>2016–2021</td>\n",
       "      <td>Professor, School of Population and Public Health</td>\n",
       "      <td>University of British Columbia</td>\n",
       "      <td>Canada</td>\n",
       "      <td>Vancouver</td>\n",
       "      <td>M</td>\n",
       "      <td>1, 3</td>\n",
       "    </tr>\n",
       "    <tr>\n",
       "      <th>4</th>\n",
       "      <td>Bert Brunekreef</td>\n",
       "      <td>2016–2021</td>\n",
       "      <td>Professor Emeritus, Institute for Risk Assessment Sciences</td>\n",
       "      <td>Utrecht University</td>\n",
       "      <td>Netherlands</td>\n",
       "      <td>Utrecht</td>\n",
       "      <td>M</td>\n",
       "      <td>1, 7</td>\n",
       "    </tr>\n",
       "  </tbody>\n",
       "</table>\n",
       "</div>"
      ],
      "text/plain": [
       "                   Name Membership period  \\\n",
       "0    Marwan Al-Dimashki         2016–2021   \n",
       "1  Emmanuel K.-E. Appoh         2016–2021   \n",
       "2  Kalpana Balakrishnan         2016–2021   \n",
       "3        Michael Brauer         2016–2021   \n",
       "4       Bert Brunekreef         2016–2021   \n",
       "\n",
       "                                                     Position  \\\n",
       "0                              Chief Environmental Consultant   \n",
       "1                      Head, Environmental Quality Department   \n",
       "2                      Associate Dean (Research) and Director   \n",
       "3           Professor, School of Population and Public Health   \n",
       "4  Professor Emeritus, Institute for Risk Assessment Sciences   \n",
       "\n",
       "                                                                                      Affiliation  \\\n",
       "0                                                             Kuwait Environment Public Authority   \n",
       "1                                                                 Environmental Protection Agency   \n",
       "2  WHO Collaborating Centre for Occupational and Environmental Health, Sri Ramachandra University   \n",
       "3                                                                  University of British Columbia   \n",
       "4                                                                              Utrecht University   \n",
       "\n",
       "  Affiliation country Affiliation city Sex  \\\n",
       "0              Kuwait            Safat   M   \n",
       "1               Ghana            Accra   M   \n",
       "2               India          Chennai   F   \n",
       "3              Canada        Vancouver   M   \n",
       "4         Netherlands          Utrecht   M   \n",
       "\n",
       "  Area of expertise specifically sought for guidelines  \n",
       "0                                                 3, 6  \n",
       "1                                                 5, 6  \n",
       "2                                                 5, 6  \n",
       "3                                                 1, 3  \n",
       "4                                                 1, 7  "
      ]
     },
     "execution_count": 27,
     "metadata": {},
     "output_type": "execute_result"
    }
   ],
   "source": [
    "member_df.head()"
   ]
  },
  {
   "cell_type": "code",
   "execution_count": 28,
   "id": "8659ce00-ad09-4b93-a1e6-f37725640813",
   "metadata": {
    "execution": {
     "iopub.execute_input": "2025-01-10T16:57:19.215729Z",
     "iopub.status.busy": "2025-01-10T16:57:19.214721Z",
     "iopub.status.idle": "2025-01-10T16:57:25.828916Z",
     "shell.execute_reply": "2025-01-10T16:57:25.827497Z",
     "shell.execute_reply.started": "2025-01-10T16:57:19.215704Z"
    }
   },
   "outputs": [],
   "source": [
    "author_name = pd.read_pickle('/disks/qnap3/shared/scopus-24/data/author/author_name.pickle')\n",
    "author_name_df = pd.DataFrame(author_name)\n",
    "author_name_df.reset_index(inplace=True)\n",
    "author_name_df.rename(columns={'index':'authid'},inplace=True)"
   ]
  },
  {
   "cell_type": "code",
   "execution_count": 29,
   "id": "ee983647-c8d5-44c9-9d8b-521d8f702102",
   "metadata": {
    "execution": {
     "iopub.execute_input": "2025-01-10T16:44:22.925090Z",
     "iopub.status.busy": "2025-01-10T16:44:22.924854Z",
     "iopub.status.idle": "2025-01-10T16:44:38.740104Z",
     "shell.execute_reply": "2025-01-10T16:44:38.739451Z",
     "shell.execute_reply.started": "2025-01-10T16:44:22.925078Z"
    }
   },
   "outputs": [],
   "source": [
    "tmp1 = author_name_df[author_name_df['name'].str.contains('Emmanuel|Appoh', na=False)]"
   ]
  },
  {
   "cell_type": "code",
   "execution_count": 30,
   "id": "a9b7d025-6a8f-4786-bfe7-47cf2e3cfcb5",
   "metadata": {
    "execution": {
     "iopub.execute_input": "2025-01-10T16:57:25.831309Z",
     "iopub.status.busy": "2025-01-10T16:57:25.831056Z",
     "iopub.status.idle": "2025-01-10T16:58:43.980713Z",
     "shell.execute_reply": "2025-01-10T16:58:43.979741Z",
     "shell.execute_reply.started": "2025-01-10T16:57:25.831293Z"
    }
   },
   "outputs": [],
   "source": [
    "author_paperlist = pd.read_pickle('/disks/qnap3/shared/scopus-24/data/author/author_paperlist.pickle')\n",
    "author_paperlist_df = pd.DataFrame(author_paperlist)\n",
    "author_paperlist_df.reset_index(inplace=True)\n",
    "author_paperlist_df.rename(columns={'index':'authid'},inplace=True)"
   ]
  },
  {
   "cell_type": "code",
   "execution_count": 31,
   "id": "8e4bb18f-137c-4b9a-ab6f-c76c2c674716",
   "metadata": {
    "execution": {
     "iopub.execute_input": "2024-12-19T16:57:12.700896Z",
     "iopub.status.busy": "2024-12-19T16:57:12.700435Z",
     "iopub.status.idle": "2024-12-19T16:57:12.707179Z",
     "shell.execute_reply": "2024-12-19T16:57:12.705584Z",
     "shell.execute_reply.started": "2024-12-19T16:57:12.700852Z"
    }
   },
   "outputs": [],
   "source": [
    "member_name_ls = member_df['Name'].tolist()"
   ]
  },
  {
   "cell_type": "code",
   "execution_count": 32,
   "id": "2f8c1424-a486-49ba-8d53-bbc98c928fbc",
   "metadata": {
    "execution": {
     "iopub.execute_input": "2024-12-19T16:57:13.008218Z",
     "iopub.status.busy": "2024-12-19T16:57:13.007623Z",
     "iopub.status.idle": "2024-12-19T16:57:13.017600Z",
     "shell.execute_reply": "2024-12-19T16:57:13.016318Z",
     "shell.execute_reply.started": "2024-12-19T16:57:13.008173Z"
    }
   },
   "outputs": [
    {
     "data": {
      "text/plain": [
       "['Marwan Al-Dimashki',\n",
       " 'Emmanuel K.-E. Appoh',\n",
       " 'Kalpana Balakrishnan',\n",
       " 'Michael Brauer',\n",
       " 'Bert Brunekreef',\n",
       " 'Aaron J. Cohen',\n",
       " 'Francesco Forastiere',\n",
       " 'Lu Fu',\n",
       " 'Sarath K. Guttikunda',\n",
       " 'Mohammad Sadegh Hassanvand',\n",
       " 'Marie-Eve Héroux',\n",
       " 'Wei Huang',\n",
       " 'Haidong Kan',\n",
       " 'Nguyen Thi Kim Oanh',\n",
       " 'Michał Krzyżanowski',\n",
       " 'Nino Künzli',\n",
       " 'Thomas J. Luben',\n",
       " 'Lidia Morawska',\n",
       " 'Kaye Patdu',\n",
       " 'Pippa Powell',\n",
       " 'Horacio Riojas-Rodríguez',\n",
       " 'Jonathan Samet',\n",
       " 'Martin Williams',\n",
       " 'Caradee Y. Wright',\n",
       " 'Xia Wan',\n",
       " 'Andre Zuber']"
      ]
     },
     "execution_count": 32,
     "metadata": {},
     "output_type": "execute_result"
    }
   ],
   "source": [
    "member_name_ls"
   ]
  },
  {
   "cell_type": "code",
   "execution_count": null,
   "id": "5869078b-e0b4-4e31-87a6-e99ae538575c",
   "metadata": {
    "execution": {
     "iopub.status.busy": "2024-12-19T16:36:12.523931Z",
     "iopub.status.idle": "2024-12-19T16:36:12.524103Z",
     "shell.execute_reply": "2024-12-19T16:36:12.524026Z",
     "shell.execute_reply.started": "2024-12-19T16:36:12.524018Z"
    }
   },
   "outputs": [],
   "source": [
    "\"\"\"\n",
    "1.2 guideline development group\n",
    "\n",
    "6506139146\tDimashki_Marwan\n",
    "57494449200\tAppoh_Emmanuel\n",
    "7103222725 Kalpana Balakrishnan\n",
    "57218330976 Michael Brauer\n",
    "7103344174 Bert Brunekreef\n",
    "7404780942 Cohen_Aaron\n",
    "34568758600 Francesco Forastiere\n",
    "Lu Fu\n",
    "56920788800 Guttikunda_Sarath\n",
    "35085056400 Hassanvand_Mohammad Sadegh\n",
    "16230282700 Héroux_Marie-Eve\n",
    "56623591700 Wei Huang\n",
    "7101602991 Haidong Kan\n",
    "6603575372 Nguyen Thi Kim Oanh\n",
    "24177416300　Krzyżanowski_Michał\n",
    "7006806977, 35780677200　Nino Künzli\n",
    "22135643800 Luben_Thomas J\n",
    "7004773965 Morawska_Lidia\n",
    "55632925000 Patdu Kaye\n",
    "55190092800 Powell Pippa\n",
    "6507352648 Riojas-Rodríguez_Horacio\n",
    "35396805300 Jonathan Samet\n",
    "7410000833 Martin Williams\n",
    "16417972200 Caradee Y. Wright\n",
    "57197110584 Xia Wan\n",
    "6603940133 Andre Zuber\n",
    "\"\"\""
   ]
  },
  {
   "cell_type": "code",
   "execution_count": 33,
   "id": "760d1f54-c14a-473c-99aa-b9adf7a440d2",
   "metadata": {
    "execution": {
     "iopub.execute_input": "2024-12-19T18:16:29.553070Z",
     "iopub.status.busy": "2024-12-19T18:16:29.552473Z",
     "iopub.status.idle": "2024-12-19T18:16:49.505458Z",
     "shell.execute_reply": "2024-12-19T18:16:49.504826Z",
     "shell.execute_reply.started": "2024-12-19T18:16:29.553023Z"
    }
   },
   "outputs": [
    {
     "data": {
      "text/html": [
       "<div>\n",
       "<style scoped>\n",
       "    .dataframe tbody tr th:only-of-type {\n",
       "        vertical-align: middle;\n",
       "    }\n",
       "\n",
       "    .dataframe tbody tr th {\n",
       "        vertical-align: top;\n",
       "    }\n",
       "\n",
       "    .dataframe thead th {\n",
       "        text-align: right;\n",
       "    }\n",
       "</style>\n",
       "<table border=\"1\" class=\"dataframe\">\n",
       "  <thead>\n",
       "    <tr style=\"text-align: right;\">\n",
       "      <th></th>\n",
       "      <th>authid</th>\n",
       "      <th>name</th>\n",
       "    </tr>\n",
       "  </thead>\n",
       "  <tbody>\n",
       "    <tr>\n",
       "      <th>34799</th>\n",
       "      <td>6503894198</td>\n",
       "      <td>Xiaoshui_Wang</td>\n",
       "    </tr>\n",
       "    <tr>\n",
       "      <th>41999</th>\n",
       "      <td>6503904463</td>\n",
       "      <td>De Wang_Xiang</td>\n",
       "    </tr>\n",
       "    <tr>\n",
       "      <th>43951</th>\n",
       "      <td>6503907250</td>\n",
       "      <td>Xianbao_Wang</td>\n",
       "    </tr>\n",
       "    <tr>\n",
       "      <th>88952</th>\n",
       "      <td>6503970537</td>\n",
       "      <td>Xianju Wang</td>\n",
       "    </tr>\n",
       "    <tr>\n",
       "      <th>216803</th>\n",
       "      <td>6504150540</td>\n",
       "      <td>Xiangwu_Wang</td>\n",
       "    </tr>\n",
       "    <tr>\n",
       "      <th>...</th>\n",
       "      <td>...</td>\n",
       "      <td>...</td>\n",
       "    </tr>\n",
       "    <tr>\n",
       "      <th>47643814</th>\n",
       "      <td>59145363300</td>\n",
       "      <td>Wang_Xiaoyan</td>\n",
       "    </tr>\n",
       "    <tr>\n",
       "      <th>47644604</th>\n",
       "      <td>59146136200</td>\n",
       "      <td>Wang_Xiaoying</td>\n",
       "    </tr>\n",
       "    <tr>\n",
       "      <th>47645275</th>\n",
       "      <td>59146680000</td>\n",
       "      <td>Wang_Xianbo</td>\n",
       "    </tr>\n",
       "    <tr>\n",
       "      <th>47645446</th>\n",
       "      <td>59146905100</td>\n",
       "      <td>Wang_Xiaobo</td>\n",
       "    </tr>\n",
       "    <tr>\n",
       "      <th>47651426</th>\n",
       "      <td>59152086100</td>\n",
       "      <td>Wang_Xia</td>\n",
       "    </tr>\n",
       "  </tbody>\n",
       "</table>\n",
       "<p>43831 rows × 2 columns</p>\n",
       "</div>"
      ],
      "text/plain": [
       "               authid           name\n",
       "34799      6503894198  Xiaoshui_Wang\n",
       "41999      6503904463  De Wang_Xiang\n",
       "43951      6503907250   Xianbao_Wang\n",
       "88952      6503970537    Xianju Wang\n",
       "216803     6504150540   Xiangwu_Wang\n",
       "...               ...            ...\n",
       "47643814  59145363300   Wang_Xiaoyan\n",
       "47644604  59146136200  Wang_Xiaoying\n",
       "47645275  59146680000    Wang_Xianbo\n",
       "47645446  59146905100    Wang_Xiaobo\n",
       "47651426  59152086100       Wang_Xia\n",
       "\n",
       "[43831 rows x 2 columns]"
      ]
     },
     "execution_count": 33,
     "metadata": {},
     "output_type": "execute_result"
    }
   ],
   "source": [
    "tmp1 = author_name_df[author_name_df['name'].str.contains('Xia', na=False) & author_name_df['name'].str.contains('Wan', na=False)]\n",
    "tmp1"
   ]
  },
  {
   "cell_type": "code",
   "execution_count": 34,
   "id": "d7b166b0-efb6-4fce-a82e-59e3d9a52803",
   "metadata": {
    "execution": {
     "iopub.execute_input": "2024-12-19T18:17:10.343479Z",
     "iopub.status.busy": "2024-12-19T18:17:10.342877Z",
     "iopub.status.idle": "2024-12-19T18:17:11.102405Z",
     "shell.execute_reply": "2024-12-19T18:17:11.101384Z",
     "shell.execute_reply.started": "2024-12-19T18:17:10.343429Z"
    }
   },
   "outputs": [],
   "source": [
    "target_authids = tmp1['authid'].tolist()\n",
    "target_paperlist_df = author_paperlist_df[author_paperlist_df['authids'].isin(target_authids)]"
   ]
  },
  {
   "cell_type": "code",
   "execution_count": 35,
   "id": "e9a2d3ca-63d5-4707-aa73-cc8d434cee34",
   "metadata": {
    "execution": {
     "iopub.execute_input": "2024-12-19T18:17:11.105062Z",
     "iopub.status.busy": "2024-12-19T18:17:11.104353Z",
     "iopub.status.idle": "2024-12-19T18:17:11.122293Z",
     "shell.execute_reply": "2024-12-19T18:17:11.121440Z",
     "shell.execute_reply.started": "2024-12-19T18:17:11.105016Z"
    }
   },
   "outputs": [
    {
     "data": {
      "text/html": [
       "<div>\n",
       "<style scoped>\n",
       "    .dataframe tbody tr th:only-of-type {\n",
       "        vertical-align: middle;\n",
       "    }\n",
       "\n",
       "    .dataframe tbody tr th {\n",
       "        vertical-align: top;\n",
       "    }\n",
       "\n",
       "    .dataframe thead th {\n",
       "        text-align: right;\n",
       "    }\n",
       "</style>\n",
       "<table border=\"1\" class=\"dataframe\">\n",
       "  <thead>\n",
       "    <tr style=\"text-align: right;\">\n",
       "      <th></th>\n",
       "      <th>authids</th>\n",
       "      <th>author_paperlist</th>\n",
       "    </tr>\n",
       "  </thead>\n",
       "  <tbody>\n",
       "    <tr>\n",
       "      <th>34798</th>\n",
       "      <td>6503894198</td>\n",
       "      <td>[26324754, 51849181218]</td>\n",
       "    </tr>\n",
       "    <tr>\n",
       "      <th>41998</th>\n",
       "      <td>6503904463</td>\n",
       "      <td>[343632362]</td>\n",
       "    </tr>\n",
       "    <tr>\n",
       "      <th>43950</th>\n",
       "      <td>6503907250</td>\n",
       "      <td>[77956480680]</td>\n",
       "    </tr>\n",
       "    <tr>\n",
       "      <th>88951</th>\n",
       "      <td>6503970537</td>\n",
       "      <td>[33312469]</td>\n",
       "    </tr>\n",
       "    <tr>\n",
       "      <th>216802</th>\n",
       "      <td>6504150540</td>\n",
       "      <td>[33882462]</td>\n",
       "    </tr>\n",
       "  </tbody>\n",
       "</table>\n",
       "</div>"
      ],
      "text/plain": [
       "           authids         author_paperlist\n",
       "34798   6503894198  [26324754, 51849181218]\n",
       "41998   6503904463              [343632362]\n",
       "43950   6503907250            [77956480680]\n",
       "88951   6503970537               [33312469]\n",
       "216802  6504150540               [33882462]"
      ]
     },
     "execution_count": 35,
     "metadata": {},
     "output_type": "execute_result"
    }
   ],
   "source": [
    "target_paperlist_df.head()"
   ]
  },
  {
   "cell_type": "code",
   "execution_count": 36,
   "id": "58c73a60-39e6-4c1e-bbc7-de7d1a3888e6",
   "metadata": {
    "execution": {
     "iopub.execute_input": "2024-12-19T18:18:31.702627Z",
     "iopub.status.busy": "2024-12-19T18:18:31.701986Z",
     "iopub.status.idle": "2024-12-19T18:18:31.749825Z",
     "shell.execute_reply": "2024-12-19T18:18:31.749043Z",
     "shell.execute_reply.started": "2024-12-19T18:18:31.702576Z"
    }
   },
   "outputs": [
    {
     "data": {
      "text/html": [
       "<div>\n",
       "<style scoped>\n",
       "    .dataframe tbody tr th:only-of-type {\n",
       "        vertical-align: middle;\n",
       "    }\n",
       "\n",
       "    .dataframe tbody tr th {\n",
       "        vertical-align: top;\n",
       "    }\n",
       "\n",
       "    .dataframe thead th {\n",
       "        text-align: right;\n",
       "    }\n",
       "</style>\n",
       "<table border=\"1\" class=\"dataframe\">\n",
       "  <thead>\n",
       "    <tr style=\"text-align: right;\">\n",
       "      <th></th>\n",
       "      <th>authids</th>\n",
       "      <th>author_paperlist</th>\n",
       "    </tr>\n",
       "  </thead>\n",
       "  <tbody>\n",
       "    <tr>\n",
       "      <th>27221249</th>\n",
       "      <td>57197110584</td>\n",
       "      <td>[77952493611, 41749095480, 33745597333, 34249025181, 33846535827, 34648819655, 48349124039, 47949133419, 39149103750, 55149106330, 70049118689, 65449186179, 78650312723, 77952783143, 77957679474, 77957666070, 79961149242, 79961111464, 84876560469, 84863774751, 84879428397, 84991551921, 84875967025, 84876506390, 84878642879, 84896143889, 84940969327, 84904972811, 84905092659, 84906495706, 84894520531, 84911482535, 84893174258, 84892540170, 84919825961, 84928252787, 84938684975, 85049491557, 84927173542, 84949086655, 84940447040, 84955357920, 84955246598, 84966293345, 84954392152, 84982859363, 85030614733, 85018365269, 85026380050, 85025673350, 85027513412, 85053099839, 85054893743, 85059039805, 85059226363, 85057732153, 85042453794, 85032370426, 85047797513, 85072403134, 85072557041, 85069284820, 85068513721, 85066621688, 85094221621, 85080891838, 85078690904, 85076962541, 85076540880, 85086793237, 85088606880, 85120873759, 85103592459, 85098648195, 85097752845, 85108608808, 85190848192, 85139108513, 85136067032, 85144635690, 85142886142, 85131240995, 85129199172, 85167503637, 85183496760, 85173393217, 85176287269, 85146405552, 85160612517, 85164137335, 85159091161, 85153687770]</td>\n",
       "    </tr>\n",
       "  </tbody>\n",
       "</table>\n",
       "</div>"
      ],
      "text/plain": [
       "              authids  \\\n",
       "27221249  57197110584   \n",
       "\n",
       "                                                                                                                                                                                                                                                                                                                                                                                                                                                                                                                                                                                                                                                                                                                                                                                                                                                                                                                                                                                                                                                                                                                                                                                                                                      author_paperlist  \n",
       "27221249  [77952493611, 41749095480, 33745597333, 34249025181, 33846535827, 34648819655, 48349124039, 47949133419, 39149103750, 55149106330, 70049118689, 65449186179, 78650312723, 77952783143, 77957679474, 77957666070, 79961149242, 79961111464, 84876560469, 84863774751, 84879428397, 84991551921, 84875967025, 84876506390, 84878642879, 84896143889, 84940969327, 84904972811, 84905092659, 84906495706, 84894520531, 84911482535, 84893174258, 84892540170, 84919825961, 84928252787, 84938684975, 85049491557, 84927173542, 84949086655, 84940447040, 84955357920, 84955246598, 84966293345, 84954392152, 84982859363, 85030614733, 85018365269, 85026380050, 85025673350, 85027513412, 85053099839, 85054893743, 85059039805, 85059226363, 85057732153, 85042453794, 85032370426, 85047797513, 85072403134, 85072557041, 85069284820, 85068513721, 85066621688, 85094221621, 85080891838, 85078690904, 85076962541, 85076540880, 85086793237, 85088606880, 85120873759, 85103592459, 85098648195, 85097752845, 85108608808, 85190848192, 85139108513, 85136067032, 85144635690, 85142886142, 85131240995, 85129199172, 85167503637, 85183496760, 85173393217, 85176287269, 85146405552, 85160612517, 85164137335, 85159091161, 85153687770]  "
      ]
     },
     "execution_count": 36,
     "metadata": {},
     "output_type": "execute_result"
    }
   ],
   "source": [
    "eid = 85078690904\n",
    "authids_candidate = target_paperlist_df[target_paperlist_df['author_paperlist'].apply(lambda x: eid in x)]\n",
    "authids_candidate"
   ]
  },
  {
   "cell_type": "code",
   "execution_count": 37,
   "id": "20300c8e-f93d-479a-b2ec-8ca5463e7504",
   "metadata": {
    "execution": {
     "iopub.execute_input": "2024-12-19T16:36:58.008902Z",
     "iopub.status.busy": "2024-12-19T16:36:58.008275Z",
     "iopub.status.idle": "2024-12-19T16:36:58.015568Z",
     "shell.execute_reply": "2024-12-19T16:36:58.014221Z",
     "shell.execute_reply.started": "2024-12-19T16:36:58.008853Z"
    }
   },
   "outputs": [
    {
     "data": {
      "text/plain": [
       "['Marwan Al-Dimashki',\n",
       " 'Emmanuel K.-E. Appoh',\n",
       " 'Kalpana Balakrishnan',\n",
       " 'Michael Brauer',\n",
       " 'Bert Brunekreef',\n",
       " 'Aaron J. Cohen',\n",
       " 'Francesco Forastiere',\n",
       " 'Lu Fu',\n",
       " 'Sarath K. Guttikunda',\n",
       " 'Mohammad Sadegh Hassanvand',\n",
       " 'Marie-Eve Héroux',\n",
       " 'Wei Huang',\n",
       " 'Haidong Kan',\n",
       " 'Nguyen Thi Kim Oanh',\n",
       " 'Michał Krzyżanowski',\n",
       " 'Nino Künzli',\n",
       " 'Thomas J. Luben',\n",
       " 'Lidia Morawska',\n",
       " 'Kaye Patdu',\n",
       " 'Pippa Powell',\n",
       " 'Horacio Riojas-Rodríguez',\n",
       " 'Jonathan Samet',\n",
       " 'Martin Williams',\n",
       " 'Caradee Y. Wright',\n",
       " 'Xia Wan',\n",
       " 'Andre Zuber']"
      ]
     },
     "execution_count": 37,
     "metadata": {},
     "output_type": "execute_result"
    }
   ],
   "source": [
    "member_name_ls = member_df['Name'].tolist()\n",
    "member_name_ls"
   ]
  },
  {
   "cell_type": "code",
   "execution_count": 38,
   "id": "577e0776-8a1d-4a98-bc94-db726bcfce00",
   "metadata": {
    "execution": {
     "iopub.execute_input": "2024-12-19T18:40:02.503343Z",
     "iopub.status.busy": "2024-12-19T18:40:02.502731Z",
     "iopub.status.idle": "2024-12-19T18:40:02.512114Z",
     "shell.execute_reply": "2024-12-19T18:40:02.510637Z",
     "shell.execute_reply.started": "2024-12-19T18:40:02.503295Z"
    }
   },
   "outputs": [
    {
     "data": {
      "text/plain": [
       "26"
      ]
     },
     "execution_count": 38,
     "metadata": {},
     "output_type": "execute_result"
    }
   ],
   "source": [
    "len(member_name_ls)"
   ]
  },
  {
   "cell_type": "code",
   "execution_count": 39,
   "id": "d7bacdd7-3356-43c6-9400-e8a98918b294",
   "metadata": {
    "execution": {
     "iopub.status.busy": "2024-12-19T16:36:12.525890Z",
     "iopub.status.idle": "2024-12-19T16:36:12.526061Z",
     "shell.execute_reply": "2024-12-19T16:36:12.525984Z",
     "shell.execute_reply.started": "2024-12-19T16:36:12.525976Z"
    }
   },
   "outputs": [
    {
     "name": "stderr",
     "output_type": "stream",
     "text": [
      "100%|█████████████████████████████████████████████████████████████████████████████████████████████████████████████████████████████████████████████████████████████████████████████████████████████████████████| 26/26 [07:22<00:00, 17.03s/it]\n"
     ]
    }
   ],
   "source": [
    "member_authids_df = pd.DataFrame()\n",
    "for name in tqdm(member_name_ls):\n",
    "    first_name, last_name = name.split(' ', 1)\n",
    "    tmp = author_name_df[author_name_df['name'].str.contains(first_name, na=False) & author_name_df['name'].str.contains(last_name, na=False)]\n",
    "    member_authids_df = pd.concat([member_authids_df, tmp])"
   ]
  },
  {
   "cell_type": "code",
   "execution_count": 40,
   "id": "bec03a08-3e3b-4cd0-9eb7-af426ef199a5",
   "metadata": {
    "execution": {
     "iopub.execute_input": "2024-12-19T16:36:14.743030Z",
     "iopub.status.busy": "2024-12-19T16:36:14.742157Z",
     "iopub.status.idle": "2024-12-19T16:36:14.761416Z",
     "shell.execute_reply": "2024-12-19T16:36:14.760267Z",
     "shell.execute_reply.started": "2024-12-19T16:36:14.742971Z"
    },
    "scrolled": true
   },
   "outputs": [
    {
     "data": {
      "text/html": [
       "<div>\n",
       "<style scoped>\n",
       "    .dataframe tbody tr th:only-of-type {\n",
       "        vertical-align: middle;\n",
       "    }\n",
       "\n",
       "    .dataframe tbody tr th {\n",
       "        vertical-align: top;\n",
       "    }\n",
       "\n",
       "    .dataframe thead th {\n",
       "        text-align: right;\n",
       "    }\n",
       "</style>\n",
       "<table border=\"1\" class=\"dataframe\">\n",
       "  <thead>\n",
       "    <tr style=\"text-align: right;\">\n",
       "      <th></th>\n",
       "      <th>authid</th>\n",
       "      <th>name</th>\n",
       "    </tr>\n",
       "  </thead>\n",
       "  <tbody>\n",
       "    <tr>\n",
       "      <th>6334502</th>\n",
       "      <td>7103222725</td>\n",
       "      <td>Balakrishnan_Kalpana</td>\n",
       "    </tr>\n",
       "    <tr>\n",
       "      <th>19496493</th>\n",
       "      <td>56080099000</td>\n",
       "      <td>Balakrishnan_Kalpana</td>\n",
       "    </tr>\n",
       "    <tr>\n",
       "      <th>32718024</th>\n",
       "      <td>57211683626</td>\n",
       "      <td>Balakrishnan_Kalpana</td>\n",
       "    </tr>\n",
       "    <tr>\n",
       "      <th>36110084</th>\n",
       "      <td>57220166054</td>\n",
       "      <td>Kalpana_Balakrishnan</td>\n",
       "    </tr>\n",
       "    <tr>\n",
       "      <th>6040267</th>\n",
       "      <td>7102422308</td>\n",
       "      <td>Brauer_Michael C.</td>\n",
       "    </tr>\n",
       "    <tr>\n",
       "      <th>6040274</th>\n",
       "      <td>7102422322</td>\n",
       "      <td>Brauer_Michael K.</td>\n",
       "    </tr>\n",
       "    <tr>\n",
       "      <th>9850773</th>\n",
       "      <td>16066732800</td>\n",
       "      <td>Brauer_Michael</td>\n",
       "    </tr>\n",
       "    <tr>\n",
       "      <th>15175414</th>\n",
       "      <td>49361160600</td>\n",
       "      <td>Brauer_Michael</td>\n",
       "    </tr>\n",
       "    <tr>\n",
       "      <th>18480163</th>\n",
       "      <td>55825970400</td>\n",
       "      <td>Brauer_Michael</td>\n",
       "    </tr>\n",
       "    <tr>\n",
       "      <th>26153199</th>\n",
       "      <td>57194678413</td>\n",
       "      <td>Michael_Brauer</td>\n",
       "    </tr>\n",
       "    <tr>\n",
       "      <th>35231596</th>\n",
       "      <td>57218330976</td>\n",
       "      <td>Brauer_Michael</td>\n",
       "    </tr>\n",
       "    <tr>\n",
       "      <th>40836652</th>\n",
       "      <td>57709431300</td>\n",
       "      <td>Brauer_Michael</td>\n",
       "    </tr>\n",
       "    <tr>\n",
       "      <th>46917659</th>\n",
       "      <td>59024793300</td>\n",
       "      <td>Brauer_Michael</td>\n",
       "    </tr>\n",
       "    <tr>\n",
       "      <th>6378785</th>\n",
       "      <td>7103344174</td>\n",
       "      <td>Brunekreef_Bert</td>\n",
       "    </tr>\n",
       "    <tr>\n",
       "      <th>34928710</th>\n",
       "      <td>57217415104</td>\n",
       "      <td>Brunekreef_Bert</td>\n",
       "    </tr>\n",
       "    <tr>\n",
       "      <th>12263787</th>\n",
       "      <td>34568758600</td>\n",
       "      <td>Forastiere_Francesco</td>\n",
       "    </tr>\n",
       "    <tr>\n",
       "      <th>18594778</th>\n",
       "      <td>55856636600</td>\n",
       "      <td>Francesco_Forastiere</td>\n",
       "    </tr>\n",
       "    <tr>\n",
       "      <th>47231128</th>\n",
       "      <td>59066825600</td>\n",
       "      <td>Forastiere_Francesco</td>\n",
       "    </tr>\n",
       "    <tr>\n",
       "      <th>68062</th>\n",
       "      <td>6503941082</td>\n",
       "      <td>De La Fuente Arzola_José Luis</td>\n",
       "    </tr>\n",
       "    <tr>\n",
       "      <th>71542</th>\n",
       "      <td>6503945917</td>\n",
       "      <td>Fung-shan_Luk</td>\n",
       "    </tr>\n",
       "    <tr>\n",
       "      <th>80876</th>\n",
       "      <td>6503959105</td>\n",
       "      <td>Fuentes Lupianes C.</td>\n",
       "    </tr>\n",
       "    <tr>\n",
       "      <th>87112</th>\n",
       "      <td>6503967951</td>\n",
       "      <td>Lun-Fu_Aleksandr V.</td>\n",
       "    </tr>\n",
       "    <tr>\n",
       "      <th>105992</th>\n",
       "      <td>6503994609</td>\n",
       "      <td>Roberto Furlan_Luiz</td>\n",
       "    </tr>\n",
       "    <tr>\n",
       "      <th>112467</th>\n",
       "      <td>6504003801</td>\n",
       "      <td>Fugi_Luigi</td>\n",
       "    </tr>\n",
       "    <tr>\n",
       "      <th>167300</th>\n",
       "      <td>6504080980</td>\n",
       "      <td>De La Fuente Madero_José Luis</td>\n",
       "    </tr>\n",
       "    <tr>\n",
       "      <th>220980</th>\n",
       "      <td>6504156423</td>\n",
       "      <td>De Fuenmayor_María Luisa</td>\n",
       "    </tr>\n",
       "    <tr>\n",
       "      <th>262380</th>\n",
       "      <td>6504215111</td>\n",
       "      <td>Furdan Wada_Maria Lucia</td>\n",
       "    </tr>\n",
       "    <tr>\n",
       "      <th>280459</th>\n",
       "      <td>6504240539</td>\n",
       "      <td>Furnare_Luca J.</td>\n",
       "    </tr>\n",
       "    <tr>\n",
       "      <th>303563</th>\n",
       "      <td>6504272983</td>\n",
       "      <td>Huang Fu_Lu-Jiang</td>\n",
       "    </tr>\n",
       "    <tr>\n",
       "      <th>309515</th>\n",
       "      <td>6504281344</td>\n",
       "      <td>Furlanetti_Luciano</td>\n",
       "    </tr>\n",
       "    <tr>\n",
       "      <th>330858</th>\n",
       "      <td>6504311477</td>\n",
       "      <td>Lupiáñez_Carlos Fuentes</td>\n",
       "    </tr>\n",
       "    <tr>\n",
       "      <th>351497</th>\n",
       "      <td>6504340419</td>\n",
       "      <td>Dos Santos Furtado_André Luiz</td>\n",
       "    </tr>\n",
       "    <tr>\n",
       "      <th>442619</th>\n",
       "      <td>6504469072</td>\n",
       "      <td>Furnieles_Jany Luz Alarcón</td>\n",
       "    </tr>\n",
       "    <tr>\n",
       "      <th>541467</th>\n",
       "      <td>6504607986</td>\n",
       "      <td>Fumanal-Senz_Luis</td>\n",
       "    </tr>\n",
       "    <tr>\n",
       "      <th>591314</th>\n",
       "      <td>6504678078</td>\n",
       "      <td>Luccini_Fulvio</td>\n",
       "    </tr>\n",
       "    <tr>\n",
       "      <th>622752</th>\n",
       "      <td>6504722538</td>\n",
       "      <td>Fuentes Lupianez O.</td>\n",
       "    </tr>\n",
       "    <tr>\n",
       "      <th>663163</th>\n",
       "      <td>6504779573</td>\n",
       "      <td>Luo-An_Fu</td>\n",
       "    </tr>\n",
       "    <tr>\n",
       "      <th>668444</th>\n",
       "      <td>6504786932</td>\n",
       "      <td>Casas Fuentes_Lucila</td>\n",
       "    </tr>\n",
       "    <tr>\n",
       "      <th>706579</th>\n",
       "      <td>6505456136</td>\n",
       "      <td>Marenco de la Fuente_José Luis</td>\n",
       "    </tr>\n",
       "    <tr>\n",
       "      <th>760389</th>\n",
       "      <td>6505531941</td>\n",
       "      <td>Fu-Yun_Lu</td>\n",
       "    </tr>\n",
       "    <tr>\n",
       "      <th>770346</th>\n",
       "      <td>6505546065</td>\n",
       "      <td>Fulvio de Luca L.</td>\n",
       "    </tr>\n",
       "    <tr>\n",
       "      <th>780198</th>\n",
       "      <td>6505560053</td>\n",
       "      <td>Fuentes Lupianez J.J.</td>\n",
       "    </tr>\n",
       "    <tr>\n",
       "      <th>853728</th>\n",
       "      <td>6505663424</td>\n",
       "      <td>Fuentes-Romero_Luis L.</td>\n",
       "    </tr>\n",
       "    <tr>\n",
       "      <th>942955</th>\n",
       "      <td>6505791403</td>\n",
       "      <td>Furegon_Luca</td>\n",
       "    </tr>\n",
       "    <tr>\n",
       "      <th>1069345</th>\n",
       "      <td>6505982000</td>\n",
       "      <td>Entress-Fuersteneck_Lutz V.</td>\n",
       "    </tr>\n",
       "    <tr>\n",
       "      <th>1109582</th>\n",
       "      <td>6506042746</td>\n",
       "      <td>Fuyin Lu</td>\n",
       "    </tr>\n",
       "    <tr>\n",
       "      <th>1125309</th>\n",
       "      <td>6506066344</td>\n",
       "      <td>Luketich_Gail Furman</td>\n",
       "    </tr>\n",
       "    <tr>\n",
       "      <th>1130604</th>\n",
       "      <td>6506074337</td>\n",
       "      <td>Jiménez Fuentes_José Luis</td>\n",
       "    </tr>\n",
       "    <tr>\n",
       "      <th>1203050</th>\n",
       "      <td>6506183792</td>\n",
       "      <td>Fuentes Lupianez C.</td>\n",
       "    </tr>\n",
       "    <tr>\n",
       "      <th>1320630</th>\n",
       "      <td>6506361079</td>\n",
       "      <td>Funke Ludwig F.</td>\n",
       "    </tr>\n",
       "  </tbody>\n",
       "</table>\n",
       "</div>"
      ],
      "text/plain": [
       "               authid                            name\n",
       "6334502    7103222725            Balakrishnan_Kalpana\n",
       "19496493  56080099000            Balakrishnan_Kalpana\n",
       "32718024  57211683626            Balakrishnan_Kalpana\n",
       "36110084  57220166054            Kalpana_Balakrishnan\n",
       "6040267    7102422308               Brauer_Michael C.\n",
       "6040274    7102422322               Brauer_Michael K.\n",
       "9850773   16066732800                  Brauer_Michael\n",
       "15175414  49361160600                  Brauer_Michael\n",
       "18480163  55825970400                  Brauer_Michael\n",
       "26153199  57194678413                  Michael_Brauer\n",
       "35231596  57218330976                  Brauer_Michael\n",
       "40836652  57709431300                  Brauer_Michael\n",
       "46917659  59024793300                  Brauer_Michael\n",
       "6378785    7103344174                 Brunekreef_Bert\n",
       "34928710  57217415104                 Brunekreef_Bert\n",
       "12263787  34568758600            Forastiere_Francesco\n",
       "18594778  55856636600            Francesco_Forastiere\n",
       "47231128  59066825600            Forastiere_Francesco\n",
       "68062      6503941082   De La Fuente Arzola_José Luis\n",
       "71542      6503945917                   Fung-shan_Luk\n",
       "80876      6503959105             Fuentes Lupianes C.\n",
       "87112      6503967951             Lun-Fu_Aleksandr V.\n",
       "105992     6503994609             Roberto Furlan_Luiz\n",
       "112467     6504003801                      Fugi_Luigi\n",
       "167300     6504080980   De La Fuente Madero_José Luis\n",
       "220980     6504156423        De Fuenmayor_María Luisa\n",
       "262380     6504215111         Furdan Wada_Maria Lucia\n",
       "280459     6504240539                 Furnare_Luca J.\n",
       "303563     6504272983               Huang Fu_Lu-Jiang\n",
       "309515     6504281344              Furlanetti_Luciano\n",
       "330858     6504311477         Lupiáñez_Carlos Fuentes\n",
       "351497     6504340419   Dos Santos Furtado_André Luiz\n",
       "442619     6504469072      Furnieles_Jany Luz Alarcón\n",
       "541467     6504607986               Fumanal-Senz_Luis\n",
       "591314     6504678078                  Luccini_Fulvio\n",
       "622752     6504722538             Fuentes Lupianez O.\n",
       "663163     6504779573                       Luo-An_Fu\n",
       "668444     6504786932            Casas Fuentes_Lucila\n",
       "706579     6505456136  Marenco de la Fuente_José Luis\n",
       "760389     6505531941                       Fu-Yun_Lu\n",
       "770346     6505546065               Fulvio de Luca L.\n",
       "780198     6505560053           Fuentes Lupianez J.J.\n",
       "853728     6505663424          Fuentes-Romero_Luis L.\n",
       "942955     6505791403                    Furegon_Luca\n",
       "1069345    6505982000     Entress-Fuersteneck_Lutz V.\n",
       "1109582    6506042746                        Fuyin Lu\n",
       "1125309    6506066344            Luketich_Gail Furman\n",
       "1130604    6506074337       Jiménez Fuentes_José Luis\n",
       "1203050    6506183792             Fuentes Lupianez C.\n",
       "1320630    6506361079                 Funke Ludwig F."
      ]
     },
     "execution_count": 40,
     "metadata": {},
     "output_type": "execute_result"
    }
   ],
   "source": [
    "member_authids_df.head(50)"
   ]
  },
  {
   "cell_type": "code",
   "execution_count": 41,
   "id": "94b97b2f-50d8-4869-9a74-9ccbb0365ddd",
   "metadata": {
    "execution": {
     "iopub.execute_input": "2024-12-19T17:01:57.909712Z",
     "iopub.status.busy": "2024-12-19T17:01:57.909094Z",
     "iopub.status.idle": "2024-12-19T17:02:06.490856Z",
     "shell.execute_reply": "2024-12-19T17:02:06.489502Z",
     "shell.execute_reply.started": "2024-12-19T17:01:57.909662Z"
    }
   },
   "outputs": [],
   "source": [
    "member_authids_df1 = pd.merge(member_authids_df, author_paperlist_df, left_on='authid', right_on = 'authids', how='left')\n",
    "member_authids_df1['author_paperlist_num'] = member_authids_df1['author_paperlist'].apply(lambda x: len(x))\n",
    "member_authids_df1.sort_values('author_paperlist_num',ascending=False,inplace=True)"
   ]
  },
  {
   "cell_type": "code",
   "execution_count": 42,
   "id": "dae7fcc1-cd82-4a41-93e2-b87c333c874b",
   "metadata": {
    "execution": {
     "iopub.execute_input": "2024-12-19T17:09:06.454902Z",
     "iopub.status.busy": "2024-12-19T17:09:06.454050Z",
     "iopub.status.idle": "2024-12-19T17:09:06.534500Z",
     "shell.execute_reply": "2024-12-19T17:09:06.533139Z",
     "shell.execute_reply.started": "2024-12-19T17:09:06.454842Z"
    }
   },
   "outputs": [],
   "source": [
    "member_authids_df2 = member_authids_df1[~member_authids_df1['name'].str.contains('Wan')]\n",
    "member_authids_df2 = member_authids_df2[~member_authids_df2['name'].str.contains('Huang')]\n",
    "member_authids_df2 = member_authids_df2[~member_authids_df2['name'].str.contains('Lu')]"
   ]
  },
  {
   "cell_type": "code",
   "execution_count": 43,
   "id": "18529da1-4356-4bdd-b3dd-b2fc0e216e90",
   "metadata": {
    "execution": {
     "iopub.execute_input": "2024-12-19T17:09:06.983225Z",
     "iopub.status.busy": "2024-12-19T17:09:06.982612Z",
     "iopub.status.idle": "2024-12-19T17:09:07.046992Z",
     "shell.execute_reply": "2024-12-19T17:09:07.046156Z",
     "shell.execute_reply.started": "2024-12-19T17:09:06.983176Z"
    },
    "scrolled": true
   },
   "outputs": [
    {
     "data": {
      "text/html": [
       "<div>\n",
       "<style scoped>\n",
       "    .dataframe tbody tr th:only-of-type {\n",
       "        vertical-align: middle;\n",
       "    }\n",
       "\n",
       "    .dataframe tbody tr th {\n",
       "        vertical-align: top;\n",
       "    }\n",
       "\n",
       "    .dataframe thead th {\n",
       "        text-align: right;\n",
       "    }\n",
       "</style>\n",
       "<table border=\"1\" class=\"dataframe\">\n",
       "  <thead>\n",
       "    <tr style=\"text-align: right;\">\n",
       "      <th></th>\n",
       "      <th>authid</th>\n",
       "      <th>name</th>\n",
       "      <th>authids</th>\n",
       "      <th>author_paperlist</th>\n",
       "      <th>author_paperlist_num</th>\n",
       "    </tr>\n",
       "  </thead>\n",
       "  <tbody>\n",
       "    <tr>\n",
       "      <th>10173</th>\n",
       "      <td>35396805300</td>\n",
       "      <td>Samet_Jonathan M.</td>\n",
       "      <td>35396805300</td>\n",
       "      <td>[18192639, 18197772, 18647009, 19277715, 18868584, 19822092, 19690902, 19450026, 19539340, 20477562, 19950523, 20075088, 19957027, 19953407, 20538613, 21021384, 21002639, 20960344, 20665696, 20698340, 21058278, 77957180503, 21231977, 21222962, 21194422, 21187610, 21742105, 21353508, 21354110, 22384518, 22344006, 22244644, 21922175, 21810605, 21998290, 21972250, 84944283074, 22574291, 22812135, 22924247, 22475603, 22627082, 22631103, 22481704, 22577278, 22587592, 22552943, 22521167, 22527454, 23620770, 23406657, 23617526, 23338078, 23577656, 23461337, 23189967, 22299899, 23126318, 23128423, 23092240, 23242557, 23276232, 23214938, 23203944, 23232759, 23194514, 23681764, 84944972206, 23993463, 23924466, 23905162, 23951658, 24237339, 24202152, 24102112, 23706655, 23734749, 23719516, 23850598, 23885624, 23886835, 84993848906, 24594462, 24574087, 24499464, 24557896, 24524227, 24747059, 24728970, 24308310, 24402298, 24400237, 24433438, 24413274, 25269482, 25277692, 25146632, 25144967, 25109525, 25124808, ...]</td>\n",
       "      <td>748</td>\n",
       "    </tr>\n",
       "    <tr>\n",
       "      <th>13</th>\n",
       "      <td>7103344174</td>\n",
       "      <td>Brunekreef_Bert</td>\n",
       "      <td>7103344174</td>\n",
       "      <td>[19130309, 18948168, 19720668, 19720822, 19708998, 20306037, 20309537, 20309945, 20456899, 20457541, 19907942, 19948442, 20554636, 33845552650, 20816179, 21024233, 21741589, 21639499, 21883053, 21869482, 21815513, 21564008, 23026012, 22610727, 22545490, 22504615, 22521599, 23141022, 23104741, 23203945, 24213942, 84952171963, 24487260, 24449689, 24465344, 24559558, 24843222, 24748334, 24800080, 24429371, 25292854, 25163832, 25167760, 25136842, 25172960, 25185431, 25485910, 25344761, 25353407, 25688269, 25583095, 1083735, 26069840, 26079061, 25778345, 26760317, 27048467, 1766899, 2932664, 26544888, 26535219, 26579226, 26496201, 27391404, 27429504, 27392348, 27480933, 27897989, 28106509, 28082474, 28135223, 28019661, 28025176, 27973054, 27980292, 29024190, 29066140, 28785354, 28836123, 28854554, 29588627, 29248262, 30480313, 29812684, 29878003, 29892987, 33748626281, 33747492729, 31213983, 31009087, 31438326, 31260392, 31283249, 31282651, 30668109, 30940385, 30771946, 30869442, 30882611, 30843243, ...]</td>\n",
       "      <td>703</td>\n",
       "    </tr>\n",
       "  </tbody>\n",
       "</table>\n",
       "</div>"
      ],
      "text/plain": [
       "            authid               name      authids  \\\n",
       "10173  35396805300  Samet_Jonathan M.  35396805300   \n",
       "13      7103344174    Brunekreef_Bert   7103344174   \n",
       "\n",
       "                                                                                                                                                                                                                                                                                                                                                                                                                                                                                                                                                                                                                                                                                                                                                                                                                                                                                                                                                                                                                                                author_paperlist  \\\n",
       "10173  [18192639, 18197772, 18647009, 19277715, 18868584, 19822092, 19690902, 19450026, 19539340, 20477562, 19950523, 20075088, 19957027, 19953407, 20538613, 21021384, 21002639, 20960344, 20665696, 20698340, 21058278, 77957180503, 21231977, 21222962, 21194422, 21187610, 21742105, 21353508, 21354110, 22384518, 22344006, 22244644, 21922175, 21810605, 21998290, 21972250, 84944283074, 22574291, 22812135, 22924247, 22475603, 22627082, 22631103, 22481704, 22577278, 22587592, 22552943, 22521167, 22527454, 23620770, 23406657, 23617526, 23338078, 23577656, 23461337, 23189967, 22299899, 23126318, 23128423, 23092240, 23242557, 23276232, 23214938, 23203944, 23232759, 23194514, 23681764, 84944972206, 23993463, 23924466, 23905162, 23951658, 24237339, 24202152, 24102112, 23706655, 23734749, 23719516, 23850598, 23885624, 23886835, 84993848906, 24594462, 24574087, 24499464, 24557896, 24524227, 24747059, 24728970, 24308310, 24402298, 24400237, 24433438, 24413274, 25269482, 25277692, 25146632, 25144967, 25109525, 25124808, ...]   \n",
       "13        [19130309, 18948168, 19720668, 19720822, 19708998, 20306037, 20309537, 20309945, 20456899, 20457541, 19907942, 19948442, 20554636, 33845552650, 20816179, 21024233, 21741589, 21639499, 21883053, 21869482, 21815513, 21564008, 23026012, 22610727, 22545490, 22504615, 22521599, 23141022, 23104741, 23203945, 24213942, 84952171963, 24487260, 24449689, 24465344, 24559558, 24843222, 24748334, 24800080, 24429371, 25292854, 25163832, 25167760, 25136842, 25172960, 25185431, 25485910, 25344761, 25353407, 25688269, 25583095, 1083735, 26069840, 26079061, 25778345, 26760317, 27048467, 1766899, 2932664, 26544888, 26535219, 26579226, 26496201, 27391404, 27429504, 27392348, 27480933, 27897989, 28106509, 28082474, 28135223, 28019661, 28025176, 27973054, 27980292, 29024190, 29066140, 28785354, 28836123, 28854554, 29588627, 29248262, 30480313, 29812684, 29878003, 29892987, 33748626281, 33747492729, 31213983, 31009087, 31438326, 31260392, 31283249, 31282651, 30668109, 30940385, 30771946, 30869442, 30882611, 30843243, ...]   \n",
       "\n",
       "       author_paperlist_num  \n",
       "10173                   748  \n",
       "13                      703  "
      ]
     },
     "execution_count": 43,
     "metadata": {},
     "output_type": "execute_result"
    }
   ],
   "source": [
    "member_authids_df2.head(2)"
   ]
  },
  {
   "cell_type": "code",
   "execution_count": 44,
   "id": "f48658e7-bf84-4cbd-8cd1-98cac20aa742",
   "metadata": {
    "execution": {
     "iopub.execute_input": "2024-12-19T18:32:14.868527Z",
     "iopub.status.busy": "2024-12-19T18:32:14.867919Z",
     "iopub.status.idle": "2024-12-19T18:32:14.877343Z",
     "shell.execute_reply": "2024-12-19T18:32:14.875578Z",
     "shell.execute_reply.started": "2024-12-19T18:32:14.868474Z"
    }
   },
   "outputs": [],
   "source": [
    "guideline_development_member = [6506139146,\n",
    "57494449200,\t\n",
    "7103222725 ,\n",
    "57218330976, \n",
    "7103344174 ,\n",
    "7404780942 ,\n",
    "34568758600, \n",
    "56920788800,\n",
    "35085056400, \n",
    "16230282700, \n",
    "56623591700, \n",
    "7101602991 ,\n",
    "6603575372,\n",
    "24177416300,\n",
    "7006806977,35780677200,\n",
    "22135643800,\n",
    "7004773965 ,\n",
    "55632925000, \n",
    "55190092800, \n",
    "6507352648 ,\n",
    "35396805300, \n",
    "7410000833 ,\n",
    "16417972200, \n",
    "57197110584, \n",
    "6603940133]"
   ]
  },
  {
   "cell_type": "code",
   "execution_count": 45,
   "id": "fa9e66c2-f61c-41fb-b28d-8c69108a995b",
   "metadata": {
    "execution": {
     "iopub.execute_input": "2024-12-19T18:33:56.363435Z",
     "iopub.status.busy": "2024-12-19T18:33:56.362463Z",
     "iopub.status.idle": "2024-12-19T18:33:56.369126Z",
     "shell.execute_reply": "2024-12-19T18:33:56.368413Z",
     "shell.execute_reply.started": "2024-12-19T18:33:56.363386Z"
    }
   },
   "outputs": [],
   "source": [
    "# np.save(\"/disks/qnap3/users/21-tomokiyo/masters_thesis/data/guideline_paper/member_data/A1.2_who_guideline_development_group.npy\", guideline_development_member)"
   ]
  },
  {
   "cell_type": "markdown",
   "id": "505aaeb0-9cc1-45b7-9d86-3d7681c5b18e",
   "metadata": {},
   "source": [
    "## Section 1.3"
   ]
  },
  {
   "cell_type": "code",
   "execution_count": 46,
   "id": "0f50f427-6c52-42c5-bed1-e52904feae6c",
   "metadata": {
    "execution": {
     "iopub.execute_input": "2025-01-10T14:30:52.490713Z",
     "iopub.status.busy": "2025-01-10T14:30:52.490298Z",
     "iopub.status.idle": "2025-01-10T14:30:52.570654Z",
     "shell.execute_reply": "2025-01-10T14:30:52.569716Z",
     "shell.execute_reply.started": "2025-01-10T14:30:52.490692Z"
    }
   },
   "outputs": [
    {
     "data": {
      "text/html": [
       "<div>\n",
       "<style scoped>\n",
       "    .dataframe tbody tr th:only-of-type {\n",
       "        vertical-align: middle;\n",
       "    }\n",
       "\n",
       "    .dataframe tbody tr th {\n",
       "        vertical-align: top;\n",
       "    }\n",
       "\n",
       "    .dataframe thead th {\n",
       "        text-align: right;\n",
       "    }\n",
       "</style>\n",
       "<table border=\"1\" class=\"dataframe\">\n",
       "  <thead>\n",
       "    <tr style=\"text-align: right;\">\n",
       "      <th></th>\n",
       "      <th>Systematic review topic</th>\n",
       "      <th>Experts involved</th>\n",
       "      <th>Institution</th>\n",
       "      <th>Organization</th>\n",
       "      <th>Affiliation country</th>\n",
       "      <th>Affiliation city</th>\n",
       "    </tr>\n",
       "  </thead>\n",
       "  <tbody>\n",
       "    <tr>\n",
       "      <th>0</th>\n",
       "      <td>Long-term exposure to PM2.5 and PM10 - All-cause and cause-specific mortality</td>\n",
       "      <td>Jie Chen</td>\n",
       "      <td>Institute for Risk Assessment Sciences</td>\n",
       "      <td>Utrecht University</td>\n",
       "      <td>Netherlands</td>\n",
       "      <td>Utrecht</td>\n",
       "    </tr>\n",
       "    <tr>\n",
       "      <th>1</th>\n",
       "      <td>Long-term exposure to PM2.5 and PM10 - All-cause and cause-specific mortality</td>\n",
       "      <td>Gerard Hoek</td>\n",
       "      <td>Institute for Risk Assessment Sciences</td>\n",
       "      <td>Utrecht University</td>\n",
       "      <td>Netherlands</td>\n",
       "      <td>Utrecht</td>\n",
       "    </tr>\n",
       "    <tr>\n",
       "      <th>2</th>\n",
       "      <td>Long-term exposure to O3 and NO2 - All-cause and respiratory mortality</td>\n",
       "      <td>Richard Atkinson</td>\n",
       "      <td>Population Health Research Institute</td>\n",
       "      <td>St George’s, University of London</td>\n",
       "      <td>United Kingdom</td>\n",
       "      <td>London</td>\n",
       "    </tr>\n",
       "    <tr>\n",
       "      <th>3</th>\n",
       "      <td>Long-term exposure to O3 and NO2 - All-cause and respiratory mortality</td>\n",
       "      <td>Peijue Huangfu</td>\n",
       "      <td>Population Health Research Institute</td>\n",
       "      <td>St George’s, University of London</td>\n",
       "      <td>United Kingdom</td>\n",
       "      <td>London</td>\n",
       "    </tr>\n",
       "    <tr>\n",
       "      <th>4</th>\n",
       "      <td>Short-term exposure to PM2.5, PM10, O3 and NO2 - All-cause and cause-specific mortality</td>\n",
       "      <td>Ariel Bardach</td>\n",
       "      <td>Institute for Clinical Effectiveness and Health Policy</td>\n",
       "      <td>IECS-CONICET</td>\n",
       "      <td>Argentina</td>\n",
       "      <td>Buenos Aires</td>\n",
       "    </tr>\n",
       "  </tbody>\n",
       "</table>\n",
       "</div>"
      ],
      "text/plain": [
       "                                                                   Systematic review topic  \\\n",
       "0            Long-term exposure to PM2.5 and PM10 - All-cause and cause-specific mortality   \n",
       "1            Long-term exposure to PM2.5 and PM10 - All-cause and cause-specific mortality   \n",
       "2                   Long-term exposure to O3 and NO2 - All-cause and respiratory mortality   \n",
       "3                   Long-term exposure to O3 and NO2 - All-cause and respiratory mortality   \n",
       "4  Short-term exposure to PM2.5, PM10, O3 and NO2 - All-cause and cause-specific mortality   \n",
       "\n",
       "   Experts involved                                             Institution  \\\n",
       "0          Jie Chen                  Institute for Risk Assessment Sciences   \n",
       "1       Gerard Hoek                  Institute for Risk Assessment Sciences   \n",
       "2  Richard Atkinson                    Population Health Research Institute   \n",
       "3    Peijue Huangfu                    Population Health Research Institute   \n",
       "4     Ariel Bardach  Institute for Clinical Effectiveness and Health Policy   \n",
       "\n",
       "                        Organization Affiliation country Affiliation city  \n",
       "0                 Utrecht University         Netherlands          Utrecht  \n",
       "1                 Utrecht University         Netherlands          Utrecht  \n",
       "2  St George’s, University of London      United Kingdom           London  \n",
       "3  St George’s, University of London      United Kingdom           London  \n",
       "4                       IECS-CONICET           Argentina     Buenos Aires  "
      ]
     },
     "execution_count": 46,
     "metadata": {},
     "output_type": "execute_result"
    }
   ],
   "source": [
    "review_df = pd.read_csv('/disks/qnap3/users/21-tomokiyo/masters_thesis/data/guideline_paper/member_data/2021/tableA1.3_split_affiliations_use.csv')\n",
    "review_df.head()"
   ]
  },
  {
   "cell_type": "code",
   "execution_count": 47,
   "id": "573fc989-3cb7-4be4-9139-7de13b48c528",
   "metadata": {
    "execution": {
     "iopub.execute_input": "2025-01-10T14:30:53.889064Z",
     "iopub.status.busy": "2025-01-10T14:30:53.888629Z",
     "iopub.status.idle": "2025-01-10T14:30:53.892946Z",
     "shell.execute_reply": "2025-01-10T14:30:53.892408Z",
     "shell.execute_reply.started": "2025-01-10T14:30:53.889040Z"
    }
   },
   "outputs": [],
   "source": [
    "review_member_ls = review_df['Experts involved'].tolist()"
   ]
  },
  {
   "cell_type": "code",
   "execution_count": 48,
   "id": "1a32dfa8-f988-417e-a658-4d276e1f6115",
   "metadata": {
    "execution": {
     "iopub.execute_input": "2025-01-10T14:31:16.231325Z",
     "iopub.status.busy": "2025-01-10T14:31:16.230913Z",
     "iopub.status.idle": "2025-01-10T14:31:16.235160Z",
     "shell.execute_reply": "2025-01-10T14:31:16.234721Z",
     "shell.execute_reply.started": "2025-01-10T14:31:16.231303Z"
    }
   },
   "outputs": [
    {
     "data": {
      "text/plain": [
       "18"
      ]
     },
     "execution_count": 48,
     "metadata": {},
     "output_type": "execute_result"
    }
   ],
   "source": [
    "len(list(set(review_member_ls)))"
   ]
  },
  {
   "cell_type": "code",
   "execution_count": 49,
   "id": "9fc5103b-6b07-40bb-a371-ac9dbfd38b9c",
   "metadata": {},
   "outputs": [
    {
     "data": {
      "text/plain": [
       "'\\n57212281248 Jie Chen \\n7004818581 Gerard Hoek,\\n7402372928 Richard Atkinson,\\n57197802175 Peijue Huangfu,\\n26424253000 Ariel Bardach,\\n24773469000 Agustín Ciapponi,\\n6507497656 Pablo Orellano,\\n57223422630 Nancy Quaranta,  #####\\n36022972400 Julieta Reynoso, ##### 36022972400,57219026965\\n55220462400 Wei-jie Guan,\\n24474775900 Mei Jiang,\\n23397309300 Hua-liang Lin,\\n55467335500 Xue-yan Zheng,\\n37085231500 Kuan Ken Lee,\\n7406531615 Mark R. Miller,\\n8729078200 Nicholas L. Mills,\\n36705318700 Anoop S.V. Shah,\\n57191900162 Nicholas Spath\\n'"
      ]
     },
     "execution_count": 49,
     "metadata": {},
     "output_type": "execute_result"
    }
   ],
   "source": [
    "\"\"\"\n",
    "57212281248 Jie Chen \n",
    "7004818581 Gerard Hoek,\n",
    "7402372928 Richard Atkinson,\n",
    "57197802175 Peijue Huangfu,\n",
    "26424253000 Ariel Bardach,\n",
    "24773469000 Agustín Ciapponi,\n",
    "6507497656 Pablo Orellano,\n",
    "57223422630 Nancy Quaranta,  #####\n",
    "36022972400 Julieta Reynoso, ##### 36022972400,57219026965\n",
    "55220462400 Wei-jie Guan,\n",
    "24474775900 Mei Jiang,\n",
    "23397309300 Hua-liang Lin,\n",
    "55467335500 Xue-yan Zheng,\n",
    "37085231500 Kuan Ken Lee,\n",
    "7406531615 Mark R. Miller,\n",
    "8729078200 Nicholas L. Mills,\n",
    "36705318700 Anoop S.V. Shah,\n",
    "57191900162 Nicholas Spath\n",
    "\"\"\""
   ]
  },
  {
   "cell_type": "code",
   "execution_count": 50,
   "id": "a9c50bb0-deed-4506-8401-0871bb7dcda0",
   "metadata": {
    "execution": {
     "iopub.execute_input": "2025-01-10T17:05:48.355905Z",
     "iopub.status.busy": "2025-01-10T17:05:48.355475Z",
     "iopub.status.idle": "2025-01-10T17:06:13.975605Z",
     "shell.execute_reply": "2025-01-10T17:06:13.974736Z",
     "shell.execute_reply.started": "2025-01-10T17:05:48.355887Z"
    }
   },
   "outputs": [
    {
     "data": {
      "text/html": [
       "<div>\n",
       "<style scoped>\n",
       "    .dataframe tbody tr th:only-of-type {\n",
       "        vertical-align: middle;\n",
       "    }\n",
       "\n",
       "    .dataframe tbody tr th {\n",
       "        vertical-align: top;\n",
       "    }\n",
       "\n",
       "    .dataframe thead th {\n",
       "        text-align: right;\n",
       "    }\n",
       "</style>\n",
       "<table border=\"1\" class=\"dataframe\">\n",
       "  <thead>\n",
       "    <tr style=\"text-align: right;\">\n",
       "      <th></th>\n",
       "      <th>authids</th>\n",
       "      <th>author_paperlist</th>\n",
       "    </tr>\n",
       "  </thead>\n",
       "  <tbody>\n",
       "    <tr>\n",
       "      <th>37390347</th>\n",
       "      <td>57223422630</td>\n",
       "      <td>[20811524, 40132714, 77957294657, 77957295198, 42295271, 5644257431, 19944415294, 20644435358, 41845775, 31147555, 31144088, 31094495, 30823064, 84866901339, 32317645, 5944249830, 33334883, 35334376, 35790920, 34782487, 242336357, 84866926574, 3042580721, 2942661710, 37233017, 1842527547, 36148979692, 36148990674, 36148944284, 33748991136, 38849158489, 42549169626, 58849095872, 60649110216, 80755167128, 68549087023, 77955686467, 78449300491, 78549253891, 77958160279, 78649734776, 84893306170, 73649127638, 77950916380, 84865784247, 84865772274, 79952791194, 78649319529, 84869467538, 84859710871, 84938558322, 84904315631, 84904323381, 85019861616, 85047910192, 85048175789, 85015966417, 85001655017, 85027565954, 85040335726, 85050131715, 85049342594, 85048441691, 85063874742, 85089008199, 85100742181, 85092925818, 85086740385, 85085174268, 85118501139, 85100799071, 85173624612, 85151225710]</td>\n",
       "    </tr>\n",
       "  </tbody>\n",
       "</table>\n",
       "</div>"
      ],
      "text/plain": [
       "              authids  \\\n",
       "37390347  57223422630   \n",
       "\n",
       "                                                                                                                                                                                                                                                                                                                                                                                                                                                                                                                                                                                                                                                                                                                                                                                                                                                                                                                              author_paperlist  \n",
       "37390347  [20811524, 40132714, 77957294657, 77957295198, 42295271, 5644257431, 19944415294, 20644435358, 41845775, 31147555, 31144088, 31094495, 30823064, 84866901339, 32317645, 5944249830, 33334883, 35334376, 35790920, 34782487, 242336357, 84866926574, 3042580721, 2942661710, 37233017, 1842527547, 36148979692, 36148990674, 36148944284, 33748991136, 38849158489, 42549169626, 58849095872, 60649110216, 80755167128, 68549087023, 77955686467, 78449300491, 78549253891, 77958160279, 78649734776, 84893306170, 73649127638, 77950916380, 84865784247, 84865772274, 79952791194, 78649319529, 84869467538, 84859710871, 84938558322, 84904315631, 84904323381, 85019861616, 85047910192, 85048175789, 85015966417, 85001655017, 85027565954, 85040335726, 85050131715, 85049342594, 85048441691, 85063874742, 85089008199, 85100742181, 85092925818, 85086740385, 85085174268, 85118501139, 85100799071, 85173624612, 85151225710]  "
      ]
     },
     "execution_count": 50,
     "metadata": {},
     "output_type": "execute_result"
    }
   ],
   "source": [
    "tmp1 = author_name_df[author_name_df['name'].str.contains('Nancy', na=False) & author_name_df['name'].str.contains('Quaranta', na=False)]\n",
    "target_authids = tmp1['authid'].tolist()\n",
    "\n",
    "target_paperlist_df = author_paperlist_df[author_paperlist_df['authids'].isin(target_authids)]\n",
    "target_paperlist_df.head()"
   ]
  },
  {
   "cell_type": "code",
   "execution_count": 51,
   "id": "a24b2429-e728-479f-a4d7-c5cf9228bfa0",
   "metadata": {
    "execution": {
     "iopub.execute_input": "2024-12-19T19:15:08.928869Z",
     "iopub.status.busy": "2024-12-19T19:15:08.928258Z",
     "iopub.status.idle": "2024-12-19T19:15:08.948652Z",
     "shell.execute_reply": "2024-12-19T19:15:08.947152Z",
     "shell.execute_reply.started": "2024-12-19T19:15:08.928819Z"
    }
   },
   "outputs": [
    {
     "data": {
      "text/html": [
       "<div>\n",
       "<style scoped>\n",
       "    .dataframe tbody tr th:only-of-type {\n",
       "        vertical-align: middle;\n",
       "    }\n",
       "\n",
       "    .dataframe tbody tr th {\n",
       "        vertical-align: top;\n",
       "    }\n",
       "\n",
       "    .dataframe thead th {\n",
       "        text-align: right;\n",
       "    }\n",
       "</style>\n",
       "<table border=\"1\" class=\"dataframe\">\n",
       "  <thead>\n",
       "    <tr style=\"text-align: right;\">\n",
       "      <th></th>\n",
       "      <th>authids</th>\n",
       "      <th>author_paperlist</th>\n",
       "    </tr>\n",
       "  </thead>\n",
       "  <tbody>\n",
       "  </tbody>\n",
       "</table>\n",
       "</div>"
      ],
      "text/plain": [
       "Empty DataFrame\n",
       "Columns: [authids, author_paperlist]\n",
       "Index: []"
      ]
     },
     "execution_count": 51,
     "metadata": {},
     "output_type": "execute_result"
    }
   ],
   "source": [
    "eid = 85056256300\n",
    "authids_candidate = target_paperlist_df[target_paperlist_df['author_paperlist'].apply(lambda x: eid in x)]\n",
    "authids_candidate"
   ]
  },
  {
   "cell_type": "code",
   "execution_count": 52,
   "id": "9ea4811c-67c8-4089-bc3f-57a13a41c103",
   "metadata": {
    "execution": {
     "iopub.execute_input": "2025-01-10T17:05:27.613937Z",
     "iopub.status.busy": "2025-01-10T17:05:27.613517Z",
     "iopub.status.idle": "2025-01-10T17:05:27.617307Z",
     "shell.execute_reply": "2025-01-10T17:05:27.616883Z",
     "shell.execute_reply.started": "2025-01-10T17:05:27.613918Z"
    }
   },
   "outputs": [],
   "source": [
    "member_1_3 = [57212281248, \n",
    "7004818581,\n",
    "7402372928, \n",
    "57197802175,  \n",
    "26424253000,  \n",
    "24773469000,  \n",
    "6507497656,  \n",
    "57223422630, \n",
    "36022972400, \n",
    "55220462400,\n",
    "24474775900, \n",
    "23397309300,\n",
    "55467335500, \n",
    "37085231500,\n",
    "7406531615,\n",
    "8729078200,\n",
    "36705318700,\n",
    "57191900162]"
   ]
  },
  {
   "cell_type": "code",
   "execution_count": 53,
   "id": "cc5dc2d1-d150-4b2d-9041-96082be25be8",
   "metadata": {
    "execution": {
     "iopub.execute_input": "2025-01-10T17:05:27.839534Z",
     "iopub.status.busy": "2025-01-10T17:05:27.839164Z",
     "iopub.status.idle": "2025-01-10T17:05:27.842661Z",
     "shell.execute_reply": "2025-01-10T17:05:27.842290Z",
     "shell.execute_reply.started": "2025-01-10T17:05:27.839521Z"
    }
   },
   "outputs": [
    {
     "data": {
      "text/plain": [
       "18"
      ]
     },
     "execution_count": 53,
     "metadata": {},
     "output_type": "execute_result"
    }
   ],
   "source": [
    "len(set(member_1_3))"
   ]
  },
  {
   "cell_type": "code",
   "execution_count": 54,
   "id": "8de710c4-e084-493f-8307-a34f21a8d6fa",
   "metadata": {
    "execution": {
     "iopub.execute_input": "2025-01-10T17:05:36.716927Z",
     "iopub.status.busy": "2025-01-10T17:05:36.716376Z",
     "iopub.status.idle": "2025-01-10T17:05:36.722439Z",
     "shell.execute_reply": "2025-01-10T17:05:36.722049Z",
     "shell.execute_reply.started": "2025-01-10T17:05:36.716911Z"
    }
   },
   "outputs": [],
   "source": [
    "# np.save(\"/disks/qnap3/users/21-tomokiyo/masters_thesis/data/guideline_paper/member_data/A1.3_who_systematic_review_team_revise.npy\", member_1_3)\n"
   ]
  },
  {
   "cell_type": "markdown",
   "id": "69ea3d0e-17b1-4c1d-b312-deca959026f6",
   "metadata": {},
   "source": [
    "## Section 1.4"
   ]
  },
  {
   "cell_type": "code",
   "execution_count": 55,
   "id": "1737879d-2c5d-4439-a6f5-084d823cee7c",
   "metadata": {},
   "outputs": [
    {
     "data": {
      "text/plain": [
       "'\\n7005575160 Jos Verbeek,\\n55263109200 Rebecca Morgan\\n'"
      ]
     },
     "execution_count": 55,
     "metadata": {},
     "output_type": "execute_result"
    }
   ],
   "source": [
    "\"\"\"\n",
    "7005575160 Jos Verbeek,\n",
    "55263109200 Rebecca Morgan\n",
    "\"\"\""
   ]
  },
  {
   "cell_type": "code",
   "execution_count": 57,
   "id": "7709d84e-3dd0-4f4c-9a4e-b40d97299118",
   "metadata": {
    "scrolled": true
   },
   "outputs": [
    {
     "data": {
      "text/html": [
       "<div>\n",
       "<style scoped>\n",
       "    .dataframe tbody tr th:only-of-type {\n",
       "        vertical-align: middle;\n",
       "    }\n",
       "\n",
       "    .dataframe tbody tr th {\n",
       "        vertical-align: top;\n",
       "    }\n",
       "\n",
       "    .dataframe thead th {\n",
       "        text-align: right;\n",
       "    }\n",
       "</style>\n",
       "<table border=\"1\" class=\"dataframe\">\n",
       "  <thead>\n",
       "    <tr style=\"text-align: right;\">\n",
       "      <th></th>\n",
       "      <th>authid</th>\n",
       "      <th>name</th>\n",
       "    </tr>\n",
       "  </thead>\n",
       "  <tbody>\n",
       "    <tr>\n",
       "      <th>1470830</th>\n",
       "      <td>6506587876</td>\n",
       "      <td>Morgan-Boyd_Rebecca</td>\n",
       "    </tr>\n",
       "    <tr>\n",
       "      <th>6994933</th>\n",
       "      <td>7401728645</td>\n",
       "      <td>Boyd_Rebecca Morgan</td>\n",
       "    </tr>\n",
       "    <tr>\n",
       "      <th>7338209</th>\n",
       "      <td>7403329410</td>\n",
       "      <td>Morgan_Rebecca K.</td>\n",
       "    </tr>\n",
       "    <tr>\n",
       "      <th>7338230</th>\n",
       "      <td>7403329585</td>\n",
       "      <td>Morgan_Rebecca</td>\n",
       "    </tr>\n",
       "    <tr>\n",
       "      <th>7338331</th>\n",
       "      <td>7403330384</td>\n",
       "      <td>Morgan_Rebecca</td>\n",
       "    </tr>\n",
       "  </tbody>\n",
       "</table>\n",
       "</div>"
      ],
      "text/plain": [
       "             authid                 name\n",
       "1470830  6506587876  Morgan-Boyd_Rebecca\n",
       "6994933  7401728645  Boyd_Rebecca Morgan\n",
       "7338209  7403329410    Morgan_Rebecca K.\n",
       "7338230  7403329585       Morgan_Rebecca\n",
       "7338331  7403330384       Morgan_Rebecca"
      ]
     },
     "execution_count": 57,
     "metadata": {},
     "output_type": "execute_result"
    }
   ],
   "source": [
    "tmp1 = author_name_df[author_name_df['name'].str.contains('Rebecca', na=False) & author_name_df['name'].str.contains('Morgan', na=False)]\n",
    "tmp1.head()"
   ]
  },
  {
   "cell_type": "code",
   "execution_count": 58,
   "id": "305bc6d3-8984-4c58-ae7a-97f76dd6b3c2",
   "metadata": {
    "scrolled": true
   },
   "outputs": [
    {
     "name": "stderr",
     "output_type": "stream",
     "text": [
      "/tmp/ipykernel_828433/2142326267.py:4: SettingWithCopyWarning: \n",
      "A value is trying to be set on a copy of a slice from a DataFrame.\n",
      "Try using .loc[row_indexer,col_indexer] = value instead\n",
      "\n",
      "See the caveats in the documentation: https://pandas.pydata.org/pandas-docs/stable/user_guide/indexing.html#returning-a-view-versus-a-copy\n",
      "  target_paperlist_df['author_papernum'] = target_paperlist_df['author_paperlist'].apply(lambda x: len(x))\n"
     ]
    },
    {
     "data": {
      "text/html": [
       "<div>\n",
       "<style scoped>\n",
       "    .dataframe tbody tr th:only-of-type {\n",
       "        vertical-align: middle;\n",
       "    }\n",
       "\n",
       "    .dataframe tbody tr th {\n",
       "        vertical-align: top;\n",
       "    }\n",
       "\n",
       "    .dataframe thead th {\n",
       "        text-align: right;\n",
       "    }\n",
       "</style>\n",
       "<table border=\"1\" class=\"dataframe\">\n",
       "  <thead>\n",
       "    <tr style=\"text-align: right;\">\n",
       "      <th></th>\n",
       "      <th>authids</th>\n",
       "      <th>author_paperlist</th>\n",
       "      <th>author_papernum</th>\n",
       "    </tr>\n",
       "  </thead>\n",
       "  <tbody>\n",
       "    <tr>\n",
       "      <th>1470829</th>\n",
       "      <td>6506587876</td>\n",
       "      <td>[4243700454, 33750280182, 33749232148, 80053291124]</td>\n",
       "      <td>4</td>\n",
       "    </tr>\n",
       "    <tr>\n",
       "      <th>6994932</th>\n",
       "      <td>7401728645</td>\n",
       "      <td>[21150203, 22446263]</td>\n",
       "      <td>2</td>\n",
       "    </tr>\n",
       "    <tr>\n",
       "      <th>7338208</th>\n",
       "      <td>7403329410</td>\n",
       "      <td>[19304644, 18830788, 19827257, 19376276, 19502486]</td>\n",
       "      <td>5</td>\n",
       "    </tr>\n",
       "    <tr>\n",
       "      <th>7338229</th>\n",
       "      <td>7403329585</td>\n",
       "      <td>[27544442655, 27544495198, 27544513011, 25444510826, 56649099237, 56049108375, 70450278758, 68349141075, 84978045354, 85056632938]</td>\n",
       "      <td>10</td>\n",
       "    </tr>\n",
       "    <tr>\n",
       "      <th>7338330</th>\n",
       "      <td>7403330384</td>\n",
       "      <td>[5644285350, 3442887975]</td>\n",
       "      <td>2</td>\n",
       "    </tr>\n",
       "  </tbody>\n",
       "</table>\n",
       "</div>"
      ],
      "text/plain": [
       "            authids  \\\n",
       "1470829  6506587876   \n",
       "6994932  7401728645   \n",
       "7338208  7403329410   \n",
       "7338229  7403329585   \n",
       "7338330  7403330384   \n",
       "\n",
       "                                                                                                                           author_paperlist  \\\n",
       "1470829                                                                                 [4243700454, 33750280182, 33749232148, 80053291124]   \n",
       "6994932                                                                                                                [21150203, 22446263]   \n",
       "7338208                                                                                  [19304644, 18830788, 19827257, 19376276, 19502486]   \n",
       "7338229  [27544442655, 27544495198, 27544513011, 25444510826, 56649099237, 56049108375, 70450278758, 68349141075, 84978045354, 85056632938]   \n",
       "7338330                                                                                                            [5644285350, 3442887975]   \n",
       "\n",
       "         author_papernum  \n",
       "1470829                4  \n",
       "6994932                2  \n",
       "7338208                5  \n",
       "7338229               10  \n",
       "7338330                2  "
      ]
     },
     "execution_count": 58,
     "metadata": {},
     "output_type": "execute_result"
    }
   ],
   "source": [
    "target_authids = tmp1['authid'].tolist()\n",
    "\n",
    "target_paperlist_df = author_paperlist_df[author_paperlist_df['authids'].isin(target_authids)]\n",
    "target_paperlist_df['author_papernum'] = target_paperlist_df['author_paperlist'].apply(lambda x: len(x))\n",
    "target_paperlist_df.head()"
   ]
  },
  {
   "cell_type": "code",
   "execution_count": 59,
   "id": "d682d697-ba5c-4128-b70c-0ac75a6d1c43",
   "metadata": {
    "execution": {
     "iopub.execute_input": "2024-12-19T19:25:15.813498Z",
     "iopub.status.busy": "2024-12-19T19:25:15.812910Z",
     "iopub.status.idle": "2024-12-19T19:25:15.821835Z",
     "shell.execute_reply": "2024-12-19T19:25:15.820554Z",
     "shell.execute_reply.started": "2024-12-19T19:25:15.813452Z"
    }
   },
   "outputs": [],
   "source": [
    "authids_1_4 = [7005575160, 55263109200]\n",
    "# np.save(\"/disks/qnap3/users/21-tomokiyo/masters_thesis/data/guideline_paper/member_data/A1.4_who_external_methodologists.npy\", authids_1_4)\n"
   ]
  },
  {
   "cell_type": "markdown",
   "id": "8ce63d4d-849e-4b6f-9ea7-712bbec34067",
   "metadata": {},
   "source": [
    "## Section 1.5"
   ]
  },
  {
   "cell_type": "code",
   "execution_count": 60,
   "id": "d7bac030-7def-476b-ae98-ac5fa76efdac",
   "metadata": {
    "execution": {
     "iopub.execute_input": "2025-01-10T14:38:27.366502Z",
     "iopub.status.busy": "2025-01-10T14:38:27.365951Z",
     "iopub.status.idle": "2025-01-10T14:38:27.374147Z",
     "shell.execute_reply": "2025-01-10T14:38:27.373749Z",
     "shell.execute_reply.started": "2025-01-10T14:38:27.366484Z"
    }
   },
   "outputs": [
    {
     "data": {
      "text/html": [
       "<div>\n",
       "<style scoped>\n",
       "    .dataframe tbody tr th:only-of-type {\n",
       "        vertical-align: middle;\n",
       "    }\n",
       "\n",
       "    .dataframe tbody tr th {\n",
       "        vertical-align: top;\n",
       "    }\n",
       "\n",
       "    .dataframe thead th {\n",
       "        text-align: right;\n",
       "    }\n",
       "</style>\n",
       "<table border=\"1\" class=\"dataframe\">\n",
       "  <thead>\n",
       "    <tr style=\"text-align: right;\">\n",
       "      <th></th>\n",
       "      <th>Name</th>\n",
       "      <th>Position</th>\n",
       "      <th>Organization</th>\n",
       "      <th>Affiliation</th>\n",
       "      <th>Affiliation country</th>\n",
       "      <th>Affiliation city</th>\n",
       "      <th>Sex</th>\n",
       "      <th>Area of expertise specifically sought for guidelines</th>\n",
       "    </tr>\n",
       "  </thead>\n",
       "  <tbody>\n",
       "    <tr>\n",
       "      <th>0</th>\n",
       "      <td>Samir Afandiyev</td>\n",
       "      <td>Public Health and Reforms Centre</td>\n",
       "      <td>NaN</td>\n",
       "      <td>Public Health and Reforms Centre</td>\n",
       "      <td>Azerbaijan</td>\n",
       "      <td>Baku</td>\n",
       "      <td>M</td>\n",
       "      <td>2, 3, 6</td>\n",
       "    </tr>\n",
       "    <tr>\n",
       "      <th>1</th>\n",
       "      <td>Mohammad Alolayan</td>\n",
       "      <td>College of Life Sciences</td>\n",
       "      <td>NaN</td>\n",
       "      <td>Kuwait University</td>\n",
       "      <td>Kuwait</td>\n",
       "      <td>Kuwait City</td>\n",
       "      <td>M</td>\n",
       "      <td>3, 6</td>\n",
       "    </tr>\n",
       "    <tr>\n",
       "      <th>2</th>\n",
       "      <td>Richard Ballaman</td>\n",
       "      <td>Federal Office of the Environment</td>\n",
       "      <td>Federal Office of the Environment</td>\n",
       "      <td>Swiss Federal Administration</td>\n",
       "      <td>Switzerland</td>\n",
       "      <td>Bern</td>\n",
       "      <td>M</td>\n",
       "      <td>6</td>\n",
       "    </tr>\n",
       "    <tr>\n",
       "      <th>3</th>\n",
       "      <td>Jill Baumgartner</td>\n",
       "      <td>Institute for Health and Social Policy</td>\n",
       "      <td>McGill University</td>\n",
       "      <td>McGill University</td>\n",
       "      <td>Canada</td>\n",
       "      <td>Montreal</td>\n",
       "      <td>F</td>\n",
       "      <td>1, 5</td>\n",
       "    </tr>\n",
       "    <tr>\n",
       "      <th>4</th>\n",
       "      <td>Hanna Boogaard</td>\n",
       "      <td>Health Effects Institute</td>\n",
       "      <td>Health Effects Institute</td>\n",
       "      <td>Health Effects Institute</td>\n",
       "      <td>United States</td>\n",
       "      <td>Boston</td>\n",
       "      <td>F</td>\n",
       "      <td>1, 3</td>\n",
       "    </tr>\n",
       "  </tbody>\n",
       "</table>\n",
       "</div>"
      ],
      "text/plain": [
       "                Name                                Position  \\\n",
       "0    Samir Afandiyev        Public Health and Reforms Centre   \n",
       "1  Mohammad Alolayan                College of Life Sciences   \n",
       "2   Richard Ballaman       Federal Office of the Environment   \n",
       "3   Jill Baumgartner  Institute for Health and Social Policy   \n",
       "4     Hanna Boogaard                Health Effects Institute   \n",
       "\n",
       "                        Organization                       Affiliation  \\\n",
       "0                                NaN  Public Health and Reforms Centre   \n",
       "1                                NaN                 Kuwait University   \n",
       "2  Federal Office of the Environment      Swiss Federal Administration   \n",
       "3                  McGill University                 McGill University   \n",
       "4           Health Effects Institute          Health Effects Institute   \n",
       "\n",
       "  Affiliation country Affiliation city Sex  \\\n",
       "0          Azerbaijan             Baku   M   \n",
       "1              Kuwait      Kuwait City   M   \n",
       "2         Switzerland             Bern   M   \n",
       "3              Canada         Montreal   F   \n",
       "4       United States           Boston   F   \n",
       "\n",
       "  Area of expertise specifically sought for guidelines  \n",
       "0                                              2, 3, 6  \n",
       "1                                                 3, 6  \n",
       "2                                                    6  \n",
       "3                                                 1, 5  \n",
       "4                                                 1, 3  "
      ]
     },
     "execution_count": 60,
     "metadata": {},
     "output_type": "execute_result"
    }
   ],
   "source": [
    "external_review_df = pd.read_csv('/disks/qnap3/users/21-tomokiyo/masters_thesis/data/guideline_paper/member_data/2021/tableA1.5_corrected_expertise_details_use.csv')\n",
    "external_review_df.head()\n"
   ]
  },
  {
   "cell_type": "code",
   "execution_count": 61,
   "id": "f3dcb6a8-edab-4d53-ad9f-86c2f93e1588",
   "metadata": {
    "execution": {
     "iopub.execute_input": "2025-01-10T14:38:29.704950Z",
     "iopub.status.busy": "2025-01-10T14:38:29.704560Z",
     "iopub.status.idle": "2025-01-10T14:38:29.707993Z",
     "shell.execute_reply": "2025-01-10T14:38:29.707575Z",
     "shell.execute_reply.started": "2025-01-10T14:38:29.704932Z"
    }
   },
   "outputs": [
    {
     "data": {
      "text/plain": [
       "['Samir Afandiyev',\n",
       " 'Mohammad Alolayan',\n",
       " 'Richard Ballaman',\n",
       " 'Jill Baumgartner',\n",
       " 'Hanna Boogaard',\n",
       " 'David M. Broday',\n",
       " 'Richard T. Burnett',\n",
       " 'Jacob Burns',\n",
       " 'Flemming Cassee',\n",
       " 'Evan Coffman',\n",
       " 'Séverine Deguen',\n",
       " 'Sagnik Dey',\n",
       " 'Dimitris Evangelopoulos',\n",
       " 'Mamadou Fall',\n",
       " 'Neal Fann',\n",
       " 'Daniela Fecht',\n",
       " 'Julia Fussell',\n",
       " 'Davina Ghersi',\n",
       " 'Otto Hänninen',\n",
       " 'Barbara Hoffmann',\n",
       " 'Michael Holland',\n",
       " 'Yun-Chul Hong',\n",
       " 'Bin Jalaludin',\n",
       " 'Meltem Kutlar Joss',\n",
       " 'Juleen Lam',\n",
       " 'Kin Bong Hubert Lam',\n",
       " 'Puji Lestari',\n",
       " 'Morton Lippmann',\n",
       " 'Sylvia Medina',\n",
       " 'Rajen Naidoo',\n",
       " 'Mark J. Nieuwenhuijsen',\n",
       " 'Jeongim Park',\n",
       " 'Rita Pavasini',\n",
       " 'Annette Peters',\n",
       " 'Vincent-Henri Peuch',\n",
       " 'C. Arden Pope III',\n",
       " 'Reginald Quansah',\n",
       " 'Xavier Querol Carceller',\n",
       " 'Matteo Redaelli',\n",
       " 'Eva Rehfuess',\n",
       " 'Alexander Romanov',\n",
       " 'Anumita Roychowdhury',\n",
       " 'Jason Sacks',\n",
       " 'Paulo Saldiva',\n",
       " 'Najat Saliba',\n",
       " 'Andreia C. Santos',\n",
       " 'Jeremy Sarnat',\n",
       " 'Paul T.J. Scheepers',\n",
       " 'Srijan Lal Shrestha',\n",
       " 'Mónica Silva González',\n",
       " 'Kirk R. Smith',\n",
       " 'Massimo Stafoggia',\n",
       " 'David M. Stieb',\n",
       " 'Jordi Sunyer',\n",
       " 'Duncan C. Thomas',\n",
       " 'George D. Thurston',\n",
       " 'Linwei Tian',\n",
       " 'Aurelio Tobías Garces',\n",
       " 'Rita Van Dingenen',\n",
       " 'Sotiris Vardoulakis',\n",
       " 'Giovanni Viegi',\n",
       " 'Kuku Voyi',\n",
       " 'Heather Walton',\n",
       " 'Paul Whaley',\n",
       " 'Takashi Yorifuji']"
      ]
     },
     "execution_count": 61,
     "metadata": {},
     "output_type": "execute_result"
    }
   ],
   "source": [
    "external_review_ls = external_review_df['Name'].tolist()\n",
    "external_review_ls"
   ]
  },
  {
   "cell_type": "code",
   "execution_count": 62,
   "id": "d255d8f4-d000-45b2-8855-67b2811979f4",
   "metadata": {},
   "outputs": [
    {
     "data": {
      "text/plain": [
       "\"\\nNone'Samir Afandiyev',\\n55533356500 'Mohammad Alolayan',\\n6508112567 'Richard Ballaman',\\n35793213300 'Jill Baumgartner',\\n26666591300 'Hanna Boogaard',\\n6602905655 'David M. Broday',\\n26643599300 'Richard T. Burnett',\\n56006575900 'Jacob Burns',\\n6701458488 'Flemming Cassee',\\n56553873100 'Evan Coffman',\\n6506306535 'Séverine Deguen',\\n7402866430 'Sagnik Dey',\\n57189328263 'Dimitris Evangelopoulos',\\n24080412600 'Mamadou Fall', *\\n24474239200 'Neal Fann',\\n16205094600 'Daniela Fecht',\\n7003533118 'Julia Fussell',\\n55952304500 'Davina Ghersi',\\n7102391212 'Otto Hänninen',\\n15060140400 'Barbara Hoffmann',\\nNone 'Michael Holland',\\n7403393231 'Yun-Chul Hong',\\n17035269300 'Bin Jalaludin',\\n57193445340 'Meltem Kutlar Joss',\\n55941075900 'Juleen Lam',\\n35168055500 'Kin Bong Hubert Lam',\\n57201178426 'Puji Lestari',\\n7102579456 'Morton Lippmann',\\n55437181900\\t 'Sylvia Medina',\\n35579376100 'Rajen Naidoo',\\n7007123042 'Mark J. Nieuwenhuijsen',\\n15064852700 'Jeongim Park',\\n55245988000 'Rita Pavasini',\\n7402105900 'Annette Peters',\\n6507813087 'Vincent-Henri Peuch',\\n57193089483 'C. Arden Pope III',\\n14825606700 'Reginald Quansah',\\n7004532767 'Xavier Querol Carceller',\\n55232554700 'Matteo Redaelli',\\n12767500200 'Eva Rehfuess',\\n36125281800 'Alexander Romanov',\\n57190068857 'Anumita Roychowdhury',\\n36128837300 'Jason Sacks',\\n35379363900 'Paulo Saldiva',\\n7003735816 'Najat Saliba',\\n12783574700 'Andreia C. Santos',\\n6602157313 'Jeremy Sarnat',\\n7003326006 'Paul T.J. Scheepers',\\n57207742220 'Srijan Lal Shrestha',\\n55981522100 'Mónica Silva González',\\n7410184308 'Kirk R. Smith',\\n13608072800 'Massimo Stafoggia',\\n6701815372 'David M. Stieb',\\n57217208060 'Jordi Sunyer',\\n56067730800 'Duncan C. Thomas',\\n7102270013 'George D. Thurston',\\n7202296490 'Linwei Tian',\\n57219144066 'Aurelio Tobías Garces',\\n57203088526 'Rita Van Dingenen',\\n16835481000 'Sotiris Vardoulakis',\\n7007103216 'Giovanni Viegi',\\n10339863000 'Kuku Voyi',\\n54791745100, 57206422848,  'Heather Walton',\\n57006461700 'Paul Whaley',\\n15752092900 'Takashi Yorifuji']\\n\""
      ]
     },
     "execution_count": 62,
     "metadata": {},
     "output_type": "execute_result"
    }
   ],
   "source": [
    "\"\"\"\n",
    "None'Samir Afandiyev',\n",
    "55533356500 'Mohammad Alolayan',\n",
    "6508112567 'Richard Ballaman',\n",
    "35793213300 'Jill Baumgartner',\n",
    "26666591300 'Hanna Boogaard',\n",
    "6602905655 'David M. Broday',\n",
    "26643599300 'Richard T. Burnett',\n",
    "56006575900 'Jacob Burns',\n",
    "6701458488 'Flemming Cassee',\n",
    "56553873100 'Evan Coffman',\n",
    "6506306535 'Séverine Deguen',\n",
    "7402866430 'Sagnik Dey',\n",
    "57189328263 'Dimitris Evangelopoulos',\n",
    "24080412600 'Mamadou Fall', *\n",
    "24474239200 'Neal Fann',\n",
    "16205094600 'Daniela Fecht',\n",
    "7003533118 'Julia Fussell',\n",
    "55952304500 'Davina Ghersi',\n",
    "7102391212 'Otto Hänninen',\n",
    "15060140400 'Barbara Hoffmann',\n",
    "None 'Michael Holland',\n",
    "7403393231 'Yun-Chul Hong',\n",
    "17035269300 'Bin Jalaludin',\n",
    "57193445340 'Meltem Kutlar Joss',\n",
    "55941075900 'Juleen Lam',\n",
    "35168055500 'Kin Bong Hubert Lam',\n",
    "57201178426 'Puji Lestari',\n",
    "7102579456 'Morton Lippmann',\n",
    "55437181900\t 'Sylvia Medina',\n",
    "35579376100 'Rajen Naidoo',\n",
    "7007123042 'Mark J. Nieuwenhuijsen',\n",
    "15064852700 'Jeongim Park',\n",
    "55245988000 'Rita Pavasini',\n",
    "7402105900 'Annette Peters',\n",
    "6507813087 'Vincent-Henri Peuch',\n",
    "57193089483 'C. Arden Pope III',\n",
    "14825606700 'Reginald Quansah',\n",
    "7004532767 'Xavier Querol Carceller',\n",
    "55232554700 'Matteo Redaelli',\n",
    "12767500200 'Eva Rehfuess',\n",
    "36125281800 'Alexander Romanov',\n",
    "57190068857 'Anumita Roychowdhury',\n",
    "36128837300 'Jason Sacks',\n",
    "35379363900 'Paulo Saldiva',\n",
    "7003735816 'Najat Saliba',\n",
    "12783574700 'Andreia C. Santos',\n",
    "6602157313 'Jeremy Sarnat',\n",
    "7003326006 'Paul T.J. Scheepers',\n",
    "57207742220 'Srijan Lal Shrestha',\n",
    "55981522100 'Mónica Silva González',\n",
    "7410184308 'Kirk R. Smith',\n",
    "13608072800 'Massimo Stafoggia',\n",
    "6701815372 'David M. Stieb',\n",
    "57217208060 'Jordi Sunyer',\n",
    "56067730800 'Duncan C. Thomas',\n",
    "7102270013 'George D. Thurston',\n",
    "7202296490 'Linwei Tian',\n",
    "57219144066 'Aurelio Tobías Garces',\n",
    "57203088526 'Rita Van Dingenen',\n",
    "16835481000 'Sotiris Vardoulakis',\n",
    "7007103216 'Giovanni Viegi',\n",
    "10339863000 'Kuku Voyi',\n",
    "54791745100, 57206422848,  'Heather Walton',\n",
    "57006461700 'Paul Whaley',\n",
    "15752092900 'Takashi Yorifuji']\n",
    "\"\"\""
   ]
  },
  {
   "cell_type": "code",
   "execution_count": 63,
   "id": "65e15846-b166-4e9b-8e2f-d1d4dd85871c",
   "metadata": {
    "execution": {
     "iopub.execute_input": "2024-12-20T00:44:46.456778Z",
     "iopub.status.busy": "2024-12-20T00:44:46.456154Z",
     "iopub.status.idle": "2024-12-20T00:45:06.016710Z",
     "shell.execute_reply": "2024-12-20T00:45:06.015993Z",
     "shell.execute_reply.started": "2024-12-20T00:44:46.456726Z"
    },
    "scrolled": true
   },
   "outputs": [
    {
     "data": {
      "text/html": [
       "<div>\n",
       "<style scoped>\n",
       "    .dataframe tbody tr th:only-of-type {\n",
       "        vertical-align: middle;\n",
       "    }\n",
       "\n",
       "    .dataframe tbody tr th {\n",
       "        vertical-align: top;\n",
       "    }\n",
       "\n",
       "    .dataframe thead th {\n",
       "        text-align: right;\n",
       "    }\n",
       "</style>\n",
       "<table border=\"1\" class=\"dataframe\">\n",
       "  <thead>\n",
       "    <tr style=\"text-align: right;\">\n",
       "      <th></th>\n",
       "      <th>authid</th>\n",
       "      <th>name</th>\n",
       "    </tr>\n",
       "  </thead>\n",
       "  <tbody>\n",
       "    <tr>\n",
       "      <th>4733307</th>\n",
       "      <td>7004532767</td>\n",
       "      <td>Querol_Xavier</td>\n",
       "    </tr>\n",
       "  </tbody>\n",
       "</table>\n",
       "</div>"
      ],
      "text/plain": [
       "             authid           name\n",
       "4733307  7004532767  Querol_Xavier"
      ]
     },
     "execution_count": 63,
     "metadata": {},
     "output_type": "execute_result"
    }
   ],
   "source": [
    "tmp1 = author_name_df[author_name_df['name'].str.contains('Xavier', na=False) & author_name_df['name'].str.contains('Querol', na=False)]\n",
    "tmp1"
   ]
  },
  {
   "cell_type": "code",
   "execution_count": 64,
   "id": "88c15100-a02d-4204-9a2e-8d92775c9bc5",
   "metadata": {
    "execution": {
     "iopub.execute_input": "2025-01-10T17:08:26.140327Z",
     "iopub.status.busy": "2025-01-10T17:08:26.139879Z",
     "iopub.status.idle": "2025-01-10T17:08:26.451837Z",
     "shell.execute_reply": "2025-01-10T17:08:26.451373Z",
     "shell.execute_reply.started": "2025-01-10T17:08:26.140305Z"
    },
    "scrolled": true
   },
   "outputs": [
    {
     "name": "stderr",
     "output_type": "stream",
     "text": [
      "/tmp/ipykernel_828433/1855337762.py:5: SettingWithCopyWarning: \n",
      "A value is trying to be set on a copy of a slice from a DataFrame.\n",
      "Try using .loc[row_indexer,col_indexer] = value instead\n",
      "\n",
      "See the caveats in the documentation: https://pandas.pydata.org/pandas-docs/stable/user_guide/indexing.html#returning-a-view-versus-a-copy\n",
      "  target_paperlist_df['author_papernum'] = target_paperlist_df['author_paperlist'].apply(lambda x: len(x))\n"
     ]
    },
    {
     "data": {
      "text/html": [
       "<div>\n",
       "<style scoped>\n",
       "    .dataframe tbody tr th:only-of-type {\n",
       "        vertical-align: middle;\n",
       "    }\n",
       "\n",
       "    .dataframe tbody tr th {\n",
       "        vertical-align: top;\n",
       "    }\n",
       "\n",
       "    .dataframe thead th {\n",
       "        text-align: right;\n",
       "    }\n",
       "</style>\n",
       "<table border=\"1\" class=\"dataframe\">\n",
       "  <thead>\n",
       "    <tr style=\"text-align: right;\">\n",
       "      <th></th>\n",
       "      <th>authids</th>\n",
       "      <th>author_paperlist</th>\n",
       "      <th>author_papernum</th>\n",
       "    </tr>\n",
       "  </thead>\n",
       "  <tbody>\n",
       "    <tr>\n",
       "      <th>9223480</th>\n",
       "      <td>14037485900</td>\n",
       "      <td>[33748588916, 33745927705, 45849096125]</td>\n",
       "      <td>3</td>\n",
       "    </tr>\n",
       "    <tr>\n",
       "      <th>17530468</th>\n",
       "      <td>55588756600</td>\n",
       "      <td>[30016888, 30448745, 29839555, 2842511324, 343200260, 15644367912, 31460460, 30755420, 32189584, 32172332, 85024016299, 17644437064, 18744436282, 18344406682, 31720716, 31768372, 31771699, 15444346154, 32062394, 32066804, 15644383453, 345103451, 19244383528, 33094618, 33093253, 33045997, 32992096, 33594758, 32705972, 33618859, 32778379, 32770817, 34126251, 1642586609, 33928887, 342804275, 35422921, 3543080442, 35740163, 17944376031, 35873166, 34803710, 34824547, 34903443, 34997697, 34959810, 10644240104, 18544386050, 36675507, 36196487, 36581929, 242551081, 1642419655, 17144433238, 141499921, 43123262, 1042269436, 20444400903, 2942556828, 3042531040, 7244231232, 3142710280, 18444389444, 12844261330, 17744375773, 33644943627, 20644432862, 21744450308, 23844496786, 33750464852, 33845449095, 29444437823, 33745862019, 33646598327, 33646446349, 34247382140, 34047207796, 34250002317, 38349063281, 34548506494, 34548499534, 57349165604, 68449096133, 65549157063, 67649957742, 67650872611, 67349253573, 77958179762, 77956085148, 78649848374, 77449160005, 77649270596, 79952272449, 77951982733, 77952281283, 77951768772, 79958131488, 79959553278, 79959279682, 79960237807, ...]</td>\n",
       "      <td>313</td>\n",
       "    </tr>\n",
       "    <tr>\n",
       "      <th>24828550</th>\n",
       "      <td>57191727610</td>\n",
       "      <td>[85046935998, 85016016810, 84992533045, 85027699569, 85014842300, 85055136248, 85054491405, 85054487797, 85052985586, 85056552433, 85059044872, 85040086112, 85045891340, 85076909041, 85069183349, 85066304327, 85090579731, 85090492170, 85076218219]</td>\n",
       "      <td>19</td>\n",
       "    </tr>\n",
       "    <tr>\n",
       "      <th>35598485</th>\n",
       "      <td>57219144066</td>\n",
       "      <td>[85091435735]</td>\n",
       "      <td>1</td>\n",
       "    </tr>\n",
       "  </tbody>\n",
       "</table>\n",
       "</div>"
      ],
      "text/plain": [
       "              authids  \\\n",
       "9223480   14037485900   \n",
       "17530468  55588756600   \n",
       "24828550  57191727610   \n",
       "35598485  57219144066   \n",
       "\n",
       "                                                                                                                                                                                                                                                                                                                                                                                                                                                                                                                                                                                                                                                                                                                                                                                                                                                                                                                                                                                                                                                                                                                                                                                                                       author_paperlist  \\\n",
       "9223480                                                                                                                                                                                                                                                                                                                                                                                                                                                                                                                                                                                                                                                                                                                                                                                                                                                                                                                                                                                                                                                                                                                                                                                         [33748588916, 33745927705, 45849096125]   \n",
       "17530468  [30016888, 30448745, 29839555, 2842511324, 343200260, 15644367912, 31460460, 30755420, 32189584, 32172332, 85024016299, 17644437064, 18744436282, 18344406682, 31720716, 31768372, 31771699, 15444346154, 32062394, 32066804, 15644383453, 345103451, 19244383528, 33094618, 33093253, 33045997, 32992096, 33594758, 32705972, 33618859, 32778379, 32770817, 34126251, 1642586609, 33928887, 342804275, 35422921, 3543080442, 35740163, 17944376031, 35873166, 34803710, 34824547, 34903443, 34997697, 34959810, 10644240104, 18544386050, 36675507, 36196487, 36581929, 242551081, 1642419655, 17144433238, 141499921, 43123262, 1042269436, 20444400903, 2942556828, 3042531040, 7244231232, 3142710280, 18444389444, 12844261330, 17744375773, 33644943627, 20644432862, 21744450308, 23844496786, 33750464852, 33845449095, 29444437823, 33745862019, 33646598327, 33646446349, 34247382140, 34047207796, 34250002317, 38349063281, 34548506494, 34548499534, 57349165604, 68449096133, 65549157063, 67649957742, 67650872611, 67349253573, 77958179762, 77956085148, 78649848374, 77449160005, 77649270596, 79952272449, 77951982733, 77952281283, 77951768772, 79958131488, 79959553278, 79959279682, 79960237807, ...]   \n",
       "24828550                                                                                                                                                                                                                                                                                                                                                                                                                                                                                                                                                                                                                                                                                                                                                                                                                                                                                                                                                                        [85046935998, 85016016810, 84992533045, 85027699569, 85014842300, 85055136248, 85054491405, 85054487797, 85052985586, 85056552433, 85059044872, 85040086112, 85045891340, 85076909041, 85069183349, 85066304327, 85090579731, 85090492170, 85076218219]   \n",
       "35598485                                                                                                                                                                                                                                                                                                                                                                                                                                                                                                                                                                                                                                                                                                                                                                                                                                                                                                                                                                                                                                                                                                                                                                                                                  [85091435735]   \n",
       "\n",
       "          author_papernum  \n",
       "9223480                 3  \n",
       "17530468              313  \n",
       "24828550               19  \n",
       "35598485                1  "
      ]
     },
     "execution_count": 64,
     "metadata": {},
     "output_type": "execute_result"
    }
   ],
   "source": [
    "target_authids = tmp1['authid'].tolist()\n",
    "target_authids = [55588756600,57191727610,57219144066,14037485900]\n",
    "\n",
    "target_paperlist_df = author_paperlist_df[author_paperlist_df['authids'].isin(target_authids)]\n",
    "target_paperlist_df['author_papernum'] = target_paperlist_df['author_paperlist'].apply(lambda x: len(x))\n",
    "target_paperlist_df"
   ]
  },
  {
   "cell_type": "code",
   "execution_count": 67,
   "id": "350d8813-f996-4c92-b23a-edaf31cf1974",
   "metadata": {
    "execution": {
     "iopub.execute_input": "2025-01-10T17:09:23.693476Z",
     "iopub.status.busy": "2025-01-10T17:09:23.693037Z",
     "iopub.status.idle": "2025-01-10T17:09:23.698039Z",
     "shell.execute_reply": "2025-01-10T17:09:23.697578Z",
     "shell.execute_reply.started": "2025-01-10T17:09:23.693457Z"
    }
   },
   "outputs": [],
   "source": [
    "authids1_5 = [55533356500,\n",
    "6508112567 ,\n",
    "35793213300 ,\n",
    "26666591300 ,\n",
    "6602905655 ,\n",
    "26643599300 ,\n",
    "56006575900 ,\n",
    "6701458488 ,\n",
    "56553873100 ,\n",
    "6506306535 ,\n",
    "7402866430 ,\n",
    "57189328263,\n",
    "24080412600 , \n",
    "24474239200, \n",
    "16205094600  ,\n",
    "7003533118  ,\n",
    "55952304500 ,\n",
    "7102391212  ,\n",
    "15060140400  ,\n",
    "7403393231  ,\n",
    "17035269300,\n",
    "57193445340   ,\n",
    "55941075900  ,\n",
    "35168055500  ,\n",
    "57201178426, \n",
    "7102579456  ,\n",
    "55437181900\t  ,\n",
    "35579376100  ,\n",
    "7007123042  ,\n",
    "15064852700 ,\n",
    "55245988000  ,\n",
    "7402105900  ,\n",
    "6507813087  ,\n",
    "57193089483 ,\n",
    "14825606700 ,\n",
    "7004532767 ,\n",
    "55232554700 ,\n",
    "12767500200 ,\n",
    "36125281800 ,\n",
    "57190068857 ,\n",
    "36128837300,  \n",
    "35379363900  ,\n",
    "7003735816  ,\n",
    "12783574700  ,\n",
    "6602157313  ,\n",
    "7003326006   ,\n",
    "57207742220  ,\n",
    "55981522100   ,\n",
    "7410184308   ,\n",
    "13608072800  ,\n",
    "6701815372 ,\n",
    "57217208060  ,\n",
    "56067730800  ,\n",
    "7102270013 ,\n",
    "7202296490  ,\n",
    "57219144066 ,55588756600,57191727610, 14037485900,\n",
    "57203088526 ,\n",
    "16835481000 ,\n",
    "7007103216 ,\n",
    "10339863000 ,\n",
    "54791745100, 57206422848,  \n",
    "57006461700 ,\n",
    "15752092900] "
   ]
  },
  {
   "cell_type": "code",
   "execution_count": 17,
   "id": "8655f563-a5a4-4309-8edb-4cfb4bfd12aa",
   "metadata": {
    "execution": {
     "iopub.execute_input": "2025-01-10T17:09:31.869136Z",
     "iopub.status.busy": "2025-01-10T17:09:31.868721Z",
     "iopub.status.idle": "2025-01-10T17:09:31.874064Z",
     "shell.execute_reply": "2025-01-10T17:09:31.873634Z",
     "shell.execute_reply.started": "2025-01-10T17:09:31.869119Z"
    }
   },
   "outputs": [],
   "source": [
    "# np.save(\"/disks/qnap3/users/21-tomokiyo/masters_thesis/data/guideline_paper/member_data/A1.5_who_external_review_team_revise.npy\", authids1_5)"
   ]
  }
 ],
 "metadata": {
  "kernelspec": {
   "display_name": "Python 3 (ipykernel)",
   "language": "python",
   "name": "python3"
  },
  "language_info": {
   "codemirror_mode": {
    "name": "ipython",
    "version": 3
   },
   "file_extension": ".py",
   "mimetype": "text/x-python",
   "name": "python",
   "nbconvert_exporter": "python",
   "pygments_lexer": "ipython3",
   "version": "3.12.8"
  }
 },
 "nbformat": 4,
 "nbformat_minor": 5
}
