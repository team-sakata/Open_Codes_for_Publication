{
 "cells": [
  {
   "cell_type": "markdown",
   "id": "5ed36672-866d-46ba-a9e1-066fbd809944",
   "metadata": {},
   "source": [
    "# Build co-authorship networks of guideline researchers"
   ]
  },
  {
   "cell_type": "code",
   "execution_count": null,
   "id": "0d7882cc-953a-41a5-bfc6-ee14de27e3d1",
   "metadata": {},
   "outputs": [],
   "source": [
    "# Co-authorship networks of the guideline researchers"
   ]
  },
  {
   "cell_type": "code",
   "execution_count": 1,
   "id": "08825433-d0db-4e2e-ab2c-366a9918919a",
   "metadata": {
    "execution": {
     "iopub.execute_input": "2025-04-08T16:39:44.055389Z",
     "iopub.status.busy": "2025-04-08T16:39:44.054457Z",
     "iopub.status.idle": "2025-04-08T16:39:49.471752Z",
     "shell.execute_reply": "2025-04-08T16:39:49.470869Z",
     "shell.execute_reply.started": "2025-04-08T16:39:44.055342Z"
    }
   },
   "outputs": [],
   "source": [
    "import pandas as pd\n",
    "import numpy as np\n",
    "import matplotlib.pyplot as plt\n",
    "pd.options.display.max_rows = 100\n",
    "pd.options.display.max_colwidth = None\n",
    "import pickle\n",
    "from tqdm import tqdm\n",
    "import seaborn as sns\n",
    "import os, sys, gc, random, itertools, math, pickle\n",
    "from itertools import combinations\n",
    "import networkx as nx"
   ]
  },
  {
   "cell_type": "code",
   "execution_count": 8,
   "id": "be4f511d-8fd3-4a5d-8780-7d1c97008584",
   "metadata": {
    "execution": {
     "iopub.execute_input": "2025-04-08T17:01:38.124997Z",
     "iopub.status.busy": "2025-04-08T17:01:38.124192Z",
     "iopub.status.idle": "2025-04-08T17:01:38.133478Z",
     "shell.execute_reply": "2025-04-08T17:01:38.132626Z",
     "shell.execute_reply.started": "2025-04-08T17:01:38.124957Z"
    }
   },
   "outputs": [],
   "source": [
    "authid_12 = np.load('/disks/qnap3/users/21-tomokiyo/masters_thesis/data/guideline_paper/member_data/2021/A1.2_who_guideline_development_group.npy')\n",
    "authid_13 = np.load('/disks/qnap3/users/21-tomokiyo/masters_thesis/data/guideline_paper/member_data/A1.3_who_systematic_review_team_revise.npy')\n",
    "authid_14 = np.load('/disks/qnap3/users/21-tomokiyo/masters_thesis/data/guideline_paper/member_data/2021/A1.4_who_external_methodologists.npy')\n",
    "authid_15 = np.load('//disks/qnap3/users/21-tomokiyo/masters_thesis/data/guideline_paper/member_data/A1.5_who_external_review_team_revise.npy')\n",
    "\n",
    "boardmember_authid = list(authid_12)+list(authid_13)+list(authid_14)+list(authid_15)"
   ]
  },
  {
   "cell_type": "code",
   "execution_count": 4,
   "id": "db739ac0-d9ea-424e-a70e-96741c38862a",
   "metadata": {
    "execution": {
     "iopub.execute_input": "2025-04-08T16:45:24.774181Z",
     "iopub.status.busy": "2025-04-08T16:45:24.773883Z",
     "iopub.status.idle": "2025-04-08T16:46:42.500628Z",
     "shell.execute_reply": "2025-04-08T16:46:42.499660Z",
     "shell.execute_reply.started": "2025-04-08T16:45:24.774163Z"
    }
   },
   "outputs": [],
   "source": [
    "authids_df = pd.read_pickle('/disks/qnap3/shared/scopus-24/data/paper/authids.pickle')\n",
    "authids_df = pd.DataFrame(authids_df)\n",
    "authids_df.reset_index(inplace=True)\n",
    "authids_df.rename(columns={'index':'eid'},inplace=True)"
   ]
  },
  {
   "cell_type": "code",
   "execution_count": 3,
   "id": "0816cb0d-421e-4689-93ac-50b3ff93e229",
   "metadata": {
    "execution": {
     "iopub.execute_input": "2025-04-08T16:45:15.387066Z",
     "iopub.status.busy": "2025-04-08T16:45:15.386018Z",
     "iopub.status.idle": "2025-04-08T16:45:18.868840Z",
     "shell.execute_reply": "2025-04-08T16:45:18.867905Z",
     "shell.execute_reply.started": "2025-04-08T16:45:15.387023Z"
    }
   },
   "outputs": [],
   "source": [
    "year_df = pd.read_pickle('/disks/qnap3/shared/scopus-24/data/paper/year.pickle')\n",
    "year_df = pd.DataFrame(year_df)\n",
    "year_df.reset_index(inplace=True)\n",
    "year_df.rename(columns={'index':'eid'},inplace=True)"
   ]
  },
  {
   "cell_type": "code",
   "execution_count": 5,
   "id": "264f8079-ea3f-428d-8be3-fc68dc229c4a",
   "metadata": {
    "execution": {
     "iopub.execute_input": "2025-04-08T16:46:51.239213Z",
     "iopub.status.busy": "2025-04-08T16:46:51.238911Z",
     "iopub.status.idle": "2025-04-08T16:47:47.908680Z",
     "shell.execute_reply": "2025-04-08T16:47:47.907778Z",
     "shell.execute_reply.started": "2025-04-08T16:46:51.239195Z"
    }
   },
   "outputs": [],
   "source": [
    "authids_explode_df = authids_df.explode('authids')"
   ]
  },
  {
   "cell_type": "code",
   "execution_count": 10,
   "id": "99f1ce49-0ec2-4785-b04f-a0101d8ff7fa",
   "metadata": {
    "execution": {
     "iopub.execute_input": "2025-04-08T17:01:52.607157Z",
     "iopub.status.busy": "2025-04-08T17:01:52.606214Z",
     "iopub.status.idle": "2025-04-08T17:02:14.400322Z",
     "shell.execute_reply": "2025-04-08T17:02:14.399416Z",
     "shell.execute_reply.started": "2025-04-08T17:01:52.607117Z"
    }
   },
   "outputs": [],
   "source": [
    "target_eid = authids_explode_df[authids_explode_df['authids'].isin(boardmember_authid)]['eid'].unique()"
   ]
  },
  {
   "cell_type": "code",
   "execution_count": 11,
   "id": "79e637ce-eeda-4248-b78d-a17ab8ae1ebf",
   "metadata": {
    "execution": {
     "iopub.execute_input": "2025-04-08T17:02:20.290678Z",
     "iopub.status.busy": "2025-04-08T17:02:20.290387Z",
     "iopub.status.idle": "2025-04-08T17:02:21.573995Z",
     "shell.execute_reply": "2025-04-08T17:02:21.573146Z",
     "shell.execute_reply.started": "2025-04-08T17:02:20.290662Z"
    }
   },
   "outputs": [],
   "source": [
    "target_authids_df = authids_df[authids_df['eid'].isin(target_eid)]"
   ]
  },
  {
   "cell_type": "code",
   "execution_count": 12,
   "id": "d53b22dd-2444-4544-a671-1b42361737f2",
   "metadata": {
    "execution": {
     "iopub.execute_input": "2025-04-08T17:02:24.858815Z",
     "iopub.status.busy": "2025-04-08T17:02:24.858515Z",
     "iopub.status.idle": "2025-04-08T17:02:25.621037Z",
     "shell.execute_reply": "2025-04-08T17:02:25.620178Z",
     "shell.execute_reply.started": "2025-04-08T17:02:24.858797Z"
    }
   },
   "outputs": [],
   "source": [
    "target_authids_df = pd.merge(target_authids_df, year_df, on='eid', how='left')"
   ]
  },
  {
   "cell_type": "code",
   "execution_count": 13,
   "id": "adae5b32-82ab-4757-be4c-a3d72332d4d1",
   "metadata": {
    "execution": {
     "iopub.execute_input": "2025-04-08T17:02:26.426489Z",
     "iopub.status.busy": "2025-04-08T17:02:26.426230Z",
     "iopub.status.idle": "2025-04-08T17:02:26.525642Z",
     "shell.execute_reply": "2025-04-08T17:02:26.524708Z",
     "shell.execute_reply.started": "2025-04-08T17:02:26.426472Z"
    }
   },
   "outputs": [],
   "source": [
    "def replace_values(authid_list):\n",
    "    return [35780677200 if x == 7006806977 else 57206422848 if x == 54791745100  else 57219144066 if x == 55588756600  else 57219144066 if x == 57191727610  else 57219144066 if x == 14037485900 else x for x in authid_list]\n",
    "\n",
    "target_authids_df['authids'] = target_authids_df['authids'].apply(replace_values)"
   ]
  },
  {
   "cell_type": "code",
   "execution_count": 14,
   "id": "df8269a7-5e9b-4079-a1eb-f417ce8721af",
   "metadata": {
    "execution": {
     "iopub.execute_input": "2025-04-08T17:02:28.351305Z",
     "iopub.status.busy": "2025-04-08T17:02:28.351006Z",
     "iopub.status.idle": "2025-04-08T17:02:28.370620Z",
     "shell.execute_reply": "2025-04-08T17:02:28.369774Z",
     "shell.execute_reply.started": "2025-04-08T17:02:28.351286Z"
    }
   },
   "outputs": [
    {
     "data": {
      "text/html": [
       "<div>\n",
       "<style scoped>\n",
       "    .dataframe tbody tr th:only-of-type {\n",
       "        vertical-align: middle;\n",
       "    }\n",
       "\n",
       "    .dataframe tbody tr th {\n",
       "        vertical-align: top;\n",
       "    }\n",
       "\n",
       "    .dataframe thead th {\n",
       "        text-align: right;\n",
       "    }\n",
       "</style>\n",
       "<table border=\"1\" class=\"dataframe\">\n",
       "  <thead>\n",
       "    <tr style=\"text-align: right;\">\n",
       "      <th></th>\n",
       "      <th>eid</th>\n",
       "      <th>authids</th>\n",
       "      <th>year</th>\n",
       "    </tr>\n",
       "  </thead>\n",
       "  <tbody>\n",
       "    <tr>\n",
       "      <th>0</th>\n",
       "      <td>107793</td>\n",
       "      <td>[7006131104, 7102294773, 7005693696, 55968390200, 56920788800]</td>\n",
       "      <td>2001</td>\n",
       "    </tr>\n",
       "    <tr>\n",
       "      <th>1</th>\n",
       "      <td>176024</td>\n",
       "      <td>[35207209200, 35207209200, 7410184308, 7410184308, 35301101400, 7404700014, 7005491937, 57197605067, 25930906600, 7201888912, 6507838545]</td>\n",
       "      <td>1999</td>\n",
       "    </tr>\n",
       "    <tr>\n",
       "      <th>2</th>\n",
       "      <td>238404</td>\n",
       "      <td>[35207209200, 35207209200, 7410184308, 7410184308, 35301101400, 7404700014, 7005491937, 57197605067, 25930906600, 7201888912, 6507838545]</td>\n",
       "      <td>1999</td>\n",
       "    </tr>\n",
       "    <tr>\n",
       "      <th>3</th>\n",
       "      <td>273101</td>\n",
       "      <td>[6604043025, 23047979300, 7410000833, 7202704991, 7202943455, 23046215400, 6701380218, 57206155893, 7102623710]</td>\n",
       "      <td>1977</td>\n",
       "    </tr>\n",
       "    <tr>\n",
       "      <th>4</th>\n",
       "      <td>332071</td>\n",
       "      <td>[15921073500, 7005586715, 7201804950, 6602731348, 6603940133]</td>\n",
       "      <td>1991</td>\n",
       "    </tr>\n",
       "  </tbody>\n",
       "</table>\n",
       "</div>"
      ],
      "text/plain": [
       "      eid  \\\n",
       "0  107793   \n",
       "1  176024   \n",
       "2  238404   \n",
       "3  273101   \n",
       "4  332071   \n",
       "\n",
       "                                                                                                                                     authids  \\\n",
       "0                                                                             [7006131104, 7102294773, 7005693696, 55968390200, 56920788800]   \n",
       "1  [35207209200, 35207209200, 7410184308, 7410184308, 35301101400, 7404700014, 7005491937, 57197605067, 25930906600, 7201888912, 6507838545]   \n",
       "2  [35207209200, 35207209200, 7410184308, 7410184308, 35301101400, 7404700014, 7005491937, 57197605067, 25930906600, 7201888912, 6507838545]   \n",
       "3                            [6604043025, 23047979300, 7410000833, 7202704991, 7202943455, 23046215400, 6701380218, 57206155893, 7102623710]   \n",
       "4                                                                              [15921073500, 7005586715, 7201804950, 6602731348, 6603940133]   \n",
       "\n",
       "   year  \n",
       "0  2001  \n",
       "1  1999  \n",
       "2  1999  \n",
       "3  1977  \n",
       "4  1991  "
      ]
     },
     "execution_count": 14,
     "metadata": {},
     "output_type": "execute_result"
    }
   ],
   "source": [
    "target_authids_df.head()"
   ]
  },
  {
   "cell_type": "code",
   "execution_count": 15,
   "id": "759ee0a8-afea-4aef-9d52-08451c5b19c2",
   "metadata": {
    "execution": {
     "iopub.execute_input": "2025-04-08T17:03:35.080515Z",
     "iopub.status.busy": "2025-04-08T17:03:35.079560Z",
     "iopub.status.idle": "2025-04-08T17:03:35.087966Z",
     "shell.execute_reply": "2025-04-08T17:03:35.087063Z",
     "shell.execute_reply.started": "2025-04-08T17:03:35.080473Z"
    }
   },
   "outputs": [],
   "source": [
    "year = 2022\n",
    "target_authids_df1 = target_authids_df[(target_authids_df['year']<=2021)]"
   ]
  },
  {
   "cell_type": "code",
   "execution_count": 16,
   "id": "f7be4ebd-a425-4f67-b381-3d7cb21069de",
   "metadata": {
    "execution": {
     "iopub.execute_input": "2025-04-08T17:03:39.228247Z",
     "iopub.status.busy": "2025-04-08T17:03:39.227300Z",
     "iopub.status.idle": "2025-04-08T17:04:41.386492Z",
     "shell.execute_reply": "2025-04-08T17:04:41.385553Z",
     "shell.execute_reply.started": "2025-04-08T17:03:39.228206Z"
    }
   },
   "outputs": [
    {
     "name": "stderr",
     "output_type": "stream",
     "text": [
      "100%|███████████████████████████████████| 15361/15361 [01:02<00:00, 247.20it/s]\n"
     ]
    }
   ],
   "source": [
    "G1 = nx.Graph()\n",
    "\n",
    "for _, row in tqdm(target_authids_df1.iterrows(), total=len(target_authids_df1)):\n",
    "    authids = row['authids']\n",
    "    for auth1, auth2 in combinations(authids, 2):\n",
    "        if auth1 != auth2:\n",
    "            if G1.has_edge(auth1, auth2):\n",
    "                G1[auth1][auth2]['weight'] += 1\n",
    "            else:\n",
    "                G1.add_edge(auth1, auth2, weight=1)\n",
    "        else:\n",
    "            continue\n",
    "\n",
    "# Save with pickle\n",
    "# with open(\"/disks/qnap3/users/21-tomokiyo/masters_thesis/data/guideline_paper/co-author_network_2021/2021_coauthor_network_G_revise.pkl\", \"wb\") as f:\n",
    "#     pickle.dump(G1, f)"
   ]
  },
  {
   "cell_type": "code",
   "execution_count": 18,
   "id": "4ac47146-9b3e-4471-87fd-7134cc8b4471",
   "metadata": {
    "execution": {
     "iopub.execute_input": "2025-04-08T17:05:26.460153Z",
     "iopub.status.busy": "2025-04-08T17:05:26.459330Z",
     "iopub.status.idle": "2025-04-08T17:05:26.704963Z",
     "shell.execute_reply": "2025-04-08T17:05:26.704408Z",
     "shell.execute_reply.started": "2025-04-08T17:05:26.460117Z"
    }
   },
   "outputs": [],
   "source": [
    "remove_nodes = []\n",
    "\n",
    "for node in G1.nodes():\n",
    "    if node not in boardmember_authid:\n",
    "        remove_nodes.append(node)"
   ]
  },
  {
   "cell_type": "code",
   "execution_count": 19,
   "id": "b10a20e4-c5ab-4bbc-9ed1-91c1ea1b5ca7",
   "metadata": {
    "execution": {
     "iopub.execute_input": "2025-04-08T17:05:29.117175Z",
     "iopub.status.busy": "2025-04-08T17:05:29.116954Z",
     "iopub.status.idle": "2025-04-08T17:05:37.639943Z",
     "shell.execute_reply": "2025-04-08T17:05:37.638795Z",
     "shell.execute_reply.started": "2025-04-08T17:05:29.117163Z"
    }
   },
   "outputs": [],
   "source": [
    "G1.remove_nodes_from(remove_nodes)"
   ]
  },
  {
   "cell_type": "code",
   "execution_count": 20,
   "id": "a1e0eae4-5d10-44c6-8984-2127922291f9",
   "metadata": {
    "execution": {
     "iopub.execute_input": "2025-04-08T17:05:42.822383Z",
     "iopub.status.busy": "2025-04-08T17:05:42.822199Z",
     "iopub.status.idle": "2025-04-08T17:05:43.339763Z",
     "shell.execute_reply": "2025-04-08T17:05:43.339378Z",
     "shell.execute_reply.started": "2025-04-08T17:05:42.822368Z"
    }
   },
   "outputs": [
    {
     "data": {
      "image/png": "[encoded data removed]",
      "text/plain": [
       "<Figure size 600x600 with 1 Axes>"
      ]
     },
     "metadata": {},
     "output_type": "display_data"
    }
   ],
   "source": [
    "import networkx as nx\n",
    "import matplotlib.pyplot as plt\n",
    "import matplotlib.patches as mpatches\n",
    "\n",
    "import math\n",
    "\n",
    "largest_cc = max(nx.connected_components(G1), key=len)\n",
    "subgraph = G1.subgraph(largest_cc)\n",
    "\n",
    "pos = nx.kamada_kawai_layout(subgraph)\n",
    "\n",
    "# isolated_nodes = [n for n in G.nodes() if nx.is_isolate(G, n)]\n",
    "isolated_nodes = [n for n in G1.nodes() if n not in subgraph.nodes()]\n",
    "\n",
    "\n",
    "num_isolated = len(isolated_nodes)\n",
    "radius = 1.2\n",
    "for i, node in enumerate(isolated_nodes):\n",
    "    angle = 2 * math.pi * i / num_isolated\n",
    "    x = radius * math.cos(angle)\n",
    "    y = radius * math.sin(angle)\n",
    "    pos[node] = (x, y)\n",
    "\n",
    "fig, ax = plt.subplots(figsize=(6, 6))\n",
    "\n",
    "\n",
    "node_colors = []\n",
    "for c in G1.nodes():\n",
    "    if c in authid_12:\n",
    "        node_colors.append('blue')\n",
    "    elif c in authid_13:\n",
    "        node_colors.append('green')\n",
    "    elif c in authid_14:\n",
    "        node_colors.append('brown')\n",
    "    elif c in authid_15:\n",
    "        node_colors.append('red')\n",
    "    else:\n",
    "        print(c)\n",
    "        node_colors.append('gray')\n",
    "\n",
    "\n",
    "# color_map = {\n",
    "#     'blue':'guideline development group',\n",
    "#     'green':'systematic review team',\n",
    "#     'brown':'external methodologists',\n",
    "#     'red':'external review group -individual experts'\n",
    "# }\n",
    "      \n",
    "nx.draw(\n",
    "    G1, pos, node_color=node_colors, node_size=8, width=0.055,ax=ax\n",
    ")\n",
    "plt.title(f\"WHO guideline(2021) boardmember co-authorship network_only{year}\")\n",
    "\n",
    "legend_patches = [mpatches.Patch(color='blue', label='guideline development group'),\n",
    "                  mpatches.Patch(color='green', label='systematic review team'),\n",
    "                  mpatches.Patch(color='brown', label='external methodologists'),\n",
    "                  mpatches.Patch(color='red', label='external review group')\n",
    "                  ]\n",
    "# plt.title('\"airborne particulate\"', x=0.5, y=-0.0025, fontsize=16)\n",
    "plt.legend(handles=legend_patches,  bbox_to_anchor=(0.95,0.95), fontsize=16, frameon=False)\n",
    "\n",
    "plt.show()"
   ]
  },
  {
   "cell_type": "code",
   "execution_count": 86,
   "id": "20483f25-99c3-4c4e-9d89-10d777358f3f",
   "metadata": {
    "execution": {
     "iopub.execute_input": "2025-01-11T14:39:48.171415Z",
     "iopub.status.busy": "2025-01-11T14:39:48.170970Z",
     "iopub.status.idle": "2025-01-11T14:39:48.183735Z",
     "shell.execute_reply": "2025-01-11T14:39:48.183273Z",
     "shell.execute_reply.started": "2025-01-11T14:39:48.171387Z"
    }
   },
   "outputs": [],
   "source": [
    "# # Save with pickle\n",
    "# with open(f\"/disks/qnap3/users/21-tomokiyo/masters_thesis/data/guideline_paper/co-author_network_2021/revise_0111/only_co_author_network_G_before2021.pkl\", \"wb\") as f:\n",
    "#     pickle.dump(G1, f)"
   ]
  },
  {
   "cell_type": "code",
   "execution_count": null,
   "id": "e1815a34-05b0-4238-a24c-a2f8014ea2ec",
   "metadata": {},
   "outputs": [],
   "source": [
    "# Co-authorship networks of co-authors of the guideline researchers"
   ]
  },
  {
   "cell_type": "code",
   "execution_count": 21,
   "id": "db648349-58e4-437f-bb06-3ad0db6f2444",
   "metadata": {
    "execution": {
     "iopub.execute_input": "2025-04-08T17:05:55.712204Z",
     "iopub.status.busy": "2025-04-08T17:05:55.712033Z",
     "iopub.status.idle": "2025-04-08T17:05:58.850999Z",
     "shell.execute_reply": "2025-04-08T17:05:58.850033Z",
     "shell.execute_reply.started": "2025-04-08T17:05:55.712188Z"
    }
   },
   "outputs": [],
   "source": [
    "coauthor_authids = authids_explode_df[authids_explode_df['eid'].isin(target_eid)]['authids'].unique()"
   ]
  },
  {
   "cell_type": "code",
   "execution_count": 23,
   "id": "9c01e9c3-761e-46ba-a741-57176bc77d14",
   "metadata": {
    "execution": {
     "iopub.execute_input": "2025-04-08T17:06:12.227271Z",
     "iopub.status.busy": "2025-04-08T17:06:12.226329Z",
     "iopub.status.idle": "2025-04-08T17:06:46.497190Z",
     "shell.execute_reply": "2025-04-08T17:06:46.496373Z",
     "shell.execute_reply.started": "2025-04-08T17:06:12.227231Z"
    }
   },
   "outputs": [],
   "source": [
    "co_coauthor_eid = authids_explode_df[authids_explode_df['authids'].isin(coauthor_authids)]['eid'].unique()"
   ]
  },
  {
   "cell_type": "code",
   "execution_count": 24,
   "id": "808e91d9-607c-4d63-b095-1bdf7a6eaf22",
   "metadata": {
    "execution": {
     "iopub.execute_input": "2025-04-08T17:06:49.538376Z",
     "iopub.status.busy": "2025-04-08T17:06:49.537812Z",
     "iopub.status.idle": "2025-04-08T17:06:53.480568Z",
     "shell.execute_reply": "2025-04-08T17:06:53.479627Z",
     "shell.execute_reply.started": "2025-04-08T17:06:49.538358Z"
    }
   },
   "outputs": [],
   "source": [
    "df_auth_cocoauthors = authids_df[authids_df['eid'].isin(co_coauthor_eid)]"
   ]
  },
  {
   "cell_type": "code",
   "execution_count": 25,
   "id": "434a20ca-48c3-4b7c-895c-b2ae51e40af5",
   "metadata": {
    "execution": {
     "iopub.execute_input": "2025-04-08T17:06:56.790873Z",
     "iopub.status.busy": "2025-04-08T17:06:56.790578Z",
     "iopub.status.idle": "2025-04-08T17:06:56.795582Z",
     "shell.execute_reply": "2025-04-08T17:06:56.795055Z",
     "shell.execute_reply.started": "2025-04-08T17:06:56.790856Z"
    }
   },
   "outputs": [
    {
     "data": {
      "text/plain": [
       "(3441313, 2)"
      ]
     },
     "execution_count": 25,
     "metadata": {},
     "output_type": "execute_result"
    }
   ],
   "source": [
    "df_auth_cocoauthors.shape"
   ]
  },
  {
   "cell_type": "code",
   "execution_count": 26,
   "id": "292223a0-9beb-4851-8c0d-1b258a850a10",
   "metadata": {
    "execution": {
     "iopub.execute_input": "2025-04-08T17:07:06.523957Z",
     "iopub.status.busy": "2025-04-08T17:07:06.523030Z",
     "iopub.status.idle": "2025-04-08T17:07:14.611209Z",
     "shell.execute_reply": "2025-04-08T17:07:14.610448Z",
     "shell.execute_reply.started": "2025-04-08T17:07:06.523915Z"
    }
   },
   "outputs": [
    {
     "name": "stderr",
     "output_type": "stream",
     "text": [
      "/tmp/ipykernel_483243/3574602117.py:4: SettingWithCopyWarning: \n",
      "A value is trying to be set on a copy of a slice from a DataFrame.\n",
      "Try using .loc[row_indexer,col_indexer] = value instead\n",
      "\n",
      "See the caveats in the documentation: https://pandas.pydata.org/pandas-docs/stable/user_guide/indexing.html#returning-a-view-versus-a-copy\n",
      "  df_auth_cocoauthors['authids'] = df_auth_cocoauthors['authids'].apply(replace_values)\n"
     ]
    }
   ],
   "source": [
    "def replace_values(authid_list):\n",
    "    return [35780677200 if x == 7006806977 else 57206422848 if x == 54791745100  else 57219144066 if x == 55588756600  else 57219144066 if x == 57191727610  else 57219144066 if x == 14037485900 else x for x in authid_list]\n",
    "\n",
    "df_auth_cocoauthors['authids'] = df_auth_cocoauthors['authids'].apply(replace_values)"
   ]
  },
  {
   "cell_type": "code",
   "execution_count": null,
   "id": "6e0dcc1c-4984-4b54-890e-eb30f6f53b71",
   "metadata": {},
   "outputs": [],
   "source": [
    "G2 = nx.Graph()\n",
    "\n",
    "for _, row in tqdm(df_auth_cocoauthors.iterrows(), total=len(df_auth_cocoauthors)):\n",
    "    authids = row['authids']\n",
    "    for auth1, auth2 in combinations(authids, 2):\n",
    "        if auth1 != auth2:\n",
    "            if G2.has_edge(auth1, auth2):\n",
    "                G2[auth1][auth2]['weight'] += 1\n",
    "            else:\n",
    "                G2.add_edge(auth1, auth2, weight=1)\n",
    "        else:\n",
    "            continue\n",
    "\n",
    "# Save with pickle\n",
    "# with open(\"/disks/qnap3/users/21-tomokiyo/masters_thesis/data/guideline_paper/co-author_network_2021/revise_0111/co_coauthorship/2021_co_coauthor_network_G_revise_correct_authids.pkl\", \"wb\") as f:\n",
    "#    pickle.dump(G2, f)"
   ]
  },
  {
   "cell_type": "code",
   "execution_count": null,
   "id": "a06ac313-a979-423d-bc24-3dee836cc64c",
   "metadata": {},
   "outputs": [],
   "source": [
    "#with open(\"/disks/qnap3/users/21-tomokiyo/masters_thesis/data/guideline_paper/co-author_network_2021/revise_0111/co_coauthorship/2021_co_coauthor_network_G_revise_correct_authids_resave.pkl\", \"wb\") as f:\n",
    "#    pickle.dump(G2, f)"
   ]
  },
  {
   "cell_type": "code",
   "execution_count": 39,
   "id": "80c7500a-72df-4b02-8568-7629cbb453e6",
   "metadata": {
    "execution": {
     "iopub.execute_input": "2025-04-08T17:12:11.788943Z",
     "iopub.status.busy": "2025-04-08T17:12:11.788597Z",
     "iopub.status.idle": "2025-04-08T17:24:56.960609Z",
     "shell.execute_reply": "2025-04-08T17:24:56.959415Z",
     "shell.execute_reply.started": "2025-04-08T17:12:11.788926Z"
    }
   },
   "outputs": [],
   "source": [
    "with open('/disks/qnap3/users/21-tomokiyo/masters_thesis/data/guideline_paper/co-author_network_2021/revise_0111/co_coauthorship/2021_co_coauthor_network_G_revise_correct_authids_resave.pkl', 'rb') as f:\n",
    "    G2 = pickle.load(f)\n"
   ]
  },
  {
   "cell_type": "code",
   "execution_count": 27,
   "id": "d81b368f-e364-4ba6-b5c7-481b6f7fdd75",
   "metadata": {
    "execution": {
     "iopub.execute_input": "2025-04-08T17:07:29.087424Z",
     "iopub.status.busy": "2025-04-08T17:07:29.087134Z",
     "iopub.status.idle": "2025-04-08T17:07:29.150187Z",
     "shell.execute_reply": "2025-04-08T17:07:29.149404Z",
     "shell.execute_reply.started": "2025-04-08T17:07:29.087405Z"
    }
   },
   "outputs": [],
   "source": [
    "cited_eid = np.load('/disks/qnap3/users/21-tomokiyo/masters_thesis/data/guideline_paper/ref_data/2021/who_guideline_ref_eids.npy')"
   ]
  },
  {
   "cell_type": "code",
   "execution_count": 28,
   "id": "f46ee432-d11e-4456-9705-0be19d236817",
   "metadata": {
    "execution": {
     "iopub.execute_input": "2025-04-08T17:07:30.706152Z",
     "iopub.status.busy": "2025-04-08T17:07:30.705341Z",
     "iopub.status.idle": "2025-04-08T17:07:32.201407Z",
     "shell.execute_reply": "2025-04-08T17:07:32.200621Z",
     "shell.execute_reply.started": "2025-04-08T17:07:30.706114Z"
    }
   },
   "outputs": [],
   "source": [
    "cited_authids = authids_df[authids_df['eid'].isin(cited_eid)]"
   ]
  },
  {
   "cell_type": "code",
   "execution_count": 29,
   "id": "ae4b7842-5420-438b-967d-a845c7797620",
   "metadata": {
    "execution": {
     "iopub.execute_input": "2025-04-08T17:07:36.162624Z",
     "iopub.status.busy": "2025-04-08T17:07:36.162458Z",
     "iopub.status.idle": "2025-04-08T17:07:36.170537Z",
     "shell.execute_reply": "2025-04-08T17:07:36.169986Z",
     "shell.execute_reply.started": "2025-04-08T17:07:36.162609Z"
    }
   },
   "outputs": [
    {
     "data": {
      "text/html": [
       "<div>\n",
       "<style scoped>\n",
       "    .dataframe tbody tr th:only-of-type {\n",
       "        vertical-align: middle;\n",
       "    }\n",
       "\n",
       "    .dataframe tbody tr th {\n",
       "        vertical-align: top;\n",
       "    }\n",
       "\n",
       "    .dataframe thead th {\n",
       "        text-align: right;\n",
       "    }\n",
       "</style>\n",
       "<table border=\"1\" class=\"dataframe\">\n",
       "  <thead>\n",
       "    <tr style=\"text-align: right;\">\n",
       "      <th></th>\n",
       "      <th>eid</th>\n",
       "      <th>authids</th>\n",
       "    </tr>\n",
       "  </thead>\n",
       "  <tbody>\n",
       "    <tr>\n",
       "      <th>12615369</th>\n",
       "      <td>27362097</td>\n",
       "      <td>[7004937075, 7004937075, 57193089483, 57193089483, 57193089483, 34868966600, 7102395742, 57202555597, 7102585610, 56974691900, 57208455828, 57208455828]</td>\n",
       "    </tr>\n",
       "    <tr>\n",
       "      <th>13858467</th>\n",
       "      <td>28802284</td>\n",
       "      <td>[7103362401, 57225397374, 57202615405, 7004665680, 7101950462, 7404060133, 10739972800, 7102627126, 6507180436, 57204337226, 35832825900, 7401650526]</td>\n",
       "    </tr>\n",
       "    <tr>\n",
       "      <th>17504810</th>\n",
       "      <td>33006078</td>\n",
       "      <td>[7005616584, 7102763785, 7005035331, 57110165500, 7003874846, 35380028700, 20236659700]</td>\n",
       "    </tr>\n",
       "    <tr>\n",
       "      <th>18162362</th>\n",
       "      <td>33791138</td>\n",
       "      <td>[7005035331, 18936140900, 56560727000, 10042846400, 7005616584]</td>\n",
       "    </tr>\n",
       "    <tr>\n",
       "      <th>20979105</th>\n",
       "      <td>37029043</td>\n",
       "      <td>[57193089483, 26643599300, 26643599300, 7006846858, 7005657669, 24565152100, 13606042300, 7102270013]</td>\n",
       "    </tr>\n",
       "  </tbody>\n",
       "</table>\n",
       "</div>"
      ],
      "text/plain": [
       "               eid  \\\n",
       "12615369  27362097   \n",
       "13858467  28802284   \n",
       "17504810  33006078   \n",
       "18162362  33791138   \n",
       "20979105  37029043   \n",
       "\n",
       "                                                                                                                                                           authids  \n",
       "12615369  [7004937075, 7004937075, 57193089483, 57193089483, 57193089483, 34868966600, 7102395742, 57202555597, 7102585610, 56974691900, 57208455828, 57208455828]  \n",
       "13858467     [7103362401, 57225397374, 57202615405, 7004665680, 7101950462, 7404060133, 10739972800, 7102627126, 6507180436, 57204337226, 35832825900, 7401650526]  \n",
       "17504810                                                                   [7005616584, 7102763785, 7005035331, 57110165500, 7003874846, 35380028700, 20236659700]  \n",
       "18162362                                                                                           [7005035331, 18936140900, 56560727000, 10042846400, 7005616584]  \n",
       "20979105                                                     [57193089483, 26643599300, 26643599300, 7006846858, 7005657669, 24565152100, 13606042300, 7102270013]  "
      ]
     },
     "execution_count": 29,
     "metadata": {},
     "output_type": "execute_result"
    }
   ],
   "source": [
    "cited_authids.head()"
   ]
  },
  {
   "cell_type": "code",
   "execution_count": 30,
   "id": "90e6630c-cafc-40d7-8d1e-c3f18d403333",
   "metadata": {
    "execution": {
     "iopub.execute_input": "2025-04-08T17:07:50.765324Z",
     "iopub.status.busy": "2025-04-08T17:07:50.764728Z",
     "iopub.status.idle": "2025-04-08T17:07:50.773763Z",
     "shell.execute_reply": "2025-04-08T17:07:50.772893Z",
     "shell.execute_reply.started": "2025-04-08T17:07:50.765291Z"
    }
   },
   "outputs": [
    {
     "name": "stderr",
     "output_type": "stream",
     "text": [
      "/tmp/ipykernel_483243/3445953074.py:4: SettingWithCopyWarning: \n",
      "A value is trying to be set on a copy of a slice from a DataFrame.\n",
      "Try using .loc[row_indexer,col_indexer] = value instead\n",
      "\n",
      "See the caveats in the documentation: https://pandas.pydata.org/pandas-docs/stable/user_guide/indexing.html#returning-a-view-versus-a-copy\n",
      "  cited_authids['authids'] = cited_authids['authids'].apply(replace_values)\n"
     ]
    }
   ],
   "source": [
    "def replace_values(authid_list):\n",
    "    return [35780677200 if x == 7006806977 else 57206422848 if x == 54791745100  else 57219144066 if x == 55588756600  else 57219144066 if x == 57191727610  else 57219144066 if x == 14037485900 else x for x in authid_list]\n",
    "\n",
    "cited_authids['authids'] = cited_authids['authids'].apply(replace_values)"
   ]
  },
  {
   "cell_type": "code",
   "execution_count": 32,
   "id": "699aa90a-251e-4afd-90a0-75ad0b8da56a",
   "metadata": {
    "execution": {
     "iopub.execute_input": "2025-04-08T17:08:13.601841Z",
     "iopub.status.busy": "2025-04-08T17:08:13.600903Z",
     "iopub.status.idle": "2025-04-08T17:08:13.614259Z",
     "shell.execute_reply": "2025-04-08T17:08:13.613423Z",
     "shell.execute_reply.started": "2025-04-08T17:08:13.601800Z"
    }
   },
   "outputs": [
    {
     "data": {
      "text/html": [
       "<div>\n",
       "<style scoped>\n",
       "    .dataframe tbody tr th:only-of-type {\n",
       "        vertical-align: middle;\n",
       "    }\n",
       "\n",
       "    .dataframe tbody tr th {\n",
       "        vertical-align: top;\n",
       "    }\n",
       "\n",
       "    .dataframe thead th {\n",
       "        text-align: right;\n",
       "    }\n",
       "</style>\n",
       "<table border=\"1\" class=\"dataframe\">\n",
       "  <thead>\n",
       "    <tr style=\"text-align: right;\">\n",
       "      <th></th>\n",
       "      <th>eid</th>\n",
       "      <th>authids</th>\n",
       "    </tr>\n",
       "  </thead>\n",
       "  <tbody>\n",
       "    <tr>\n",
       "      <th>12615369</th>\n",
       "      <td>27362097</td>\n",
       "      <td>[7004937075, 7004937075, 57193089483, 57193089483, 57193089483, 34868966600, 7102395742, 57202555597, 7102585610, 56974691900, 57208455828, 57208455828]</td>\n",
       "    </tr>\n",
       "    <tr>\n",
       "      <th>13858467</th>\n",
       "      <td>28802284</td>\n",
       "      <td>[7103362401, 57225397374, 57202615405, 7004665680, 7101950462, 7404060133, 10739972800, 7102627126, 6507180436, 57204337226, 35832825900, 7401650526]</td>\n",
       "    </tr>\n",
       "    <tr>\n",
       "      <th>17504810</th>\n",
       "      <td>33006078</td>\n",
       "      <td>[7005616584, 7102763785, 7005035331, 57110165500, 7003874846, 35380028700, 20236659700]</td>\n",
       "    </tr>\n",
       "    <tr>\n",
       "      <th>18162362</th>\n",
       "      <td>33791138</td>\n",
       "      <td>[7005035331, 18936140900, 56560727000, 10042846400, 7005616584]</td>\n",
       "    </tr>\n",
       "    <tr>\n",
       "      <th>20979105</th>\n",
       "      <td>37029043</td>\n",
       "      <td>[57193089483, 26643599300, 26643599300, 7006846858, 7005657669, 24565152100, 13606042300, 7102270013]</td>\n",
       "    </tr>\n",
       "  </tbody>\n",
       "</table>\n",
       "</div>"
      ],
      "text/plain": [
       "               eid  \\\n",
       "12615369  27362097   \n",
       "13858467  28802284   \n",
       "17504810  33006078   \n",
       "18162362  33791138   \n",
       "20979105  37029043   \n",
       "\n",
       "                                                                                                                                                           authids  \n",
       "12615369  [7004937075, 7004937075, 57193089483, 57193089483, 57193089483, 34868966600, 7102395742, 57202555597, 7102585610, 56974691900, 57208455828, 57208455828]  \n",
       "13858467     [7103362401, 57225397374, 57202615405, 7004665680, 7101950462, 7404060133, 10739972800, 7102627126, 6507180436, 57204337226, 35832825900, 7401650526]  \n",
       "17504810                                                                   [7005616584, 7102763785, 7005035331, 57110165500, 7003874846, 35380028700, 20236659700]  \n",
       "18162362                                                                                           [7005035331, 18936140900, 56560727000, 10042846400, 7005616584]  \n",
       "20979105                                                     [57193089483, 26643599300, 26643599300, 7006846858, 7005657669, 24565152100, 13606042300, 7102270013]  "
      ]
     },
     "execution_count": 32,
     "metadata": {},
     "output_type": "execute_result"
    }
   ],
   "source": [
    "cited_authids.head()"
   ]
  },
  {
   "cell_type": "code",
   "execution_count": 33,
   "id": "8d9d32b9-6edd-464e-8558-8a7bb4650da1",
   "metadata": {
    "execution": {
     "iopub.execute_input": "2025-04-08T17:08:19.700316Z",
     "iopub.status.busy": "2025-04-08T17:08:19.699496Z",
     "iopub.status.idle": "2025-04-08T17:08:19.706764Z",
     "shell.execute_reply": "2025-04-08T17:08:19.705867Z",
     "shell.execute_reply.started": "2025-04-08T17:08:19.700267Z"
    }
   },
   "outputs": [
    {
     "name": "stderr",
     "output_type": "stream",
     "text": [
      "/tmp/ipykernel_483243/3576215859.py:1: SettingWithCopyWarning: \n",
      "A value is trying to be set on a copy of a slice from a DataFrame.\n",
      "Try using .loc[row_indexer,col_indexer] = value instead\n",
      "\n",
      "See the caveats in the documentation: https://pandas.pydata.org/pandas-docs/stable/user_guide/indexing.html#returning-a-view-versus-a-copy\n",
      "  cited_authids['author_len'] = cited_authids['authids'].apply(lambda x: len(x))\n"
     ]
    }
   ],
   "source": [
    "cited_authids['author_len'] = cited_authids['authids'].apply(lambda x: len(x))"
   ]
  },
  {
   "cell_type": "code",
   "execution_count": 34,
   "id": "c6a985a2-d48a-44ff-9e31-0f30a202232f",
   "metadata": {
    "execution": {
     "iopub.execute_input": "2025-04-08T17:08:22.007525Z",
     "iopub.status.busy": "2025-04-08T17:08:22.006817Z",
     "iopub.status.idle": "2025-04-08T17:08:22.025674Z",
     "shell.execute_reply": "2025-04-08T17:08:22.024815Z",
     "shell.execute_reply.started": "2025-04-08T17:08:22.007485Z"
    }
   },
   "outputs": [],
   "source": [
    "cited_paper_authids = cited_authids.explode('authids')['authids'].unique()"
   ]
  },
  {
   "cell_type": "code",
   "execution_count": 35,
   "id": "7220c08d-dc63-430f-adb9-64d3abea84c2",
   "metadata": {
    "execution": {
     "iopub.execute_input": "2025-04-08T17:08:24.103919Z",
     "iopub.status.busy": "2025-04-08T17:08:24.103116Z",
     "iopub.status.idle": "2025-04-08T17:08:24.109272Z",
     "shell.execute_reply": "2025-04-08T17:08:24.108473Z",
     "shell.execute_reply.started": "2025-04-08T17:08:24.103880Z"
    }
   },
   "outputs": [
    {
     "data": {
      "text/plain": [
       "2554"
      ]
     },
     "execution_count": 35,
     "metadata": {},
     "output_type": "execute_result"
    }
   ],
   "source": [
    "len(cited_paper_authids)"
   ]
  },
  {
   "cell_type": "code",
   "execution_count": 40,
   "id": "7d519698-931a-46b6-8398-8afe05b3deae",
   "metadata": {
    "execution": {
     "iopub.execute_input": "2025-04-08T17:42:01.859214Z",
     "iopub.status.busy": "2025-04-08T17:42:01.858938Z",
     "iopub.status.idle": "2025-04-08T17:44:25.304511Z",
     "shell.execute_reply": "2025-04-08T17:44:25.303720Z",
     "shell.execute_reply.started": "2025-04-08T17:42:01.859193Z"
    }
   },
   "outputs": [
    {
     "name": "stderr",
     "output_type": "stream",
     "text": [
      "100%|████████████████████████████████████████| 183/183 [02:23<00:00,  1.28it/s]\n"
     ]
    }
   ],
   "source": [
    "min_distance_dict = {}\n",
    "\n",
    "for index, row in tqdm(cited_authids.iterrows(), total=len(cited_authids)):\n",
    "    target_authids = row['authids']\n",
    "    distance_ls = []\n",
    "    valid_target_authids = [authid for authid in target_authids if authid in G2.nodes()]\n",
    "\n",
    "    shortest_distance = np.inf\n",
    "    for authid in valid_target_authids:\n",
    "        for guideline_authid in boardmember_authid:\n",
    "            if guideline_authid in G2.nodes():\n",
    "                try:\n",
    "                    shortest_distance = nx.shortest_path_length(G2, source=authid, target=guideline_authid)\n",
    "                    distance_ls.append(shortest_distance)\n",
    "                    if shortest_distance == 0:\n",
    "                        break\n",
    "                except nx.NetworkXNoPath:\n",
    "                    pass\n",
    "        if shortest_distance == 0:\n",
    "            break\n",
    "\n",
    "    if distance_ls:\n",
    "        min_distance = min(distance_ls)\n",
    "    else:\n",
    "        min_distance = None\n",
    "    min_distance_dict[row['eid']] = min_distance\n"
   ]
  },
  {
   "cell_type": "code",
   "execution_count": 41,
   "id": "25a57d11-f900-4399-9ad9-e01a9e089bb7",
   "metadata": {
    "execution": {
     "iopub.execute_input": "2025-04-08T17:46:34.935934Z",
     "iopub.status.busy": "2025-04-08T17:46:34.935514Z",
     "iopub.status.idle": "2025-04-08T17:46:34.941542Z",
     "shell.execute_reply": "2025-04-08T17:46:34.940826Z",
     "shell.execute_reply.started": "2025-04-08T17:46:34.935906Z"
    }
   },
   "outputs": [
    {
     "data": {
      "text/plain": [
       "array([0, 1, 1, 1, 0, 1, 2, 0, None, 0, 1, 2, 1, 2, 1, 2, 0, 0, 0, 2, 0,\n",
       "       0, 0, 0, 1, 0, 0, 0, 0, 0, 2, 2, 1, 1, 1, 1, 0, 0, 1, 0, 1, 1, 1,\n",
       "       1, 2, 0, 0, 1, None, 0, 0, 0, 2, 0, 2, 0, 1, 0, 1, 0, 1, 1, 2, 0,\n",
       "       0, 0, 0, 0, 0, 2, 1, 0, 1, 1, 0, 0, 2, 0, 1, 0, 0, 0, 0, 0, 1, 1,\n",
       "       0, 1, 0, 0, 1, 0, 1, 1, 1, 1, 0, 1, 0, 0, 0, None, 1, 0, 1, 1, 0,\n",
       "       1, 0, 0, 0, 1, 0, 0, 0, 0, 1, 1, 1, 0, 1, 0, 0, 0, 1, 1, 0, 0, 1,\n",
       "       1, 0, 0, 0, 1, 0, 1, 1, 1, 0, 1, 1, 0, 1, 2, 0, 0, 0, 0, 0, 1, 0,\n",
       "       0, 1, 1, 0, 0, 0, 0, 1, 0, 0, 0, 1, 1, 0, 1, 0, 0, 0, 1, 0, 0, 0,\n",
       "       1, 0, 0, 0, 0, 1, 0, 0, 0, 0], dtype=object)"
      ]
     },
     "execution_count": 41,
     "metadata": {},
     "output_type": "execute_result"
    }
   ],
   "source": [
    "distance_array = np.array(list(min_distance_dict.values()))\n",
    "distance_array"
   ]
  },
  {
   "cell_type": "code",
   "execution_count": 42,
   "id": "d922857e-ab73-4336-b295-0da9e7c37498",
   "metadata": {
    "execution": {
     "iopub.execute_input": "2025-04-08T17:46:38.062517Z",
     "iopub.status.busy": "2025-04-08T17:46:38.061663Z",
     "iopub.status.idle": "2025-04-08T17:46:38.066699Z",
     "shell.execute_reply": "2025-04-08T17:46:38.065859Z",
     "shell.execute_reply.started": "2025-04-08T17:46:38.062479Z"
    }
   },
   "outputs": [],
   "source": [
    "distance_array = distance_array.astype(str)"
   ]
  },
  {
   "cell_type": "code",
   "execution_count": 43,
   "id": "10469ff3-734e-45a3-9558-f98268d1e907",
   "metadata": {
    "execution": {
     "iopub.execute_input": "2025-04-08T17:46:38.551214Z",
     "iopub.status.busy": "2025-04-08T17:46:38.550452Z",
     "iopub.status.idle": "2025-04-08T17:46:38.557890Z",
     "shell.execute_reply": "2025-04-08T17:46:38.557069Z",
     "shell.execute_reply.started": "2025-04-08T17:46:38.551176Z"
    }
   },
   "outputs": [
    {
     "data": {
      "text/plain": [
       "(array(['0', '1', '2', 'None'], dtype='<U4'), array([101,  65,  14,   3]))"
      ]
     },
     "execution_count": 43,
     "metadata": {},
     "output_type": "execute_result"
    }
   ],
   "source": [
    "# The output values are used for the table1\n",
    "np.unique(distance_array, return_counts=True)"
   ]
  }
 ],
 "metadata": {
  "kernelspec": {
   "display_name": "Python 3 (ipykernel)",
   "language": "python",
   "name": "python3"
  },
  "language_info": {
   "codemirror_mode": {
    "name": "ipython",
    "version": 3
   },
   "file_extension": ".py",
   "mimetype": "text/x-python",
   "name": "python",
   "nbconvert_exporter": "python",
   "pygments_lexer": "ipython3",
   "version": "3.12.8"
  }
 },
 "nbformat": 4,
 "nbformat_minor": 5
}
