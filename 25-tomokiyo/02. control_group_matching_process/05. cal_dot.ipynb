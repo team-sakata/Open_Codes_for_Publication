{
 "cells": [
  {
   "cell_type": "markdown",
   "id": "b598d317-f39b-4496-85fc-bacbb3001452",
   "metadata": {},
   "source": [
    "## dataframe→ndarray"
   ]
  },
  {
   "cell_type": "code",
   "execution_count": 2,
   "id": "05bdc9d4-a54c-47f8-b09e-c75a2f3bb5a1",
   "metadata": {
    "execution": {
     "iopub.execute_input": "2025-02-03T09:48:00.379343Z",
     "iopub.status.busy": "2025-02-03T09:48:00.378910Z",
     "iopub.status.idle": "2025-02-03T09:48:00.381784Z",
     "shell.execute_reply": "2025-02-03T09:48:00.381516Z",
     "shell.execute_reply.started": "2025-02-03T09:48:00.379315Z"
    }
   },
   "outputs": [],
   "source": [
    "import pickle\n",
    "import pandas as pd\n",
    "import numpy as np\n",
    "from scipy.sparse import csr_matrix"
   ]
  },
  {
   "cell_type": "code",
   "execution_count": null,
   "id": "baabc039-98d6-4ee2-9163-049c9032d40e",
   "metadata": {
    "execution": {
     "execution_failed": "2025-02-03T09:48:19.453Z",
     "iopub.execute_input": "2025-02-03T09:48:00.667748Z",
     "iopub.status.busy": "2025-02-03T09:48:00.667418Z"
    }
   },
   "outputs": [],
   "source": [
    "dense_matrix = np.load('/disks/qnap3/users/21-tomokiyo/masters_thesis/data/guideline_paper/all_guideline_matching/embedding_matrix_2011_15.npy')"
   ]
  },
  {
   "cell_type": "code",
   "execution_count": null,
   "id": "9062be38-325d-49b4-9f20-e018706dbd09",
   "metadata": {
    "execution": {
     "execution_failed": "2025-02-03T09:48:19.455Z"
    }
   },
   "outputs": [],
   "source": [
    "dense_matrix.shape"
   ]
  },
  {
   "cell_type": "code",
   "execution_count": null,
   "id": "8b0d9f6f-c983-41c9-ac2d-3a4100460e6e",
   "metadata": {},
   "outputs": [],
   "source": []
  },
  {
   "cell_type": "code",
   "execution_count": 5,
   "id": "b85e6ae6-71b4-4d3f-b3e9-ffcaf687aadf",
   "metadata": {
    "execution": {
     "iopub.execute_input": "2025-02-02T16:16:52.986504Z",
     "iopub.status.busy": "2025-02-02T16:16:52.986266Z",
     "iopub.status.idle": "2025-02-02T16:16:54.180850Z",
     "shell.execute_reply": "2025-02-02T16:16:54.180370Z",
     "shell.execute_reply.started": "2025-02-02T16:16:52.986486Z"
    }
   },
   "outputs": [],
   "source": [
    "# 保存されたファイルのパス\n",
    "file_path = \"/disks/qnap3/users/21-tomokiyo/masters_thesis/data/guideline_paper/all_guideline_matching/sparse_one_hot_matrix.npz\"\n",
    "\n",
    "# スパース行列を読み込む\n",
    "loaded_data = np.load(file_path)\n",
    "sparse_matrix = csr_matrix((loaded_data[\"data\"], loaded_data[\"indices\"], loaded_data[\"indptr\"]),\n",
    "                           shape=loaded_data[\"shape\"])"
   ]
  },
  {
   "cell_type": "code",
   "execution_count": 6,
   "id": "b77957b5-1686-47d0-8754-7f7b40204568",
   "metadata": {
    "execution": {
     "iopub.execute_input": "2025-02-02T16:16:55.281677Z",
     "iopub.status.busy": "2025-02-02T16:16:55.281466Z",
     "iopub.status.idle": "2025-02-02T16:16:55.286982Z",
     "shell.execute_reply": "2025-02-02T16:16:55.286518Z",
     "shell.execute_reply.started": "2025-02-02T16:16:55.281665Z"
    }
   },
   "outputs": [
    {
     "data": {
      "text/plain": [
       "(11289655, 12237176)"
      ]
     },
     "execution_count": 6,
     "metadata": {},
     "output_type": "execute_result"
    }
   ],
   "source": [
    "sparse_matrix.shape"
   ]
  },
  {
   "cell_type": "code",
   "execution_count": 7,
   "id": "7ee6af83-7257-4ff2-afb6-a42918fe5b0b",
   "metadata": {
    "execution": {
     "iopub.execute_input": "2025-02-02T16:17:20.487593Z",
     "iopub.status.busy": "2025-02-02T16:17:20.487201Z",
     "iopub.status.idle": "2025-02-02T16:20:03.277929Z",
     "shell.execute_reply": "2025-02-02T16:20:03.277527Z",
     "shell.execute_reply.started": "2025-02-02T16:17:20.487569Z"
    }
   },
   "outputs": [
    {
     "name": "stdout",
     "output_type": "stream",
     "text": [
      "Average Researcher Vectors Shape: (11289655, 1536)\n"
     ]
    }
   ],
   "source": [
    "# **1. 行列積の計算**\n",
    "# result_matrix = sparse_matrix @ dense_matrix1  # (11289650, 1536)\n",
    "result_matrix = sparse_matrix.dot(dense_matrix)  # (11289650, 1536)\n",
    "\n",
    "\n",
    "# **2. 研究者ごとの論文数を計算**\n",
    "researcher_paper_counts = sparse_matrix.sum(axis=1)  # (11289650, 1)\n",
    "\n",
    "# **3. 平均ベクトルを計算**\n",
    "researcher_paper_counts = np.array(researcher_paper_counts).flatten()  # 1D配列\n",
    "researcher_paper_counts[researcher_paper_counts == 0] = 1  # 0を1にしてゼロ除算防止\n",
    "average_researcher_vectors = result_matrix / researcher_paper_counts[:, None]  # (11289650, 1536)\n",
    "\n",
    "# **4. 結果の確認**\n",
    "print(f\"Average Researcher Vectors Shape: {average_researcher_vectors.shape}\")  # (11289650, 1536)"
   ]
  },
  {
   "cell_type": "code",
   "execution_count": 17,
   "id": "1a14edb1-b7b6-469c-8ded-7458d8aceb32",
   "metadata": {
    "execution": {
     "iopub.execute_input": "2025-02-01T17:44:48.902864Z",
     "iopub.status.busy": "2025-02-01T17:44:48.902699Z",
     "iopub.status.idle": "2025-02-01T17:44:48.906590Z",
     "shell.execute_reply": "2025-02-01T17:44:48.906151Z",
     "shell.execute_reply.started": "2025-02-01T17:44:48.902853Z"
    }
   },
   "outputs": [
    {
     "data": {
      "text/plain": [
       "(11289650, 1536)"
      ]
     },
     "execution_count": 17,
     "metadata": {},
     "output_type": "execute_result"
    }
   ],
   "source": [
    "average_researcher_vectors.shape"
   ]
  },
  {
   "cell_type": "code",
   "execution_count": null,
   "id": "f2486f1d-e8c8-4982-a739-f4d2c5012c18",
   "metadata": {},
   "outputs": [],
   "source": []
  },
  {
   "cell_type": "code",
   "execution_count": 8,
   "id": "8b9454fd-c863-4ff9-8b9b-4e928bcef78a",
   "metadata": {
    "execution": {
     "iopub.execute_input": "2025-02-02T16:20:15.392472Z",
     "iopub.status.busy": "2025-02-02T16:20:15.392090Z",
     "iopub.status.idle": "2025-02-02T16:24:54.960627Z",
     "shell.execute_reply": "2025-02-02T16:24:54.959724Z",
     "shell.execute_reply.started": "2025-02-02T16:20:15.392445Z"
    }
   },
   "outputs": [],
   "source": [
    "# np.save('/disks/qnap3/users/21-tomokiyo/masters_thesis/data/guideline_paper/all_guideline_matching/researcher_average_embedding_matrix_2011_15.npy', average_researcher_vectors)\n"
   ]
  },
  {
   "cell_type": "code",
   "execution_count": null,
   "id": "f6c24f7f-3fdb-456a-8922-a956e98987e3",
   "metadata": {},
   "outputs": [],
   "source": []
  }
 ],
 "metadata": {
  "kernelspec": {
   "display_name": "Python 3 (ipykernel)",
   "language": "python",
   "name": "python3"
  },
  "language_info": {
   "codemirror_mode": {
    "name": "ipython",
    "version": 3
   },
   "file_extension": ".py",
   "mimetype": "text/x-python",
   "name": "python",
   "nbconvert_exporter": "python",
   "pygments_lexer": "ipython3",
   "version": "3.12.8"
  }
 },
 "nbformat": 4,
 "nbformat_minor": 5
}
