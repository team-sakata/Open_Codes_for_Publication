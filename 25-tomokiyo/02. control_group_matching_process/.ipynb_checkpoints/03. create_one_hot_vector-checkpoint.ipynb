{
 "cells": [
  {
   "cell_type": "markdown",
   "id": "4bdd5e01-bf25-4eaf-91d8-e6f17cc933a1",
   "metadata": {},
   "source": [
    "## Create a one-hot vector for each paper indicating whether or not each author wrote it"
   ]
  },
  {
   "cell_type": "code",
   "execution_count": 12,
   "id": "b03f22db-1589-452a-be74-d87da9f1e1d4",
   "metadata": {
    "execution": {
     "iopub.execute_input": "2025-02-02T16:04:19.984952Z",
     "iopub.status.busy": "2025-02-02T16:04:19.984784Z",
     "iopub.status.idle": "2025-02-02T16:04:19.987195Z",
     "shell.execute_reply": "2025-02-02T16:04:19.986931Z",
     "shell.execute_reply.started": "2025-02-02T16:04:19.984937Z"
    }
   },
   "outputs": [],
   "source": [
    "import pickle\n",
    "import pandas as pd\n",
    "import numpy as np"
   ]
  },
  {
   "cell_type": "code",
   "execution_count": 13,
   "id": "e4f8308a-25d7-47d6-9d4f-17d5844c1729",
   "metadata": {
    "execution": {
     "iopub.execute_input": "2025-02-02T16:04:21.306038Z",
     "iopub.status.busy": "2025-02-02T16:04:21.305721Z",
     "iopub.status.idle": "2025-02-02T16:04:21.368903Z",
     "shell.execute_reply": "2025-02-02T16:04:21.368156Z",
     "shell.execute_reply.started": "2025-02-02T16:04:21.306013Z"
    }
   },
   "outputs": [],
   "source": [
    "authid_12 = np.load('/disks/qnap3/users/21-tomokiyo/masters_thesis/data/guideline_paper/member_data/2021/A1.2_who_guideline_development_group.npy')\n",
    "authid_13 = np.load('/disks/qnap3/users/21-tomokiyo/masters_thesis/data/guideline_paper/member_data/A1.3_who_systematic_review_team_revise.npy')\n",
    "authid_14 = np.load('/disks/qnap3/users/21-tomokiyo/masters_thesis/data/guideline_paper/member_data/2021/A1.4_who_external_methodologists.npy')\n",
    "authid_15 = np.load('/disks/qnap3/users/21-tomokiyo/masters_thesis/data/guideline_paper/member_data/A1.5_who_external_review_team_revise.npy')\n",
    "\n",
    "boradmember_authid = list(authid_12)+list(authid_13)+list(authid_14)+list(authid_15)"
   ]
  },
  {
   "cell_type": "code",
   "execution_count": 14,
   "id": "5a15501a-2372-4687-8f9c-4fbd5e6524dc",
   "metadata": {
    "execution": {
     "iopub.execute_input": "2025-02-02T16:04:22.131137Z",
     "iopub.status.busy": "2025-02-02T16:04:22.130825Z",
     "iopub.status.idle": "2025-02-02T16:04:22.151169Z",
     "shell.execute_reply": "2025-02-02T16:04:22.150493Z",
     "shell.execute_reply.started": "2025-02-02T16:04:22.131111Z"
    }
   },
   "outputs": [
    {
     "data": {
      "text/plain": [
       "array([84875442265, 84861568429, 85026817599])"
      ]
     },
     "execution_count": 14,
     "metadata": {},
     "output_type": "execute_result"
    }
   ],
   "source": [
    "additional_embedding_df = pd.read_pickle('/disks/qnap3/users/21-tomokiyo/masters_thesis/data/guideline_paper/all_guideline_matching/additional_embedding_2011-2015.pickle')\n",
    "additonal_embedding_eid = additional_embedding_df['eid'].values\n",
    "additonal_embedding_eid = additonal_embedding_eid.astype(int)\n",
    "additonal_embedding_eid"
   ]
  },
  {
   "cell_type": "code",
   "execution_count": 5,
   "id": "5677bc2f-a25c-49ac-9c69-e0b5d9903818",
   "metadata": {
    "execution": {
     "iopub.execute_input": "2025-02-02T15:43:51.247135Z",
     "iopub.status.busy": "2025-02-02T15:43:51.246814Z",
     "iopub.status.idle": "2025-02-02T15:43:51.251628Z",
     "shell.execute_reply": "2025-02-02T15:43:51.251001Z",
     "shell.execute_reply.started": "2025-02-02T15:43:51.247108Z"
    }
   },
   "outputs": [],
   "source": [
    "authid_list = [35780677200 if x == 7006806977 else 57206422848 if x == 54791745100  else 57219144066 if x == 55588756600  else 57219144066 if x == 57191727610  else 57219144066 if x == 14037485900 else x for x in boradmember_authid]"
   ]
  },
  {
   "cell_type": "code",
   "execution_count": 6,
   "id": "92dc0b9f-d1e6-485e-b884-17e3954ff076",
   "metadata": {
    "execution": {
     "iopub.execute_input": "2025-02-02T15:43:51.921167Z",
     "iopub.status.busy": "2025-02-02T15:43:51.920850Z",
     "iopub.status.idle": "2025-02-02T15:43:52.570251Z",
     "shell.execute_reply": "2025-02-02T15:43:52.569548Z",
     "shell.execute_reply.started": "2025-02-02T15:43:51.921142Z"
    }
   },
   "outputs": [],
   "source": [
    "embedding_eid_ls = np.load('/disks/qnap3/users/21-tomokiyo/masters_thesis/data/guideline_paper/all_guideline_matching/embedding_eid_ls.npy')\n",
    "\n",
    "# 追加でembeddingした内容(additional_embedding.ipynb)\n",
    "embedding_eid_ls1 = list(embedding_eid_ls) + list(additonal_embedding_eid)"
   ]
  },
  {
   "cell_type": "code",
   "execution_count": 10,
   "id": "ae426d7b-7511-4e63-9379-f07886e9265d",
   "metadata": {
    "execution": {
     "iopub.execute_input": "2025-02-02T15:44:23.210788Z",
     "iopub.status.busy": "2025-02-02T15:44:23.210627Z",
     "iopub.status.idle": "2025-02-02T15:44:23.214178Z",
     "shell.execute_reply": "2025-02-02T15:44:23.213865Z",
     "shell.execute_reply.started": "2025-02-02T15:44:23.210777Z"
    }
   },
   "outputs": [
    {
     "data": {
      "text/plain": [
       "(12237176,\n",
       " [84941996027,\n",
       "  84926136316,\n",
       "  84941799422,\n",
       "  84941996031,\n",
       "  84875442265,\n",
       "  84861568429,\n",
       "  85026817599],\n",
       " [3914978, 5238092])"
      ]
     },
     "execution_count": 10,
     "metadata": {},
     "output_type": "execute_result"
    }
   ],
   "source": [
    "len(embedding_eid_ls1), embedding_eid_ls1[12237169:], embedding_eid_ls1[:2]"
   ]
  },
  {
   "cell_type": "code",
   "execution_count": 9,
   "id": "c85595f5-7ed9-40a1-98be-46a9b95c2e74",
   "metadata": {
    "execution": {
     "iopub.execute_input": "2025-02-01T18:22:58.236786Z",
     "iopub.status.busy": "2025-02-01T18:22:58.236592Z",
     "iopub.status.idle": "2025-02-01T18:23:29.263063Z",
     "shell.execute_reply": "2025-02-01T18:23:29.262687Z",
     "shell.execute_reply.started": "2025-02-01T18:22:58.236772Z"
    }
   },
   "outputs": [],
   "source": [
    "author_paperlist_df = pd.read_pickle('/disks/qnap3/shared/scopus-24/data/author/author_paperlist.pickle')\n",
    "author_paperlist_df = pd.DataFrame(author_paperlist_df)"
   ]
  },
  {
   "cell_type": "code",
   "execution_count": 125,
   "id": "346b10e9-f683-4064-b487-4e4d51cee84d",
   "metadata": {
    "execution": {
     "iopub.execute_input": "2025-02-02T15:09:37.625282Z",
     "iopub.status.busy": "2025-02-02T15:09:37.624666Z",
     "iopub.status.idle": "2025-02-02T15:09:37.630865Z",
     "shell.execute_reply": "2025-02-02T15:09:37.630431Z",
     "shell.execute_reply.started": "2025-02-02T15:09:37.625268Z"
    }
   },
   "outputs": [
    {
     "data": {
      "text/html": [
       "<div>\n",
       "<style scoped>\n",
       "    .dataframe tbody tr th:only-of-type {\n",
       "        vertical-align: middle;\n",
       "    }\n",
       "\n",
       "    .dataframe tbody tr th {\n",
       "        vertical-align: top;\n",
       "    }\n",
       "\n",
       "    .dataframe thead th {\n",
       "        text-align: right;\n",
       "    }\n",
       "</style>\n",
       "<table border=\"1\" class=\"dataframe\">\n",
       "  <thead>\n",
       "    <tr style=\"text-align: right;\">\n",
       "      <th></th>\n",
       "      <th>author_paperlist</th>\n",
       "    </tr>\n",
       "    <tr>\n",
       "      <th>authids</th>\n",
       "      <th></th>\n",
       "    </tr>\n",
       "  </thead>\n",
       "  <tbody>\n",
       "    <tr>\n",
       "      <th>1</th>\n",
       "      <td>[14881442, 14881430, 14881456, 14881394, 14881...</td>\n",
       "    </tr>\n",
       "    <tr>\n",
       "      <th>2</th>\n",
       "      <td>[58149416836, 33744754941, 58149416551, 157474...</td>\n",
       "    </tr>\n",
       "    <tr>\n",
       "      <th>4</th>\n",
       "      <td>[17858319, 19206542, 19982084, 24229822, 84886...</td>\n",
       "    </tr>\n",
       "    <tr>\n",
       "      <th>6</th>\n",
       "      <td>[17644442848, 16023755, 84916826692, 851127286...</td>\n",
       "    </tr>\n",
       "    <tr>\n",
       "      <th>8</th>\n",
       "      <td>[77956986345, 15661038, 17414010, 19533239, 21...</td>\n",
       "    </tr>\n",
       "  </tbody>\n",
       "</table>\n",
       "</div>"
      ],
      "text/plain": [
       "                                          author_paperlist\n",
       "authids                                                   \n",
       "1        [14881442, 14881430, 14881456, 14881394, 14881...\n",
       "2        [58149416836, 33744754941, 58149416551, 157474...\n",
       "4        [17858319, 19206542, 19982084, 24229822, 84886...\n",
       "6        [17644442848, 16023755, 84916826692, 851127286...\n",
       "8        [77956986345, 15661038, 17414010, 19533239, 21..."
      ]
     },
     "execution_count": 125,
     "metadata": {},
     "output_type": "execute_result"
    }
   ],
   "source": [
    "author_paperlist_df.head()"
   ]
  },
  {
   "cell_type": "code",
   "execution_count": 12,
   "id": "c16d1542-ae00-4725-9174-ec6e4fed9912",
   "metadata": {
    "execution": {
     "iopub.execute_input": "2025-02-01T18:24:29.593813Z",
     "iopub.status.busy": "2025-02-01T18:24:29.593523Z",
     "iopub.status.idle": "2025-02-01T18:24:48.728652Z",
     "shell.execute_reply": "2025-02-01T18:24:48.728237Z",
     "shell.execute_reply.started": "2025-02-01T18:24:29.593795Z"
    }
   },
   "outputs": [],
   "source": [
    "author_paperlist_df_explode = author_paperlist_df.explode('author_paperlist')"
   ]
  },
  {
   "cell_type": "code",
   "execution_count": 17,
   "id": "32092de2-f712-493b-8b6f-dd06963bf012",
   "metadata": {
    "execution": {
     "iopub.execute_input": "2025-02-01T18:27:05.919450Z",
     "iopub.status.busy": "2025-02-01T18:27:05.919350Z",
     "iopub.status.idle": "2025-02-01T18:27:05.921806Z",
     "shell.execute_reply": "2025-02-01T18:27:05.921528Z",
     "shell.execute_reply.started": "2025-02-01T18:27:05.919440Z"
    }
   },
   "outputs": [
    {
     "name": "stderr",
     "output_type": "stream",
     "text": [
      "/tmp/ipykernel_3235756/3570138603.py:1: SettingWithCopyWarning: \n",
      "A value is trying to be set on a copy of a slice from a DataFrame\n",
      "\n",
      "See the caveats in the documentation: https://pandas.pydata.org/pandas-docs/stable/user_guide/indexing.html#returning-a-view-versus-a-copy\n",
      "  author_paperlist_df_explode1.rename(columns={'author_paperlist':'eid'},inplace=True)\n"
     ]
    }
   ],
   "source": [
    "author_paperlist_df_explode.rename(columns={'author_paperlist':'eid'},inplace=True)"
   ]
  },
  {
   "cell_type": "code",
   "execution_count": 65,
   "id": "00cfebb6-2d4a-4c6a-8edb-a8342d334566",
   "metadata": {
    "execution": {
     "iopub.execute_input": "2025-02-01T20:44:55.794154Z",
     "iopub.status.busy": "2025-02-01T20:44:55.793829Z",
     "iopub.status.idle": "2025-02-01T20:44:56.098159Z",
     "shell.execute_reply": "2025-02-01T20:44:56.097479Z",
     "shell.execute_reply.started": "2025-02-01T20:44:55.794128Z"
    }
   },
   "outputs": [],
   "source": [
    "author_paperlist_df_explode.reset_index(inplace=True)"
   ]
  },
  {
   "cell_type": "code",
   "execution_count": 126,
   "id": "9e918926-6ff2-4f12-9b0a-c182914e0f93",
   "metadata": {
    "execution": {
     "iopub.execute_input": "2025-02-02T15:09:42.264958Z",
     "iopub.status.busy": "2025-02-02T15:09:42.264627Z",
     "iopub.status.idle": "2025-02-02T15:09:42.270026Z",
     "shell.execute_reply": "2025-02-02T15:09:42.269244Z",
     "shell.execute_reply.started": "2025-02-02T15:09:42.264931Z"
    }
   },
   "outputs": [
    {
     "data": {
      "text/plain": [
       "(334541366, 2)"
      ]
     },
     "execution_count": 126,
     "metadata": {},
     "output_type": "execute_result"
    }
   ],
   "source": [
    "author_paperlist_df_explode.shape"
   ]
  },
  {
   "cell_type": "code",
   "execution_count": 130,
   "id": "8f89cc43-3ceb-4271-adab-98d9c8cee851",
   "metadata": {
    "execution": {
     "iopub.execute_input": "2025-02-02T15:13:49.905778Z",
     "iopub.status.busy": "2025-02-02T15:13:49.905514Z",
     "iopub.status.idle": "2025-02-02T15:13:49.910908Z",
     "shell.execute_reply": "2025-02-02T15:13:49.910461Z",
     "shell.execute_reply.started": "2025-02-02T15:13:49.905766Z"
    }
   },
   "outputs": [
    {
     "data": {
      "text/html": [
       "<div>\n",
       "<style scoped>\n",
       "    .dataframe tbody tr th:only-of-type {\n",
       "        vertical-align: middle;\n",
       "    }\n",
       "\n",
       "    .dataframe tbody tr th {\n",
       "        vertical-align: top;\n",
       "    }\n",
       "\n",
       "    .dataframe thead th {\n",
       "        text-align: right;\n",
       "    }\n",
       "</style>\n",
       "<table border=\"1\" class=\"dataframe\">\n",
       "  <thead>\n",
       "    <tr style=\"text-align: right;\">\n",
       "      <th></th>\n",
       "      <th>authids</th>\n",
       "      <th>eid</th>\n",
       "    </tr>\n",
       "  </thead>\n",
       "  <tbody>\n",
       "    <tr>\n",
       "      <th>0</th>\n",
       "      <td>1</td>\n",
       "      <td>14881442</td>\n",
       "    </tr>\n",
       "    <tr>\n",
       "      <th>1</th>\n",
       "      <td>1</td>\n",
       "      <td>14881430</td>\n",
       "    </tr>\n",
       "    <tr>\n",
       "      <th>2</th>\n",
       "      <td>1</td>\n",
       "      <td>14881456</td>\n",
       "    </tr>\n",
       "    <tr>\n",
       "      <th>3</th>\n",
       "      <td>1</td>\n",
       "      <td>14881394</td>\n",
       "    </tr>\n",
       "    <tr>\n",
       "      <th>4</th>\n",
       "      <td>1</td>\n",
       "      <td>14881271</td>\n",
       "    </tr>\n",
       "  </tbody>\n",
       "</table>\n",
       "</div>"
      ],
      "text/plain": [
       "   authids       eid\n",
       "0        1  14881442\n",
       "1        1  14881430\n",
       "2        1  14881456\n",
       "3        1  14881394\n",
       "4        1  14881271"
      ]
     },
     "execution_count": 130,
     "metadata": {},
     "output_type": "execute_result"
    }
   ],
   "source": [
    "author_paperlist_df_explode.head()"
   ]
  },
  {
   "cell_type": "code",
   "execution_count": 157,
   "id": "8046c182-5b96-4ddd-aced-94c3eca3b734",
   "metadata": {
    "execution": {
     "iopub.execute_input": "2025-02-02T15:25:41.376356Z",
     "iopub.status.busy": "2025-02-02T15:25:41.376122Z",
     "iopub.status.idle": "2025-02-02T15:29:05.892280Z",
     "shell.execute_reply": "2025-02-02T15:29:05.891871Z",
     "shell.execute_reply.started": "2025-02-02T15:25:41.376339Z"
    }
   },
   "outputs": [],
   "source": [
    "author_paperlist_df_explode1_1 = author_paperlist_df_explode[author_paperlist_df_explode['eid'].isin(embedding_eid_ls1)]\n",
    "\n"
   ]
  },
  {
   "cell_type": "code",
   "execution_count": 131,
   "id": "2836b893-da8d-4c22-84fc-7155aef60fba",
   "metadata": {
    "execution": {
     "iopub.execute_input": "2025-02-02T15:14:24.906456Z",
     "iopub.status.busy": "2025-02-02T15:14:24.906203Z",
     "iopub.status.idle": "2025-02-02T15:14:24.911214Z",
     "shell.execute_reply": "2025-02-02T15:14:24.910496Z",
     "shell.execute_reply.started": "2025-02-02T15:14:24.906438Z"
    }
   },
   "outputs": [
    {
     "data": {
      "text/plain": [
       "(54275863, 2)"
      ]
     },
     "execution_count": 131,
     "metadata": {},
     "output_type": "execute_result"
    }
   ],
   "source": [
    "author_paperlist_df_explode1_1.shape"
   ]
  },
  {
   "cell_type": "code",
   "execution_count": 159,
   "id": "f1b94908-0e47-4cb3-95d8-8985aefe0278",
   "metadata": {
    "execution": {
     "iopub.execute_input": "2025-02-02T15:29:43.620450Z",
     "iopub.status.busy": "2025-02-02T15:29:43.620274Z",
     "iopub.status.idle": "2025-02-02T15:29:45.963883Z",
     "shell.execute_reply": "2025-02-02T15:29:45.963602Z",
     "shell.execute_reply.started": "2025-02-02T15:29:43.620437Z"
    }
   },
   "outputs": [
    {
     "data": {
      "text/html": [
       "<div>\n",
       "<style scoped>\n",
       "    .dataframe tbody tr th:only-of-type {\n",
       "        vertical-align: middle;\n",
       "    }\n",
       "\n",
       "    .dataframe tbody tr th {\n",
       "        vertical-align: top;\n",
       "    }\n",
       "\n",
       "    .dataframe thead th {\n",
       "        text-align: right;\n",
       "    }\n",
       "</style>\n",
       "<table border=\"1\" class=\"dataframe\">\n",
       "  <thead>\n",
       "    <tr style=\"text-align: right;\">\n",
       "      <th></th>\n",
       "      <th>authids</th>\n",
       "      <th>eid</th>\n",
       "    </tr>\n",
       "  </thead>\n",
       "  <tbody>\n",
       "    <tr>\n",
       "      <th>62725951</th>\n",
       "      <td>7005495724</td>\n",
       "      <td>84861568429</td>\n",
       "    </tr>\n",
       "    <tr>\n",
       "      <th>70386353</th>\n",
       "      <td>7006235064</td>\n",
       "      <td>84861568429</td>\n",
       "    </tr>\n",
       "    <tr>\n",
       "      <th>235355897</th>\n",
       "      <td>56230769900</td>\n",
       "      <td>84861568429</td>\n",
       "    </tr>\n",
       "    <tr>\n",
       "      <th>253213527</th>\n",
       "      <td>57006461700</td>\n",
       "      <td>84861568429</td>\n",
       "    </tr>\n",
       "  </tbody>\n",
       "</table>\n",
       "</div>"
      ],
      "text/plain": [
       "               authids          eid\n",
       "62725951    7005495724  84861568429\n",
       "70386353    7006235064  84861568429\n",
       "235355897  56230769900  84861568429\n",
       "253213527  57006461700  84861568429"
      ]
     },
     "execution_count": 159,
     "metadata": {},
     "output_type": "execute_result"
    }
   ],
   "source": [
    "author_paperlist_df_explode1_1[author_paperlist_df_explode1_1['eid']==84861568429]"
   ]
  },
  {
   "cell_type": "code",
   "execution_count": 132,
   "id": "c6fd6087-3079-489b-a1cf-c6b1d86add7d",
   "metadata": {
    "execution": {
     "iopub.execute_input": "2025-02-02T15:14:30.446533Z",
     "iopub.status.busy": "2025-02-02T15:14:30.446209Z",
     "iopub.status.idle": "2025-02-02T15:14:30.452551Z",
     "shell.execute_reply": "2025-02-02T15:14:30.451768Z",
     "shell.execute_reply.started": "2025-02-02T15:14:30.446507Z"
    }
   },
   "outputs": [
    {
     "data": {
      "text/plain": [
       "108"
      ]
     },
     "execution_count": 132,
     "metadata": {},
     "output_type": "execute_result"
    }
   ],
   "source": [
    "authid_list = [35780677200 if x == 7006806977 else 57206422848 if x == 54791745100  else 57219144066 if x == 55588756600  else 57219144066 if x == 57191727610  else 57219144066 if x == 14037485900 else x for x in boradmember_authid]\n",
    "authid_list = list(set(authid_list))\n",
    "len(authid_list)"
   ]
  },
  {
   "cell_type": "code",
   "execution_count": 160,
   "id": "b1549be7-107f-4ee3-8e58-8bc838766a52",
   "metadata": {
    "execution": {
     "iopub.execute_input": "2025-02-02T15:29:52.441208Z",
     "iopub.status.busy": "2025-02-02T15:29:52.441032Z",
     "iopub.status.idle": "2025-02-02T15:30:10.630785Z",
     "shell.execute_reply": "2025-02-02T15:30:10.630271Z",
     "shell.execute_reply.started": "2025-02-02T15:29:52.441197Z"
    }
   },
   "outputs": [
    {
     "name": "stderr",
     "output_type": "stream",
     "text": [
      "/tmp/ipykernel_3235756/2342031312.py:1: FutureWarning: Downcasting behavior in `replace` is deprecated and will be removed in a future version. To retain the old behavior, explicitly call `result.infer_objects(copy=False)`. To opt-in to the future behavior, set `pd.set_option('future.no_silent_downcasting', True)`\n",
      "  author_paperlist_df_explode1_1.replace({7006806977:35780677200, 54791745100:57206422848, 55588756600:57219144066, 57191727610:57219144066, 14037485900:57219144066},inplace=True)\n",
      "/tmp/ipykernel_3235756/2342031312.py:1: SettingWithCopyWarning: \n",
      "A value is trying to be set on a copy of a slice from a DataFrame\n",
      "\n",
      "See the caveats in the documentation: https://pandas.pydata.org/pandas-docs/stable/user_guide/indexing.html#returning-a-view-versus-a-copy\n",
      "  author_paperlist_df_explode1_1.replace({7006806977:35780677200, 54791745100:57206422848, 55588756600:57219144066, 57191727610:57219144066, 14037485900:57219144066},inplace=True)\n"
     ]
    }
   ],
   "source": [
    "author_paperlist_df_explode1_1.replace({7006806977:35780677200, 54791745100:57206422848, 55588756600:57219144066, 57191727610:57219144066, 14037485900:57219144066},inplace=True)"
   ]
  },
  {
   "cell_type": "code",
   "execution_count": 161,
   "id": "84ad55e6-ecd7-4815-a711-037e43a9acac",
   "metadata": {
    "execution": {
     "iopub.execute_input": "2025-02-02T15:30:10.632026Z",
     "iopub.status.busy": "2025-02-02T15:30:10.631899Z",
     "iopub.status.idle": "2025-02-02T15:30:10.635740Z",
     "shell.execute_reply": "2025-02-02T15:30:10.635487Z",
     "shell.execute_reply.started": "2025-02-02T15:30:10.632014Z"
    }
   },
   "outputs": [
    {
     "data": {
      "text/html": [
       "<div>\n",
       "<style scoped>\n",
       "    .dataframe tbody tr th:only-of-type {\n",
       "        vertical-align: middle;\n",
       "    }\n",
       "\n",
       "    .dataframe tbody tr th {\n",
       "        vertical-align: top;\n",
       "    }\n",
       "\n",
       "    .dataframe thead th {\n",
       "        text-align: right;\n",
       "    }\n",
       "</style>\n",
       "<table border=\"1\" class=\"dataframe\">\n",
       "  <thead>\n",
       "    <tr style=\"text-align: right;\">\n",
       "      <th></th>\n",
       "      <th>authids</th>\n",
       "      <th>eid</th>\n",
       "    </tr>\n",
       "  </thead>\n",
       "  <tbody>\n",
       "    <tr>\n",
       "      <th>70603</th>\n",
       "      <td>1</td>\n",
       "      <td>84856118157</td>\n",
       "    </tr>\n",
       "    <tr>\n",
       "      <th>70608</th>\n",
       "      <td>1</td>\n",
       "      <td>84870417135</td>\n",
       "    </tr>\n",
       "    <tr>\n",
       "      <th>70611</th>\n",
       "      <td>1</td>\n",
       "      <td>84979851779</td>\n",
       "    </tr>\n",
       "    <tr>\n",
       "      <th>70614</th>\n",
       "      <td>1</td>\n",
       "      <td>84920487604</td>\n",
       "    </tr>\n",
       "    <tr>\n",
       "      <th>70617</th>\n",
       "      <td>1</td>\n",
       "      <td>85086202528</td>\n",
       "    </tr>\n",
       "  </tbody>\n",
       "</table>\n",
       "</div>"
      ],
      "text/plain": [
       "       authids          eid\n",
       "70603        1  84856118157\n",
       "70608        1  84870417135\n",
       "70611        1  84979851779\n",
       "70614        1  84920487604\n",
       "70617        1  85086202528"
      ]
     },
     "execution_count": 161,
     "metadata": {},
     "output_type": "execute_result"
    }
   ],
   "source": [
    "author_paperlist_df_explode1_1.head()"
   ]
  },
  {
   "cell_type": "code",
   "execution_count": 162,
   "id": "6374cc65-cb8c-4306-bb41-3d9d16b69f49",
   "metadata": {
    "execution": {
     "iopub.execute_input": "2025-02-02T15:30:10.636258Z",
     "iopub.status.busy": "2025-02-02T15:30:10.636154Z",
     "iopub.status.idle": "2025-02-02T15:30:10.659019Z",
     "shell.execute_reply": "2025-02-02T15:30:10.658772Z",
     "shell.execute_reply.started": "2025-02-02T15:30:10.636247Z"
    },
    "scrolled": true
   },
   "outputs": [
    {
     "data": {
      "text/html": [
       "<div>\n",
       "<style scoped>\n",
       "    .dataframe tbody tr th:only-of-type {\n",
       "        vertical-align: middle;\n",
       "    }\n",
       "\n",
       "    .dataframe tbody tr th {\n",
       "        vertical-align: top;\n",
       "    }\n",
       "\n",
       "    .dataframe thead th {\n",
       "        text-align: right;\n",
       "    }\n",
       "</style>\n",
       "<table border=\"1\" class=\"dataframe\">\n",
       "  <thead>\n",
       "    <tr style=\"text-align: right;\">\n",
       "      <th></th>\n",
       "      <th>authids</th>\n",
       "      <th>eid</th>\n",
       "    </tr>\n",
       "  </thead>\n",
       "  <tbody>\n",
       "    <tr>\n",
       "      <th>213880549</th>\n",
       "      <td>57219144066</td>\n",
       "      <td>79958131488</td>\n",
       "    </tr>\n",
       "    <tr>\n",
       "      <th>213880550</th>\n",
       "      <td>57219144066</td>\n",
       "      <td>79959553278</td>\n",
       "    </tr>\n",
       "    <tr>\n",
       "      <th>213880552</th>\n",
       "      <td>57219144066</td>\n",
       "      <td>79960237807</td>\n",
       "    </tr>\n",
       "    <tr>\n",
       "      <th>213880553</th>\n",
       "      <td>57219144066</td>\n",
       "      <td>79951598007</td>\n",
       "    </tr>\n",
       "    <tr>\n",
       "      <th>213880554</th>\n",
       "      <td>57219144066</td>\n",
       "      <td>79953054553</td>\n",
       "    </tr>\n",
       "    <tr>\n",
       "      <th>213880555</th>\n",
       "      <td>57219144066</td>\n",
       "      <td>82955170699</td>\n",
       "    </tr>\n",
       "    <tr>\n",
       "      <th>213880556</th>\n",
       "      <td>57219144066</td>\n",
       "      <td>82755162803</td>\n",
       "    </tr>\n",
       "    <tr>\n",
       "      <th>213880557</th>\n",
       "      <td>57219144066</td>\n",
       "      <td>84855845383</td>\n",
       "    </tr>\n",
       "    <tr>\n",
       "      <th>213880558</th>\n",
       "      <td>57219144066</td>\n",
       "      <td>80051663466</td>\n",
       "    </tr>\n",
       "    <tr>\n",
       "      <th>213880560</th>\n",
       "      <td>57219144066</td>\n",
       "      <td>84865531110</td>\n",
       "    </tr>\n",
       "    <tr>\n",
       "      <th>213880561</th>\n",
       "      <td>57219144066</td>\n",
       "      <td>84865515567</td>\n",
       "    </tr>\n",
       "    <tr>\n",
       "      <th>213880562</th>\n",
       "      <td>57219144066</td>\n",
       "      <td>84866898636</td>\n",
       "    </tr>\n",
       "    <tr>\n",
       "      <th>213880563</th>\n",
       "      <td>57219144066</td>\n",
       "      <td>84863776825</td>\n",
       "    </tr>\n",
       "    <tr>\n",
       "      <th>213880566</th>\n",
       "      <td>57219144066</td>\n",
       "      <td>84867381408</td>\n",
       "    </tr>\n",
       "    <tr>\n",
       "      <th>213880567</th>\n",
       "      <td>57219144066</td>\n",
       "      <td>84868622125</td>\n",
       "    </tr>\n",
       "    <tr>\n",
       "      <th>213880568</th>\n",
       "      <td>57219144066</td>\n",
       "      <td>84859104326</td>\n",
       "    </tr>\n",
       "    <tr>\n",
       "      <th>213880569</th>\n",
       "      <td>57219144066</td>\n",
       "      <td>84859791782</td>\n",
       "    </tr>\n",
       "    <tr>\n",
       "      <th>213880570</th>\n",
       "      <td>57219144066</td>\n",
       "      <td>84859498609</td>\n",
       "    </tr>\n",
       "    <tr>\n",
       "      <th>213880571</th>\n",
       "      <td>57219144066</td>\n",
       "      <td>84857025514</td>\n",
       "    </tr>\n",
       "    <tr>\n",
       "      <th>213880572</th>\n",
       "      <td>57219144066</td>\n",
       "      <td>84857371079</td>\n",
       "    </tr>\n",
       "    <tr>\n",
       "      <th>213880573</th>\n",
       "      <td>57219144066</td>\n",
       "      <td>84856617041</td>\n",
       "    </tr>\n",
       "    <tr>\n",
       "      <th>213880574</th>\n",
       "      <td>57219144066</td>\n",
       "      <td>84879886852</td>\n",
       "    </tr>\n",
       "    <tr>\n",
       "      <th>213880576</th>\n",
       "      <td>57219144066</td>\n",
       "      <td>84882631139</td>\n",
       "    </tr>\n",
       "    <tr>\n",
       "      <th>213880577</th>\n",
       "      <td>57219144066</td>\n",
       "      <td>84875980573</td>\n",
       "    </tr>\n",
       "    <tr>\n",
       "      <th>213880580</th>\n",
       "      <td>57219144066</td>\n",
       "      <td>84878619669</td>\n",
       "    </tr>\n",
       "    <tr>\n",
       "      <th>213880583</th>\n",
       "      <td>57219144066</td>\n",
       "      <td>84883282798</td>\n",
       "    </tr>\n",
       "    <tr>\n",
       "      <th>213880584</th>\n",
       "      <td>57219144066</td>\n",
       "      <td>85024109523</td>\n",
       "    </tr>\n",
       "    <tr>\n",
       "      <th>213880585</th>\n",
       "      <td>57219144066</td>\n",
       "      <td>84927699517</td>\n",
       "    </tr>\n",
       "    <tr>\n",
       "      <th>213880586</th>\n",
       "      <td>57219144066</td>\n",
       "      <td>84988579254</td>\n",
       "    </tr>\n",
       "    <tr>\n",
       "      <th>213880587</th>\n",
       "      <td>57219144066</td>\n",
       "      <td>84988737037</td>\n",
       "    </tr>\n",
       "    <tr>\n",
       "      <th>213880588</th>\n",
       "      <td>57219144066</td>\n",
       "      <td>84904763316</td>\n",
       "    </tr>\n",
       "    <tr>\n",
       "      <th>213880590</th>\n",
       "      <td>57219144066</td>\n",
       "      <td>84896528894</td>\n",
       "    </tr>\n",
       "    <tr>\n",
       "      <th>213880591</th>\n",
       "      <td>57219144066</td>\n",
       "      <td>84914097569</td>\n",
       "    </tr>\n",
       "    <tr>\n",
       "      <th>213880592</th>\n",
       "      <td>57219144066</td>\n",
       "      <td>84907167958</td>\n",
       "    </tr>\n",
       "    <tr>\n",
       "      <th>213880594</th>\n",
       "      <td>57219144066</td>\n",
       "      <td>84897120085</td>\n",
       "    </tr>\n",
       "    <tr>\n",
       "      <th>213880596</th>\n",
       "      <td>57219144066</td>\n",
       "      <td>84899687560</td>\n",
       "    </tr>\n",
       "    <tr>\n",
       "      <th>213880597</th>\n",
       "      <td>57219144066</td>\n",
       "      <td>84899722526</td>\n",
       "    </tr>\n",
       "    <tr>\n",
       "      <th>213880599</th>\n",
       "      <td>57219144066</td>\n",
       "      <td>84894153708</td>\n",
       "    </tr>\n",
       "    <tr>\n",
       "      <th>213880600</th>\n",
       "      <td>57219144066</td>\n",
       "      <td>84890695578</td>\n",
       "    </tr>\n",
       "    <tr>\n",
       "      <th>213880601</th>\n",
       "      <td>57219144066</td>\n",
       "      <td>84891287311</td>\n",
       "    </tr>\n",
       "    <tr>\n",
       "      <th>213880602</th>\n",
       "      <td>57219144066</td>\n",
       "      <td>84939183652</td>\n",
       "    </tr>\n",
       "    <tr>\n",
       "      <th>213880603</th>\n",
       "      <td>57219144066</td>\n",
       "      <td>84918500622</td>\n",
       "    </tr>\n",
       "    <tr>\n",
       "      <th>213880604</th>\n",
       "      <td>57219144066</td>\n",
       "      <td>84928111144</td>\n",
       "    </tr>\n",
       "    <tr>\n",
       "      <th>213880605</th>\n",
       "      <td>57219144066</td>\n",
       "      <td>84926420218</td>\n",
       "    </tr>\n",
       "    <tr>\n",
       "      <th>213880606</th>\n",
       "      <td>57219144066</td>\n",
       "      <td>84939964252</td>\n",
       "    </tr>\n",
       "    <tr>\n",
       "      <th>213880608</th>\n",
       "      <td>57219144066</td>\n",
       "      <td>84936753174</td>\n",
       "    </tr>\n",
       "    <tr>\n",
       "      <th>213880609</th>\n",
       "      <td>57219144066</td>\n",
       "      <td>84920107649</td>\n",
       "    </tr>\n",
       "    <tr>\n",
       "      <th>213880610</th>\n",
       "      <td>57219144066</td>\n",
       "      <td>84920747951</td>\n",
       "    </tr>\n",
       "    <tr>\n",
       "      <th>213880611</th>\n",
       "      <td>57219144066</td>\n",
       "      <td>84920873145</td>\n",
       "    </tr>\n",
       "    <tr>\n",
       "      <th>213880612</th>\n",
       "      <td>57219144066</td>\n",
       "      <td>84937966469</td>\n",
       "    </tr>\n",
       "    <tr>\n",
       "      <th>213880613</th>\n",
       "      <td>57219144066</td>\n",
       "      <td>84911362083</td>\n",
       "    </tr>\n",
       "    <tr>\n",
       "      <th>213880614</th>\n",
       "      <td>57219144066</td>\n",
       "      <td>84924976063</td>\n",
       "    </tr>\n",
       "    <tr>\n",
       "      <th>213880615</th>\n",
       "      <td>57219144066</td>\n",
       "      <td>84924975135</td>\n",
       "    </tr>\n",
       "    <tr>\n",
       "      <th>213880616</th>\n",
       "      <td>57219144066</td>\n",
       "      <td>84942920970</td>\n",
       "    </tr>\n",
       "    <tr>\n",
       "      <th>213880617</th>\n",
       "      <td>57219144066</td>\n",
       "      <td>84942936912</td>\n",
       "    </tr>\n",
       "  </tbody>\n",
       "</table>\n",
       "</div>"
      ],
      "text/plain": [
       "               authids          eid\n",
       "213880549  57219144066  79958131488\n",
       "213880550  57219144066  79959553278\n",
       "213880552  57219144066  79960237807\n",
       "213880553  57219144066  79951598007\n",
       "213880554  57219144066  79953054553\n",
       "213880555  57219144066  82955170699\n",
       "213880556  57219144066  82755162803\n",
       "213880557  57219144066  84855845383\n",
       "213880558  57219144066  80051663466\n",
       "213880560  57219144066  84865531110\n",
       "213880561  57219144066  84865515567\n",
       "213880562  57219144066  84866898636\n",
       "213880563  57219144066  84863776825\n",
       "213880566  57219144066  84867381408\n",
       "213880567  57219144066  84868622125\n",
       "213880568  57219144066  84859104326\n",
       "213880569  57219144066  84859791782\n",
       "213880570  57219144066  84859498609\n",
       "213880571  57219144066  84857025514\n",
       "213880572  57219144066  84857371079\n",
       "213880573  57219144066  84856617041\n",
       "213880574  57219144066  84879886852\n",
       "213880576  57219144066  84882631139\n",
       "213880577  57219144066  84875980573\n",
       "213880580  57219144066  84878619669\n",
       "213880583  57219144066  84883282798\n",
       "213880584  57219144066  85024109523\n",
       "213880585  57219144066  84927699517\n",
       "213880586  57219144066  84988579254\n",
       "213880587  57219144066  84988737037\n",
       "213880588  57219144066  84904763316\n",
       "213880590  57219144066  84896528894\n",
       "213880591  57219144066  84914097569\n",
       "213880592  57219144066  84907167958\n",
       "213880594  57219144066  84897120085\n",
       "213880596  57219144066  84899687560\n",
       "213880597  57219144066  84899722526\n",
       "213880599  57219144066  84894153708\n",
       "213880600  57219144066  84890695578\n",
       "213880601  57219144066  84891287311\n",
       "213880602  57219144066  84939183652\n",
       "213880603  57219144066  84918500622\n",
       "213880604  57219144066  84928111144\n",
       "213880605  57219144066  84926420218\n",
       "213880606  57219144066  84939964252\n",
       "213880608  57219144066  84936753174\n",
       "213880609  57219144066  84920107649\n",
       "213880610  57219144066  84920747951\n",
       "213880611  57219144066  84920873145\n",
       "213880612  57219144066  84937966469\n",
       "213880613  57219144066  84911362083\n",
       "213880614  57219144066  84924976063\n",
       "213880615  57219144066  84924975135\n",
       "213880616  57219144066  84942920970\n",
       "213880617  57219144066  84942936912"
      ]
     },
     "execution_count": 162,
     "metadata": {},
     "output_type": "execute_result"
    }
   ],
   "source": [
    "author_paperlist_df_explode1_1[author_paperlist_df_explode1_1['authids']==57219144066]"
   ]
  },
  {
   "cell_type": "code",
   "execution_count": null,
   "id": "79c0cb4b-5381-4e96-8828-1f3d07e5d52b",
   "metadata": {},
   "outputs": [],
   "source": []
  },
  {
   "cell_type": "code",
   "execution_count": 163,
   "id": "1f302a5d-06d9-4647-8ff5-c0cb3025a00a",
   "metadata": {
    "execution": {
     "iopub.execute_input": "2025-02-02T15:30:10.659740Z",
     "iopub.status.busy": "2025-02-02T15:30:10.659630Z",
     "iopub.status.idle": "2025-02-02T15:30:10.661318Z",
     "shell.execute_reply": "2025-02-02T15:30:10.661073Z",
     "shell.execute_reply.started": "2025-02-02T15:30:10.659729Z"
    }
   },
   "outputs": [],
   "source": [
    "# author_paperlist_df_explode1.head(50).to_csv('create_one_hot_for_gpt.csv')"
   ]
  },
  {
   "cell_type": "code",
   "execution_count": 164,
   "id": "22447da3-5056-41f7-b2bf-9ca845f0b4f7",
   "metadata": {
    "execution": {
     "iopub.execute_input": "2025-02-02T15:30:10.661753Z",
     "iopub.status.busy": "2025-02-02T15:30:10.661655Z",
     "iopub.status.idle": "2025-02-02T15:30:12.356380Z",
     "shell.execute_reply": "2025-02-02T15:30:12.356026Z",
     "shell.execute_reply.started": "2025-02-02T15:30:10.661743Z"
    }
   },
   "outputs": [],
   "source": [
    "author_ls = author_paperlist_df_explode1_1.authids.unique()"
   ]
  },
  {
   "cell_type": "code",
   "execution_count": 165,
   "id": "eab4f5aa-92c7-48bc-bf71-b197046ad17b",
   "metadata": {
    "execution": {
     "iopub.execute_input": "2025-02-02T15:30:12.356992Z",
     "iopub.status.busy": "2025-02-02T15:30:12.356870Z",
     "iopub.status.idle": "2025-02-02T15:30:12.359349Z",
     "shell.execute_reply": "2025-02-02T15:30:12.359096Z",
     "shell.execute_reply.started": "2025-02-02T15:30:12.356980Z"
    }
   },
   "outputs": [
    {
     "data": {
      "text/plain": [
       "11289655"
      ]
     },
     "execution_count": 165,
     "metadata": {},
     "output_type": "execute_result"
    }
   ],
   "source": [
    "len(author_ls)"
   ]
  },
  {
   "cell_type": "code",
   "execution_count": 31,
   "id": "5906718d-5859-4918-a872-dfb4317e66af",
   "metadata": {
    "execution": {
     "iopub.execute_input": "2025-02-01T18:31:39.308516Z",
     "iopub.status.busy": "2025-02-01T18:31:39.308202Z",
     "iopub.status.idle": "2025-02-01T18:31:39.475295Z",
     "shell.execute_reply": "2025-02-01T18:31:39.474475Z",
     "shell.execute_reply.started": "2025-02-01T18:31:39.308490Z"
    }
   },
   "outputs": [
    {
     "name": "stdout",
     "output_type": "stream",
     "text": [
      "Sparse Matrix Shape: (10, 50)\n",
      "Non-zero Elements: 50\n",
      "Saved File Path: /disks/qnap3/users/21-tomokiyo/masters_thesis/source/guide_line_paper/PSM/all_guideline_ver/memory_test/sparse_one_hot_matrix.npz\n"
     ]
    }
   ],
   "source": [
    "# import pandas as pd\n",
    "# import numpy as np\n",
    "# from scipy.sparse import csr_matrix\n",
    "\n",
    "# # CSVを読み込む\n",
    "# df = author_paperlist_df_explode1.head(50)\n",
    "\n",
    "# # ユニークなauthidsとeidを取得\n",
    "# unique_authids = df[\"authids\"].unique()\n",
    "# unique_eids = df[\"eid\"].unique()\n",
    "\n",
    "# # authidsとeidをインデックスにマッピング\n",
    "# authid_to_idx = {authid: idx for idx, authid in enumerate(unique_authids)}\n",
    "# eid_to_idx = {eid: idx for idx, eid in enumerate(unique_eids)}\n",
    "\n",
    "# # スパース行列用の行・列インデックスを作成\n",
    "# row_indices = df[\"authids\"].map(authid_to_idx).values\n",
    "# col_indices = df[\"eid\"].map(eid_to_idx).values\n",
    "\n",
    "# # スパース行列を作成（エントリはすべて1）\n",
    "# sparse_matrix = csr_matrix((np.ones(len(df), dtype=np.int8), (row_indices, col_indices)), \n",
    "#                            shape=(len(unique_authids), len(unique_eids)))\n",
    "\n",
    "# # スパース行列を圧縮保存\n",
    "# output_file = \"/disks/qnap3/users/21-tomokiyo/masters_thesis/source/guide_line_paper/PSM/all_guideline_ver/memory_test/sparse_one_hot_matrix.npz\"\n",
    "# np.savez_compressed(output_file, data=sparse_matrix.data, indices=sparse_matrix.indices, indptr=sparse_matrix.indptr, shape=sparse_matrix.shape)\n",
    "\n",
    "# print(f\"Sparse Matrix Shape: {sparse_matrix.shape}\")\n",
    "# print(f\"Non-zero Elements: {sparse_matrix.nnz}\")\n",
    "# print(f\"Saved File Path: {output_file}\")\n"
   ]
  },
  {
   "cell_type": "code",
   "execution_count": 24,
   "id": "ad76ef4c-8dc1-4925-b872-eb487661d6a6",
   "metadata": {
    "execution": {
     "iopub.execute_input": "2025-02-01T15:14:26.516813Z",
     "iopub.status.busy": "2025-02-01T15:14:26.516642Z",
     "iopub.status.idle": "2025-02-01T15:14:26.520256Z",
     "shell.execute_reply": "2025-02-01T15:14:26.519689Z",
     "shell.execute_reply.started": "2025-02-01T15:14:26.516800Z"
    }
   },
   "outputs": [
    {
     "data": {
      "text/plain": [
       "<10x50 sparse matrix of type '<class 'numpy.int8'>'\n",
       "\twith 50 stored elements in Compressed Sparse Row format>"
      ]
     },
     "execution_count": 24,
     "metadata": {},
     "output_type": "execute_result"
    }
   ],
   "source": [
    "# sparse_matrix"
   ]
  },
  {
   "cell_type": "code",
   "execution_count": 26,
   "id": "2d5bac06-f17e-4449-87d1-65941e8ce8b9",
   "metadata": {
    "execution": {
     "iopub.execute_input": "2025-02-01T15:16:13.606647Z",
     "iopub.status.busy": "2025-02-01T15:16:13.606319Z",
     "iopub.status.idle": "2025-02-01T15:16:13.616994Z",
     "shell.execute_reply": "2025-02-01T15:16:13.616370Z",
     "shell.execute_reply.started": "2025-02-01T15:16:13.606619Z"
    }
   },
   "outputs": [
    {
     "name": "stdout",
     "output_type": "stream",
     "text": [
      "[[1 1 1 1 1 1 1 1 1 1 1 0 0 0 0 0 0 0 0 0 0 0 0 0 0 0 0 0 0 0 0 0 0 0 0 0\n",
      "  0 0 0 0 0 0 0 0 0 0 0 0 0 0]]\n"
     ]
    }
   ],
   "source": [
    "# researcher_index = 0  # 例: 最初の研究者\n",
    "# one_hot_vector = sparse_matrix[researcher_index].toarray()\n",
    "\n",
    "# print(one_hot_vector)\n"
   ]
  },
  {
   "cell_type": "code",
   "execution_count": 27,
   "id": "6164bdd0-0048-496e-9f8b-602a880a6e50",
   "metadata": {
    "execution": {
     "iopub.execute_input": "2025-02-01T15:16:29.377239Z",
     "iopub.status.busy": "2025-02-01T15:16:29.376913Z",
     "iopub.status.idle": "2025-02-01T15:16:29.383503Z",
     "shell.execute_reply": "2025-02-01T15:16:29.382790Z",
     "shell.execute_reply.started": "2025-02-01T15:16:29.377211Z"
    }
   },
   "outputs": [
    {
     "data": {
      "text/plain": [
       "array([[1, 1, 1, 1, 1, 1, 1, 1, 1, 1, 1, 0, 0, 0, 0, 0, 0, 0, 0, 0, 0, 0,\n",
       "        0, 0, 0, 0, 0, 0, 0, 0, 0, 0, 0, 0, 0, 0, 0, 0, 0, 0, 0, 0, 0, 0,\n",
       "        0, 0, 0, 0, 0, 0],\n",
       "       [0, 0, 0, 0, 0, 0, 0, 0, 0, 0, 0, 1, 0, 0, 0, 0, 0, 0, 0, 0, 0, 0,\n",
       "        0, 0, 0, 0, 0, 0, 0, 0, 0, 0, 0, 0, 0, 0, 0, 0, 0, 0, 0, 0, 0, 0,\n",
       "        0, 0, 0, 0, 0, 0],\n",
       "       [0, 0, 0, 0, 0, 0, 0, 0, 0, 0, 0, 0, 1, 1, 0, 0, 0, 0, 0, 0, 0, 0,\n",
       "        0, 0, 0, 0, 0, 0, 0, 0, 0, 0, 0, 0, 0, 0, 0, 0, 0, 0, 0, 0, 0, 0,\n",
       "        0, 0, 0, 0, 0, 0],\n",
       "       [0, 0, 0, 0, 0, 0, 0, 0, 0, 0, 0, 0, 0, 0, 1, 1, 1, 1, 1, 1, 1, 1,\n",
       "        1, 0, 0, 0, 0, 0, 0, 0, 0, 0, 0, 0, 0, 0, 0, 0, 0, 0, 0, 0, 0, 0,\n",
       "        0, 0, 0, 0, 0, 0],\n",
       "       [0, 0, 0, 0, 0, 0, 0, 0, 0, 0, 0, 0, 0, 0, 0, 0, 0, 0, 0, 0, 0, 0,\n",
       "        0, 1, 1, 1, 1, 1, 1, 1, 1, 1, 1, 1, 1, 1, 1, 1, 1, 1, 1, 0, 0, 0,\n",
       "        0, 0, 0, 0, 0, 0],\n",
       "       [0, 0, 0, 0, 0, 0, 0, 0, 0, 0, 0, 0, 0, 0, 0, 0, 0, 0, 0, 0, 0, 0,\n",
       "        0, 0, 0, 0, 0, 0, 0, 0, 0, 0, 0, 0, 0, 0, 0, 0, 0, 0, 0, 1, 1, 0,\n",
       "        0, 0, 0, 0, 0, 0],\n",
       "       [0, 0, 0, 0, 0, 0, 0, 0, 0, 0, 0, 0, 0, 0, 0, 0, 0, 0, 0, 0, 0, 0,\n",
       "        0, 0, 0, 0, 0, 0, 0, 0, 0, 0, 0, 0, 0, 0, 0, 0, 0, 0, 0, 0, 0, 1,\n",
       "        1, 0, 0, 0, 0, 0],\n",
       "       [0, 0, 0, 0, 0, 0, 0, 0, 0, 0, 0, 0, 0, 0, 0, 0, 0, 0, 0, 0, 0, 0,\n",
       "        0, 0, 0, 0, 0, 0, 0, 0, 0, 0, 0, 0, 0, 0, 0, 0, 0, 0, 0, 0, 0, 0,\n",
       "        0, 1, 0, 0, 0, 0],\n",
       "       [0, 0, 0, 0, 0, 0, 0, 0, 0, 0, 0, 0, 0, 0, 0, 0, 0, 0, 0, 0, 0, 0,\n",
       "        0, 0, 0, 0, 0, 0, 0, 0, 0, 0, 0, 0, 0, 0, 0, 0, 0, 0, 0, 0, 0, 0,\n",
       "        0, 0, 1, 1, 0, 0],\n",
       "       [0, 0, 0, 0, 0, 0, 0, 0, 0, 0, 0, 0, 0, 0, 0, 0, 0, 0, 0, 0, 0, 0,\n",
       "        0, 0, 0, 0, 0, 0, 0, 0, 0, 0, 0, 0, 0, 0, 0, 0, 0, 0, 0, 0, 0, 0,\n",
       "        0, 0, 0, 0, 1, 1]], dtype=int8)"
      ]
     },
     "execution_count": 27,
     "metadata": {},
     "output_type": "execute_result"
    }
   ],
   "source": [
    "# sparse_matrix.toarray()"
   ]
  },
  {
   "cell_type": "code",
   "execution_count": 28,
   "id": "08526d02-9624-40c5-8547-ec7d5938f676",
   "metadata": {
    "execution": {
     "iopub.execute_input": "2025-02-01T15:16:59.036819Z",
     "iopub.status.busy": "2025-02-01T15:16:59.036490Z",
     "iopub.status.idle": "2025-02-01T15:16:59.042175Z",
     "shell.execute_reply": "2025-02-01T15:16:59.041434Z",
     "shell.execute_reply.started": "2025-02-01T15:16:59.036792Z"
    }
   },
   "outputs": [
    {
     "data": {
      "text/plain": [
       "{1: 0,\n",
       " 2: 1,\n",
       " 4: 2,\n",
       " 6: 3,\n",
       " 8: 4,\n",
       " 6407167: 5,\n",
       " 6416874: 6,\n",
       " 6835257: 7,\n",
       " 7196578: 8,\n",
       " 9523235: 9}"
      ]
     },
     "execution_count": 28,
     "metadata": {},
     "output_type": "execute_result"
    }
   ],
   "source": [
    "# authid_to_idx"
   ]
  },
  {
   "cell_type": "code",
   "execution_count": 29,
   "id": "5e692f1e-7b07-409e-a15e-95952b8e4352",
   "metadata": {
    "execution": {
     "iopub.execute_input": "2025-02-01T15:17:03.166863Z",
     "iopub.status.busy": "2025-02-01T15:17:03.166537Z",
     "iopub.status.idle": "2025-02-01T15:17:03.172755Z",
     "shell.execute_reply": "2025-02-01T15:17:03.172128Z",
     "shell.execute_reply.started": "2025-02-01T15:17:03.166835Z"
    },
    "scrolled": true
   },
   "outputs": [
    {
     "data": {
      "text/plain": [
       "{84856118157: 0,\n",
       " 84870417135: 1,\n",
       " 84979851779: 2,\n",
       " 84920487604: 3,\n",
       " 85086202528: 4,\n",
       " 85169763832: 5,\n",
       " 85139647550: 6,\n",
       " 85082276330: 7,\n",
       " 85140552247: 8,\n",
       " 85140540117: 9,\n",
       " 85140530399: 10,\n",
       " 84958242142: 11,\n",
       " 84928069844: 12,\n",
       " 84941362598: 13,\n",
       " 85112728693: 14,\n",
       " 85124123772: 15,\n",
       " 85124121792: 16,\n",
       " 85124165500: 17,\n",
       " 85124165451: 18,\n",
       " 85124145077: 19,\n",
       " 84970953632: 20,\n",
       " 85069042203: 21,\n",
       " 84979933092: 22,\n",
       " 84866850986: 23,\n",
       " 84859757842: 24,\n",
       " 84860217138: 25,\n",
       " 84880329781: 26,\n",
       " 84874931728: 27,\n",
       " 84875650684: 28,\n",
       " 84931267400: 29,\n",
       " 85052720473: 30,\n",
       " 85031029345: 31,\n",
       " 84906791021: 32,\n",
       " 84907573938: 33,\n",
       " 84892680565: 34,\n",
       " 84928744129: 35,\n",
       " 84929167540: 36,\n",
       " 84929167115: 37,\n",
       " 84943788410: 38,\n",
       " 84960255486: 39,\n",
       " 84940962562: 40,\n",
       " 84907466097: 41,\n",
       " 84949093893: 42,\n",
       " 84901992672: 43,\n",
       " 84937562681: 44,\n",
       " 84925512324: 45,\n",
       " 84937511485: 46,\n",
       " 84943193226: 47,\n",
       " 84878272100: 48,\n",
       " 84878315027: 49}"
      ]
     },
     "execution_count": 29,
     "metadata": {},
     "output_type": "execute_result"
    }
   ],
   "source": [
    "# eid_to_idx"
   ]
  },
  {
   "cell_type": "markdown",
   "id": "f4cf8c04-8e3a-4663-8394-80f6ea4f9d50",
   "metadata": {},
   "source": [
    "### 全部のデータに対して実行"
   ]
  },
  {
   "cell_type": "code",
   "execution_count": 166,
   "id": "cf308b87-3bae-4e71-83ce-511585040f52",
   "metadata": {
    "execution": {
     "iopub.execute_input": "2025-02-02T15:30:28.346701Z",
     "iopub.status.busy": "2025-02-02T15:30:28.346523Z",
     "iopub.status.idle": "2025-02-02T15:31:24.659076Z",
     "shell.execute_reply": "2025-02-02T15:31:24.658711Z",
     "shell.execute_reply.started": "2025-02-02T15:30:28.346688Z"
    }
   },
   "outputs": [
    {
     "name": "stdout",
     "output_type": "stream",
     "text": [
      "Sparse Matrix Shape: (11289655, 12237176)\n",
      "Non-zero Elements: 54275883\n",
      "Saved File Path: /disks/qnap3/users/21-tomokiyo/masters_thesis/data/guideline_paper/all_guideline_matching/sparse_one_hot_matrix.npz\n"
     ]
    }
   ],
   "source": [
    "import pandas as pd\n",
    "import numpy as np\n",
    "from scipy.sparse import csr_matrix\n",
    "\n",
    "# CSVを読み込む\n",
    "df = author_paperlist_df_explode1_1\n",
    "\n",
    "# ユニークなauthidsとeidを取得\n",
    "unique_authids = df[\"authids\"].unique()\n",
    "unique_eids = embedding_eid_ls1\n",
    "\n",
    "# authidsとeidをインデックスにマッピング\n",
    "authid_to_idx = {authid: idx for idx, authid in enumerate(unique_authids)}\n",
    "eid_to_idx = {eid: idx for idx, eid in enumerate(unique_eids)}\n",
    "\n",
    "# スパース行列用の行・列インデックスを作成\n",
    "row_indices = df[\"authids\"].map(authid_to_idx).values\n",
    "col_indices = df[\"eid\"].map(eid_to_idx).values\n",
    "\n",
    "# スパース行列を作成（エントリはすべて1）\n",
    "sparse_matrix = csr_matrix((np.ones(len(df), dtype=np.int8), (row_indices, col_indices)), \n",
    "                           shape=(len(unique_authids), len(unique_eids)))\n",
    "\n",
    "# スパース行列を圧縮保存\n",
    "output_file = \"/disks/qnap3/users/21-tomokiyo/masters_thesis/data/guideline_paper/all_guideline_matching/sparse_one_hot_matrix.npz\"\n",
    "np.savez_compressed(output_file, data=sparse_matrix.data, indices=sparse_matrix.indices, indptr=sparse_matrix.indptr, shape=sparse_matrix.shape)\n",
    "\n",
    "print(f\"Sparse Matrix Shape: {sparse_matrix.shape}\")\n",
    "print(f\"Non-zero Elements: {sparse_matrix.nnz}\")\n",
    "print(f\"Saved File Path: {output_file}\")\n"
   ]
  },
  {
   "cell_type": "code",
   "execution_count": 167,
   "id": "84a64451-8e41-404f-9650-ba01d70f3a49",
   "metadata": {
    "execution": {
     "iopub.execute_input": "2025-02-02T15:31:28.451195Z",
     "iopub.status.busy": "2025-02-02T15:31:28.451020Z",
     "iopub.status.idle": "2025-02-02T15:31:28.453987Z",
     "shell.execute_reply": "2025-02-02T15:31:28.453493Z",
     "shell.execute_reply.started": "2025-02-02T15:31:28.451184Z"
    }
   },
   "outputs": [
    {
     "data": {
      "text/plain": [
       "(11289655, 12237176)"
      ]
     },
     "execution_count": 167,
     "metadata": {},
     "output_type": "execute_result"
    }
   ],
   "source": [
    "len(authid_to_idx), len(eid_to_idx)"
   ]
  },
  {
   "cell_type": "code",
   "execution_count": null,
   "id": "5e0d4607-a8ea-4a9f-94a8-35064d657d07",
   "metadata": {},
   "outputs": [],
   "source": []
  },
  {
   "cell_type": "code",
   "execution_count": 168,
   "id": "18eaad05-e905-4d11-8c51-53661c259241",
   "metadata": {
    "execution": {
     "iopub.execute_input": "2025-02-02T15:31:32.326927Z",
     "iopub.status.busy": "2025-02-02T15:31:32.326594Z",
     "iopub.status.idle": "2025-02-02T15:32:09.492464Z",
     "shell.execute_reply": "2025-02-02T15:32:09.491715Z",
     "shell.execute_reply.started": "2025-02-02T15:31:32.326901Z"
    }
   },
   "outputs": [],
   "source": [
    "import pickle\n",
    "\n",
    "# 保存先のファイルパス（拡張子は.pklなど任意に設定してください）\n",
    "file_path = f'/disks/qnap3/users/21-tomokiyo/masters_thesis/data/guideline_paper/all_guideline_matching/sparse_one_hot_authids_idx.pkl'\n",
    "\n",
    "# バイナリ書き込みモードでファイルを開いて保存\n",
    "with open(file_path, 'wb') as f:\n",
    "    pickle.dump(authid_to_idx, f)\n",
    "\n",
    "\n",
    "# 保存先のファイルパス（拡張子は.pklなど任意に設定してください）\n",
    "file_path = f'/disks/qnap3/users/21-tomokiyo/masters_thesis/data/guideline_paper/all_guideline_matching/sparse_one_hot_eid_idx.pkl'\n",
    "\n",
    "# バイナリ書き込みモードでファイルを開いて保存\n",
    "with open(file_path, 'wb') as f:\n",
    "    pickle.dump(eid_to_idx, f)"
   ]
  },
  {
   "cell_type": "code",
   "execution_count": 169,
   "id": "0f417d0b-cf08-4d88-aea4-9d2599401e2d",
   "metadata": {
    "execution": {
     "iopub.execute_input": "2025-02-02T15:32:14.340851Z",
     "iopub.status.busy": "2025-02-02T15:32:14.340523Z",
     "iopub.status.idle": "2025-02-02T15:32:14.345346Z",
     "shell.execute_reply": "2025-02-02T15:32:14.344794Z",
     "shell.execute_reply.started": "2025-02-02T15:32:14.340825Z"
    }
   },
   "outputs": [
    {
     "data": {
      "text/plain": [
       "12237175"
      ]
     },
     "execution_count": 169,
     "metadata": {},
     "output_type": "execute_result"
    }
   ],
   "source": [
    "eid_to_idx[85026817599]"
   ]
  },
  {
   "cell_type": "code",
   "execution_count": 171,
   "id": "c84d7be0-e4df-4c91-8e4a-24b4f715a32c",
   "metadata": {
    "execution": {
     "iopub.execute_input": "2025-02-02T15:32:23.746443Z",
     "iopub.status.busy": "2025-02-02T15:32:23.746118Z",
     "iopub.status.idle": "2025-02-02T15:32:23.750891Z",
     "shell.execute_reply": "2025-02-02T15:32:23.750315Z",
     "shell.execute_reply.started": "2025-02-02T15:32:23.746417Z"
    }
   },
   "outputs": [
    {
     "data": {
      "text/plain": [
       "84861568429"
      ]
     },
     "execution_count": 171,
     "metadata": {},
     "output_type": "execute_result"
    }
   ],
   "source": [
    "embedding_eid_ls1[12237174]"
   ]
  },
  {
   "cell_type": "code",
   "execution_count": null,
   "id": "0691d5c2-debc-4b66-a6ff-b3a91267f569",
   "metadata": {},
   "outputs": [],
   "source": []
  },
  {
   "cell_type": "code",
   "execution_count": null,
   "id": "562f57f8-6535-432f-8339-50159860ccf0",
   "metadata": {},
   "outputs": [],
   "source": [
    "authid_list = [35780677200 if x == 7006806977 else 57206422848 if x == 54791745100  else 57219144066 if x == 55588756600  else 57219144066 if x == 57191727610  else 57219144066 if x == 14037485900 else x for x in boradmember_authid]\n",
    "authid_list = list(set(authid_list))\n",
    "len(authid_list)"
   ]
  },
  {
   "cell_type": "code",
   "execution_count": 108,
   "id": "04200e22-c648-4291-b635-c4cf6077664d",
   "metadata": {
    "execution": {
     "iopub.execute_input": "2025-02-02T14:23:46.085824Z",
     "iopub.status.busy": "2025-02-02T14:23:46.085480Z",
     "iopub.status.idle": "2025-02-02T14:23:48.001979Z",
     "shell.execute_reply": "2025-02-02T14:23:48.001589Z",
     "shell.execute_reply.started": "2025-02-02T14:23:46.085798Z"
    }
   },
   "outputs": [],
   "source": [
    "authid_to_idx_set = set(authid_to_idx.keys())"
   ]
  },
  {
   "cell_type": "code",
   "execution_count": 111,
   "id": "81b766e7-256f-4578-be28-440d8a5c2c97",
   "metadata": {
    "execution": {
     "iopub.execute_input": "2025-02-02T14:25:09.721173Z",
     "iopub.status.busy": "2025-02-02T14:25:09.720834Z",
     "iopub.status.idle": "2025-02-02T14:25:09.726122Z",
     "shell.execute_reply": "2025-02-02T14:25:09.725342Z",
     "shell.execute_reply.started": "2025-02-02T14:25:09.721146Z"
    }
   },
   "outputs": [
    {
     "data": {
      "text/plain": [
       "False"
      ]
     },
     "execution_count": 111,
     "metadata": {},
     "output_type": "execute_result"
    }
   ],
   "source": [
    "14037485900 in authid_to_idx_set"
   ]
  },
  {
   "cell_type": "code",
   "execution_count": 109,
   "id": "9e14be29-aba5-4211-92f1-a895d801cbef",
   "metadata": {
    "execution": {
     "iopub.execute_input": "2025-02-02T14:24:07.745788Z",
     "iopub.status.busy": "2025-02-02T14:24:07.745616Z",
     "iopub.status.idle": "2025-02-02T14:24:07.748430Z",
     "shell.execute_reply": "2025-02-02T14:24:07.748151Z",
     "shell.execute_reply.started": "2025-02-02T14:24:07.745777Z"
    }
   },
   "outputs": [
    {
     "data": {
      "text/plain": [
       "{6508112567,\n",
       " 55632925000,\n",
       " 57006461700,\n",
       " 57189328263,\n",
       " 57190068857,\n",
       " 57193445340,\n",
       " 57197802175,\n",
       " 57212281248,\n",
       " 57494449200}"
      ]
     },
     "execution_count": 109,
     "metadata": {},
     "output_type": "execute_result"
    }
   ],
   "source": [
    "# 入っていないガイドライン研究者\n",
    "set(authid_list) - authid_to_idx_set"
   ]
  },
  {
   "cell_type": "code",
   "execution_count": null,
   "id": "db9d58f4-906f-4473-bef6-305f42d5f541",
   "metadata": {},
   "outputs": [],
   "source": []
  },
  {
   "cell_type": "code",
   "execution_count": 113,
   "id": "91362f36-0437-4078-9183-f8d8d754d296",
   "metadata": {
    "execution": {
     "iopub.execute_input": "2025-02-02T14:26:59.330720Z",
     "iopub.status.busy": "2025-02-02T14:26:59.330548Z",
     "iopub.status.idle": "2025-02-02T14:26:59.333117Z",
     "shell.execute_reply": "2025-02-02T14:26:59.332398Z",
     "shell.execute_reply.started": "2025-02-02T14:26:59.330708Z"
    }
   },
   "outputs": [],
   "source": [
    "# 入っていないガイドライン研究者\n",
    "rest_authids = set(authid_list) - authid_to_idx_set"
   ]
  },
  {
   "cell_type": "code",
   "execution_count": 15,
   "id": "5c09b6e5-d61f-45d9-9e56-22a45464c469",
   "metadata": {
    "execution": {
     "iopub.execute_input": "2025-02-02T16:04:28.460163Z",
     "iopub.status.busy": "2025-02-02T16:04:28.460001Z",
     "iopub.status.idle": "2025-02-02T16:04:34.213324Z",
     "shell.execute_reply": "2025-02-02T16:04:34.212592Z",
     "shell.execute_reply.started": "2025-02-02T16:04:28.460152Z"
    }
   },
   "outputs": [],
   "source": [
    "author_name_df = pd.read_pickle('/disks/qnap3/shared/scopus-24/data/author/author_name.pickle')\n",
    "author_name_df = pd.DataFrame(author_name_df)"
   ]
  },
  {
   "cell_type": "code",
   "execution_count": 17,
   "id": "67a4e0ab-4657-4d4b-a1dc-bdb7a9795d0e",
   "metadata": {
    "execution": {
     "iopub.execute_input": "2025-02-02T16:05:12.106100Z",
     "iopub.status.busy": "2025-02-02T16:05:12.105794Z",
     "iopub.status.idle": "2025-02-02T16:05:12.116587Z",
     "shell.execute_reply": "2025-02-02T16:05:12.115928Z",
     "shell.execute_reply.started": "2025-02-02T16:05:12.106082Z"
    }
   },
   "outputs": [
    {
     "data": {
      "text/html": [
       "<div>\n",
       "<style scoped>\n",
       "    .dataframe tbody tr th:only-of-type {\n",
       "        vertical-align: middle;\n",
       "    }\n",
       "\n",
       "    .dataframe tbody tr th {\n",
       "        vertical-align: top;\n",
       "    }\n",
       "\n",
       "    .dataframe thead th {\n",
       "        text-align: right;\n",
       "    }\n",
       "</style>\n",
       "<table border=\"1\" class=\"dataframe\">\n",
       "  <thead>\n",
       "    <tr style=\"text-align: right;\">\n",
       "      <th></th>\n",
       "      <th>name</th>\n",
       "    </tr>\n",
       "    <tr>\n",
       "      <th>authid</th>\n",
       "      <th></th>\n",
       "    </tr>\n",
       "  </thead>\n",
       "  <tbody>\n",
       "    <tr>\n",
       "      <th>0</th>\n",
       "      <td>NO AUTHORNAME</td>\n",
       "    </tr>\n",
       "    <tr>\n",
       "      <th>1</th>\n",
       "      <td>Brookes_Kenneth Ja</td>\n",
       "    </tr>\n",
       "    <tr>\n",
       "      <th>2</th>\n",
       "      <td>et al</td>\n",
       "    </tr>\n",
       "    <tr>\n",
       "      <th>4</th>\n",
       "      <td>6_Perri</td>\n",
       "    </tr>\n",
       "    <tr>\n",
       "      <th>6</th>\n",
       "      <td>Greyan Греян Татевик Ахуриковна_Tatevic A.</td>\n",
       "    </tr>\n",
       "  </tbody>\n",
       "</table>\n",
       "</div>"
      ],
      "text/plain": [
       "                                              name\n",
       "authid                                            \n",
       "0                                    NO AUTHORNAME\n",
       "1                               Brookes_Kenneth Ja\n",
       "2                                            et al\n",
       "4                                          6_Perri\n",
       "6       Greyan Греян Татевик Ахуриковна_Tatevic A."
      ]
     },
     "execution_count": 17,
     "metadata": {},
     "output_type": "execute_result"
    }
   ],
   "source": [
    "author_name_df.head()"
   ]
  },
  {
   "cell_type": "code",
   "execution_count": 18,
   "id": "efb7f2a4-dd17-46cc-ab90-6b435a4ef3c8",
   "metadata": {
    "execution": {
     "iopub.execute_input": "2025-02-02T16:11:41.630442Z",
     "iopub.status.busy": "2025-02-02T16:11:41.614025Z",
     "iopub.status.idle": "2025-02-02T16:12:00.227096Z",
     "shell.execute_reply": "2025-02-02T16:12:00.225635Z",
     "shell.execute_reply.started": "2025-02-02T16:11:41.630015Z"
    }
   },
   "outputs": [
    {
     "data": {
      "text/html": [
       "<div>\n",
       "<style scoped>\n",
       "    .dataframe tbody tr th:only-of-type {\n",
       "        vertical-align: middle;\n",
       "    }\n",
       "\n",
       "    .dataframe tbody tr th {\n",
       "        vertical-align: top;\n",
       "    }\n",
       "\n",
       "    .dataframe thead th {\n",
       "        text-align: right;\n",
       "    }\n",
       "</style>\n",
       "<table border=\"1\" class=\"dataframe\">\n",
       "  <thead>\n",
       "    <tr style=\"text-align: right;\">\n",
       "      <th></th>\n",
       "      <th>name</th>\n",
       "    </tr>\n",
       "    <tr>\n",
       "      <th>authid</th>\n",
       "      <th></th>\n",
       "    </tr>\n",
       "  </thead>\n",
       "  <tbody>\n",
       "    <tr>\n",
       "      <th>57189328263</th>\n",
       "      <td>Evangelopoulos_Dimitris</td>\n",
       "    </tr>\n",
       "  </tbody>\n",
       "</table>\n",
       "</div>"
      ],
      "text/plain": [
       "                                name\n",
       "authid                              \n",
       "57189328263  Evangelopoulos_Dimitris"
      ]
     },
     "execution_count": 18,
     "metadata": {},
     "output_type": "execute_result"
    }
   ],
   "source": [
    "author_name_df[author_name_df['name'].str.contains('Dimitris') & author_name_df['name'].str.contains('Evangelopoulos')]"
   ]
  },
  {
   "cell_type": "code",
   "execution_count": 16,
   "id": "9bd71ec8-cb8c-4005-afeb-4e30abee9eaf",
   "metadata": {
    "execution": {
     "iopub.execute_input": "2025-02-02T16:04:39.476059Z",
     "iopub.status.busy": "2025-02-02T16:04:39.475702Z",
     "iopub.status.idle": "2025-02-02T16:04:39.485830Z",
     "shell.execute_reply": "2025-02-02T16:04:39.485095Z",
     "shell.execute_reply.started": "2025-02-02T16:04:39.476026Z"
    }
   },
   "outputs": [
    {
     "ename": "NameError",
     "evalue": "name 'rest_authids' is not defined",
     "output_type": "error",
     "traceback": [
      "\u001b[0;31m---------------------------------------------------------------------------\u001b[0m",
      "\u001b[0;31mNameError\u001b[0m                                 Traceback (most recent call last)",
      "Cell \u001b[0;32mIn[16], line 1\u001b[0m\n\u001b[0;32m----> 1\u001b[0m author_name_df1 \u001b[38;5;241m=\u001b[39m author_name_df[author_name_df\u001b[38;5;241m.\u001b[39mindex\u001b[38;5;241m.\u001b[39misin(rest_authids)]\n\u001b[1;32m      2\u001b[0m author_name_df1\n",
      "\u001b[0;31mNameError\u001b[0m: name 'rest_authids' is not defined"
     ]
    }
   ],
   "source": [
    "author_name_df1 = author_name_df[author_name_df.index.isin(rest_authids)]\n",
    "author_name_df1"
   ]
  },
  {
   "cell_type": "code",
   "execution_count": 115,
   "id": "68ea8d03-6060-4ab5-90cf-337d6587ba2a",
   "metadata": {
    "execution": {
     "iopub.execute_input": "2025-02-02T14:27:14.826235Z",
     "iopub.status.busy": "2025-02-02T14:27:14.826061Z",
     "iopub.status.idle": "2025-02-02T14:27:23.611038Z",
     "shell.execute_reply": "2025-02-02T14:27:23.610572Z",
     "shell.execute_reply.started": "2025-02-02T14:27:14.826223Z"
    }
   },
   "outputs": [],
   "source": [
    "year_productivity_df = pd.read_pickle('/disks/qnap3/shared/scopus-24/data/author/year_productivity.pickle')\n",
    "year_productivity_df = pd.DataFrame(year_productivity_df)"
   ]
  },
  {
   "cell_type": "code",
   "execution_count": 11,
   "id": "6069f031-4fd4-4c36-be1b-cde4e602572a",
   "metadata": {
    "execution": {
     "iopub.execute_input": "2025-02-02T16:04:12.745983Z",
     "iopub.status.busy": "2025-02-02T16:04:12.745658Z",
     "iopub.status.idle": "2025-02-02T16:04:12.834393Z",
     "shell.execute_reply": "2025-02-02T16:04:12.833977Z",
     "shell.execute_reply.started": "2025-02-02T16:04:12.745958Z"
    }
   },
   "outputs": [
    {
     "ename": "NameError",
     "evalue": "name 'year_productivity_df' is not defined",
     "output_type": "error",
     "traceback": [
      "\u001b[0;31m---------------------------------------------------------------------------\u001b[0m",
      "\u001b[0;31mNameError\u001b[0m                                 Traceback (most recent call last)",
      "Cell \u001b[0;32mIn[11], line 1\u001b[0m\n\u001b[0;32m----> 1\u001b[0m year_productivity_df1 \u001b[38;5;241m=\u001b[39m year_productivity_df[year_productivity_df\u001b[38;5;241m.\u001b[39mindex\u001b[38;5;241m.\u001b[39misin(rest_authids)]\n\u001b[1;32m      2\u001b[0m year_productivity_df1\n",
      "\u001b[0;31mNameError\u001b[0m: name 'year_productivity_df' is not defined"
     ]
    }
   ],
   "source": [
    "year_productivity_df1 = year_productivity_df[year_productivity_df.index.isin(rest_authids)]\n",
    "year_productivity_df1"
   ]
  },
  {
   "cell_type": "code",
   "execution_count": 117,
   "id": "3494b19c-3711-46d5-9399-80b9f407e416",
   "metadata": {
    "execution": {
     "iopub.execute_input": "2025-02-02T14:28:17.361295Z",
     "iopub.status.busy": "2025-02-02T14:28:17.360787Z",
     "iopub.status.idle": "2025-02-02T14:28:17.365165Z",
     "shell.execute_reply": "2025-02-02T14:28:17.364581Z",
     "shell.execute_reply.started": "2025-02-02T14:28:17.361283Z"
    }
   },
   "outputs": [
    {
     "data": {
      "text/plain": [
       "authids\n",
       "57189328263    0.0\n",
       "57190068857    0.0\n",
       "57193445340    1.0\n",
       "57197802175    0.0\n",
       "57212281248    0.0\n",
       "57494449200    0.0\n",
       "6508112567     2.0\n",
       "55632925000    1.0\n",
       "57006461700    2.0\n",
       "dtype: float64"
      ]
     },
     "execution_count": 117,
     "metadata": {},
     "output_type": "execute_result"
    }
   ],
   "source": [
    "year_productivity_df1.loc[:, 1970:2015].sum(axis=1) "
   ]
  },
  {
   "cell_type": "code",
   "execution_count": 118,
   "id": "c4afdbfe-821e-42ee-b95e-db1547db9e7a",
   "metadata": {
    "execution": {
     "iopub.execute_input": "2025-02-02T14:28:29.186325Z",
     "iopub.status.busy": "2025-02-02T14:28:29.185899Z",
     "iopub.status.idle": "2025-02-02T14:28:29.191788Z",
     "shell.execute_reply": "2025-02-02T14:28:29.191380Z",
     "shell.execute_reply.started": "2025-02-02T14:28:29.186307Z"
    }
   },
   "outputs": [
    {
     "data": {
      "text/plain": [
       "authids\n",
       "57189328263    0.0\n",
       "57190068857    0.0\n",
       "57193445340    0.0\n",
       "57197802175    0.0\n",
       "57212281248    0.0\n",
       "57494449200    0.0\n",
       "6508112567     0.0\n",
       "55632925000    1.0\n",
       "57006461700    2.0\n",
       "dtype: float64"
      ]
     },
     "execution_count": 118,
     "metadata": {},
     "output_type": "execute_result"
    }
   ],
   "source": [
    "year_productivity_df1.loc[:, 2011:2015].sum(axis=1) "
   ]
  },
  {
   "cell_type": "code",
   "execution_count": 119,
   "id": "6de82f03-c4f6-480f-bf1f-d5e41599ed5b",
   "metadata": {
    "execution": {
     "iopub.execute_input": "2025-02-02T14:43:58.826869Z",
     "iopub.status.busy": "2025-02-02T14:43:58.826305Z",
     "iopub.status.idle": "2025-02-02T14:43:58.833254Z",
     "shell.execute_reply": "2025-02-02T14:43:58.832896Z",
     "shell.execute_reply.started": "2025-02-02T14:43:58.826843Z"
    }
   },
   "outputs": [
    {
     "data": {
      "text/plain": [
       "authids\n",
       "57189328263    13.0\n",
       "57190068857     2.0\n",
       "57193445340    12.0\n",
       "57197802175    12.0\n",
       "57212281248    67.0\n",
       "57494449200     5.0\n",
       "6508112567      0.0\n",
       "55632925000     1.0\n",
       "57006461700    39.0\n",
       "dtype: float64"
      ]
     },
     "execution_count": 119,
     "metadata": {},
     "output_type": "execute_result"
    }
   ],
   "source": [
    "year_productivity_df1.loc[:, 2011:2023].sum(axis=1) "
   ]
  },
  {
   "cell_type": "code",
   "execution_count": null,
   "id": "129256e5-b4f4-46cb-8b93-c630438808f7",
   "metadata": {},
   "outputs": [],
   "source": []
  }
 ],
 "metadata": {
  "kernelspec": {
   "display_name": "Python 3 (ipykernel)",
   "language": "python",
   "name": "python3"
  },
  "language_info": {
   "codemirror_mode": {
    "name": "ipython",
    "version": 3
   },
   "file_extension": ".py",
   "mimetype": "text/x-python",
   "name": "python",
   "nbconvert_exporter": "python",
   "pygments_lexer": "ipython3",
   "version": "3.12.8"
  }
 },
 "nbformat": 4,
 "nbformat_minor": 5
}
