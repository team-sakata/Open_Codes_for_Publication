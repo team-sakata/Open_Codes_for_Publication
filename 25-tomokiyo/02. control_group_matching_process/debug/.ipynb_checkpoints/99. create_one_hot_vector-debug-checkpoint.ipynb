{
 "cells": [
  {
   "cell_type": "code",
   "execution_count": 5,
   "id": "b03f22db-1589-452a-be74-d87da9f1e1d4",
   "metadata": {
    "execution": {
     "iopub.execute_input": "2025-02-01T18:22:55.687738Z",
     "iopub.status.busy": "2025-02-01T18:22:55.687547Z",
     "iopub.status.idle": "2025-02-01T18:22:55.690138Z",
     "shell.execute_reply": "2025-02-01T18:22:55.689839Z",
     "shell.execute_reply.started": "2025-02-01T18:22:55.687724Z"
    }
   },
   "outputs": [],
   "source": [
    "import pickle\n",
    "import pandas as pd\n",
    "import numpy as np"
   ]
  },
  {
   "cell_type": "code",
   "execution_count": 6,
   "id": "e4f8308a-25d7-47d6-9d4f-17d5844c1729",
   "metadata": {
    "execution": {
     "iopub.execute_input": "2025-02-01T18:22:56.013013Z",
     "iopub.status.busy": "2025-02-01T18:22:56.012819Z",
     "iopub.status.idle": "2025-02-01T18:22:56.017368Z",
     "shell.execute_reply": "2025-02-01T18:22:56.016997Z",
     "shell.execute_reply.started": "2025-02-01T18:22:56.012999Z"
    }
   },
   "outputs": [],
   "source": [
    "authid_12 = np.load('/disks/qnap3/users/21-tomokiyo/masters_thesis/data/guideline_paper/member_data/2021/A1.2_who_guideline_development_group.npy')\n",
    "authid_13 = np.load('/disks/qnap3/users/21-tomokiyo/masters_thesis/data/guideline_paper/member_data/A1.3_who_systematic_review_team_revise.npy')\n",
    "authid_14 = np.load('/disks/qnap3/users/21-tomokiyo/masters_thesis/data/guideline_paper/member_data/2021/A1.4_who_external_methodologists.npy')\n",
    "authid_15 = np.load('//disks/qnap3/users/21-tomokiyo/masters_thesis/data/guideline_paper/member_data/A1.5_who_external_review_team_revise.npy')\n",
    "\n",
    "boradmember_authid = list(authid_12)+list(authid_13)+list(authid_14)+list(authid_15)"
   ]
  },
  {
   "cell_type": "code",
   "execution_count": null,
   "id": "5a15501a-2372-4687-8f9c-4fbd5e6524dc",
   "metadata": {},
   "outputs": [],
   "source": []
  },
  {
   "cell_type": "code",
   "execution_count": 7,
   "id": "5677bc2f-a25c-49ac-9c69-e0b5d9903818",
   "metadata": {
    "execution": {
     "iopub.execute_input": "2025-02-01T18:22:56.732354Z",
     "iopub.status.busy": "2025-02-01T18:22:56.732160Z",
     "iopub.status.idle": "2025-02-01T18:22:56.734932Z",
     "shell.execute_reply": "2025-02-01T18:22:56.734643Z",
     "shell.execute_reply.started": "2025-02-01T18:22:56.732341Z"
    }
   },
   "outputs": [],
   "source": [
    "authid_list = [35780677200 if x == 7006806977 else 57206422848 if x == 54791745100  else 57219144066 if x == 55588756600  else 57219144066 if x == 57191727610  else 57219144066 if x == 14037485900 else x for x in boradmember_authid]"
   ]
  },
  {
   "cell_type": "code",
   "execution_count": 8,
   "id": "92dc0b9f-d1e6-485e-b884-17e3954ff076",
   "metadata": {
    "execution": {
     "iopub.execute_input": "2025-02-01T18:22:57.317855Z",
     "iopub.status.busy": "2025-02-01T18:22:57.317660Z",
     "iopub.status.idle": "2025-02-01T18:22:57.442836Z",
     "shell.execute_reply": "2025-02-01T18:22:57.442494Z",
     "shell.execute_reply.started": "2025-02-01T18:22:57.317841Z"
    }
   },
   "outputs": [],
   "source": [
    "embedding_eid_ls = np.load('/disks/qnap3/users/21-tomokiyo/masters_thesis/data/guideline_paper/all_guideline_matching/embedding_eid_ls.npy')\n",
    "\n",
    "\n"
   ]
  },
  {
   "cell_type": "code",
   "execution_count": 9,
   "id": "c85595f5-7ed9-40a1-98be-46a9b95c2e74",
   "metadata": {
    "execution": {
     "iopub.execute_input": "2025-02-01T18:22:58.236786Z",
     "iopub.status.busy": "2025-02-01T18:22:58.236592Z",
     "iopub.status.idle": "2025-02-01T18:23:29.263063Z",
     "shell.execute_reply": "2025-02-01T18:23:29.262687Z",
     "shell.execute_reply.started": "2025-02-01T18:22:58.236772Z"
    }
   },
   "outputs": [],
   "source": [
    "author_paperlist_df = pd.read_pickle('/disks/qnap3/shared/scopus-24/data/author/author_paperlist.pickle')\n",
    "author_paperlist_df = pd.DataFrame(author_paperlist_df)"
   ]
  },
  {
   "cell_type": "code",
   "execution_count": 11,
   "id": "346b10e9-f683-4064-b487-4e4d51cee84d",
   "metadata": {
    "execution": {
     "iopub.execute_input": "2025-02-01T18:24:20.196897Z",
     "iopub.status.busy": "2025-02-01T18:24:20.196587Z",
     "iopub.status.idle": "2025-02-01T18:24:20.202848Z",
     "shell.execute_reply": "2025-02-01T18:24:20.202263Z",
     "shell.execute_reply.started": "2025-02-01T18:24:20.196882Z"
    }
   },
   "outputs": [
    {
     "data": {
      "text/html": [
       "<div>\n",
       "<style scoped>\n",
       "    .dataframe tbody tr th:only-of-type {\n",
       "        vertical-align: middle;\n",
       "    }\n",
       "\n",
       "    .dataframe tbody tr th {\n",
       "        vertical-align: top;\n",
       "    }\n",
       "\n",
       "    .dataframe thead th {\n",
       "        text-align: right;\n",
       "    }\n",
       "</style>\n",
       "<table border=\"1\" class=\"dataframe\">\n",
       "  <thead>\n",
       "    <tr style=\"text-align: right;\">\n",
       "      <th></th>\n",
       "      <th>author_paperlist</th>\n",
       "    </tr>\n",
       "    <tr>\n",
       "      <th>authids</th>\n",
       "      <th></th>\n",
       "    </tr>\n",
       "  </thead>\n",
       "  <tbody>\n",
       "    <tr>\n",
       "      <th>1</th>\n",
       "      <td>[14881442, 14881430, 14881456, 14881394, 14881...</td>\n",
       "    </tr>\n",
       "    <tr>\n",
       "      <th>2</th>\n",
       "      <td>[58149416836, 33744754941, 58149416551, 157474...</td>\n",
       "    </tr>\n",
       "    <tr>\n",
       "      <th>4</th>\n",
       "      <td>[17858319, 19206542, 19982084, 24229822, 84886...</td>\n",
       "    </tr>\n",
       "    <tr>\n",
       "      <th>6</th>\n",
       "      <td>[17644442848, 16023755, 84916826692, 851127286...</td>\n",
       "    </tr>\n",
       "    <tr>\n",
       "      <th>8</th>\n",
       "      <td>[77956986345, 15661038, 17414010, 19533239, 21...</td>\n",
       "    </tr>\n",
       "  </tbody>\n",
       "</table>\n",
       "</div>"
      ],
      "text/plain": [
       "                                          author_paperlist\n",
       "authids                                                   \n",
       "1        [14881442, 14881430, 14881456, 14881394, 14881...\n",
       "2        [58149416836, 33744754941, 58149416551, 157474...\n",
       "4        [17858319, 19206542, 19982084, 24229822, 84886...\n",
       "6        [17644442848, 16023755, 84916826692, 851127286...\n",
       "8        [77956986345, 15661038, 17414010, 19533239, 21..."
      ]
     },
     "execution_count": 11,
     "metadata": {},
     "output_type": "execute_result"
    }
   ],
   "source": [
    "author_paperlist_df.head()"
   ]
  },
  {
   "cell_type": "code",
   "execution_count": 12,
   "id": "c16d1542-ae00-4725-9174-ec6e4fed9912",
   "metadata": {
    "execution": {
     "iopub.execute_input": "2025-02-01T18:24:29.593813Z",
     "iopub.status.busy": "2025-02-01T18:24:29.593523Z",
     "iopub.status.idle": "2025-02-01T18:24:48.728652Z",
     "shell.execute_reply": "2025-02-01T18:24:48.728237Z",
     "shell.execute_reply.started": "2025-02-01T18:24:29.593795Z"
    }
   },
   "outputs": [],
   "source": [
    "author_paperlist_df_explode = author_paperlist_df.explode('author_paperlist')"
   ]
  },
  {
   "cell_type": "code",
   "execution_count": 65,
   "id": "00cfebb6-2d4a-4c6a-8edb-a8342d334566",
   "metadata": {
    "execution": {
     "iopub.execute_input": "2025-02-01T20:44:55.794154Z",
     "iopub.status.busy": "2025-02-01T20:44:55.793829Z",
     "iopub.status.idle": "2025-02-01T20:44:56.098159Z",
     "shell.execute_reply": "2025-02-01T20:44:56.097479Z",
     "shell.execute_reply.started": "2025-02-01T20:44:55.794128Z"
    }
   },
   "outputs": [],
   "source": [
    "author_paperlist_df_explode.reset_index(inplace=True)"
   ]
  },
  {
   "cell_type": "code",
   "execution_count": 13,
   "id": "9e918926-6ff2-4f12-9b0a-c182914e0f93",
   "metadata": {
    "execution": {
     "iopub.execute_input": "2025-02-01T18:24:48.729412Z",
     "iopub.status.busy": "2025-02-01T18:24:48.729288Z",
     "iopub.status.idle": "2025-02-01T18:24:48.732331Z",
     "shell.execute_reply": "2025-02-01T18:24:48.732061Z",
     "shell.execute_reply.started": "2025-02-01T18:24:48.729400Z"
    }
   },
   "outputs": [
    {
     "data": {
      "text/plain": [
       "(334541366, 1)"
      ]
     },
     "execution_count": 13,
     "metadata": {},
     "output_type": "execute_result"
    }
   ],
   "source": [
    "author_paperlist_df_explode.shape"
   ]
  },
  {
   "cell_type": "code",
   "execution_count": null,
   "id": "8f89cc43-3ceb-4271-adab-98d9c8cee851",
   "metadata": {},
   "outputs": [],
   "source": []
  },
  {
   "cell_type": "code",
   "execution_count": 39,
   "id": "8046c182-5b96-4ddd-aced-94c3eca3b734",
   "metadata": {
    "execution": {
     "iopub.execute_input": "2025-02-01T18:36:00.075487Z",
     "iopub.status.busy": "2025-02-01T18:36:00.075164Z",
     "iopub.status.idle": "2025-02-01T18:38:09.184219Z",
     "shell.execute_reply": "2025-02-01T18:38:09.183802Z",
     "shell.execute_reply.started": "2025-02-01T18:36:00.075461Z"
    }
   },
   "outputs": [],
   "source": [
    "author_paperlist_df_explode1_1 = author_paperlist_df_explode[author_paperlist_df_explode['author_paperlist'].isin(embedding_eid_ls)]\n",
    "\n"
   ]
  },
  {
   "cell_type": "code",
   "execution_count": 40,
   "id": "2836b893-da8d-4c22-84fc-7155aef60fba",
   "metadata": {
    "execution": {
     "iopub.execute_input": "2025-02-01T18:38:09.184992Z",
     "iopub.status.busy": "2025-02-01T18:38:09.184870Z",
     "iopub.status.idle": "2025-02-01T18:38:09.187617Z",
     "shell.execute_reply": "2025-02-01T18:38:09.187367Z",
     "shell.execute_reply.started": "2025-02-01T18:38:09.184980Z"
    }
   },
   "outputs": [
    {
     "data": {
      "text/plain": [
       "(54275863, 1)"
      ]
     },
     "execution_count": 40,
     "metadata": {},
     "output_type": "execute_result"
    }
   ],
   "source": [
    "author_paperlist_df_explode1_1.shape"
   ]
  },
  {
   "cell_type": "code",
   "execution_count": 41,
   "id": "2736ae20-c874-4db3-989b-58fcfc7c5f6d",
   "metadata": {
    "execution": {
     "iopub.execute_input": "2025-02-01T18:38:09.188072Z",
     "iopub.status.busy": "2025-02-01T18:38:09.187973Z",
     "iopub.status.idle": "2025-02-01T18:38:09.192322Z",
     "shell.execute_reply": "2025-02-01T18:38:09.192078Z",
     "shell.execute_reply.started": "2025-02-01T18:38:09.188062Z"
    },
    "scrolled": true
   },
   "outputs": [
    {
     "data": {
      "text/html": [
       "<div>\n",
       "<style scoped>\n",
       "    .dataframe tbody tr th:only-of-type {\n",
       "        vertical-align: middle;\n",
       "    }\n",
       "\n",
       "    .dataframe tbody tr th {\n",
       "        vertical-align: top;\n",
       "    }\n",
       "\n",
       "    .dataframe thead th {\n",
       "        text-align: right;\n",
       "    }\n",
       "</style>\n",
       "<table border=\"1\" class=\"dataframe\">\n",
       "  <thead>\n",
       "    <tr style=\"text-align: right;\">\n",
       "      <th></th>\n",
       "      <th>author_paperlist</th>\n",
       "    </tr>\n",
       "    <tr>\n",
       "      <th>authids</th>\n",
       "      <th></th>\n",
       "    </tr>\n",
       "  </thead>\n",
       "  <tbody>\n",
       "    <tr>\n",
       "      <th>1</th>\n",
       "      <td>84856118157</td>\n",
       "    </tr>\n",
       "    <tr>\n",
       "      <th>1</th>\n",
       "      <td>84870417135</td>\n",
       "    </tr>\n",
       "    <tr>\n",
       "      <th>1</th>\n",
       "      <td>84979851779</td>\n",
       "    </tr>\n",
       "    <tr>\n",
       "      <th>1</th>\n",
       "      <td>84920487604</td>\n",
       "    </tr>\n",
       "    <tr>\n",
       "      <th>1</th>\n",
       "      <td>85086202528</td>\n",
       "    </tr>\n",
       "    <tr>\n",
       "      <th>1</th>\n",
       "      <td>85169763832</td>\n",
       "    </tr>\n",
       "    <tr>\n",
       "      <th>1</th>\n",
       "      <td>85139647550</td>\n",
       "    </tr>\n",
       "    <tr>\n",
       "      <th>1</th>\n",
       "      <td>85082276330</td>\n",
       "    </tr>\n",
       "    <tr>\n",
       "      <th>1</th>\n",
       "      <td>85140552247</td>\n",
       "    </tr>\n",
       "    <tr>\n",
       "      <th>1</th>\n",
       "      <td>85140540117</td>\n",
       "    </tr>\n",
       "    <tr>\n",
       "      <th>1</th>\n",
       "      <td>85140530399</td>\n",
       "    </tr>\n",
       "    <tr>\n",
       "      <th>2</th>\n",
       "      <td>84958242142</td>\n",
       "    </tr>\n",
       "    <tr>\n",
       "      <th>4</th>\n",
       "      <td>84928069844</td>\n",
       "    </tr>\n",
       "    <tr>\n",
       "      <th>4</th>\n",
       "      <td>84941362598</td>\n",
       "    </tr>\n",
       "    <tr>\n",
       "      <th>6</th>\n",
       "      <td>85112728693</td>\n",
       "    </tr>\n",
       "    <tr>\n",
       "      <th>6</th>\n",
       "      <td>85124123772</td>\n",
       "    </tr>\n",
       "    <tr>\n",
       "      <th>6</th>\n",
       "      <td>85124121792</td>\n",
       "    </tr>\n",
       "    <tr>\n",
       "      <th>6</th>\n",
       "      <td>85124165500</td>\n",
       "    </tr>\n",
       "    <tr>\n",
       "      <th>6</th>\n",
       "      <td>85124165451</td>\n",
       "    </tr>\n",
       "    <tr>\n",
       "      <th>6</th>\n",
       "      <td>85124145077</td>\n",
       "    </tr>\n",
       "    <tr>\n",
       "      <th>6</th>\n",
       "      <td>84970953632</td>\n",
       "    </tr>\n",
       "    <tr>\n",
       "      <th>6</th>\n",
       "      <td>85069042203</td>\n",
       "    </tr>\n",
       "    <tr>\n",
       "      <th>6</th>\n",
       "      <td>84979933092</td>\n",
       "    </tr>\n",
       "    <tr>\n",
       "      <th>8</th>\n",
       "      <td>84866850986</td>\n",
       "    </tr>\n",
       "    <tr>\n",
       "      <th>8</th>\n",
       "      <td>84859757842</td>\n",
       "    </tr>\n",
       "    <tr>\n",
       "      <th>8</th>\n",
       "      <td>84860217138</td>\n",
       "    </tr>\n",
       "    <tr>\n",
       "      <th>8</th>\n",
       "      <td>84880329781</td>\n",
       "    </tr>\n",
       "    <tr>\n",
       "      <th>8</th>\n",
       "      <td>84874931728</td>\n",
       "    </tr>\n",
       "    <tr>\n",
       "      <th>8</th>\n",
       "      <td>84875650684</td>\n",
       "    </tr>\n",
       "    <tr>\n",
       "      <th>8</th>\n",
       "      <td>84931267400</td>\n",
       "    </tr>\n",
       "  </tbody>\n",
       "</table>\n",
       "</div>"
      ],
      "text/plain": [
       "        author_paperlist\n",
       "authids                 \n",
       "1            84856118157\n",
       "1            84870417135\n",
       "1            84979851779\n",
       "1            84920487604\n",
       "1            85086202528\n",
       "1            85169763832\n",
       "1            85139647550\n",
       "1            85082276330\n",
       "1            85140552247\n",
       "1            85140540117\n",
       "1            85140530399\n",
       "2            84958242142\n",
       "4            84928069844\n",
       "4            84941362598\n",
       "6            85112728693\n",
       "6            85124123772\n",
       "6            85124121792\n",
       "6            85124165500\n",
       "6            85124165451\n",
       "6            85124145077\n",
       "6            84970953632\n",
       "6            85069042203\n",
       "6            84979933092\n",
       "8            84866850986\n",
       "8            84859757842\n",
       "8            84860217138\n",
       "8            84880329781\n",
       "8            84874931728\n",
       "8            84875650684\n",
       "8            84931267400"
      ]
     },
     "execution_count": 41,
     "metadata": {},
     "output_type": "execute_result"
    }
   ],
   "source": [
    "author_paperlist_df_explode1_1.head(30)"
   ]
  },
  {
   "cell_type": "code",
   "execution_count": 42,
   "id": "98848ab4-ed12-4db2-81aa-94e708d45c68",
   "metadata": {
    "execution": {
     "iopub.execute_input": "2025-02-01T18:38:23.709534Z",
     "iopub.status.busy": "2025-02-01T18:38:23.709365Z",
     "iopub.status.idle": "2025-02-01T18:38:23.757341Z",
     "shell.execute_reply": "2025-02-01T18:38:23.756949Z",
     "shell.execute_reply.started": "2025-02-01T18:38:23.709522Z"
    }
   },
   "outputs": [],
   "source": [
    "author_paperlist_df_explode1_1.reset_index(inplace=True)"
   ]
  },
  {
   "cell_type": "code",
   "execution_count": 43,
   "id": "87e1450b-7f4d-4c7c-a1ad-dacf1ecea06d",
   "metadata": {
    "execution": {
     "iopub.execute_input": "2025-02-01T18:38:47.454533Z",
     "iopub.status.busy": "2025-02-01T18:38:47.454274Z",
     "iopub.status.idle": "2025-02-01T18:38:47.676535Z",
     "shell.execute_reply": "2025-02-01T18:38:47.676135Z",
     "shell.execute_reply.started": "2025-02-01T18:38:47.454521Z"
    }
   },
   "outputs": [],
   "source": [
    "author_paperlist_df_explode1_2 = author_paperlist_df_explode1_1[author_paperlist_df_explode1_1['authids'].isin(boradmember_authid)]"
   ]
  },
  {
   "cell_type": "code",
   "execution_count": 46,
   "id": "e719c0cd-5356-476b-9e1b-bde8f5116936",
   "metadata": {
    "execution": {
     "iopub.execute_input": "2025-02-01T20:34:15.730111Z",
     "iopub.status.busy": "2025-02-01T20:34:15.729789Z",
     "iopub.status.idle": "2025-02-01T20:34:15.733936Z",
     "shell.execute_reply": "2025-02-01T20:34:15.733287Z",
     "shell.execute_reply.started": "2025-02-01T20:34:15.730086Z"
    }
   },
   "outputs": [],
   "source": [
    "author_paperlist_df_explode1_3 = author_paperlist_df_explode1_2['authids'].unique()"
   ]
  },
  {
   "cell_type": "code",
   "execution_count": 45,
   "id": "95248594-079d-47e5-89b6-35d954d3be8d",
   "metadata": {
    "execution": {
     "iopub.execute_input": "2025-02-01T18:39:05.830454Z",
     "iopub.status.busy": "2025-02-01T18:39:05.830131Z",
     "iopub.status.idle": "2025-02-01T18:39:05.835904Z",
     "shell.execute_reply": "2025-02-01T18:39:05.835430Z",
     "shell.execute_reply.started": "2025-02-01T18:39:05.830428Z"
    }
   },
   "outputs": [
    {
     "data": {
      "text/plain": [
       "100"
      ]
     },
     "execution_count": 45,
     "metadata": {},
     "output_type": "execute_result"
    }
   ],
   "source": [
    "len(author_paperlist_df_explode1_2['authids'].unique())"
   ]
  },
  {
   "cell_type": "code",
   "execution_count": null,
   "id": "4befce61-082b-4e47-a54b-1763f4866c75",
   "metadata": {},
   "outputs": [],
   "source": [
    "→残りの8人は？"
   ]
  },
  {
   "cell_type": "code",
   "execution_count": 47,
   "id": "3695765a-3bc2-454a-985c-b1067cd0da42",
   "metadata": {
    "execution": {
     "iopub.execute_input": "2025-02-01T20:34:47.110299Z",
     "iopub.status.busy": "2025-02-01T20:34:47.109974Z",
     "iopub.status.idle": "2025-02-01T20:34:47.113151Z",
     "shell.execute_reply": "2025-02-01T20:34:47.112886Z",
     "shell.execute_reply.started": "2025-02-01T20:34:47.110273Z"
    }
   },
   "outputs": [],
   "source": [
    "rest_authids = []\n",
    "\n",
    "for i in boradmember_authid:\n",
    "    if i not in author_paperlist_df_explode1_3:\n",
    "        rest_authids.append(i)\n",
    "        "
   ]
  },
  {
   "cell_type": "code",
   "execution_count": 48,
   "id": "1aeee71c-ee47-4d89-a9ed-8d2b8253cdb8",
   "metadata": {
    "execution": {
     "iopub.execute_input": "2025-02-01T20:34:50.175294Z",
     "iopub.status.busy": "2025-02-01T20:34:50.174966Z",
     "iopub.status.idle": "2025-02-01T20:34:50.180369Z",
     "shell.execute_reply": "2025-02-01T20:34:50.179770Z",
     "shell.execute_reply.started": "2025-02-01T20:34:50.175268Z"
    }
   },
   "outputs": [
    {
     "data": {
      "text/plain": [
       "[57494449200,\n",
       " 55632925000,\n",
       " 57212281248,\n",
       " 57197802175,\n",
       " 6508112567,\n",
       " 57189328263,\n",
       " 57193445340,\n",
       " 57190068857,\n",
       " 57219144066,\n",
       " 57191727610,\n",
       " 14037485900,\n",
       " 57206422848,\n",
       " 57006461700]"
      ]
     },
     "execution_count": 48,
     "metadata": {},
     "output_type": "execute_result"
    }
   ],
   "source": [
    "rest_authids"
   ]
  },
  {
   "cell_type": "code",
   "execution_count": 49,
   "id": "032a37c4-fd04-45da-847d-39251342ec37",
   "metadata": {
    "execution": {
     "iopub.execute_input": "2025-02-01T20:35:46.600698Z",
     "iopub.status.busy": "2025-02-01T20:35:46.600379Z",
     "iopub.status.idle": "2025-02-01T20:36:40.087453Z",
     "shell.execute_reply": "2025-02-01T20:36:40.086776Z",
     "shell.execute_reply.started": "2025-02-01T20:35:46.600673Z"
    }
   },
   "outputs": [],
   "source": [
    "year_productivity_df = pd.read_pickle('/disks/qnap3/shared/scopus-24/data/author/year_productivity.pickle')\n",
    "year_productivity_df = pd.DataFrame(year_productivity_df)"
   ]
  },
  {
   "cell_type": "code",
   "execution_count": 50,
   "id": "013112d4-ac50-4e41-9438-5f34212d7cfd",
   "metadata": {
    "execution": {
     "iopub.execute_input": "2025-02-01T20:36:46.914978Z",
     "iopub.status.busy": "2025-02-01T20:36:46.914815Z",
     "iopub.status.idle": "2025-02-01T20:36:46.931661Z",
     "shell.execute_reply": "2025-02-01T20:36:46.930931Z",
     "shell.execute_reply.started": "2025-02-01T20:36:46.914967Z"
    }
   },
   "outputs": [
    {
     "data": {
      "text/html": [
       "<div>\n",
       "<style scoped>\n",
       "    .dataframe tbody tr th:only-of-type {\n",
       "        vertical-align: middle;\n",
       "    }\n",
       "\n",
       "    .dataframe tbody tr th {\n",
       "        vertical-align: top;\n",
       "    }\n",
       "\n",
       "    .dataframe thead th {\n",
       "        text-align: right;\n",
       "    }\n",
       "</style>\n",
       "<table border=\"1\" class=\"dataframe\">\n",
       "  <thead>\n",
       "    <tr style=\"text-align: right;\">\n",
       "      <th>year</th>\n",
       "      <th>1970</th>\n",
       "      <th>1971</th>\n",
       "      <th>1972</th>\n",
       "      <th>1973</th>\n",
       "      <th>1974</th>\n",
       "      <th>1975</th>\n",
       "      <th>1976</th>\n",
       "      <th>1977</th>\n",
       "      <th>1978</th>\n",
       "      <th>1979</th>\n",
       "      <th>...</th>\n",
       "      <th>2015</th>\n",
       "      <th>2016</th>\n",
       "      <th>2017</th>\n",
       "      <th>2018</th>\n",
       "      <th>2019</th>\n",
       "      <th>2020</th>\n",
       "      <th>2021</th>\n",
       "      <th>2022</th>\n",
       "      <th>2023</th>\n",
       "      <th>2024</th>\n",
       "    </tr>\n",
       "    <tr>\n",
       "      <th>authids</th>\n",
       "      <th></th>\n",
       "      <th></th>\n",
       "      <th></th>\n",
       "      <th></th>\n",
       "      <th></th>\n",
       "      <th></th>\n",
       "      <th></th>\n",
       "      <th></th>\n",
       "      <th></th>\n",
       "      <th></th>\n",
       "      <th></th>\n",
       "      <th></th>\n",
       "      <th></th>\n",
       "      <th></th>\n",
       "      <th></th>\n",
       "      <th></th>\n",
       "      <th></th>\n",
       "      <th></th>\n",
       "      <th></th>\n",
       "      <th></th>\n",
       "      <th></th>\n",
       "    </tr>\n",
       "  </thead>\n",
       "  <tbody>\n",
       "    <tr>\n",
       "      <th>1</th>\n",
       "      <td>2097.0</td>\n",
       "      <td>1740.0</td>\n",
       "      <td>939.0</td>\n",
       "      <td>1597.0</td>\n",
       "      <td>2168.0</td>\n",
       "      <td>2139.0</td>\n",
       "      <td>2389.0</td>\n",
       "      <td>2220.0</td>\n",
       "      <td>2309.0</td>\n",
       "      <td>2255.0</td>\n",
       "      <td>...</td>\n",
       "      <td>7.0</td>\n",
       "      <td>19.0</td>\n",
       "      <td>11.0</td>\n",
       "      <td>9.0</td>\n",
       "      <td>14.0</td>\n",
       "      <td>10.0</td>\n",
       "      <td>9.0</td>\n",
       "      <td>91.0</td>\n",
       "      <td>9.0</td>\n",
       "      <td>0.0</td>\n",
       "    </tr>\n",
       "    <tr>\n",
       "      <th>2</th>\n",
       "      <td>0.0</td>\n",
       "      <td>2.0</td>\n",
       "      <td>1.0</td>\n",
       "      <td>1.0</td>\n",
       "      <td>0.0</td>\n",
       "      <td>3.0</td>\n",
       "      <td>1.0</td>\n",
       "      <td>0.0</td>\n",
       "      <td>2.0</td>\n",
       "      <td>2.0</td>\n",
       "      <td>...</td>\n",
       "      <td>1.0</td>\n",
       "      <td>0.0</td>\n",
       "      <td>0.0</td>\n",
       "      <td>0.0</td>\n",
       "      <td>0.0</td>\n",
       "      <td>0.0</td>\n",
       "      <td>0.0</td>\n",
       "      <td>0.0</td>\n",
       "      <td>0.0</td>\n",
       "      <td>0.0</td>\n",
       "    </tr>\n",
       "    <tr>\n",
       "      <th>57042534400</th>\n",
       "      <td>0.0</td>\n",
       "      <td>0.0</td>\n",
       "      <td>0.0</td>\n",
       "      <td>0.0</td>\n",
       "      <td>0.0</td>\n",
       "      <td>0.0</td>\n",
       "      <td>0.0</td>\n",
       "      <td>0.0</td>\n",
       "      <td>0.0</td>\n",
       "      <td>0.0</td>\n",
       "      <td>...</td>\n",
       "      <td>0.0</td>\n",
       "      <td>0.0</td>\n",
       "      <td>1.0</td>\n",
       "      <td>0.0</td>\n",
       "      <td>0.0</td>\n",
       "      <td>0.0</td>\n",
       "      <td>0.0</td>\n",
       "      <td>0.0</td>\n",
       "      <td>1.0</td>\n",
       "      <td>0.0</td>\n",
       "    </tr>\n",
       "    <tr>\n",
       "      <th>4</th>\n",
       "      <td>0.0</td>\n",
       "      <td>0.0</td>\n",
       "      <td>0.0</td>\n",
       "      <td>0.0</td>\n",
       "      <td>0.0</td>\n",
       "      <td>0.0</td>\n",
       "      <td>0.0</td>\n",
       "      <td>0.0</td>\n",
       "      <td>1.0</td>\n",
       "      <td>0.0</td>\n",
       "      <td>...</td>\n",
       "      <td>1.0</td>\n",
       "      <td>0.0</td>\n",
       "      <td>1.0</td>\n",
       "      <td>1.0</td>\n",
       "      <td>0.0</td>\n",
       "      <td>0.0</td>\n",
       "      <td>2.0</td>\n",
       "      <td>0.0</td>\n",
       "      <td>0.0</td>\n",
       "      <td>0.0</td>\n",
       "    </tr>\n",
       "    <tr>\n",
       "      <th>57982058500</th>\n",
       "      <td>0.0</td>\n",
       "      <td>0.0</td>\n",
       "      <td>0.0</td>\n",
       "      <td>0.0</td>\n",
       "      <td>0.0</td>\n",
       "      <td>0.0</td>\n",
       "      <td>0.0</td>\n",
       "      <td>0.0</td>\n",
       "      <td>0.0</td>\n",
       "      <td>0.0</td>\n",
       "      <td>...</td>\n",
       "      <td>0.0</td>\n",
       "      <td>0.0</td>\n",
       "      <td>0.0</td>\n",
       "      <td>0.0</td>\n",
       "      <td>0.0</td>\n",
       "      <td>0.0</td>\n",
       "      <td>0.0</td>\n",
       "      <td>1.0</td>\n",
       "      <td>2.0</td>\n",
       "      <td>0.0</td>\n",
       "    </tr>\n",
       "  </tbody>\n",
       "</table>\n",
       "<p>5 rows × 55 columns</p>\n",
       "</div>"
      ],
      "text/plain": [
       "year           1970    1971   1972    1973    1974    1975    1976    1977  \\\n",
       "authids                                                                      \n",
       "1            2097.0  1740.0  939.0  1597.0  2168.0  2139.0  2389.0  2220.0   \n",
       "2               0.0     2.0    1.0     1.0     0.0     3.0     1.0     0.0   \n",
       "57042534400     0.0     0.0    0.0     0.0     0.0     0.0     0.0     0.0   \n",
       "4               0.0     0.0    0.0     0.0     0.0     0.0     0.0     0.0   \n",
       "57982058500     0.0     0.0    0.0     0.0     0.0     0.0     0.0     0.0   \n",
       "\n",
       "year           1978    1979  ...  2015  2016  2017  2018  2019  2020  2021  \\\n",
       "authids                      ...                                             \n",
       "1            2309.0  2255.0  ...   7.0  19.0  11.0   9.0  14.0  10.0   9.0   \n",
       "2               2.0     2.0  ...   1.0   0.0   0.0   0.0   0.0   0.0   0.0   \n",
       "57042534400     0.0     0.0  ...   0.0   0.0   1.0   0.0   0.0   0.0   0.0   \n",
       "4               1.0     0.0  ...   1.0   0.0   1.0   1.0   0.0   0.0   2.0   \n",
       "57982058500     0.0     0.0  ...   0.0   0.0   0.0   0.0   0.0   0.0   0.0   \n",
       "\n",
       "year         2022  2023  2024  \n",
       "authids                        \n",
       "1            91.0   9.0   0.0  \n",
       "2             0.0   0.0   0.0  \n",
       "57042534400   0.0   1.0   0.0  \n",
       "4             0.0   0.0   0.0  \n",
       "57982058500   1.0   2.0   0.0  \n",
       "\n",
       "[5 rows x 55 columns]"
      ]
     },
     "execution_count": 50,
     "metadata": {},
     "output_type": "execute_result"
    }
   ],
   "source": [
    "year_productivity_df.head()"
   ]
  },
  {
   "cell_type": "code",
   "execution_count": 51,
   "id": "94f35a0c-b470-42e0-a12f-8bb8d6c3bc81",
   "metadata": {
    "execution": {
     "iopub.execute_input": "2025-02-01T20:37:10.279861Z",
     "iopub.status.busy": "2025-02-01T20:37:10.279543Z",
     "iopub.status.idle": "2025-02-01T20:37:10.680939Z",
     "shell.execute_reply": "2025-02-01T20:37:10.680264Z",
     "shell.execute_reply.started": "2025-02-01T20:37:10.279835Z"
    }
   },
   "outputs": [],
   "source": [
    "year_productivity_df1 = year_productivity_df[year_productivity_df.index.isin(rest_authids)]"
   ]
  },
  {
   "cell_type": "code",
   "execution_count": 74,
   "id": "855866e2-9de2-4ea6-9498-dcb052372357",
   "metadata": {
    "execution": {
     "iopub.execute_input": "2025-02-01T20:53:54.074839Z",
     "iopub.status.busy": "2025-02-01T20:53:54.074588Z",
     "iopub.status.idle": "2025-02-01T20:53:54.079504Z",
     "shell.execute_reply": "2025-02-01T20:53:54.078785Z",
     "shell.execute_reply.started": "2025-02-01T20:53:54.074827Z"
    }
   },
   "outputs": [
    {
     "data": {
      "text/plain": [
       "authids\n",
       "57189328263    0.0\n",
       "57190068857    0.0\n",
       "57191727610    0.0\n",
       "57193445340    1.0\n",
       "57197802175    0.0\n",
       "57206422848    0.0\n",
       "57212281248    0.0\n",
       "57219144066    0.0\n",
       "57494449200    0.0\n",
       "6508112567     2.0\n",
       "55632925000    1.0\n",
       "14037485900    3.0\n",
       "57006461700    2.0\n",
       "dtype: float64"
      ]
     },
     "execution_count": 74,
     "metadata": {},
     "output_type": "execute_result"
    }
   ],
   "source": [
    "year_productivity_df1.loc[:, 1970:2015].sum(axis=1) "
   ]
  },
  {
   "cell_type": "code",
   "execution_count": 63,
   "id": "50b996ca-baa7-44ae-8856-ed067a5bc406",
   "metadata": {
    "execution": {
     "iopub.execute_input": "2025-02-01T20:43:34.209994Z",
     "iopub.status.busy": "2025-02-01T20:43:34.209673Z",
     "iopub.status.idle": "2025-02-01T20:43:34.216401Z",
     "shell.execute_reply": "2025-02-01T20:43:34.215712Z",
     "shell.execute_reply.started": "2025-02-01T20:43:34.209968Z"
    }
   },
   "outputs": [
    {
     "data": {
      "text/plain": [
       "authids\n",
       "57189328263    0.0\n",
       "57190068857    0.0\n",
       "57191727610    0.0\n",
       "57193445340    1.0\n",
       "57197802175    0.0\n",
       "57206422848    0.0\n",
       "57212281248    0.0\n",
       "57219144066    0.0\n",
       "57494449200    0.0\n",
       "6508112567     0.0\n",
       "55632925000    1.0\n",
       "14037485900    3.0\n",
       "57006461700    2.0\n",
       "dtype: float64"
      ]
     },
     "execution_count": 63,
     "metadata": {},
     "output_type": "execute_result"
    }
   ],
   "source": [
    "year_productivity_df1.loc[:, 2000:2015].sum(axis=1) "
   ]
  },
  {
   "cell_type": "code",
   "execution_count": 62,
   "id": "63d20237-5459-434d-b16d-e0b040715152",
   "metadata": {
    "execution": {
     "iopub.execute_input": "2025-02-01T20:41:14.464383Z",
     "iopub.status.busy": "2025-02-01T20:41:14.464200Z",
     "iopub.status.idle": "2025-02-01T20:41:14.469152Z",
     "shell.execute_reply": "2025-02-01T20:41:14.468669Z",
     "shell.execute_reply.started": "2025-02-01T20:41:14.464371Z"
    }
   },
   "outputs": [
    {
     "data": {
      "text/plain": [
       "authids\n",
       "57189328263    0.0\n",
       "57190068857    0.0\n",
       "57191727610    0.0\n",
       "57193445340    0.0\n",
       "57197802175    0.0\n",
       "57206422848    0.0\n",
       "57212281248    0.0\n",
       "57219144066    0.0\n",
       "57494449200    0.0\n",
       "6508112567     0.0\n",
       "55632925000    1.0\n",
       "14037485900    0.0\n",
       "57006461700    2.0\n",
       "dtype: float64"
      ]
     },
     "execution_count": 62,
     "metadata": {},
     "output_type": "execute_result"
    }
   ],
   "source": [
    "year_productivity_df1.loc[:, 2011:2015].sum(axis=1) "
   ]
  },
  {
   "cell_type": "code",
   "execution_count": 75,
   "id": "5543d5d7-f137-46b8-92be-54561fb1add8",
   "metadata": {
    "execution": {
     "iopub.execute_input": "2025-02-01T20:54:46.514260Z",
     "iopub.status.busy": "2025-02-01T20:54:46.513941Z",
     "iopub.status.idle": "2025-02-01T20:54:46.521304Z",
     "shell.execute_reply": "2025-02-01T20:54:46.520608Z",
     "shell.execute_reply.started": "2025-02-01T20:54:46.514234Z"
    }
   },
   "outputs": [
    {
     "data": {
      "text/plain": [
       "authids\n",
       "57189328263    11.0\n",
       "57190068857     2.0\n",
       "57191727610    19.0\n",
       "57193445340     6.0\n",
       "57197802175    12.0\n",
       "57206422848     8.0\n",
       "57212281248    51.0\n",
       "57219144066     1.0\n",
       "57494449200     4.0\n",
       "6508112567      0.0\n",
       "55632925000     0.0\n",
       "14037485900     0.0\n",
       "57006461700    33.0\n",
       "dtype: float64"
      ]
     },
     "execution_count": 75,
     "metadata": {},
     "output_type": "execute_result"
    }
   ],
   "source": [
    "year_productivity_df1.loc[:, 2016:2022].sum(axis=1) "
   ]
  },
  {
   "cell_type": "code",
   "execution_count": 58,
   "id": "5c09b6e5-d61f-45d9-9e56-22a45464c469",
   "metadata": {
    "execution": {
     "iopub.execute_input": "2025-02-01T20:39:23.295757Z",
     "iopub.status.busy": "2025-02-01T20:39:23.295435Z",
     "iopub.status.idle": "2025-02-01T20:39:28.982934Z",
     "shell.execute_reply": "2025-02-01T20:39:28.982247Z",
     "shell.execute_reply.started": "2025-02-01T20:39:23.295731Z"
    }
   },
   "outputs": [],
   "source": [
    "author_name_df = pd.read_pickle('/disks/qnap3/shared/scopus-24/data/author/author_name.pickle')\n",
    "author_name_df = pd.DataFrame(author_name_df)"
   ]
  },
  {
   "cell_type": "code",
   "execution_count": 61,
   "id": "9bd71ec8-cb8c-4005-afeb-4e30abee9eaf",
   "metadata": {
    "execution": {
     "iopub.execute_input": "2025-02-01T20:40:21.004732Z",
     "iopub.status.busy": "2025-02-01T20:40:21.004566Z",
     "iopub.status.idle": "2025-02-01T20:40:21.394439Z",
     "shell.execute_reply": "2025-02-01T20:40:21.393767Z",
     "shell.execute_reply.started": "2025-02-01T20:40:21.004719Z"
    }
   },
   "outputs": [
    {
     "data": {
      "text/html": [
       "<div>\n",
       "<style scoped>\n",
       "    .dataframe tbody tr th:only-of-type {\n",
       "        vertical-align: middle;\n",
       "    }\n",
       "\n",
       "    .dataframe tbody tr th {\n",
       "        vertical-align: top;\n",
       "    }\n",
       "\n",
       "    .dataframe thead th {\n",
       "        text-align: right;\n",
       "    }\n",
       "</style>\n",
       "<table border=\"1\" class=\"dataframe\">\n",
       "  <thead>\n",
       "    <tr style=\"text-align: right;\">\n",
       "      <th></th>\n",
       "      <th>name</th>\n",
       "    </tr>\n",
       "    <tr>\n",
       "      <th>authid</th>\n",
       "      <th></th>\n",
       "    </tr>\n",
       "  </thead>\n",
       "  <tbody>\n",
       "    <tr>\n",
       "      <th>6508112567</th>\n",
       "      <td>Ballaman_Richard</td>\n",
       "    </tr>\n",
       "    <tr>\n",
       "      <th>14037485900</th>\n",
       "      <td>Garcés_Aurelio Tobías</td>\n",
       "    </tr>\n",
       "    <tr>\n",
       "      <th>55632925000</th>\n",
       "      <td>Patdu_Kaye</td>\n",
       "    </tr>\n",
       "    <tr>\n",
       "      <th>57006461700</th>\n",
       "      <td>Whaley_Paul</td>\n",
       "    </tr>\n",
       "    <tr>\n",
       "      <th>57189328263</th>\n",
       "      <td>Evangelopoulos_Dimitris</td>\n",
       "    </tr>\n",
       "    <tr>\n",
       "      <th>57190068857</th>\n",
       "      <td>Roychowdhury_Anumita</td>\n",
       "    </tr>\n",
       "    <tr>\n",
       "      <th>57191727610</th>\n",
       "      <td>Tobias_Aurelio</td>\n",
       "    </tr>\n",
       "    <tr>\n",
       "      <th>57193445340</th>\n",
       "      <td>Kutlar Joss_Meltem</td>\n",
       "    </tr>\n",
       "    <tr>\n",
       "      <th>57197802175</th>\n",
       "      <td>Huangfu_Peijue</td>\n",
       "    </tr>\n",
       "    <tr>\n",
       "      <th>57206422848</th>\n",
       "      <td>Walton_Heather</td>\n",
       "    </tr>\n",
       "    <tr>\n",
       "      <th>57212281248</th>\n",
       "      <td>Chen_Jie</td>\n",
       "    </tr>\n",
       "    <tr>\n",
       "      <th>57219144066</th>\n",
       "      <td>Garces_Aurelio Tobías</td>\n",
       "    </tr>\n",
       "    <tr>\n",
       "      <th>57494449200</th>\n",
       "      <td>Appoh_Emmanuel</td>\n",
       "    </tr>\n",
       "  </tbody>\n",
       "</table>\n",
       "</div>"
      ],
      "text/plain": [
       "                                name\n",
       "authid                              \n",
       "6508112567          Ballaman_Richard\n",
       "14037485900    Garcés_Aurelio Tobías\n",
       "55632925000               Patdu_Kaye\n",
       "57006461700              Whaley_Paul\n",
       "57189328263  Evangelopoulos_Dimitris\n",
       "57190068857     Roychowdhury_Anumita\n",
       "57191727610           Tobias_Aurelio\n",
       "57193445340       Kutlar Joss_Meltem\n",
       "57197802175           Huangfu_Peijue\n",
       "57206422848           Walton_Heather\n",
       "57212281248                 Chen_Jie\n",
       "57219144066    Garces_Aurelio Tobías\n",
       "57494449200           Appoh_Emmanuel"
      ]
     },
     "execution_count": 61,
     "metadata": {},
     "output_type": "execute_result"
    }
   ],
   "source": [
    "author_name_df1 = author_name_df[author_name_df.index.isin(rest_authids)]\n",
    "author_name_df1"
   ]
  },
  {
   "cell_type": "code",
   "execution_count": 69,
   "id": "6fecb581-0d93-4bc1-aefd-d8a89c92f2b1",
   "metadata": {
    "execution": {
     "iopub.execute_input": "2025-02-01T20:48:16.630081Z",
     "iopub.status.busy": "2025-02-01T20:48:16.629752Z",
     "iopub.status.idle": "2025-02-01T20:48:16.712250Z",
     "shell.execute_reply": "2025-02-01T20:48:16.711921Z",
     "shell.execute_reply.started": "2025-02-01T20:48:16.630054Z"
    }
   },
   "outputs": [
    {
     "data": {
      "text/html": [
       "<div>\n",
       "<style scoped>\n",
       "    .dataframe tbody tr th:only-of-type {\n",
       "        vertical-align: middle;\n",
       "    }\n",
       "\n",
       "    .dataframe tbody tr th {\n",
       "        vertical-align: top;\n",
       "    }\n",
       "\n",
       "    .dataframe thead th {\n",
       "        text-align: right;\n",
       "    }\n",
       "</style>\n",
       "<table border=\"1\" class=\"dataframe\">\n",
       "  <thead>\n",
       "    <tr style=\"text-align: right;\">\n",
       "      <th></th>\n",
       "      <th>authids</th>\n",
       "      <th>author_paperlist</th>\n",
       "    </tr>\n",
       "  </thead>\n",
       "  <tbody>\n",
       "    <tr>\n",
       "      <th>253213527</th>\n",
       "      <td>57006461700</td>\n",
       "      <td>84861568429</td>\n",
       "    </tr>\n",
       "    <tr>\n",
       "      <th>253213528</th>\n",
       "      <td>57006461700</td>\n",
       "      <td>85026817599</td>\n",
       "    </tr>\n",
       "    <tr>\n",
       "      <th>253213529</th>\n",
       "      <td>57006461700</td>\n",
       "      <td>84994119224</td>\n",
       "    </tr>\n",
       "    <tr>\n",
       "      <th>253213530</th>\n",
       "      <td>57006461700</td>\n",
       "      <td>84964685710</td>\n",
       "    </tr>\n",
       "    <tr>\n",
       "      <th>253213531</th>\n",
       "      <td>57006461700</td>\n",
       "      <td>84950132651</td>\n",
       "    </tr>\n",
       "    <tr>\n",
       "      <th>253213532</th>\n",
       "      <td>57006461700</td>\n",
       "      <td>84979687804</td>\n",
       "    </tr>\n",
       "    <tr>\n",
       "      <th>253213533</th>\n",
       "      <td>57006461700</td>\n",
       "      <td>85019269575</td>\n",
       "    </tr>\n",
       "    <tr>\n",
       "      <th>253213534</th>\n",
       "      <td>57006461700</td>\n",
       "      <td>85053854708</td>\n",
       "    </tr>\n",
       "    <tr>\n",
       "      <th>253213535</th>\n",
       "      <td>57006461700</td>\n",
       "      <td>85044608639</td>\n",
       "    </tr>\n",
       "    <tr>\n",
       "      <th>253213536</th>\n",
       "      <td>57006461700</td>\n",
       "      <td>85051624486</td>\n",
       "    </tr>\n",
       "    <tr>\n",
       "      <th>253213537</th>\n",
       "      <td>57006461700</td>\n",
       "      <td>85056846087</td>\n",
       "    </tr>\n",
       "    <tr>\n",
       "      <th>253213538</th>\n",
       "      <td>57006461700</td>\n",
       "      <td>85059829635</td>\n",
       "    </tr>\n",
       "    <tr>\n",
       "      <th>253213539</th>\n",
       "      <td>57006461700</td>\n",
       "      <td>85064668966</td>\n",
       "    </tr>\n",
       "    <tr>\n",
       "      <th>253213540</th>\n",
       "      <td>57006461700</td>\n",
       "      <td>85067853000</td>\n",
       "    </tr>\n",
       "    <tr>\n",
       "      <th>253213541</th>\n",
       "      <td>57006461700</td>\n",
       "      <td>85098620936</td>\n",
       "    </tr>\n",
       "    <tr>\n",
       "      <th>253213542</th>\n",
       "      <td>57006461700</td>\n",
       "      <td>85092736188</td>\n",
       "    </tr>\n",
       "    <tr>\n",
       "      <th>253213543</th>\n",
       "      <td>57006461700</td>\n",
       "      <td>85093513113</td>\n",
       "    </tr>\n",
       "    <tr>\n",
       "      <th>253213544</th>\n",
       "      <td>57006461700</td>\n",
       "      <td>85076465100</td>\n",
       "    </tr>\n",
       "    <tr>\n",
       "      <th>253213545</th>\n",
       "      <td>57006461700</td>\n",
       "      <td>85087724504</td>\n",
       "    </tr>\n",
       "    <tr>\n",
       "      <th>253213546</th>\n",
       "      <td>57006461700</td>\n",
       "      <td>85084273216</td>\n",
       "    </tr>\n",
       "    <tr>\n",
       "      <th>253213547</th>\n",
       "      <td>57006461700</td>\n",
       "      <td>85114720852</td>\n",
       "    </tr>\n",
       "    <tr>\n",
       "      <th>253213548</th>\n",
       "      <td>57006461700</td>\n",
       "      <td>85112127100</td>\n",
       "    </tr>\n",
       "    <tr>\n",
       "      <th>253213549</th>\n",
       "      <td>57006461700</td>\n",
       "      <td>85101391366</td>\n",
       "    </tr>\n",
       "    <tr>\n",
       "      <th>253213550</th>\n",
       "      <td>57006461700</td>\n",
       "      <td>85107147579</td>\n",
       "    </tr>\n",
       "    <tr>\n",
       "      <th>253213551</th>\n",
       "      <td>57006461700</td>\n",
       "      <td>85105057190</td>\n",
       "    </tr>\n",
       "    <tr>\n",
       "      <th>253213552</th>\n",
       "      <td>57006461700</td>\n",
       "      <td>85135202506</td>\n",
       "    </tr>\n",
       "    <tr>\n",
       "      <th>253213553</th>\n",
       "      <td>57006461700</td>\n",
       "      <td>85140657542</td>\n",
       "    </tr>\n",
       "    <tr>\n",
       "      <th>253213554</th>\n",
       "      <td>57006461700</td>\n",
       "      <td>85126982400</td>\n",
       "    </tr>\n",
       "    <tr>\n",
       "      <th>253213555</th>\n",
       "      <td>57006461700</td>\n",
       "      <td>85126848837</td>\n",
       "    </tr>\n",
       "    <tr>\n",
       "      <th>253213556</th>\n",
       "      <td>57006461700</td>\n",
       "      <td>85127417050</td>\n",
       "    </tr>\n",
       "    <tr>\n",
       "      <th>253213557</th>\n",
       "      <td>57006461700</td>\n",
       "      <td>85126445177</td>\n",
       "    </tr>\n",
       "    <tr>\n",
       "      <th>253213558</th>\n",
       "      <td>57006461700</td>\n",
       "      <td>85121440711</td>\n",
       "    </tr>\n",
       "    <tr>\n",
       "      <th>253213559</th>\n",
       "      <td>57006461700</td>\n",
       "      <td>85133456947</td>\n",
       "    </tr>\n",
       "    <tr>\n",
       "      <th>253213560</th>\n",
       "      <td>57006461700</td>\n",
       "      <td>85128488332</td>\n",
       "    </tr>\n",
       "    <tr>\n",
       "      <th>253213561</th>\n",
       "      <td>57006461700</td>\n",
       "      <td>85133532887</td>\n",
       "    </tr>\n",
       "    <tr>\n",
       "      <th>253213562</th>\n",
       "      <td>57006461700</td>\n",
       "      <td>85178209515</td>\n",
       "    </tr>\n",
       "    <tr>\n",
       "      <th>253213563</th>\n",
       "      <td>57006461700</td>\n",
       "      <td>85182667327</td>\n",
       "    </tr>\n",
       "    <tr>\n",
       "      <th>253213564</th>\n",
       "      <td>57006461700</td>\n",
       "      <td>85150049606</td>\n",
       "    </tr>\n",
       "    <tr>\n",
       "      <th>253213565</th>\n",
       "      <td>57006461700</td>\n",
       "      <td>85150912455</td>\n",
       "    </tr>\n",
       "  </tbody>\n",
       "</table>\n",
       "</div>"
      ],
      "text/plain": [
       "               authids author_paperlist\n",
       "253213527  57006461700      84861568429\n",
       "253213528  57006461700      85026817599\n",
       "253213529  57006461700      84994119224\n",
       "253213530  57006461700      84964685710\n",
       "253213531  57006461700      84950132651\n",
       "253213532  57006461700      84979687804\n",
       "253213533  57006461700      85019269575\n",
       "253213534  57006461700      85053854708\n",
       "253213535  57006461700      85044608639\n",
       "253213536  57006461700      85051624486\n",
       "253213537  57006461700      85056846087\n",
       "253213538  57006461700      85059829635\n",
       "253213539  57006461700      85064668966\n",
       "253213540  57006461700      85067853000\n",
       "253213541  57006461700      85098620936\n",
       "253213542  57006461700      85092736188\n",
       "253213543  57006461700      85093513113\n",
       "253213544  57006461700      85076465100\n",
       "253213545  57006461700      85087724504\n",
       "253213546  57006461700      85084273216\n",
       "253213547  57006461700      85114720852\n",
       "253213548  57006461700      85112127100\n",
       "253213549  57006461700      85101391366\n",
       "253213550  57006461700      85107147579\n",
       "253213551  57006461700      85105057190\n",
       "253213552  57006461700      85135202506\n",
       "253213553  57006461700      85140657542\n",
       "253213554  57006461700      85126982400\n",
       "253213555  57006461700      85126848837\n",
       "253213556  57006461700      85127417050\n",
       "253213557  57006461700      85126445177\n",
       "253213558  57006461700      85121440711\n",
       "253213559  57006461700      85133456947\n",
       "253213560  57006461700      85128488332\n",
       "253213561  57006461700      85133532887\n",
       "253213562  57006461700      85178209515\n",
       "253213563  57006461700      85182667327\n",
       "253213564  57006461700      85150049606\n",
       "253213565  57006461700      85150912455"
      ]
     },
     "execution_count": 69,
     "metadata": {},
     "output_type": "execute_result"
    }
   ],
   "source": [
    "author_paperlist_df_explode[author_paperlist_df_explode['authids']==57006461700]"
   ]
  },
  {
   "cell_type": "code",
   "execution_count": 68,
   "id": "77cbd313-2368-4ca6-94d4-2ec5bbf1111e",
   "metadata": {
    "execution": {
     "iopub.execute_input": "2025-02-01T20:46:52.789738Z",
     "iopub.status.busy": "2025-02-01T20:46:52.789574Z",
     "iopub.status.idle": "2025-02-01T20:47:11.209876Z",
     "shell.execute_reply": "2025-02-01T20:47:11.209387Z",
     "shell.execute_reply.started": "2025-02-01T20:46:52.789727Z"
    }
   },
   "outputs": [
    {
     "data": {
      "text/html": [
       "<div>\n",
       "<style scoped>\n",
       "    .dataframe tbody tr th:only-of-type {\n",
       "        vertical-align: middle;\n",
       "    }\n",
       "\n",
       "    .dataframe tbody tr th {\n",
       "        vertical-align: top;\n",
       "    }\n",
       "\n",
       "    .dataframe thead th {\n",
       "        text-align: right;\n",
       "    }\n",
       "</style>\n",
       "<table border=\"1\" class=\"dataframe\">\n",
       "  <thead>\n",
       "    <tr style=\"text-align: right;\">\n",
       "      <th></th>\n",
       "      <th>name</th>\n",
       "    </tr>\n",
       "    <tr>\n",
       "      <th>authid</th>\n",
       "      <th></th>\n",
       "    </tr>\n",
       "  </thead>\n",
       "  <tbody>\n",
       "    <tr>\n",
       "      <th>7005972278</th>\n",
       "      <td>Whaley Paul</td>\n",
       "    </tr>\n",
       "    <tr>\n",
       "      <th>7005972287</th>\n",
       "      <td>Whaley_Paul W.</td>\n",
       "    </tr>\n",
       "    <tr>\n",
       "      <th>8130334200</th>\n",
       "      <td>Whaley_Paul M.</td>\n",
       "    </tr>\n",
       "    <tr>\n",
       "      <th>15066269900</th>\n",
       "      <td>Whaley_Paul D.</td>\n",
       "    </tr>\n",
       "    <tr>\n",
       "      <th>55444568100</th>\n",
       "      <td>Whaley_Paul A</td>\n",
       "    </tr>\n",
       "    <tr>\n",
       "      <th>57006461700</th>\n",
       "      <td>Whaley_Paul</td>\n",
       "    </tr>\n",
       "  </tbody>\n",
       "</table>\n",
       "</div>"
      ],
      "text/plain": [
       "                       name\n",
       "authid                     \n",
       "7005972278      Whaley Paul\n",
       "7005972287   Whaley_Paul W.\n",
       "8130334200   Whaley_Paul M.\n",
       "15066269900  Whaley_Paul D.\n",
       "55444568100   Whaley_Paul A\n",
       "57006461700     Whaley_Paul"
      ]
     },
     "execution_count": 68,
     "metadata": {},
     "output_type": "execute_result"
    }
   ],
   "source": [
    "author_name_df[author_name_df['name'].str.contains('Paul') & author_name_df['name'].str.contains('Whaley')]"
   ]
  },
  {
   "cell_type": "code",
   "execution_count": 70,
   "id": "212b3416-b633-4367-a7d5-cbc6d1b1ddc6",
   "metadata": {
    "execution": {
     "iopub.execute_input": "2025-02-01T20:49:36.874130Z",
     "iopub.status.busy": "2025-02-01T20:49:36.873968Z",
     "iopub.status.idle": "2025-02-01T20:49:39.557453Z",
     "shell.execute_reply": "2025-02-01T20:49:39.557031Z",
     "shell.execute_reply.started": "2025-02-01T20:49:36.874119Z"
    }
   },
   "outputs": [],
   "source": [
    "year_df = pd.read_pickle('/disks/qnap3/shared/scopus-24/data/paper/year.pickle')\n",
    "year_df = pd.DataFrame(year_df)\n",
    "year_df.reset_index(inplace=True)\n",
    "year_df.rename(columns={'index':'eid'},inplace=True)"
   ]
  },
  {
   "cell_type": "code",
   "execution_count": 71,
   "id": "ca342e60-a1b9-4f7b-b460-2b5383096551",
   "metadata": {
    "execution": {
     "iopub.execute_input": "2025-02-01T20:50:12.344931Z",
     "iopub.status.busy": "2025-02-01T20:50:12.344768Z",
     "iopub.status.idle": "2025-02-01T20:50:12.348155Z",
     "shell.execute_reply": "2025-02-01T20:50:12.347664Z",
     "shell.execute_reply.started": "2025-02-01T20:50:12.344919Z"
    }
   },
   "outputs": [],
   "source": [
    "author_paperlist_df_explode.rename(columns={'author_paperlist':'eid'},inplace=True)"
   ]
  },
  {
   "cell_type": "code",
   "execution_count": 73,
   "id": "c67feb1f-3243-4d65-a12b-418b7035ce74",
   "metadata": {
    "execution": {
     "iopub.execute_input": "2025-02-01T20:50:40.714508Z",
     "iopub.status.busy": "2025-02-01T20:50:40.714184Z",
     "iopub.status.idle": "2025-02-01T20:53:18.734587Z",
     "shell.execute_reply": "2025-02-01T20:53:18.734145Z",
     "shell.execute_reply.started": "2025-02-01T20:50:40.714482Z"
    }
   },
   "outputs": [
    {
     "ename": "KeyboardInterrupt",
     "evalue": "",
     "output_type": "error",
     "traceback": [
      "\u001b[0;31m---------------------------------------------------------------------------\u001b[0m",
      "\u001b[0;31mKeyboardInterrupt\u001b[0m                         Traceback (most recent call last)",
      "Cell \u001b[0;32mIn[73], line 1\u001b[0m\n\u001b[0;32m----> 1\u001b[0m author_paperlist_df_explode \u001b[38;5;241m=\u001b[39m pd\u001b[38;5;241m.\u001b[39mmerge(author_paperlist_df_explode, year_df, on\u001b[38;5;241m=\u001b[39m\u001b[38;5;124m'\u001b[39m\u001b[38;5;124meid\u001b[39m\u001b[38;5;124m'\u001b[39m, how\u001b[38;5;241m=\u001b[39m\u001b[38;5;124m'\u001b[39m\u001b[38;5;124mleft\u001b[39m\u001b[38;5;124m'\u001b[39m)\n",
      "File \u001b[0;32m/opt/conda/lib/python3.12/site-packages/pandas/core/reshape/merge.py:184\u001b[0m, in \u001b[0;36mmerge\u001b[0;34m(left, right, how, on, left_on, right_on, left_index, right_index, sort, suffixes, copy, indicator, validate)\u001b[0m\n\u001b[1;32m    169\u001b[0m \u001b[38;5;28;01melse\u001b[39;00m:\n\u001b[1;32m    170\u001b[0m     op \u001b[38;5;241m=\u001b[39m _MergeOperation(\n\u001b[1;32m    171\u001b[0m         left_df,\n\u001b[1;32m    172\u001b[0m         right_df,\n\u001b[0;32m   (...)\u001b[0m\n\u001b[1;32m    182\u001b[0m         validate\u001b[38;5;241m=\u001b[39mvalidate,\n\u001b[1;32m    183\u001b[0m     )\n\u001b[0;32m--> 184\u001b[0m     \u001b[38;5;28;01mreturn\u001b[39;00m op\u001b[38;5;241m.\u001b[39mget_result(copy\u001b[38;5;241m=\u001b[39mcopy)\n",
      "File \u001b[0;32m/opt/conda/lib/python3.12/site-packages/pandas/core/reshape/merge.py:886\u001b[0m, in \u001b[0;36m_MergeOperation.get_result\u001b[0;34m(self, copy)\u001b[0m\n\u001b[1;32m    883\u001b[0m \u001b[38;5;28;01mif\u001b[39;00m \u001b[38;5;28mself\u001b[39m\u001b[38;5;241m.\u001b[39mindicator:\n\u001b[1;32m    884\u001b[0m     \u001b[38;5;28mself\u001b[39m\u001b[38;5;241m.\u001b[39mleft, \u001b[38;5;28mself\u001b[39m\u001b[38;5;241m.\u001b[39mright \u001b[38;5;241m=\u001b[39m \u001b[38;5;28mself\u001b[39m\u001b[38;5;241m.\u001b[39m_indicator_pre_merge(\u001b[38;5;28mself\u001b[39m\u001b[38;5;241m.\u001b[39mleft, \u001b[38;5;28mself\u001b[39m\u001b[38;5;241m.\u001b[39mright)\n\u001b[0;32m--> 886\u001b[0m join_index, left_indexer, right_indexer \u001b[38;5;241m=\u001b[39m \u001b[38;5;28mself\u001b[39m\u001b[38;5;241m.\u001b[39m_get_join_info()\n\u001b[1;32m    888\u001b[0m result \u001b[38;5;241m=\u001b[39m \u001b[38;5;28mself\u001b[39m\u001b[38;5;241m.\u001b[39m_reindex_and_concat(\n\u001b[1;32m    889\u001b[0m     join_index, left_indexer, right_indexer, copy\u001b[38;5;241m=\u001b[39mcopy\n\u001b[1;32m    890\u001b[0m )\n\u001b[1;32m    891\u001b[0m result \u001b[38;5;241m=\u001b[39m result\u001b[38;5;241m.\u001b[39m__finalize__(\u001b[38;5;28mself\u001b[39m, method\u001b[38;5;241m=\u001b[39m\u001b[38;5;28mself\u001b[39m\u001b[38;5;241m.\u001b[39m_merge_type)\n",
      "File \u001b[0;32m/opt/conda/lib/python3.12/site-packages/pandas/core/reshape/merge.py:1151\u001b[0m, in \u001b[0;36m_MergeOperation._get_join_info\u001b[0;34m(self)\u001b[0m\n\u001b[1;32m   1147\u001b[0m     join_index, right_indexer, left_indexer \u001b[38;5;241m=\u001b[39m _left_join_on_index(\n\u001b[1;32m   1148\u001b[0m         right_ax, left_ax, \u001b[38;5;28mself\u001b[39m\u001b[38;5;241m.\u001b[39mright_join_keys, sort\u001b[38;5;241m=\u001b[39m\u001b[38;5;28mself\u001b[39m\u001b[38;5;241m.\u001b[39msort\n\u001b[1;32m   1149\u001b[0m     )\n\u001b[1;32m   1150\u001b[0m \u001b[38;5;28;01melse\u001b[39;00m:\n\u001b[0;32m-> 1151\u001b[0m     (left_indexer, right_indexer) \u001b[38;5;241m=\u001b[39m \u001b[38;5;28mself\u001b[39m\u001b[38;5;241m.\u001b[39m_get_join_indexers()\n\u001b[1;32m   1153\u001b[0m     \u001b[38;5;28;01mif\u001b[39;00m \u001b[38;5;28mself\u001b[39m\u001b[38;5;241m.\u001b[39mright_index:\n\u001b[1;32m   1154\u001b[0m         \u001b[38;5;28;01mif\u001b[39;00m \u001b[38;5;28mlen\u001b[39m(\u001b[38;5;28mself\u001b[39m\u001b[38;5;241m.\u001b[39mleft) \u001b[38;5;241m>\u001b[39m \u001b[38;5;241m0\u001b[39m:\n",
      "File \u001b[0;32m/opt/conda/lib/python3.12/site-packages/pandas/core/reshape/merge.py:1125\u001b[0m, in \u001b[0;36m_MergeOperation._get_join_indexers\u001b[0;34m(self)\u001b[0m\n\u001b[1;32m   1123\u001b[0m \u001b[38;5;66;03m# make mypy happy\u001b[39;00m\n\u001b[1;32m   1124\u001b[0m \u001b[38;5;28;01massert\u001b[39;00m \u001b[38;5;28mself\u001b[39m\u001b[38;5;241m.\u001b[39mhow \u001b[38;5;241m!=\u001b[39m \u001b[38;5;124m\"\u001b[39m\u001b[38;5;124masof\u001b[39m\u001b[38;5;124m\"\u001b[39m\n\u001b[0;32m-> 1125\u001b[0m \u001b[38;5;28;01mreturn\u001b[39;00m get_join_indexers(\n\u001b[1;32m   1126\u001b[0m     \u001b[38;5;28mself\u001b[39m\u001b[38;5;241m.\u001b[39mleft_join_keys, \u001b[38;5;28mself\u001b[39m\u001b[38;5;241m.\u001b[39mright_join_keys, sort\u001b[38;5;241m=\u001b[39m\u001b[38;5;28mself\u001b[39m\u001b[38;5;241m.\u001b[39msort, how\u001b[38;5;241m=\u001b[39m\u001b[38;5;28mself\u001b[39m\u001b[38;5;241m.\u001b[39mhow\n\u001b[1;32m   1127\u001b[0m )\n",
      "File \u001b[0;32m/opt/conda/lib/python3.12/site-packages/pandas/core/reshape/merge.py:1759\u001b[0m, in \u001b[0;36mget_join_indexers\u001b[0;34m(left_keys, right_keys, sort, how)\u001b[0m\n\u001b[1;32m   1757\u001b[0m     _, lidx, ridx \u001b[38;5;241m=\u001b[39m left\u001b[38;5;241m.\u001b[39mjoin(right, how\u001b[38;5;241m=\u001b[39mhow, return_indexers\u001b[38;5;241m=\u001b[39m\u001b[38;5;28;01mTrue\u001b[39;00m, sort\u001b[38;5;241m=\u001b[39msort)\n\u001b[1;32m   1758\u001b[0m \u001b[38;5;28;01melse\u001b[39;00m:\n\u001b[0;32m-> 1759\u001b[0m     lidx, ridx \u001b[38;5;241m=\u001b[39m get_join_indexers_non_unique(\n\u001b[1;32m   1760\u001b[0m         left\u001b[38;5;241m.\u001b[39m_values, right\u001b[38;5;241m.\u001b[39m_values, sort, how\n\u001b[1;32m   1761\u001b[0m     )\n\u001b[1;32m   1763\u001b[0m \u001b[38;5;28;01mif\u001b[39;00m lidx \u001b[38;5;129;01mis\u001b[39;00m \u001b[38;5;129;01mnot\u001b[39;00m \u001b[38;5;28;01mNone\u001b[39;00m \u001b[38;5;129;01mand\u001b[39;00m is_range_indexer(lidx, \u001b[38;5;28mlen\u001b[39m(left)):\n\u001b[1;32m   1764\u001b[0m     lidx \u001b[38;5;241m=\u001b[39m \u001b[38;5;28;01mNone\u001b[39;00m\n",
      "File \u001b[0;32m/opt/conda/lib/python3.12/site-packages/pandas/core/reshape/merge.py:1793\u001b[0m, in \u001b[0;36mget_join_indexers_non_unique\u001b[0;34m(left, right, sort, how)\u001b[0m\n\u001b[1;32m   1770\u001b[0m \u001b[38;5;28;01mdef\u001b[39;00m \u001b[38;5;21mget_join_indexers_non_unique\u001b[39m(\n\u001b[1;32m   1771\u001b[0m     left: ArrayLike,\n\u001b[1;32m   1772\u001b[0m     right: ArrayLike,\n\u001b[1;32m   1773\u001b[0m     sort: \u001b[38;5;28mbool\u001b[39m \u001b[38;5;241m=\u001b[39m \u001b[38;5;28;01mFalse\u001b[39;00m,\n\u001b[1;32m   1774\u001b[0m     how: JoinHow \u001b[38;5;241m=\u001b[39m \u001b[38;5;124m\"\u001b[39m\u001b[38;5;124minner\u001b[39m\u001b[38;5;124m\"\u001b[39m,\n\u001b[1;32m   1775\u001b[0m ) \u001b[38;5;241m-\u001b[39m\u001b[38;5;241m>\u001b[39m \u001b[38;5;28mtuple\u001b[39m[npt\u001b[38;5;241m.\u001b[39mNDArray[np\u001b[38;5;241m.\u001b[39mintp], npt\u001b[38;5;241m.\u001b[39mNDArray[np\u001b[38;5;241m.\u001b[39mintp]]:\n\u001b[1;32m   1776\u001b[0m \u001b[38;5;250m    \u001b[39m\u001b[38;5;124;03m\"\"\"\u001b[39;00m\n\u001b[1;32m   1777\u001b[0m \u001b[38;5;124;03m    Get join indexers for left and right.\u001b[39;00m\n\u001b[1;32m   1778\u001b[0m \n\u001b[0;32m   (...)\u001b[0m\n\u001b[1;32m   1791\u001b[0m \u001b[38;5;124;03m        Indexer into right.\u001b[39;00m\n\u001b[1;32m   1792\u001b[0m \u001b[38;5;124;03m    \"\"\"\u001b[39;00m\n\u001b[0;32m-> 1793\u001b[0m     lkey, rkey, count \u001b[38;5;241m=\u001b[39m _factorize_keys(left, right, sort\u001b[38;5;241m=\u001b[39msort)\n\u001b[1;32m   1794\u001b[0m     \u001b[38;5;28;01mif\u001b[39;00m how \u001b[38;5;241m==\u001b[39m \u001b[38;5;124m\"\u001b[39m\u001b[38;5;124mleft\u001b[39m\u001b[38;5;124m\"\u001b[39m:\n\u001b[1;32m   1795\u001b[0m         lidx, ridx \u001b[38;5;241m=\u001b[39m libjoin\u001b[38;5;241m.\u001b[39mleft_outer_join(lkey, rkey, count, sort\u001b[38;5;241m=\u001b[39msort)\n",
      "File \u001b[0;32m/opt/conda/lib/python3.12/site-packages/pandas/core/reshape/merge.py:2561\u001b[0m, in \u001b[0;36m_factorize_keys\u001b[0;34m(lk, rk, sort)\u001b[0m\n\u001b[1;32m   2554\u001b[0m     rlab \u001b[38;5;241m=\u001b[39m rizer\u001b[38;5;241m.\u001b[39mfactorize(\n\u001b[1;32m   2555\u001b[0m         rk\u001b[38;5;241m.\u001b[39mto_numpy(na_value\u001b[38;5;241m=\u001b[39m\u001b[38;5;241m1\u001b[39m, dtype\u001b[38;5;241m=\u001b[39mlk\u001b[38;5;241m.\u001b[39mdtype\u001b[38;5;241m.\u001b[39mnumpy_dtype), mask\u001b[38;5;241m=\u001b[39mrk\u001b[38;5;241m.\u001b[39misna()\n\u001b[1;32m   2556\u001b[0m     )\n\u001b[1;32m   2557\u001b[0m \u001b[38;5;28;01melse\u001b[39;00m:\n\u001b[1;32m   2558\u001b[0m     \u001b[38;5;66;03m# Argument 1 to \"factorize\" of \"ObjectFactorizer\" has incompatible type\u001b[39;00m\n\u001b[1;32m   2559\u001b[0m     \u001b[38;5;66;03m# \"Union[ndarray[Any, dtype[signedinteger[_64Bit]]],\u001b[39;00m\n\u001b[1;32m   2560\u001b[0m     \u001b[38;5;66;03m# ndarray[Any, dtype[object_]]]\"; expected \"ndarray[Any, dtype[object_]]\"\u001b[39;00m\n\u001b[0;32m-> 2561\u001b[0m     llab \u001b[38;5;241m=\u001b[39m rizer\u001b[38;5;241m.\u001b[39mfactorize(lk)  \u001b[38;5;66;03m# type: ignore[arg-type]\u001b[39;00m\n\u001b[1;32m   2562\u001b[0m     rlab \u001b[38;5;241m=\u001b[39m rizer\u001b[38;5;241m.\u001b[39mfactorize(rk)  \u001b[38;5;66;03m# type: ignore[arg-type]\u001b[39;00m\n\u001b[1;32m   2563\u001b[0m \u001b[38;5;28;01massert\u001b[39;00m llab\u001b[38;5;241m.\u001b[39mdtype \u001b[38;5;241m==\u001b[39m np\u001b[38;5;241m.\u001b[39mdtype(np\u001b[38;5;241m.\u001b[39mintp), llab\u001b[38;5;241m.\u001b[39mdtype\n",
      "\u001b[0;31mKeyboardInterrupt\u001b[0m: "
     ]
    }
   ],
   "source": [
    "author_paperlist_df_explode = pd.merge(author_paperlist_df_explode, year_df, on='eid', how='left')"
   ]
  },
  {
   "cell_type": "code",
   "execution_count": null,
   "id": "9c80ecb0-9070-412b-8634-8615da573b9b",
   "metadata": {},
   "outputs": [],
   "source": []
  },
  {
   "cell_type": "code",
   "execution_count": null,
   "id": "769b1e71-37ce-4774-8f1e-03db53032794",
   "metadata": {},
   "outputs": [],
   "source": []
  },
  {
   "cell_type": "code",
   "execution_count": null,
   "id": "2d350210-c6b8-49d8-a9ae-cb7fbfefda02",
   "metadata": {},
   "outputs": [],
   "source": []
  },
  {
   "cell_type": "code",
   "execution_count": null,
   "id": "0f7929de-32e3-4b61-84b3-e6662f12a8af",
   "metadata": {},
   "outputs": [],
   "source": []
  },
  {
   "cell_type": "code",
   "execution_count": null,
   "id": "504d49d0-73ac-4d4a-8f8b-64a0d703b2c8",
   "metadata": {},
   "outputs": [],
   "source": []
  },
  {
   "cell_type": "code",
   "execution_count": null,
   "id": "ca7d7f57-341a-4dd8-bbac-ae4ef0bd3f5e",
   "metadata": {},
   "outputs": [],
   "source": []
  },
  {
   "cell_type": "code",
   "execution_count": null,
   "id": "9f928616-a7af-47ce-910a-b338de2cece4",
   "metadata": {},
   "outputs": [],
   "source": []
  },
  {
   "cell_type": "code",
   "execution_count": null,
   "id": "4f8c1b31-9b18-426a-b85e-309e6493d6c5",
   "metadata": {},
   "outputs": [],
   "source": []
  },
  {
   "cell_type": "code",
   "execution_count": null,
   "id": "4b850bcc-64c1-4973-ba7e-349b67a34ce3",
   "metadata": {},
   "outputs": [],
   "source": []
  },
  {
   "cell_type": "code",
   "execution_count": null,
   "id": "40606be0-f368-4c34-a36e-d2eecdbfdfe3",
   "metadata": {},
   "outputs": [],
   "source": []
  },
  {
   "cell_type": "code",
   "execution_count": null,
   "id": "63692c92-6d49-4d57-82b5-a643d7d5c048",
   "metadata": {},
   "outputs": [],
   "source": []
  },
  {
   "cell_type": "code",
   "execution_count": null,
   "id": "761cdcf7-8197-412c-b0d4-44b5072a9443",
   "metadata": {},
   "outputs": [],
   "source": []
  },
  {
   "cell_type": "code",
   "execution_count": null,
   "id": "b38d280a-88f3-494d-a433-d140ce648b77",
   "metadata": {},
   "outputs": [],
   "source": []
  },
  {
   "cell_type": "code",
   "execution_count": 17,
   "id": "32092de2-f712-493b-8b6f-dd06963bf012",
   "metadata": {
    "execution": {
     "iopub.execute_input": "2025-02-01T18:27:05.919450Z",
     "iopub.status.busy": "2025-02-01T18:27:05.919350Z",
     "iopub.status.idle": "2025-02-01T18:27:05.921806Z",
     "shell.execute_reply": "2025-02-01T18:27:05.921528Z",
     "shell.execute_reply.started": "2025-02-01T18:27:05.919440Z"
    }
   },
   "outputs": [
    {
     "name": "stderr",
     "output_type": "stream",
     "text": [
      "/tmp/ipykernel_3235756/3570138603.py:1: SettingWithCopyWarning: \n",
      "A value is trying to be set on a copy of a slice from a DataFrame\n",
      "\n",
      "See the caveats in the documentation: https://pandas.pydata.org/pandas-docs/stable/user_guide/indexing.html#returning-a-view-versus-a-copy\n",
      "  author_paperlist_df_explode1.rename(columns={'author_paperlist':'eid'},inplace=True)\n"
     ]
    }
   ],
   "source": [
    "author_paperlist_df_explode1.rename(columns={'author_paperlist':'eid'},inplace=True)"
   ]
  },
  {
   "cell_type": "code",
   "execution_count": null,
   "id": "f1b94908-0e47-4cb3-95d8-8985aefe0278",
   "metadata": {},
   "outputs": [],
   "source": []
  },
  {
   "cell_type": "code",
   "execution_count": 18,
   "id": "e916211e-8a5d-4525-b2f4-3f47ff2873c9",
   "metadata": {
    "execution": {
     "iopub.execute_input": "2025-02-01T18:27:05.922270Z",
     "iopub.status.busy": "2025-02-01T18:27:05.922174Z",
     "iopub.status.idle": "2025-02-01T18:27:05.971906Z",
     "shell.execute_reply": "2025-02-01T18:27:05.971571Z",
     "shell.execute_reply.started": "2025-02-01T18:27:05.922261Z"
    }
   },
   "outputs": [],
   "source": [
    "author_paperlist_df_explode1.reset_index(inplace=True)"
   ]
  },
  {
   "cell_type": "code",
   "execution_count": null,
   "id": "c6fd6087-3079-489b-a1cf-c6b1d86add7d",
   "metadata": {},
   "outputs": [],
   "source": [
    "authid_list = [35780677200 if x == 7006806977 else 57206422848 if x == 54791745100  else 57219144066 if x == 55588756600  else 57219144066 if x == 57191727610  else 57219144066 if x == 14037485900 else x for x in boradmember_authid]"
   ]
  },
  {
   "cell_type": "code",
   "execution_count": 21,
   "id": "b1549be7-107f-4ee3-8e58-8bc838766a52",
   "metadata": {
    "execution": {
     "iopub.execute_input": "2025-02-01T18:29:00.193067Z",
     "iopub.status.busy": "2025-02-01T18:29:00.192760Z",
     "iopub.status.idle": "2025-02-01T18:29:18.088395Z",
     "shell.execute_reply": "2025-02-01T18:29:18.087653Z",
     "shell.execute_reply.started": "2025-02-01T18:29:00.193049Z"
    }
   },
   "outputs": [
    {
     "name": "stderr",
     "output_type": "stream",
     "text": [
      "/tmp/ipykernel_3235756/506849102.py:1: FutureWarning: Downcasting behavior in `replace` is deprecated and will be removed in a future version. To retain the old behavior, explicitly call `result.infer_objects(copy=False)`. To opt-in to the future behavior, set `pd.set_option('future.no_silent_downcasting', True)`\n",
      "  author_paperlist_df_explode1.replace({7006806977:35780677200, 54791745100:57206422848, 55588756600:57219144066, 57191727610:57219144066, 14037485900:57219144066},inplace=True)\n",
      "/tmp/ipykernel_3235756/506849102.py:1: SettingWithCopyWarning: \n",
      "A value is trying to be set on a copy of a slice from a DataFrame\n",
      "\n",
      "See the caveats in the documentation: https://pandas.pydata.org/pandas-docs/stable/user_guide/indexing.html#returning-a-view-versus-a-copy\n",
      "  author_paperlist_df_explode1.replace({7006806977:35780677200, 54791745100:57206422848, 55588756600:57219144066, 57191727610:57219144066, 14037485900:57219144066},inplace=True)\n"
     ]
    }
   ],
   "source": [
    "author_paperlist_df_explode1.replace({7006806977:35780677200, 54791745100:57206422848, 55588756600:57219144066, 57191727610:57219144066, 14037485900:57219144066},inplace=True)"
   ]
  },
  {
   "cell_type": "code",
   "execution_count": 22,
   "id": "84ad55e6-ecd7-4815-a711-037e43a9acac",
   "metadata": {
    "execution": {
     "iopub.execute_input": "2025-02-01T18:29:18.089360Z",
     "iopub.status.busy": "2025-02-01T18:29:18.089230Z",
     "iopub.status.idle": "2025-02-01T18:29:18.094084Z",
     "shell.execute_reply": "2025-02-01T18:29:18.093646Z",
     "shell.execute_reply.started": "2025-02-01T18:29:18.089349Z"
    }
   },
   "outputs": [
    {
     "data": {
      "text/html": [
       "<div>\n",
       "<style scoped>\n",
       "    .dataframe tbody tr th:only-of-type {\n",
       "        vertical-align: middle;\n",
       "    }\n",
       "\n",
       "    .dataframe tbody tr th {\n",
       "        vertical-align: top;\n",
       "    }\n",
       "\n",
       "    .dataframe thead th {\n",
       "        text-align: right;\n",
       "    }\n",
       "</style>\n",
       "<table border=\"1\" class=\"dataframe\">\n",
       "  <thead>\n",
       "    <tr style=\"text-align: right;\">\n",
       "      <th></th>\n",
       "      <th>authids</th>\n",
       "      <th>eid</th>\n",
       "    </tr>\n",
       "  </thead>\n",
       "  <tbody>\n",
       "    <tr>\n",
       "      <th>0</th>\n",
       "      <td>1</td>\n",
       "      <td>84856118157</td>\n",
       "    </tr>\n",
       "    <tr>\n",
       "      <th>1</th>\n",
       "      <td>1</td>\n",
       "      <td>84870417135</td>\n",
       "    </tr>\n",
       "    <tr>\n",
       "      <th>2</th>\n",
       "      <td>1</td>\n",
       "      <td>84979851779</td>\n",
       "    </tr>\n",
       "    <tr>\n",
       "      <th>3</th>\n",
       "      <td>1</td>\n",
       "      <td>84920487604</td>\n",
       "    </tr>\n",
       "    <tr>\n",
       "      <th>4</th>\n",
       "      <td>1</td>\n",
       "      <td>85086202528</td>\n",
       "    </tr>\n",
       "  </tbody>\n",
       "</table>\n",
       "</div>"
      ],
      "text/plain": [
       "   authids          eid\n",
       "0        1  84856118157\n",
       "1        1  84870417135\n",
       "2        1  84979851779\n",
       "3        1  84920487604\n",
       "4        1  85086202528"
      ]
     },
     "execution_count": 22,
     "metadata": {},
     "output_type": "execute_result"
    }
   ],
   "source": [
    "author_paperlist_df_explode1.head()"
   ]
  },
  {
   "cell_type": "code",
   "execution_count": 38,
   "id": "6374cc65-cb8c-4306-bb41-3d9d16b69f49",
   "metadata": {
    "execution": {
     "iopub.execute_input": "2025-02-01T18:35:25.448690Z",
     "iopub.status.busy": "2025-02-01T18:35:25.448370Z",
     "iopub.status.idle": "2025-02-01T18:35:25.484076Z",
     "shell.execute_reply": "2025-02-01T18:35:25.483301Z",
     "shell.execute_reply.started": "2025-02-01T18:35:25.448663Z"
    },
    "scrolled": true
   },
   "outputs": [
    {
     "data": {
      "text/html": [
       "<div>\n",
       "<style scoped>\n",
       "    .dataframe tbody tr th:only-of-type {\n",
       "        vertical-align: middle;\n",
       "    }\n",
       "\n",
       "    .dataframe tbody tr th {\n",
       "        vertical-align: top;\n",
       "    }\n",
       "\n",
       "    .dataframe thead th {\n",
       "        text-align: right;\n",
       "    }\n",
       "</style>\n",
       "<table border=\"1\" class=\"dataframe\">\n",
       "  <thead>\n",
       "    <tr style=\"text-align: right;\">\n",
       "      <th></th>\n",
       "      <th>authids</th>\n",
       "      <th>eid</th>\n",
       "    </tr>\n",
       "  </thead>\n",
       "  <tbody>\n",
       "    <tr>\n",
       "      <th>38352218</th>\n",
       "      <td>57219144066</td>\n",
       "      <td>79958131488</td>\n",
       "    </tr>\n",
       "    <tr>\n",
       "      <th>38352219</th>\n",
       "      <td>57219144066</td>\n",
       "      <td>79959553278</td>\n",
       "    </tr>\n",
       "    <tr>\n",
       "      <th>38352220</th>\n",
       "      <td>57219144066</td>\n",
       "      <td>79960237807</td>\n",
       "    </tr>\n",
       "    <tr>\n",
       "      <th>38352221</th>\n",
       "      <td>57219144066</td>\n",
       "      <td>79951598007</td>\n",
       "    </tr>\n",
       "    <tr>\n",
       "      <th>38352222</th>\n",
       "      <td>57219144066</td>\n",
       "      <td>79953054553</td>\n",
       "    </tr>\n",
       "    <tr>\n",
       "      <th>38352223</th>\n",
       "      <td>57219144066</td>\n",
       "      <td>82955170699</td>\n",
       "    </tr>\n",
       "    <tr>\n",
       "      <th>38352224</th>\n",
       "      <td>57219144066</td>\n",
       "      <td>82755162803</td>\n",
       "    </tr>\n",
       "    <tr>\n",
       "      <th>38352225</th>\n",
       "      <td>57219144066</td>\n",
       "      <td>84855845383</td>\n",
       "    </tr>\n",
       "    <tr>\n",
       "      <th>38352226</th>\n",
       "      <td>57219144066</td>\n",
       "      <td>80051663466</td>\n",
       "    </tr>\n",
       "    <tr>\n",
       "      <th>38352227</th>\n",
       "      <td>57219144066</td>\n",
       "      <td>84865531110</td>\n",
       "    </tr>\n",
       "    <tr>\n",
       "      <th>38352228</th>\n",
       "      <td>57219144066</td>\n",
       "      <td>84865515567</td>\n",
       "    </tr>\n",
       "    <tr>\n",
       "      <th>38352229</th>\n",
       "      <td>57219144066</td>\n",
       "      <td>84866898636</td>\n",
       "    </tr>\n",
       "    <tr>\n",
       "      <th>38352230</th>\n",
       "      <td>57219144066</td>\n",
       "      <td>84863776825</td>\n",
       "    </tr>\n",
       "    <tr>\n",
       "      <th>38352231</th>\n",
       "      <td>57219144066</td>\n",
       "      <td>84867381408</td>\n",
       "    </tr>\n",
       "    <tr>\n",
       "      <th>38352232</th>\n",
       "      <td>57219144066</td>\n",
       "      <td>84868622125</td>\n",
       "    </tr>\n",
       "    <tr>\n",
       "      <th>38352233</th>\n",
       "      <td>57219144066</td>\n",
       "      <td>84859104326</td>\n",
       "    </tr>\n",
       "    <tr>\n",
       "      <th>38352234</th>\n",
       "      <td>57219144066</td>\n",
       "      <td>84859791782</td>\n",
       "    </tr>\n",
       "    <tr>\n",
       "      <th>38352235</th>\n",
       "      <td>57219144066</td>\n",
       "      <td>84859498609</td>\n",
       "    </tr>\n",
       "    <tr>\n",
       "      <th>38352236</th>\n",
       "      <td>57219144066</td>\n",
       "      <td>84857025514</td>\n",
       "    </tr>\n",
       "    <tr>\n",
       "      <th>38352237</th>\n",
       "      <td>57219144066</td>\n",
       "      <td>84857371079</td>\n",
       "    </tr>\n",
       "    <tr>\n",
       "      <th>38352238</th>\n",
       "      <td>57219144066</td>\n",
       "      <td>84856617041</td>\n",
       "    </tr>\n",
       "    <tr>\n",
       "      <th>38352239</th>\n",
       "      <td>57219144066</td>\n",
       "      <td>84879886852</td>\n",
       "    </tr>\n",
       "    <tr>\n",
       "      <th>38352240</th>\n",
       "      <td>57219144066</td>\n",
       "      <td>84882631139</td>\n",
       "    </tr>\n",
       "    <tr>\n",
       "      <th>38352241</th>\n",
       "      <td>57219144066</td>\n",
       "      <td>84875980573</td>\n",
       "    </tr>\n",
       "    <tr>\n",
       "      <th>38352242</th>\n",
       "      <td>57219144066</td>\n",
       "      <td>84878619669</td>\n",
       "    </tr>\n",
       "    <tr>\n",
       "      <th>38352243</th>\n",
       "      <td>57219144066</td>\n",
       "      <td>84883282798</td>\n",
       "    </tr>\n",
       "    <tr>\n",
       "      <th>38352244</th>\n",
       "      <td>57219144066</td>\n",
       "      <td>85024109523</td>\n",
       "    </tr>\n",
       "    <tr>\n",
       "      <th>38352245</th>\n",
       "      <td>57219144066</td>\n",
       "      <td>84927699517</td>\n",
       "    </tr>\n",
       "    <tr>\n",
       "      <th>38352246</th>\n",
       "      <td>57219144066</td>\n",
       "      <td>84988579254</td>\n",
       "    </tr>\n",
       "    <tr>\n",
       "      <th>38352247</th>\n",
       "      <td>57219144066</td>\n",
       "      <td>84988737037</td>\n",
       "    </tr>\n",
       "    <tr>\n",
       "      <th>38352248</th>\n",
       "      <td>57219144066</td>\n",
       "      <td>84904763316</td>\n",
       "    </tr>\n",
       "    <tr>\n",
       "      <th>38352249</th>\n",
       "      <td>57219144066</td>\n",
       "      <td>84896528894</td>\n",
       "    </tr>\n",
       "    <tr>\n",
       "      <th>38352250</th>\n",
       "      <td>57219144066</td>\n",
       "      <td>84914097569</td>\n",
       "    </tr>\n",
       "    <tr>\n",
       "      <th>38352251</th>\n",
       "      <td>57219144066</td>\n",
       "      <td>84907167958</td>\n",
       "    </tr>\n",
       "    <tr>\n",
       "      <th>38352252</th>\n",
       "      <td>57219144066</td>\n",
       "      <td>84897120085</td>\n",
       "    </tr>\n",
       "    <tr>\n",
       "      <th>38352253</th>\n",
       "      <td>57219144066</td>\n",
       "      <td>84899687560</td>\n",
       "    </tr>\n",
       "    <tr>\n",
       "      <th>38352254</th>\n",
       "      <td>57219144066</td>\n",
       "      <td>84899722526</td>\n",
       "    </tr>\n",
       "    <tr>\n",
       "      <th>38352255</th>\n",
       "      <td>57219144066</td>\n",
       "      <td>84894153708</td>\n",
       "    </tr>\n",
       "    <tr>\n",
       "      <th>38352256</th>\n",
       "      <td>57219144066</td>\n",
       "      <td>84890695578</td>\n",
       "    </tr>\n",
       "    <tr>\n",
       "      <th>38352257</th>\n",
       "      <td>57219144066</td>\n",
       "      <td>84891287311</td>\n",
       "    </tr>\n",
       "    <tr>\n",
       "      <th>38352258</th>\n",
       "      <td>57219144066</td>\n",
       "      <td>84939183652</td>\n",
       "    </tr>\n",
       "    <tr>\n",
       "      <th>38352259</th>\n",
       "      <td>57219144066</td>\n",
       "      <td>84918500622</td>\n",
       "    </tr>\n",
       "    <tr>\n",
       "      <th>38352260</th>\n",
       "      <td>57219144066</td>\n",
       "      <td>84928111144</td>\n",
       "    </tr>\n",
       "    <tr>\n",
       "      <th>38352261</th>\n",
       "      <td>57219144066</td>\n",
       "      <td>84926420218</td>\n",
       "    </tr>\n",
       "    <tr>\n",
       "      <th>38352262</th>\n",
       "      <td>57219144066</td>\n",
       "      <td>84939964252</td>\n",
       "    </tr>\n",
       "    <tr>\n",
       "      <th>38352263</th>\n",
       "      <td>57219144066</td>\n",
       "      <td>84936753174</td>\n",
       "    </tr>\n",
       "    <tr>\n",
       "      <th>38352264</th>\n",
       "      <td>57219144066</td>\n",
       "      <td>84920107649</td>\n",
       "    </tr>\n",
       "    <tr>\n",
       "      <th>38352265</th>\n",
       "      <td>57219144066</td>\n",
       "      <td>84920747951</td>\n",
       "    </tr>\n",
       "    <tr>\n",
       "      <th>38352266</th>\n",
       "      <td>57219144066</td>\n",
       "      <td>84920873145</td>\n",
       "    </tr>\n",
       "    <tr>\n",
       "      <th>38352267</th>\n",
       "      <td>57219144066</td>\n",
       "      <td>84937966469</td>\n",
       "    </tr>\n",
       "    <tr>\n",
       "      <th>38352268</th>\n",
       "      <td>57219144066</td>\n",
       "      <td>84911362083</td>\n",
       "    </tr>\n",
       "    <tr>\n",
       "      <th>38352269</th>\n",
       "      <td>57219144066</td>\n",
       "      <td>84924976063</td>\n",
       "    </tr>\n",
       "    <tr>\n",
       "      <th>38352270</th>\n",
       "      <td>57219144066</td>\n",
       "      <td>84924975135</td>\n",
       "    </tr>\n",
       "    <tr>\n",
       "      <th>38352271</th>\n",
       "      <td>57219144066</td>\n",
       "      <td>84942920970</td>\n",
       "    </tr>\n",
       "    <tr>\n",
       "      <th>38352272</th>\n",
       "      <td>57219144066</td>\n",
       "      <td>84942936912</td>\n",
       "    </tr>\n",
       "  </tbody>\n",
       "</table>\n",
       "</div>"
      ],
      "text/plain": [
       "              authids          eid\n",
       "38352218  57219144066  79958131488\n",
       "38352219  57219144066  79959553278\n",
       "38352220  57219144066  79960237807\n",
       "38352221  57219144066  79951598007\n",
       "38352222  57219144066  79953054553\n",
       "38352223  57219144066  82955170699\n",
       "38352224  57219144066  82755162803\n",
       "38352225  57219144066  84855845383\n",
       "38352226  57219144066  80051663466\n",
       "38352227  57219144066  84865531110\n",
       "38352228  57219144066  84865515567\n",
       "38352229  57219144066  84866898636\n",
       "38352230  57219144066  84863776825\n",
       "38352231  57219144066  84867381408\n",
       "38352232  57219144066  84868622125\n",
       "38352233  57219144066  84859104326\n",
       "38352234  57219144066  84859791782\n",
       "38352235  57219144066  84859498609\n",
       "38352236  57219144066  84857025514\n",
       "38352237  57219144066  84857371079\n",
       "38352238  57219144066  84856617041\n",
       "38352239  57219144066  84879886852\n",
       "38352240  57219144066  84882631139\n",
       "38352241  57219144066  84875980573\n",
       "38352242  57219144066  84878619669\n",
       "38352243  57219144066  84883282798\n",
       "38352244  57219144066  85024109523\n",
       "38352245  57219144066  84927699517\n",
       "38352246  57219144066  84988579254\n",
       "38352247  57219144066  84988737037\n",
       "38352248  57219144066  84904763316\n",
       "38352249  57219144066  84896528894\n",
       "38352250  57219144066  84914097569\n",
       "38352251  57219144066  84907167958\n",
       "38352252  57219144066  84897120085\n",
       "38352253  57219144066  84899687560\n",
       "38352254  57219144066  84899722526\n",
       "38352255  57219144066  84894153708\n",
       "38352256  57219144066  84890695578\n",
       "38352257  57219144066  84891287311\n",
       "38352258  57219144066  84939183652\n",
       "38352259  57219144066  84918500622\n",
       "38352260  57219144066  84928111144\n",
       "38352261  57219144066  84926420218\n",
       "38352262  57219144066  84939964252\n",
       "38352263  57219144066  84936753174\n",
       "38352264  57219144066  84920107649\n",
       "38352265  57219144066  84920747951\n",
       "38352266  57219144066  84920873145\n",
       "38352267  57219144066  84937966469\n",
       "38352268  57219144066  84911362083\n",
       "38352269  57219144066  84924976063\n",
       "38352270  57219144066  84924975135\n",
       "38352271  57219144066  84942920970\n",
       "38352272  57219144066  84942936912"
      ]
     },
     "execution_count": 38,
     "metadata": {},
     "output_type": "execute_result"
    }
   ],
   "source": [
    "author_paperlist_df_explode1[author_paperlist_df_explode1['authids']==57219144066]"
   ]
  },
  {
   "cell_type": "code",
   "execution_count": null,
   "id": "79c0cb4b-5381-4e96-8828-1f3d07e5d52b",
   "metadata": {},
   "outputs": [],
   "source": []
  },
  {
   "cell_type": "code",
   "execution_count": 19,
   "id": "1f302a5d-06d9-4647-8ff5-c0cb3025a00a",
   "metadata": {
    "execution": {
     "iopub.execute_input": "2025-02-01T15:06:33.021674Z",
     "iopub.status.busy": "2025-02-01T15:06:33.021351Z",
     "iopub.status.idle": "2025-02-01T15:06:33.029711Z",
     "shell.execute_reply": "2025-02-01T15:06:33.029353Z",
     "shell.execute_reply.started": "2025-02-01T15:06:33.021647Z"
    }
   },
   "outputs": [],
   "source": [
    "# author_paperlist_df_explode1.head(50).to_csv('create_one_hot_for_gpt.csv')"
   ]
  },
  {
   "cell_type": "code",
   "execution_count": 34,
   "id": "22447da3-5056-41f7-b2bf-9ca845f0b4f7",
   "metadata": {
    "execution": {
     "iopub.execute_input": "2025-02-01T18:34:57.172983Z",
     "iopub.status.busy": "2025-02-01T18:34:57.172656Z",
     "iopub.status.idle": "2025-02-01T18:34:58.800706Z",
     "shell.execute_reply": "2025-02-01T18:34:58.800304Z",
     "shell.execute_reply.started": "2025-02-01T18:34:57.172958Z"
    }
   },
   "outputs": [],
   "source": [
    "author_ls = author_paperlist_df_explode1.authids.unique()"
   ]
  },
  {
   "cell_type": "code",
   "execution_count": 35,
   "id": "eab4f5aa-92c7-48bc-bf71-b197046ad17b",
   "metadata": {
    "execution": {
     "iopub.execute_input": "2025-02-01T18:34:59.848091Z",
     "iopub.status.busy": "2025-02-01T18:34:59.847761Z",
     "iopub.status.idle": "2025-02-01T18:34:59.850794Z",
     "shell.execute_reply": "2025-02-01T18:34:59.850541Z",
     "shell.execute_reply.started": "2025-02-01T18:34:59.848079Z"
    }
   },
   "outputs": [
    {
     "data": {
      "text/plain": [
       "11289649"
      ]
     },
     "execution_count": 35,
     "metadata": {},
     "output_type": "execute_result"
    }
   ],
   "source": [
    "len(author_ls)"
   ]
  },
  {
   "cell_type": "code",
   "execution_count": 31,
   "id": "5906718d-5859-4918-a872-dfb4317e66af",
   "metadata": {
    "execution": {
     "iopub.execute_input": "2025-02-01T18:31:39.308516Z",
     "iopub.status.busy": "2025-02-01T18:31:39.308202Z",
     "iopub.status.idle": "2025-02-01T18:31:39.475295Z",
     "shell.execute_reply": "2025-02-01T18:31:39.474475Z",
     "shell.execute_reply.started": "2025-02-01T18:31:39.308490Z"
    }
   },
   "outputs": [
    {
     "name": "stdout",
     "output_type": "stream",
     "text": [
      "Sparse Matrix Shape: (10, 50)\n",
      "Non-zero Elements: 50\n",
      "Saved File Path: /disks/qnap3/users/21-tomokiyo/masters_thesis/source/guide_line_paper/PSM/all_guideline_ver/memory_test/sparse_one_hot_matrix.npz\n"
     ]
    }
   ],
   "source": [
    "import pandas as pd\n",
    "import numpy as np\n",
    "from scipy.sparse import csr_matrix\n",
    "\n",
    "# CSVを読み込む\n",
    "df = author_paperlist_df_explode1.head(50)\n",
    "\n",
    "# ユニークなauthidsとeidを取得\n",
    "unique_authids = df[\"authids\"].unique()\n",
    "unique_eids = df[\"eid\"].unique()\n",
    "\n",
    "# authidsとeidをインデックスにマッピング\n",
    "authid_to_idx = {authid: idx for idx, authid in enumerate(unique_authids)}\n",
    "eid_to_idx = {eid: idx for idx, eid in enumerate(unique_eids)}\n",
    "\n",
    "# スパース行列用の行・列インデックスを作成\n",
    "row_indices = df[\"authids\"].map(authid_to_idx).values\n",
    "col_indices = df[\"eid\"].map(eid_to_idx).values\n",
    "\n",
    "# スパース行列を作成（エントリはすべて1）\n",
    "sparse_matrix = csr_matrix((np.ones(len(df), dtype=np.int8), (row_indices, col_indices)), \n",
    "                           shape=(len(unique_authids), len(unique_eids)))\n",
    "\n",
    "# スパース行列を圧縮保存\n",
    "output_file = \"/disks/qnap3/users/21-tomokiyo/masters_thesis/source/guide_line_paper/PSM/all_guideline_ver/memory_test/sparse_one_hot_matrix.npz\"\n",
    "np.savez_compressed(output_file, data=sparse_matrix.data, indices=sparse_matrix.indices, indptr=sparse_matrix.indptr, shape=sparse_matrix.shape)\n",
    "\n",
    "print(f\"Sparse Matrix Shape: {sparse_matrix.shape}\")\n",
    "print(f\"Non-zero Elements: {sparse_matrix.nnz}\")\n",
    "print(f\"Saved File Path: {output_file}\")\n"
   ]
  },
  {
   "cell_type": "code",
   "execution_count": 24,
   "id": "ad76ef4c-8dc1-4925-b872-eb487661d6a6",
   "metadata": {
    "execution": {
     "iopub.execute_input": "2025-02-01T15:14:26.516813Z",
     "iopub.status.busy": "2025-02-01T15:14:26.516642Z",
     "iopub.status.idle": "2025-02-01T15:14:26.520256Z",
     "shell.execute_reply": "2025-02-01T15:14:26.519689Z",
     "shell.execute_reply.started": "2025-02-01T15:14:26.516800Z"
    }
   },
   "outputs": [
    {
     "data": {
      "text/plain": [
       "<10x50 sparse matrix of type '<class 'numpy.int8'>'\n",
       "\twith 50 stored elements in Compressed Sparse Row format>"
      ]
     },
     "execution_count": 24,
     "metadata": {},
     "output_type": "execute_result"
    }
   ],
   "source": [
    "sparse_matrix"
   ]
  },
  {
   "cell_type": "code",
   "execution_count": 26,
   "id": "2d5bac06-f17e-4449-87d1-65941e8ce8b9",
   "metadata": {
    "execution": {
     "iopub.execute_input": "2025-02-01T15:16:13.606647Z",
     "iopub.status.busy": "2025-02-01T15:16:13.606319Z",
     "iopub.status.idle": "2025-02-01T15:16:13.616994Z",
     "shell.execute_reply": "2025-02-01T15:16:13.616370Z",
     "shell.execute_reply.started": "2025-02-01T15:16:13.606619Z"
    }
   },
   "outputs": [
    {
     "name": "stdout",
     "output_type": "stream",
     "text": [
      "[[1 1 1 1 1 1 1 1 1 1 1 0 0 0 0 0 0 0 0 0 0 0 0 0 0 0 0 0 0 0 0 0 0 0 0 0\n",
      "  0 0 0 0 0 0 0 0 0 0 0 0 0 0]]\n"
     ]
    }
   ],
   "source": [
    "researcher_index = 0  # 例: 最初の研究者\n",
    "one_hot_vector = sparse_matrix[researcher_index].toarray()\n",
    "\n",
    "print(one_hot_vector)\n"
   ]
  },
  {
   "cell_type": "code",
   "execution_count": 27,
   "id": "6164bdd0-0048-496e-9f8b-602a880a6e50",
   "metadata": {
    "execution": {
     "iopub.execute_input": "2025-02-01T15:16:29.377239Z",
     "iopub.status.busy": "2025-02-01T15:16:29.376913Z",
     "iopub.status.idle": "2025-02-01T15:16:29.383503Z",
     "shell.execute_reply": "2025-02-01T15:16:29.382790Z",
     "shell.execute_reply.started": "2025-02-01T15:16:29.377211Z"
    }
   },
   "outputs": [
    {
     "data": {
      "text/plain": [
       "array([[1, 1, 1, 1, 1, 1, 1, 1, 1, 1, 1, 0, 0, 0, 0, 0, 0, 0, 0, 0, 0, 0,\n",
       "        0, 0, 0, 0, 0, 0, 0, 0, 0, 0, 0, 0, 0, 0, 0, 0, 0, 0, 0, 0, 0, 0,\n",
       "        0, 0, 0, 0, 0, 0],\n",
       "       [0, 0, 0, 0, 0, 0, 0, 0, 0, 0, 0, 1, 0, 0, 0, 0, 0, 0, 0, 0, 0, 0,\n",
       "        0, 0, 0, 0, 0, 0, 0, 0, 0, 0, 0, 0, 0, 0, 0, 0, 0, 0, 0, 0, 0, 0,\n",
       "        0, 0, 0, 0, 0, 0],\n",
       "       [0, 0, 0, 0, 0, 0, 0, 0, 0, 0, 0, 0, 1, 1, 0, 0, 0, 0, 0, 0, 0, 0,\n",
       "        0, 0, 0, 0, 0, 0, 0, 0, 0, 0, 0, 0, 0, 0, 0, 0, 0, 0, 0, 0, 0, 0,\n",
       "        0, 0, 0, 0, 0, 0],\n",
       "       [0, 0, 0, 0, 0, 0, 0, 0, 0, 0, 0, 0, 0, 0, 1, 1, 1, 1, 1, 1, 1, 1,\n",
       "        1, 0, 0, 0, 0, 0, 0, 0, 0, 0, 0, 0, 0, 0, 0, 0, 0, 0, 0, 0, 0, 0,\n",
       "        0, 0, 0, 0, 0, 0],\n",
       "       [0, 0, 0, 0, 0, 0, 0, 0, 0, 0, 0, 0, 0, 0, 0, 0, 0, 0, 0, 0, 0, 0,\n",
       "        0, 1, 1, 1, 1, 1, 1, 1, 1, 1, 1, 1, 1, 1, 1, 1, 1, 1, 1, 0, 0, 0,\n",
       "        0, 0, 0, 0, 0, 0],\n",
       "       [0, 0, 0, 0, 0, 0, 0, 0, 0, 0, 0, 0, 0, 0, 0, 0, 0, 0, 0, 0, 0, 0,\n",
       "        0, 0, 0, 0, 0, 0, 0, 0, 0, 0, 0, 0, 0, 0, 0, 0, 0, 0, 0, 1, 1, 0,\n",
       "        0, 0, 0, 0, 0, 0],\n",
       "       [0, 0, 0, 0, 0, 0, 0, 0, 0, 0, 0, 0, 0, 0, 0, 0, 0, 0, 0, 0, 0, 0,\n",
       "        0, 0, 0, 0, 0, 0, 0, 0, 0, 0, 0, 0, 0, 0, 0, 0, 0, 0, 0, 0, 0, 1,\n",
       "        1, 0, 0, 0, 0, 0],\n",
       "       [0, 0, 0, 0, 0, 0, 0, 0, 0, 0, 0, 0, 0, 0, 0, 0, 0, 0, 0, 0, 0, 0,\n",
       "        0, 0, 0, 0, 0, 0, 0, 0, 0, 0, 0, 0, 0, 0, 0, 0, 0, 0, 0, 0, 0, 0,\n",
       "        0, 1, 0, 0, 0, 0],\n",
       "       [0, 0, 0, 0, 0, 0, 0, 0, 0, 0, 0, 0, 0, 0, 0, 0, 0, 0, 0, 0, 0, 0,\n",
       "        0, 0, 0, 0, 0, 0, 0, 0, 0, 0, 0, 0, 0, 0, 0, 0, 0, 0, 0, 0, 0, 0,\n",
       "        0, 0, 1, 1, 0, 0],\n",
       "       [0, 0, 0, 0, 0, 0, 0, 0, 0, 0, 0, 0, 0, 0, 0, 0, 0, 0, 0, 0, 0, 0,\n",
       "        0, 0, 0, 0, 0, 0, 0, 0, 0, 0, 0, 0, 0, 0, 0, 0, 0, 0, 0, 0, 0, 0,\n",
       "        0, 0, 0, 0, 1, 1]], dtype=int8)"
      ]
     },
     "execution_count": 27,
     "metadata": {},
     "output_type": "execute_result"
    }
   ],
   "source": [
    "sparse_matrix.toarray()"
   ]
  },
  {
   "cell_type": "code",
   "execution_count": 28,
   "id": "08526d02-9624-40c5-8547-ec7d5938f676",
   "metadata": {
    "execution": {
     "iopub.execute_input": "2025-02-01T15:16:59.036819Z",
     "iopub.status.busy": "2025-02-01T15:16:59.036490Z",
     "iopub.status.idle": "2025-02-01T15:16:59.042175Z",
     "shell.execute_reply": "2025-02-01T15:16:59.041434Z",
     "shell.execute_reply.started": "2025-02-01T15:16:59.036792Z"
    }
   },
   "outputs": [
    {
     "data": {
      "text/plain": [
       "{1: 0,\n",
       " 2: 1,\n",
       " 4: 2,\n",
       " 6: 3,\n",
       " 8: 4,\n",
       " 6407167: 5,\n",
       " 6416874: 6,\n",
       " 6835257: 7,\n",
       " 7196578: 8,\n",
       " 9523235: 9}"
      ]
     },
     "execution_count": 28,
     "metadata": {},
     "output_type": "execute_result"
    }
   ],
   "source": [
    "authid_to_idx"
   ]
  },
  {
   "cell_type": "code",
   "execution_count": 29,
   "id": "5e692f1e-7b07-409e-a15e-95952b8e4352",
   "metadata": {
    "execution": {
     "iopub.execute_input": "2025-02-01T15:17:03.166863Z",
     "iopub.status.busy": "2025-02-01T15:17:03.166537Z",
     "iopub.status.idle": "2025-02-01T15:17:03.172755Z",
     "shell.execute_reply": "2025-02-01T15:17:03.172128Z",
     "shell.execute_reply.started": "2025-02-01T15:17:03.166835Z"
    }
   },
   "outputs": [
    {
     "data": {
      "text/plain": [
       "{84856118157: 0,\n",
       " 84870417135: 1,\n",
       " 84979851779: 2,\n",
       " 84920487604: 3,\n",
       " 85086202528: 4,\n",
       " 85169763832: 5,\n",
       " 85139647550: 6,\n",
       " 85082276330: 7,\n",
       " 85140552247: 8,\n",
       " 85140540117: 9,\n",
       " 85140530399: 10,\n",
       " 84958242142: 11,\n",
       " 84928069844: 12,\n",
       " 84941362598: 13,\n",
       " 85112728693: 14,\n",
       " 85124123772: 15,\n",
       " 85124121792: 16,\n",
       " 85124165500: 17,\n",
       " 85124165451: 18,\n",
       " 85124145077: 19,\n",
       " 84970953632: 20,\n",
       " 85069042203: 21,\n",
       " 84979933092: 22,\n",
       " 84866850986: 23,\n",
       " 84859757842: 24,\n",
       " 84860217138: 25,\n",
       " 84880329781: 26,\n",
       " 84874931728: 27,\n",
       " 84875650684: 28,\n",
       " 84931267400: 29,\n",
       " 85052720473: 30,\n",
       " 85031029345: 31,\n",
       " 84906791021: 32,\n",
       " 84907573938: 33,\n",
       " 84892680565: 34,\n",
       " 84928744129: 35,\n",
       " 84929167540: 36,\n",
       " 84929167115: 37,\n",
       " 84943788410: 38,\n",
       " 84960255486: 39,\n",
       " 84940962562: 40,\n",
       " 84907466097: 41,\n",
       " 84949093893: 42,\n",
       " 84901992672: 43,\n",
       " 84937562681: 44,\n",
       " 84925512324: 45,\n",
       " 84937511485: 46,\n",
       " 84943193226: 47,\n",
       " 84878272100: 48,\n",
       " 84878315027: 49}"
      ]
     },
     "execution_count": 29,
     "metadata": {},
     "output_type": "execute_result"
    }
   ],
   "source": [
    "eid_to_idx"
   ]
  },
  {
   "cell_type": "markdown",
   "id": "f4cf8c04-8e3a-4663-8394-80f6ea4f9d50",
   "metadata": {},
   "source": [
    "### 全部のデータに対して実行"
   ]
  },
  {
   "cell_type": "code",
   "execution_count": 32,
   "id": "cf308b87-3bae-4e71-83ce-511585040f52",
   "metadata": {
    "execution": {
     "iopub.execute_input": "2025-02-01T18:32:01.653762Z",
     "iopub.status.busy": "2025-02-01T18:32:01.653375Z",
     "iopub.status.idle": "2025-02-01T18:32:56.547856Z",
     "shell.execute_reply": "2025-02-01T18:32:56.547209Z",
     "shell.execute_reply.started": "2025-02-01T18:32:01.653749Z"
    }
   },
   "outputs": [
    {
     "name": "stdout",
     "output_type": "stream",
     "text": [
      "Sparse Matrix Shape: (11289649, 12237173)\n",
      "Non-zero Elements: 54275863\n",
      "Saved File Path: /disks/qnap3/users/21-tomokiyo/masters_thesis/data/guideline_paper/all_guideline_matching/sparse_one_hot_matrix.npz\n"
     ]
    }
   ],
   "source": [
    "import pandas as pd\n",
    "import numpy as np\n",
    "from scipy.sparse import csr_matrix\n",
    "\n",
    "# CSVを読み込む\n",
    "df = author_paperlist_df_explode1\n",
    "\n",
    "# ユニークなauthidsとeidを取得\n",
    "unique_authids = df[\"authids\"].unique()\n",
    "unique_eids = embedding_eid_ls\n",
    "\n",
    "# authidsとeidをインデックスにマッピング\n",
    "authid_to_idx = {authid: idx for idx, authid in enumerate(unique_authids)}\n",
    "eid_to_idx = {eid: idx for idx, eid in enumerate(unique_eids)}\n",
    "\n",
    "# スパース行列用の行・列インデックスを作成\n",
    "row_indices = df[\"authids\"].map(authid_to_idx).values\n",
    "col_indices = df[\"eid\"].map(eid_to_idx).values\n",
    "\n",
    "# スパース行列を作成（エントリはすべて1）\n",
    "sparse_matrix = csr_matrix((np.ones(len(df), dtype=np.int8), (row_indices, col_indices)), \n",
    "                           shape=(len(unique_authids), len(unique_eids)))\n",
    "\n",
    "# スパース行列を圧縮保存\n",
    "output_file = \"/disks/qnap3/users/21-tomokiyo/masters_thesis/data/guideline_paper/all_guideline_matching/sparse_one_hot_matrix.npz\"\n",
    "np.savez_compressed(output_file, data=sparse_matrix.data, indices=sparse_matrix.indices, indptr=sparse_matrix.indptr, shape=sparse_matrix.shape)\n",
    "\n",
    "print(f\"Sparse Matrix Shape: {sparse_matrix.shape}\")\n",
    "print(f\"Non-zero Elements: {sparse_matrix.nnz}\")\n",
    "print(f\"Saved File Path: {output_file}\")\n"
   ]
  },
  {
   "cell_type": "code",
   "execution_count": 42,
   "id": "3a804756-e5f2-488c-9fdb-0ba7c1b6e4a0",
   "metadata": {
    "execution": {
     "iopub.execute_input": "2025-02-01T16:05:42.769654Z",
     "iopub.status.busy": "2025-02-01T16:05:42.769415Z",
     "iopub.status.idle": "2025-02-01T16:05:42.773168Z",
     "shell.execute_reply": "2025-02-01T16:05:42.772580Z",
     "shell.execute_reply.started": "2025-02-01T16:05:42.769641Z"
    }
   },
   "outputs": [
    {
     "data": {
      "text/plain": [
       "(11289650, 12237173)"
      ]
     },
     "execution_count": 42,
     "metadata": {},
     "output_type": "execute_result"
    }
   ],
   "source": [
    "len(authid_to_idx), len(eid_to_idx)"
   ]
  },
  {
   "cell_type": "code",
   "execution_count": 33,
   "id": "84a64451-8e41-404f-9650-ba01d70f3a49",
   "metadata": {
    "execution": {
     "iopub.execute_input": "2025-02-01T18:34:39.153550Z",
     "iopub.status.busy": "2025-02-01T18:34:39.153311Z",
     "iopub.status.idle": "2025-02-01T18:34:39.157062Z",
     "shell.execute_reply": "2025-02-01T18:34:39.156744Z",
     "shell.execute_reply.started": "2025-02-01T18:34:39.153530Z"
    }
   },
   "outputs": [
    {
     "data": {
      "text/plain": [
       "(11289649, 12237173)"
      ]
     },
     "execution_count": 33,
     "metadata": {},
     "output_type": "execute_result"
    }
   ],
   "source": [
    "len(authid_to_idx), len(eid_to_idx)"
   ]
  },
  {
   "cell_type": "code",
   "execution_count": 43,
   "id": "18eaad05-e905-4d11-8c51-53661c259241",
   "metadata": {
    "execution": {
     "iopub.execute_input": "2025-02-01T16:07:13.290062Z",
     "iopub.status.busy": "2025-02-01T16:07:13.289880Z",
     "iopub.status.idle": "2025-02-01T16:07:49.902781Z",
     "shell.execute_reply": "2025-02-01T16:07:49.902208Z",
     "shell.execute_reply.started": "2025-02-01T16:07:13.290050Z"
    }
   },
   "outputs": [],
   "source": [
    "import pickle\n",
    "\n",
    "# 保存先のファイルパス（拡張子は.pklなど任意に設定してください）\n",
    "file_path = f'/disks/qnap3/users/21-tomokiyo/masters_thesis/data/guideline_paper/all_guideline_matching/sparse_one_hot_authids_idx.pkl'\n",
    "\n",
    "# バイナリ書き込みモードでファイルを開いて保存\n",
    "with open(file_path, 'wb') as f:\n",
    "    pickle.dump(authid_to_idx, f)\n",
    "\n",
    "\n",
    "# 保存先のファイルパス（拡張子は.pklなど任意に設定してください）\n",
    "file_path = f'/disks/qnap3/users/21-tomokiyo/masters_thesis/data/guideline_paper/all_guideline_matching/sparse_one_hot_eid_idx.pkl'\n",
    "\n",
    "# バイナリ書き込みモードでファイルを開いて保存\n",
    "with open(file_path, 'wb') as f:\n",
    "    pickle.dump(eid_to_idx, f)"
   ]
  },
  {
   "cell_type": "code",
   "execution_count": null,
   "id": "0f417d0b-cf08-4d88-aea4-9d2599401e2d",
   "metadata": {},
   "outputs": [],
   "source": []
  }
 ],
 "metadata": {
  "kernelspec": {
   "display_name": "Python 3 (ipykernel)",
   "language": "python",
   "name": "python3"
  },
  "language_info": {
   "codemirror_mode": {
    "name": "ipython",
    "version": 3
   },
   "file_extension": ".py",
   "mimetype": "text/x-python",
   "name": "python",
   "nbconvert_exporter": "python",
   "pygments_lexer": "ipython3",
   "version": "3.12.8"
  }
 },
 "nbformat": 4,
 "nbformat_minor": 5
}
