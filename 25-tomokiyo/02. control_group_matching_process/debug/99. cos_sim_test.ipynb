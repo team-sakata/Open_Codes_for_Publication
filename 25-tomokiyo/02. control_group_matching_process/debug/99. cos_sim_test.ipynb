{
 "cells": [
  {
   "cell_type": "code",
   "execution_count": 2,
   "id": "689ba2a1-79c5-4d97-ac35-8cfb31107807",
   "metadata": {
    "execution": {
     "iopub.execute_input": "2025-02-03T12:31:02.477052Z",
     "iopub.status.busy": "2025-02-03T12:31:02.476902Z",
     "iopub.status.idle": "2025-02-03T12:31:02.929639Z",
     "shell.execute_reply": "2025-02-03T12:31:02.929213Z",
     "shell.execute_reply.started": "2025-02-03T12:31:02.477040Z"
    }
   },
   "outputs": [],
   "source": [
    "import numpy as np\n",
    "from sklearn.metrics.pairwise import cosine_similarity\n"
   ]
  },
  {
   "cell_type": "code",
   "execution_count": 3,
   "id": "5f951422-bfcc-4fcd-b241-a023a97a534f",
   "metadata": {
    "execution": {
     "iopub.execute_input": "2025-02-03T12:31:02.930456Z",
     "iopub.status.busy": "2025-02-03T12:31:02.930304Z",
     "iopub.status.idle": "2025-02-03T12:31:02.932771Z",
     "shell.execute_reply": "2025-02-03T12:31:02.932438Z",
     "shell.execute_reply.started": "2025-02-03T12:31:02.930444Z"
    }
   },
   "outputs": [],
   "source": [
    "a_ls = np.array([[1,2,3],[4,5,6]])\n",
    "b_ls = np.array([[1,2,3],[7,8,9],[13,14,15],[4,5,6],[10,11,12]])"
   ]
  },
  {
   "cell_type": "code",
   "execution_count": 4,
   "id": "d80510ec-0337-4078-ac1c-4a4bc6677beb",
   "metadata": {
    "execution": {
     "iopub.execute_input": "2025-02-03T12:31:02.933350Z",
     "iopub.status.busy": "2025-02-03T12:31:02.933248Z",
     "iopub.status.idle": "2025-02-03T12:31:02.965764Z",
     "shell.execute_reply": "2025-02-03T12:31:02.965368Z",
     "shell.execute_reply.started": "2025-02-03T12:31:02.933341Z"
    }
   },
   "outputs": [],
   "source": [
    "cosine_similarities = cosine_similarity(a_ls, b_ls)  # (108, num_researchers - 108)"
   ]
  },
  {
   "cell_type": "code",
   "execution_count": 5,
   "id": "9e2c2d7c-1bea-45f4-b6c4-5725efe92c39",
   "metadata": {
    "execution": {
     "iopub.execute_input": "2025-02-03T12:31:03.103024Z",
     "iopub.status.busy": "2025-02-03T12:31:03.102880Z",
     "iopub.status.idle": "2025-02-03T12:31:03.107360Z",
     "shell.execute_reply": "2025-02-03T12:31:03.107059Z",
     "shell.execute_reply.started": "2025-02-03T12:31:03.103011Z"
    }
   },
   "outputs": [
    {
     "data": {
      "text/plain": [
       "array([[1.        , 0.95941195, 0.94625552, 0.97463185, 0.95125831],\n",
       "       [0.97463185, 0.99819089, 0.99463673, 1.        , 0.99614986]])"
      ]
     },
     "execution_count": 5,
     "metadata": {},
     "output_type": "execute_result"
    }
   ],
   "source": [
    "cosine_similarities"
   ]
  },
  {
   "cell_type": "code",
   "execution_count": 6,
   "id": "c3bd9d7f-b134-4da3-9838-93e1cd82536c",
   "metadata": {
    "execution": {
     "iopub.execute_input": "2025-02-03T12:31:03.384454Z",
     "iopub.status.busy": "2025-02-03T12:31:03.384170Z",
     "iopub.status.idle": "2025-02-03T12:31:03.393365Z",
     "shell.execute_reply": "2025-02-03T12:31:03.392977Z",
     "shell.execute_reply.started": "2025-02-03T12:31:03.384428Z"
    }
   },
   "outputs": [
    {
     "data": {
      "text/plain": [
       "array([[0.95941195]])"
      ]
     },
     "execution_count": 6,
     "metadata": {},
     "output_type": "execute_result"
    }
   ],
   "source": [
    "test_a = np.array([[1,2,3]])\n",
    "test_b = np.array([[7,8,9]])\n",
    "\n",
    "cosine_similarity(test_a,test_b)"
   ]
  },
  {
   "cell_type": "code",
   "execution_count": 13,
   "id": "59dc80e8-9a53-471a-badf-b7b3ae61da93",
   "metadata": {
    "execution": {
     "iopub.execute_input": "2025-02-03T12:31:27.949337Z",
     "iopub.status.busy": "2025-02-03T12:31:27.949009Z",
     "iopub.status.idle": "2025-02-03T12:31:27.953144Z",
     "shell.execute_reply": "2025-02-03T12:31:27.952591Z",
     "shell.execute_reply.started": "2025-02-03T12:31:27.949312Z"
    }
   },
   "outputs": [],
   "source": [
    "top_k_indices = np.argsort(cosine_similarities, axis=1)[:, ::-1]  # 降順ソートし、上位20人を取得\n",
    "\n",
    "# 各行を降順にソート\n",
    "sorted_similarities = np.sort(cosine_similarities, axis=1)[:, ::-1]"
   ]
  },
  {
   "cell_type": "code",
   "execution_count": 14,
   "id": "6c7f4fee-354a-4904-b0b1-12b9c26cfdee",
   "metadata": {
    "execution": {
     "iopub.execute_input": "2025-02-03T12:31:28.314605Z",
     "iopub.status.busy": "2025-02-03T12:31:28.314320Z",
     "iopub.status.idle": "2025-02-03T12:31:28.319176Z",
     "shell.execute_reply": "2025-02-03T12:31:28.318638Z",
     "shell.execute_reply.started": "2025-02-03T12:31:28.314580Z"
    }
   },
   "outputs": [
    {
     "data": {
      "text/plain": [
       "(array([[0, 3, 1, 4, 2],\n",
       "        [3, 1, 4, 2, 0]]),\n",
       " array([[1.        , 0.97463185, 0.95941195, 0.95125831, 0.94625552],\n",
       "        [1.        , 0.99819089, 0.99614986, 0.99463673, 0.97463185]]))"
      ]
     },
     "execution_count": 14,
     "metadata": {},
     "output_type": "execute_result"
    }
   ],
   "source": [
    "top_k_indices,sorted_similarities"
   ]
  },
  {
   "cell_type": "code",
   "execution_count": 41,
   "id": "cba03636-b987-4a4e-8f7e-f4ae8de06508",
   "metadata": {
    "execution": {
     "iopub.execute_input": "2025-02-03T10:53:52.898173Z",
     "iopub.status.busy": "2025-02-03T10:53:52.897841Z",
     "iopub.status.idle": "2025-02-03T10:53:52.903437Z",
     "shell.execute_reply": "2025-02-03T10:53:52.902722Z",
     "shell.execute_reply.started": "2025-02-03T10:53:52.898146Z"
    }
   },
   "outputs": [
    {
     "data": {
      "text/plain": [
       "array([[13, 14, 15],\n",
       "       [ 1,  2,  3],\n",
       "       [10, 11, 12],\n",
       "       [ 4,  5,  6]])"
      ]
     },
     "execution_count": 41,
     "metadata": {},
     "output_type": "execute_result"
    }
   ],
   "source": [
    "b_ls[[2,0,4,3]]"
   ]
  },
  {
   "cell_type": "code",
   "execution_count": null,
   "id": "5f1035ec-fbf2-482d-ac13-c35598a23e8b",
   "metadata": {},
   "outputs": [],
   "source": []
  }
 ],
 "metadata": {
  "kernelspec": {
   "display_name": "Python 3 (ipykernel)",
   "language": "python",
   "name": "python3"
  },
  "language_info": {
   "codemirror_mode": {
    "name": "ipython",
    "version": 3
   },
   "file_extension": ".py",
   "mimetype": "text/x-python",
   "name": "python",
   "nbconvert_exporter": "python",
   "pygments_lexer": "ipython3",
   "version": "3.12.8"
  }
 },
 "nbformat": 4,
 "nbformat_minor": 5
}
